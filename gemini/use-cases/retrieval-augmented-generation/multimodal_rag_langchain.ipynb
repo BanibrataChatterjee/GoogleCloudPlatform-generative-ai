{
 "cells": [
  {
   "cell_type": "code",
   "execution_count": null,
   "metadata": {
    "id": "ijGzTHJJUCPY"
   },
   "outputs": [],
   "source": [
    "# Copyright 2024 Google LLC\n",
    "#\n",
    "# Licensed under the Apache License, Version 2.0 (the \"License\");\n",
    "# you may not use this file except in compliance with the License.\n",
    "# You may obtain a copy of the License at\n",
    "#\n",
    "#     https://www.apache.org/licenses/LICENSE-2.0\n",
    "#\n",
    "# Unless required by applicable law or agreed to in writing, software\n",
    "# distributed under the License is distributed on an \"AS IS\" BASIS,\n",
    "# WITHOUT WARRANTIES OR CONDITIONS OF ANY KIND, either express or implied.\n",
    "# See the License for the specific language governing permissions and\n",
    "# limitations under the License."
   ]
  },
  {
   "cell_type": "markdown",
   "metadata": {
    "id": "NDsTUvKjwHBW"
   },
   "source": [
    "# Multimodal Retrieval Augmented Generation (RAG) with Gemini, Vertex AI, and LangChain\n",
    "\n",
    "<table align=\"left\">\n",
    "  <td style=\"text-align: center\">\n",
    "    <a href=\"https://console.cloud.google.com/vertex-ai/colab/import/https:%2F%2Fraw.githubusercontent.com%2FGoogleCloudPlatform%2Fgenerative-ai%2Fmain%2Fgemini%2Fuse-cases%2Fretrieval-augmented-generation%2F%2Fmultimodal_rag_langchain.ipynb\">\n",
    "      <img width=\"32px\" src=\"https://lh3.googleusercontent.com/JmcxdQi-qOpctIvWKgPtrzZdJJK-J3sWE1RsfjZNwshCFgE_9fULcNpuXYTilIR2hjwN\" alt=\"Google Cloud Colab Enterprise logo\"><br> Run in Colab Enterprise\n",
    "    </a>\n",
    "  </td>\n",
    "  <td style=\"text-align: center\">\n",
    "    <a href=\"https://colab.research.google.com/github/GoogleCloudPlatform/generative-ai/blob/main/gemini/use-cases/retrieval-augmented-generation/multimodal_rag_langchain.ipynb\">\n",
    "      <img width=\"32px\" src=\"https://www.gstatic.com/pantheon/images/bigquery/welcome_page/colab-logo.svg\" alt=\"Google Colaboratory logo\"><br> Run in Colab\n",
    "    </a>\n",
    "  </td>\n",
    "  <td style=\"text-align: center\">\n",
    "    <a href=\"https://console.cloud.google.com/vertex-ai/workbench/deploy-notebook?download_url=https://raw.githubusercontent.com/GoogleCloudPlatform/generative-ai/main/gemini/use-cases/retrieval-augmented-generation/multimodal_rag_langchain.ipynb\">\n",
    "      <img src=\"https://www.gstatic.com/images/branding/gcpiconscolors/vertexai/v1/32px.svg\" alt=\"Vertex AI logo\"><br> Open in Vertex AI Workbench\n",
    "    </a>\n",
    "  </td>\n",
    "    <td style=\"text-align: center\">\n",
    "    <a href=\"https://github.com/GoogleCloudPlatform/generative-ai/blob/main/gemini/use-cases/retrieval-augmented-generation/multimodal_rag_langchain.ipynb\">\n",
    "      <img width=\"32px\" src=\"https://upload.wikimedia.org/wikipedia/commons/9/91/Octicons-mark-github.svg\" alt=\"GitHub logo\"><br> View on GitHub\n",
    "    </a>\n",
    "  </td>\n",
    "</table>"
   ]
  },
  {
   "cell_type": "markdown",
   "metadata": {},
   "source": [
    "| | | \n",
    "|-|-|\n",
    "|Author(s) | [Holt Skinner](https://github.com/holtskinner) |"
   ]
  },
  {
   "cell_type": "markdown",
   "metadata": {
    "id": "VK1Q5ZYdVL4Y"
   },
   "source": [
    "## Overview\n",
    "\n",
    "Retrieval augmented generation (RAG) has become a popular paradigm for enabling LLMs to access external data and also as a mechanism for grounding to mitigate against hallucinations.\n",
    "\n",
    "In this notebook, you will learn how to perform multimodal RAG where you will perform Q&A over a financial document filled with both text and images.\n",
    "\n",
    "### Gemini\n",
    "\n",
    "Gemini is a family of generative AI models developed by Google DeepMind that is designed for multimodal use cases. The Gemini API gives you access to the Gemini 1.0 Pro Vision and Gemini 1.0 Pro models.\n",
    "\n",
    "### Comparing text-based and multimodal RAG\n",
    "\n",
    "Multimodal RAG offers several advantages over text-based RAG:\n",
    "\n",
    "1. **Enhanced knowledge access:** Multimodal RAG can access and process both textual and visual information, providing a richer and more comprehensive knowledge base for the LLM.\n",
    "2. **Improved reasoning capabilities:** By incorporating visual cues, multimodal RAG can make better informed inferences across different types of data modalities.\n",
    "\n",
    "This notebook shows you how to use RAG with Vertex AI Gemini API, and [multimodal embeddings](https://cloud.google.com/vertex-ai/docs/generative-ai/model-reference/multimodal-embeddings), to build a document search engine.\n",
    "\n",
    "Through hands-on examples, you will discover how to construct a multimedia-rich metadata repository of your document sources, enabling search, comparison, and reasoning across diverse information streams."
   ]
  },
  {
   "cell_type": "markdown",
   "metadata": {
    "id": "RQT500QqVPIb"
   },
   "source": [
    "### Objectives\n",
    "\n",
    "This notebook provides a guide to building a document search engine using multimodal retrieval augmented generation (RAG), step by step:\n",
    "\n",
    "1. Extract and store metadata of documents containing both text and images, and generate embeddings the documents\n",
    "2. Search the metadata with text queries to find similar text or images\n",
    "3. Search the metadata with image queries to find similar images\n",
    "4. Using a text query as input, search for contexual answers using both text and images"
   ]
  },
  {
   "cell_type": "markdown",
   "metadata": {
    "id": "KnpYxfesh2rI"
   },
   "source": [
    "### Costs\n",
    "\n",
    "This tutorial uses billable components of Google Cloud:\n",
    "\n",
    "- Vertex AI\n",
    "\n",
    "Learn about [Vertex AI pricing](https://cloud.google.com/vertex-ai/pricing) and use the [Pricing Calculator](https://cloud.google.com/products/calculator/) to generate a cost estimate based on your projected usage.\n"
   ]
  },
  {
   "cell_type": "markdown",
   "metadata": {
    "id": "DXJpXzKrh2rJ"
   },
   "source": [
    "## Getting Started\n"
   ]
  },
  {
   "cell_type": "markdown",
   "metadata": {
    "id": "N5afkyDMSBW5"
   },
   "source": [
    "### Install Vertex AI SDK for Python and other dependencies\n"
   ]
  },
  {
   "cell_type": "code",
   "execution_count": 8,
   "metadata": {
    "colab": {
     "base_uri": "https://localhost:8080/",
     "height": 863
    },
    "executionInfo": {
     "elapsed": 23606,
     "status": "ok",
     "timestamp": 1707899661283,
     "user": {
      "displayName": "",
      "userId": ""
     },
     "user_tz": -330
    },
    "id": "kc4WxYmLSBW5",
    "outputId": "41191d43-b2b3-4bfd-c5e5-c0a53f03d1e2",
    "tags": []
   },
   "outputs": [
    {
     "name": "stdout",
     "output_type": "stream",
     "text": [
      "\n",
      "\u001b[1m[\u001b[0m\u001b[34;49mnotice\u001b[0m\u001b[1;39;49m]\u001b[0m\u001b[39;49m A new release of pip is available: \u001b[0m\u001b[31;49m23.3.1\u001b[0m\u001b[39;49m -> \u001b[0m\u001b[32;49m24.0\u001b[0m\n",
      "\u001b[1m[\u001b[0m\u001b[34;49mnotice\u001b[0m\u001b[1;39;49m]\u001b[0m\u001b[39;49m To update, run: \u001b[0m\u001b[32;49mpython3.11 -m pip install --upgrade pip\u001b[0m\n",
      "Note: you may need to restart the kernel to use updated packages.\n"
     ]
    }
   ],
   "source": [
    "%pip install -U -q google-cloud-aiplatform langchain-google-vertexai langchain-text-splitters langchain-experimental \"unstructured[all-docs]\" pypdf pydantic lxml pillow matplotlib opencv-python"
   ]
  },
  {
   "cell_type": "markdown",
   "metadata": {
    "id": "R5Xep4W9lq-Z"
   },
   "source": [
    "### Restart current runtime\n",
    "\n",
    "To use the newly installed packages in this Jupyter runtime, you must restart the runtime. You can do this by running the cell below, which will restart the current kernel."
   ]
  },
  {
   "cell_type": "code",
   "execution_count": null,
   "metadata": {
    "colab": {
     "base_uri": "https://localhost:8080/"
    },
    "executionInfo": {
     "elapsed": 646,
     "status": "ok",
     "timestamp": 1707913872852,
     "user": {
      "displayName": "",
      "userId": ""
     },
     "user_tz": -330
    },
    "id": "XRvKdaPDTznN",
    "outputId": "759357fb-7531-4423-a75f-b896af19ce37",
    "tags": []
   },
   "outputs": [],
   "source": [
    "# Restart kernel after installs so that your environment can access the new packages\n",
    "import IPython\n",
    "\n",
    "app = IPython.Application.instance()\n",
    "app.kernel.do_shutdown(True)"
   ]
  },
  {
   "cell_type": "markdown",
   "metadata": {
    "id": "SbmM4z7FOBpM"
   },
   "source": [
    "<div class=\"alert alert-block alert-warning\">\n",
    "<b>⚠️ The kernel is going to restart. Please wait until it is finished before continuing to the next step. ⚠️</b>\n",
    "</div>\n",
    "\n"
   ]
  },
  {
   "cell_type": "markdown",
   "metadata": {
    "id": "FtsU9Bw9h2rL"
   },
   "source": [
    "### Authenticate your notebook environment (Colab only)\n",
    "\n",
    "If you are running this notebook on Google Colab, run the following cell to authenticate your environment. This step is not required if you are using [Vertex AI Workbench](https://cloud.google.com/vertex-ai-workbench).\n"
   ]
  },
  {
   "cell_type": "code",
   "execution_count": 5,
   "metadata": {
    "id": "GpYEyLsOh2rL",
    "tags": []
   },
   "outputs": [],
   "source": [
    "import sys\n",
    "\n",
    "# Additional authentication is required for Google Colab\n",
    "if \"google.colab\" in sys.modules:\n",
    "    # Authenticate user to Google Cloud\n",
    "    from google.colab import auth\n",
    "\n",
    "    auth.authenticate_user()"
   ]
  },
  {
   "cell_type": "markdown",
   "metadata": {
    "id": "O1vKZZoEh2rL"
   },
   "source": [
    "### Define Google Cloud project information"
   ]
  },
  {
   "cell_type": "code",
   "execution_count": 1,
   "metadata": {
    "colab": {
     "base_uri": "https://localhost:8080/"
    },
    "executionInfo": {
     "elapsed": 673,
     "status": "ok",
     "timestamp": 1707913890887,
     "user": {
      "displayName": "",
      "userId": ""
     },
     "user_tz": -330
    },
    "id": "gJqZ76rJh2rM",
    "outputId": "ed164f41-97f3-411d-8cba-d853d71957b9",
    "tags": []
   },
   "outputs": [],
   "source": [
    "PROJECT_ID = \"cloud-llm-preview1\"  # @param {type:\"string\"}\n",
    "LOCATION = \"us-central1\"  # @param {type:\"string\"}\n",
    "# For Vector Search Staging\n",
    "GCS_BUCKET = \"gs://holtskinner-test-datasets\"  # @param {type:\"string\"}"
   ]
  },
  {
   "cell_type": "markdown",
   "metadata": {},
   "source": [
    "### Initialize the Vertex AI SDK"
   ]
  },
  {
   "cell_type": "code",
   "execution_count": 2,
   "metadata": {
    "id": "D48gUW5-h2rM",
    "tags": []
   },
   "outputs": [],
   "source": [
    "import vertexai\n",
    "from google.cloud import aiplatform\n",
    "\n",
    "vertexai.init(project=PROJECT_ID, location=LOCATION)\n",
    "aiplatform.init(project=PROJECT_ID, location=LOCATION, staging_bucket=GCS_BUCKET)"
   ]
  },
  {
   "cell_type": "markdown",
   "metadata": {
    "id": "BuQwwRiniVFG"
   },
   "source": [
    "### Import libraries\n"
   ]
  },
  {
   "cell_type": "code",
   "execution_count": 2,
   "metadata": {
    "executionInfo": {
     "elapsed": 647,
     "status": "ok",
     "timestamp": 1707913944466,
     "user": {
      "displayName": "",
      "userId": ""
     },
     "user_tz": -330
    },
    "id": "rtMowvm-yQ97",
    "tags": []
   },
   "outputs": [],
   "source": [
    "import base64\n",
    "import os\n",
    "from typing import List, Tuple\n",
    "\n",
    "from langchain_text_splitters import CharacterTextSplitter\n",
    "from langchain.prompts import PromptTemplate\n",
    "from langchain_google_vertexai import VertexAI\n",
    "from langchain_google_vertexai import ChatVertexAI\n",
    "from langchain_core.messages import AIMessage\n",
    "from langchain_core.messages import HumanMessage\n",
    "from langchain_core.output_parsers import StrOutputParser\n",
    "from langchain_core.runnables import RunnableLambda\n",
    "\n",
    "from unstructured.partition.pdf import partition_pdf"
   ]
  },
  {
   "cell_type": "markdown",
   "metadata": {},
   "source": [
    "## Data Loading"
   ]
  },
  {
   "cell_type": "markdown",
   "metadata": {
    "id": "g7bKCQMFT7JT"
   },
   "source": [
    "#### Get documents and images from GCS"
   ]
  },
  {
   "cell_type": "code",
   "execution_count": null,
   "metadata": {
    "colab": {
     "base_uri": "https://localhost:8080/"
    },
    "executionInfo": {
     "elapsed": 1757,
     "status": "ok",
     "timestamp": 1707913903524,
     "user": {
      "displayName": "",
      "userId": ""
     },
     "user_tz": -330
    },
    "id": "KwbL89zcY39N",
    "outputId": "baa3a478-4d55-4b9c-e02f-6816a1d589b1",
    "tags": []
   },
   "outputs": [],
   "source": [
    "# Download documents and images used in this notebook\n",
    "!gsutil -m rsync -r gs://github-repo/rag/intro_multimodal_rag/ .\n",
    "print(\"Download completed\")"
   ]
  },
  {
   "cell_type": "markdown",
   "metadata": {
    "id": "Ps1G-cCfpibN"
   },
   "source": [
    "## Partition PDF tables, text, and images"
   ]
  },
  {
   "cell_type": "markdown",
   "metadata": {
    "id": "jqLsy3iZ5t-R"
   },
   "source": [
    "### The data\n",
    "\n",
    "The source data that you will use in this notebook is a modified version of [Google-10K](https://abc.xyz/assets/investor/static/pdf/20220202_alphabet_10K.pdf) which provides a comprehensive overview of the company's financial performance, business operations, management, and risk factors. As the original document is rather large, you will be using [a modified version with only 14 pages](https://storage.googleapis.com/github-repo/rag/multimodal_rag_langchain/google-10k-sample-14pages.pdf) instead. Although it's truncated, the sample document still contains text along with images such as tables, charts, and graphs."
   ]
  },
  {
   "cell_type": "code",
   "execution_count": 9,
   "metadata": {},
   "outputs": [
    {
     "name": "stderr",
     "output_type": "stream",
     "text": [
      "This function will be deprecated in a future release and `unstructured` will simply use the DEFAULT_MODEL from `unstructured_inference.model.base` to set default model name\n"
     ]
    }
   ],
   "source": [
    "pdf_folder_path = \"/content/data/\" if \"google.colab\" in sys.modules else \"data/\"\n",
    "pdf_file_name = \"google-10k-sample-14pages.pdf\"\n",
    "\n",
    "# Extract images, tables, and chunk text from a PDF file.\n",
    "raw_pdf_elements = partition_pdf(\n",
    "    filename=pdf_file_name,\n",
    "    extract_images_in_pdf=False,\n",
    "    infer_table_structure=True,\n",
    "    chunking_strategy=\"by_title\",\n",
    "    max_characters=4000,\n",
    "    new_after_n_chars=3800,\n",
    "    combine_text_under_n_chars=2000,\n",
    "    image_output_dir_path=pdf_folder_path,\n",
    ")\n",
    "\n",
    "# Categorize extracted elements from a PDF into tables and texts.\n",
    "tables = []\n",
    "texts = []\n",
    "for element in raw_pdf_elements:\n",
    "    if \"unstructured.documents.elements.Table\" in str(type(element)):\n",
    "        tables.append(str(element))\n",
    "    elif \"unstructured.documents.elements.CompositeElement\" in str(type(element)):\n",
    "        texts.append(str(element))\n",
    "\n",
    "# Optional: Enforce a specific token size for texts\n",
    "text_splitter = CharacterTextSplitter.from_tiktoken_encoder(\n",
    "    chunk_size=10000, chunk_overlap=0\n",
    ")\n",
    "joined_texts = \" \".join(texts)\n",
    "texts_4k_token = text_splitter.split_text(joined_texts)\n",
    "\n",
    "# # Chunking is not needed with a large context window.\n",
    "# joined_texts = [\" \".join(texts)]"
   ]
  },
  {
   "cell_type": "code",
   "execution_count": 10,
   "metadata": {},
   "outputs": [],
   "source": [
    "# Generate summaries of text elements\n",
    "def generate_text_summaries(texts: List[str], tables: List[str], summarize_texts: bool=False) -> Tuple[List, List]:\n",
    "    \"\"\"\n",
    "    Summarize text elements\n",
    "    texts: List of str\n",
    "    tables: List of str\n",
    "    summarize_texts: Bool to summarize texts\n",
    "    \"\"\"\n",
    "\n",
    "    # Prompt\n",
    "    prompt_text = \"\"\"You are an assistant tasked with summarizing tables and text for retrieval. \\\n",
    "    These summaries will be embedded and used to retrieve the raw text or table elements. \\\n",
    "    Give a concise summary of the table or text that is well optimized for retrieval. Table or text: {element} \"\"\"\n",
    "    prompt = PromptTemplate.from_template(prompt_text)\n",
    "    empty_response = RunnableLambda(\n",
    "        lambda x: AIMessage(content=\"Error processing document\")\n",
    "    )\n",
    "    # Text summary chain\n",
    "    model = VertexAI(\n",
    "        temperature=0, model_name=\"gemini-1.5-pro-preview-0215\", max_output_tokens=1024\n",
    "    ).with_fallbacks([empty_response])\n",
    "    summarize_chain = {\"element\": lambda x: x} | prompt | model | StrOutputParser()\n",
    "\n",
    "    # Initialize empty summaries\n",
    "    text_summaries = []\n",
    "    table_summaries = []\n",
    "\n",
    "    # Apply to text if texts are provided and summarization is requested\n",
    "    if texts:\n",
    "        if summarize_texts:\n",
    "            text_summaries = summarize_chain.batch(texts, {\"max_concurrency\": 1})\n",
    "        else:\n",
    "            text_summaries = texts\n",
    "\n",
    "    # Apply to tables if tables are provided\n",
    "    if tables:\n",
    "        table_summaries = summarize_chain.batch(tables, {\"max_concurrency\": 1})\n",
    "\n",
    "    return text_summaries, table_summaries\n",
    "\n",
    "\n",
    "# Get text, table summaries\n",
    "text_summaries, table_summaries = generate_text_summaries(\n",
    "    texts_4k_token, tables, summarize_texts=True\n",
    ")"
   ]
  },
  {
   "cell_type": "code",
   "execution_count": 12,
   "metadata": {},
   "outputs": [
    {
     "data": {
      "text/plain": [
       "['## Summary of Stock Purchase Program (October - December)\\n\\nThis table details a stock purchase program over three months, showing the number and value of Class A and Class C shares purchased, along with average prices. \\n\\n**Key Points:**\\n\\n* A total of 665,000 shares were purchased for $4.672 million.\\n* More Class A shares were purchased than Class C shares.\\n* The average price per share was slightly higher for Class C shares.\\n* The number of shares purchased and total value spent decreased each month.\\n\\n**Additional Information:**\\n\\n* The table does not specify the company or the purpose of the stock purchase program.\\n* There may be additional shares available for purchase in the future.\\n',\n",
       " '## Unvested Restricted Stock Units Summary:\\n\\n**As of December 31, 2021, there were 16,894,713 unvested restricted stock units with a weighted average fair value of $1,626.13 per share.** This represents a decrease from 2020, when there were 19,288,793 unvested units with a fair value of $1,262.13 per share. During 2021, 10,582,700 units were granted, while 11,209,486 units vested and 1,767,294 units were forfeited or canceled. \\n']"
      ]
     },
     "execution_count": 12,
     "metadata": {},
     "output_type": "execute_result"
    }
   ],
   "source": [
    "table_summaries"
   ]
  },
  {
   "cell_type": "code",
   "execution_count": 13,
   "metadata": {},
   "outputs": [
    {
     "data": {
      "text/plain": [
       "['## Alphabet Inc. 2021 Annual Report (10-K) Summary: Market & Financial Performance\\n\\nThis document summarizes Alphabet Inc.\\'s 2021 annual report, focusing on market performance, stock information, and key financial results.\\n\\n**Market & Stock:**\\n\\n* Alphabet Inc. became the successor issuer of Google Inc. in 2015.\\n* Class A common stock trades on Nasdaq under \"GOOGL\" and \"GOOG\".\\n* Class C capital stock trades on Nasdaq under \"GOOG\".\\n* Class B common stock is not publicly traded.\\n* No cash dividends have been declared or paid.\\n* The company actively repurchases Class A and Class C shares.\\n* Both Class A and Class C stock outperformed major indices over the past 5 years.\\n\\n**Financial Highlights:**\\n\\n* **Revenues:** $257.6 billion, up 41% year-over-year, driven by Google Services and Google Cloud.\\n* **Operating Income:** $78.7 billion, up 91% year-over-year.\\n* **Net Income:** $76.0 billion, up 89% year-over-year.\\n* **Diluted EPS:** $112.20, up 91% year-over-year.\\n* **Operating Cash Flow:** $91.7 billion.\\n* **Share Repurchases:** $50.3 billion, up 62% year-over-year.\\n\\n**Additional Information:**\\n\\n* The report details stock-based award activities, 401(k) plans, and income tax information.\\n* It discusses the impact of COVID-19 on financial results, noting a rebound in advertising revenue in 2021.\\n* Revenue breakdown by geography is provided, showing the US as the largest market.\\n\\n**Disclaimer:** This summary is for informational purposes only and should not be considered investment advice. Please refer to the full annual report for complete details.\\n']"
      ]
     },
     "execution_count": 13,
     "metadata": {},
     "output_type": "execute_result"
    }
   ],
   "source": [
    "text_summaries"
   ]
  },
  {
   "cell_type": "code",
   "execution_count": 20,
   "metadata": {},
   "outputs": [],
   "source": [
    "def encode_image(image_path):\n",
    "    \"\"\"Getting the base64 string\"\"\"\n",
    "    with open(image_path, \"rb\") as image_file:\n",
    "        return base64.b64encode(image_file.read()).decode(\"utf-8\")\n",
    "\n",
    "\n",
    "def image_summarize(img_base64, prompt):\n",
    "    \"\"\"Make image summary\"\"\"\n",
    "    model = ChatVertexAI(\n",
    "        model_name=\"gemini-pro-vision\", max_output_tokens=1024\n",
    "    )\n",
    "\n",
    "    msg = model(\n",
    "        [\n",
    "            HumanMessage(\n",
    "                content=[\n",
    "                    {\"type\": \"text\", \"text\": prompt},\n",
    "                    {\n",
    "                        \"type\": \"image_url\",\n",
    "                        \"image_url\": {\"url\": f\"data:image/png;base64,{img_base64}\"},\n",
    "                    },\n",
    "                ]\n",
    "            )\n",
    "        ]\n",
    "    )\n",
    "    return msg.content\n",
    "\n",
    "\n",
    "def generate_img_summaries(path):\n",
    "    \"\"\"\n",
    "    Generate summaries and base64 encoded strings for images\n",
    "    path: Path to list of .jpg files extracted by Unstructured\n",
    "    \"\"\"\n",
    "\n",
    "    # Store base64 encoded images\n",
    "    img_base64_list = []\n",
    "\n",
    "    # Store image summaries\n",
    "    image_summaries = []\n",
    "\n",
    "    # Prompt\n",
    "    prompt = \"\"\"You are an assistant tasked with summarizing images for retrieval. \\\n",
    "    These summaries will be embedded and used to retrieve the raw image. \\\n",
    "    Give a concise summary of the image that is well optimized for retrieval.\n",
    "    If it's a table, extract all elements of the table.\n",
    "    If it's a graph, explain the findings in the graph.\n",
    "    Do not include any numbers that are not mentioned in the image.\n",
    "    \"\"\"\n",
    "\n",
    "    # Apply to images\n",
    "    for img_file in sorted(os.listdir(path)):\n",
    "        if img_file.endswith(\".png\"):\n",
    "            img_path = os.path.join(path, img_file)\n",
    "            base64_image = encode_image(img_path)\n",
    "            img_base64_list.append(base64_image)\n",
    "            image_summaries.append(image_summarize(base64_image, prompt))\n",
    "\n",
    "    return img_base64_list, image_summaries\n",
    "\n",
    "\n",
    "# Image summaries\n",
    "img_base64_list, image_summaries = generate_img_summaries(\".\")"
   ]
  },
  {
   "cell_type": "code",
   "execution_count": 21,
   "metadata": {},
   "outputs": [
    {
     "data": {
      "text/plain": [
       "[' The image is a line chart that shows the stock price of Alphabet Inc. Class A, RDG Internet Composite, S&P 500, and NASDAQ Composite from December 2016 to December 2021. The stock price of Alphabet Inc. Class A and RDG Internet Composite outperformed the S&P 500 and NASDAQ Composite during this time period.',\n",
       " ' The image shows a table with four rows. The first row is labeled \"TAC\" and contains the values \"$32,778\" and \"$45,566\" in the \"2020\" and \"2021\" columns, respectively. The second row is labeled \"Other cost of revenues\" and contains the values \"$51,954\" and \"$65,373\" in the \"2020\" and \"2021\" columns, respectively. The third row is labeled \"Total cost of revenues\" and contains the values \"$84,732\" and \"$110,939\" in the \"2020\" and \"2021\" columns, respectively. The fourth row is labeled \"Total cost of revenues as a percentage of revenues\" and contains the values \"46.4%\" and \"43.1%\" in the \"2020\" and \"2021\" columns, respectively.']"
      ]
     },
     "execution_count": 21,
     "metadata": {},
     "output_type": "execute_result"
    }
   ],
   "source": [
    "image_summaries"
   ]
  },
  {
   "cell_type": "code",
   "execution_count": 23,
   "metadata": {},
   "outputs": [],
   "source": [
    "import uuid\n",
    "\n",
    "from langchain.retrievers.multi_vector import MultiVectorRetriever\n",
    "from langchain.storage import InMemoryStore\n",
    "from langchain_core.documents import Document\n",
    "from langchain_google_vertexai import VertexAIEmbeddings\n",
    "from langchain_google_vertexai import VectorSearchVectorStore"
   ]
  },
  {
   "cell_type": "code",
   "execution_count": 24,
   "metadata": {},
   "outputs": [],
   "source": [
    "def create_multi_vector_retriever(\n",
    "    vectorstore, text_summaries, texts, table_summaries, tables, image_summaries, images\n",
    "):\n",
    "    \"\"\"\n",
    "    Create retriever that indexes summaries, but returns raw images or texts\n",
    "    \"\"\"\n",
    "\n",
    "    # Initialize the storage layer\n",
    "    store = InMemoryStore()\n",
    "    id_key = \"doc_id\"\n",
    "\n",
    "    # Create the multi-vector retriever\n",
    "    retriever = MultiVectorRetriever(\n",
    "        vectorstore=vectorstore,\n",
    "        docstore=store,\n",
    "        id_key=id_key,\n",
    "    )\n",
    "\n",
    "    # Helper function to add documents to the vectorstore and docstore\n",
    "    def add_documents(retriever, doc_summaries, doc_contents):\n",
    "        doc_ids = [str(uuid.uuid4()) for _ in doc_contents]\n",
    "        summary_docs = [\n",
    "            Document(page_content=s, metadata={id_key: doc_ids[i]})\n",
    "            for i, s in enumerate(doc_summaries)\n",
    "        ]\n",
    "        retriever.vectorstore.add_documents(summary_docs)\n",
    "        retriever.docstore.mset(list(zip(doc_ids, doc_contents)))\n",
    "\n",
    "    # Add texts, tables, and images\n",
    "    # Check that text_summaries is not empty before adding\n",
    "    if text_summaries:\n",
    "        add_documents(retriever, text_summaries, texts)\n",
    "    # Check that table_summaries is not empty before adding\n",
    "    if table_summaries:\n",
    "        add_documents(retriever, table_summaries, tables)\n",
    "    # Check that image_summaries is not empty before adding\n",
    "    if image_summaries:\n",
    "        add_documents(retriever, image_summaries, images)\n",
    "\n",
    "    return retriever"
   ]
  },
  {
   "cell_type": "markdown",
   "metadata": {},
   "source": [
    "## Create & Deploy Vertex AI Vector Search Index & Endpoint\n",
    "\n",
    "Skip this step if you already have Vector Search set up.\n",
    "\n",
    "- https://console.cloud.google.com/vertex-ai/matching-engine/indexes"
   ]
  },
  {
   "cell_type": "markdown",
   "metadata": {},
   "source": [
    "- Create [`MatchingEngineIndex`](https://cloud.google.com/python/docs/reference/aiplatform/latest/google.cloud.aiplatform.MatchingEngineIndex)\n",
    "  - https://cloud.google.com/vertex-ai/docs/vector-search/create-manage-index"
   ]
  },
  {
   "cell_type": "code",
   "execution_count": 3,
   "metadata": {},
   "outputs": [
    {
     "name": "stdout",
     "output_type": "stream",
     "text": [
      "Creating MatchingEngineIndex\n",
      "Create MatchingEngineIndex backing LRO: projects/908687846511/locations/us-central1/indexes/5333409848946065408/operations/6832789700848123904\n",
      "MatchingEngineIndex created. Resource name: projects/908687846511/locations/us-central1/indexes/5333409848946065408\n",
      "To use this MatchingEngineIndex in another session:\n",
      "index = aiplatform.MatchingEngineIndex('projects/908687846511/locations/us-central1/indexes/5333409848946065408')\n"
     ]
    }
   ],
   "source": [
    "# https://cloud.google.com/vertex-ai/generative-ai/docs/model-reference/text-embeddings\n",
    "DIMENSIONS = 768  # Dimensions output from textembedding-gecko\n",
    "\n",
    "index = aiplatform.MatchingEngineIndex.create_tree_ah_index(\n",
    "    display_name=\"mm_rag_langchain_index\",\n",
    "    dimensions=DIMENSIONS,\n",
    "    approximate_neighbors_count=150,\n",
    "    leaf_node_embedding_count=500,\n",
    "    leaf_nodes_to_search_percent=7,\n",
    "    description=\"Multimodal RAG LangChain Index\",\n",
    ")"
   ]
  },
  {
   "cell_type": "markdown",
   "metadata": {},
   "source": [
    "- Create [`MatchingEngineIndexEndpoint`](https://cloud.google.com/python/docs/reference/aiplatform/latest/google.cloud.aiplatform.MatchingEngineIndexEndpoint)\n",
    "  - https://cloud.google.com/vertex-ai/docs/vector-search/deploy-index-public"
   ]
  },
  {
   "cell_type": "code",
   "execution_count": 4,
   "metadata": {},
   "outputs": [
    {
     "name": "stdout",
     "output_type": "stream",
     "text": [
      "Creating MatchingEngineIndexEndpoint\n",
      "Create MatchingEngineIndexEndpoint backing LRO: projects/908687846511/locations/us-central1/indexEndpoints/7088687803713716224/operations/2729333141150892032\n",
      "MatchingEngineIndexEndpoint created. Resource name: projects/908687846511/locations/us-central1/indexEndpoints/7088687803713716224\n",
      "To use this MatchingEngineIndexEndpoint in another session:\n",
      "index_endpoint = aiplatform.MatchingEngineIndexEndpoint('projects/908687846511/locations/us-central1/indexEndpoints/7088687803713716224')\n"
     ]
    }
   ],
   "source": [
    "index_endpoint = aiplatform.MatchingEngineIndexEndpoint.create(\n",
    "    display_name=\"mm_rag_langchain_index_endpoint\",\n",
    "    description=\"Multimodal RAG LangChain Index Endpoint\",\n",
    "    public_endpoint_enabled=True,\n",
    ")"
   ]
  },
  {
   "cell_type": "markdown",
   "metadata": {},
   "source": [
    "- Deploy Index to Index Endpoint\n",
    "  - NOTE: You can stop this cell after starting it instead of waiting for deployment\n",
    "  - You can check the status at https://console.cloud.google.com/vertex-ai/matching-engine/indexes "
   ]
  },
  {
   "cell_type": "code",
   "execution_count": 5,
   "metadata": {},
   "outputs": [
    {
     "name": "stdout",
     "output_type": "stream",
     "text": [
      "Deploying index MatchingEngineIndexEndpoint index_endpoint: projects/908687846511/locations/us-central1/indexEndpoints/7088687803713716224\n",
      "Deploy index MatchingEngineIndexEndpoint index_endpoint backing LRO: projects/908687846511/locations/us-central1/indexEndpoints/7088687803713716224/operations/4152866447585968128\n"
     ]
    },
    {
     "ename": "KeyboardInterrupt",
     "evalue": "",
     "output_type": "error",
     "traceback": [
      "\u001b[0;31m---------------------------------------------------------------------------\u001b[0m",
      "\u001b[0;31mKeyboardInterrupt\u001b[0m                         Traceback (most recent call last)",
      "Cell \u001b[0;32mIn[5], line 4\u001b[0m\n\u001b[1;32m      1\u001b[0m \u001b[38;5;66;03m# NOTE: You can stop this cell after starting it instead of waiting for deployment\u001b[39;00m\n\u001b[1;32m      2\u001b[0m \u001b[38;5;66;03m# You can check the status at https://console.cloud.google.com/vertex-ai/matching-engine/indexes\u001b[39;00m\n\u001b[0;32m----> 4\u001b[0m index_endpoint \u001b[38;5;241m=\u001b[39m \u001b[43mindex_endpoint\u001b[49m\u001b[38;5;241;43m.\u001b[39;49m\u001b[43mdeploy_index\u001b[49m\u001b[43m(\u001b[49m\u001b[43mindex\u001b[49m\u001b[38;5;241;43m=\u001b[39;49m\u001b[43mindex\u001b[49m\u001b[43m,\u001b[49m\u001b[43m \u001b[49m\u001b[43mdeployed_index_id\u001b[49m\u001b[38;5;241;43m=\u001b[39;49m\u001b[38;5;124;43m\"\u001b[39;49m\u001b[38;5;124;43mmm_rag_langchain_deployed_index\u001b[39;49m\u001b[38;5;124;43m\"\u001b[39;49m\u001b[43m)\u001b[49m\n\u001b[1;32m      5\u001b[0m index_endpoint\u001b[38;5;241m.\u001b[39mdeployed_indexes\n",
      "File \u001b[0;32m~/Library/Python/3.11/lib/python/site-packages/google/cloud/aiplatform/matching_engine/matching_engine_index_endpoint.py:1086\u001b[0m, in \u001b[0;36mMatchingEngineIndexEndpoint.deploy_index\u001b[0;34m(self, index, deployed_index_id, display_name, machine_type, min_replica_count, max_replica_count, enable_access_logging, reserved_ip_ranges, deployment_group, auth_config_audiences, auth_config_allowed_issuers, request_metadata, deploy_request_timeout)\u001b[0m\n\u001b[1;32m   1075\u001b[0m deploy_lro \u001b[38;5;241m=\u001b[39m \u001b[38;5;28mself\u001b[39m\u001b[38;5;241m.\u001b[39mapi_client\u001b[38;5;241m.\u001b[39mdeploy_index(\n\u001b[1;32m   1076\u001b[0m     index_endpoint\u001b[38;5;241m=\u001b[39m\u001b[38;5;28mself\u001b[39m\u001b[38;5;241m.\u001b[39mresource_name,\n\u001b[1;32m   1077\u001b[0m     deployed_index\u001b[38;5;241m=\u001b[39mdeployed_index,\n\u001b[1;32m   1078\u001b[0m     metadata\u001b[38;5;241m=\u001b[39mrequest_metadata,\n\u001b[1;32m   1079\u001b[0m     timeout\u001b[38;5;241m=\u001b[39mdeploy_request_timeout,\n\u001b[1;32m   1080\u001b[0m )\n\u001b[1;32m   1082\u001b[0m _LOGGER\u001b[38;5;241m.\u001b[39mlog_action_started_against_resource_with_lro(\n\u001b[1;32m   1083\u001b[0m     \u001b[38;5;124m\"\u001b[39m\u001b[38;5;124mDeploy index\u001b[39m\u001b[38;5;124m\"\u001b[39m, \u001b[38;5;124m\"\u001b[39m\u001b[38;5;124mindex_endpoint\u001b[39m\u001b[38;5;124m\"\u001b[39m, \u001b[38;5;28mself\u001b[39m\u001b[38;5;241m.\u001b[39m\u001b[38;5;18m__class__\u001b[39m, deploy_lro\n\u001b[1;32m   1084\u001b[0m )\n\u001b[0;32m-> 1086\u001b[0m \u001b[43mdeploy_lro\u001b[49m\u001b[38;5;241;43m.\u001b[39;49m\u001b[43mresult\u001b[49m\u001b[43m(\u001b[49m\u001b[43mtimeout\u001b[49m\u001b[38;5;241;43m=\u001b[39;49m\u001b[38;5;28;43;01mNone\u001b[39;49;00m\u001b[43m)\u001b[49m\n\u001b[1;32m   1088\u001b[0m _LOGGER\u001b[38;5;241m.\u001b[39mlog_action_completed_against_resource(\n\u001b[1;32m   1089\u001b[0m     \u001b[38;5;124m\"\u001b[39m\u001b[38;5;124mindex_endpoint\u001b[39m\u001b[38;5;124m\"\u001b[39m, \u001b[38;5;124m\"\u001b[39m\u001b[38;5;124mDeployed index\u001b[39m\u001b[38;5;124m\"\u001b[39m, \u001b[38;5;28mself\u001b[39m\n\u001b[1;32m   1090\u001b[0m )\n\u001b[1;32m   1092\u001b[0m \u001b[38;5;66;03m# update local resource\u001b[39;00m\n",
      "File \u001b[0;32m/opt/homebrew/lib/python3.11/site-packages/google/api_core/future/polling.py:256\u001b[0m, in \u001b[0;36mPollingFuture.result\u001b[0;34m(self, timeout, retry, polling)\u001b[0m\n\u001b[1;32m    144\u001b[0m \u001b[38;5;28;01mdef\u001b[39;00m \u001b[38;5;21mresult\u001b[39m(\u001b[38;5;28mself\u001b[39m, timeout\u001b[38;5;241m=\u001b[39m_DEFAULT_VALUE, retry\u001b[38;5;241m=\u001b[39m\u001b[38;5;28;01mNone\u001b[39;00m, polling\u001b[38;5;241m=\u001b[39m\u001b[38;5;28;01mNone\u001b[39;00m):\n\u001b[1;32m    145\u001b[0m \u001b[38;5;250m    \u001b[39m\u001b[38;5;124;03m\"\"\"Get the result of the operation.\u001b[39;00m\n\u001b[1;32m    146\u001b[0m \n\u001b[1;32m    147\u001b[0m \u001b[38;5;124;03m    This method will poll for operation status periodically, blocking if\u001b[39;00m\n\u001b[0;32m   (...)\u001b[0m\n\u001b[1;32m    253\u001b[0m \u001b[38;5;124;03m            the timeout is reached before the operation completes.\u001b[39;00m\n\u001b[1;32m    254\u001b[0m \u001b[38;5;124;03m    \"\"\"\u001b[39;00m\n\u001b[0;32m--> 256\u001b[0m     \u001b[38;5;28;43mself\u001b[39;49m\u001b[38;5;241;43m.\u001b[39;49m\u001b[43m_blocking_poll\u001b[49m\u001b[43m(\u001b[49m\u001b[43mtimeout\u001b[49m\u001b[38;5;241;43m=\u001b[39;49m\u001b[43mtimeout\u001b[49m\u001b[43m,\u001b[49m\u001b[43m \u001b[49m\u001b[43mretry\u001b[49m\u001b[38;5;241;43m=\u001b[39;49m\u001b[43mretry\u001b[49m\u001b[43m,\u001b[49m\u001b[43m \u001b[49m\u001b[43mpolling\u001b[49m\u001b[38;5;241;43m=\u001b[39;49m\u001b[43mpolling\u001b[49m\u001b[43m)\u001b[49m\n\u001b[1;32m    258\u001b[0m     \u001b[38;5;28;01mif\u001b[39;00m \u001b[38;5;28mself\u001b[39m\u001b[38;5;241m.\u001b[39m_exception \u001b[38;5;129;01mis\u001b[39;00m \u001b[38;5;129;01mnot\u001b[39;00m \u001b[38;5;28;01mNone\u001b[39;00m:\n\u001b[1;32m    259\u001b[0m         \u001b[38;5;66;03m# pylint: disable=raising-bad-type\u001b[39;00m\n\u001b[1;32m    260\u001b[0m         \u001b[38;5;66;03m# Pylint doesn't recognize that this is valid in this case.\u001b[39;00m\n\u001b[1;32m    261\u001b[0m         \u001b[38;5;28;01mraise\u001b[39;00m \u001b[38;5;28mself\u001b[39m\u001b[38;5;241m.\u001b[39m_exception\n",
      "File \u001b[0;32m/opt/homebrew/lib/python3.11/site-packages/google/api_core/future/polling.py:137\u001b[0m, in \u001b[0;36mPollingFuture._blocking_poll\u001b[0;34m(self, timeout, retry, polling)\u001b[0m\n\u001b[1;32m    134\u001b[0m     polling \u001b[38;5;241m=\u001b[39m polling\u001b[38;5;241m.\u001b[39mwith_timeout(timeout)\n\u001b[1;32m    136\u001b[0m \u001b[38;5;28;01mtry\u001b[39;00m:\n\u001b[0;32m--> 137\u001b[0m     \u001b[43mpolling\u001b[49m\u001b[43m(\u001b[49m\u001b[38;5;28;43mself\u001b[39;49m\u001b[38;5;241;43m.\u001b[39;49m\u001b[43m_done_or_raise\u001b[49m\u001b[43m)\u001b[49m\u001b[43m(\u001b[49m\u001b[43mretry\u001b[49m\u001b[38;5;241;43m=\u001b[39;49m\u001b[43mretry\u001b[49m\u001b[43m)\u001b[49m\n\u001b[1;32m    138\u001b[0m \u001b[38;5;28;01mexcept\u001b[39;00m exceptions\u001b[38;5;241m.\u001b[39mRetryError:\n\u001b[1;32m    139\u001b[0m     \u001b[38;5;28;01mraise\u001b[39;00m concurrent\u001b[38;5;241m.\u001b[39mfutures\u001b[38;5;241m.\u001b[39mTimeoutError(\n\u001b[1;32m    140\u001b[0m         \u001b[38;5;124mf\u001b[39m\u001b[38;5;124m\"\u001b[39m\u001b[38;5;124mOperation did not complete within the designated timeout of \u001b[39m\u001b[38;5;124m\"\u001b[39m\n\u001b[1;32m    141\u001b[0m         \u001b[38;5;124mf\u001b[39m\u001b[38;5;124m\"\u001b[39m\u001b[38;5;132;01m{\u001b[39;00mpolling\u001b[38;5;241m.\u001b[39mtimeout\u001b[38;5;132;01m}\u001b[39;00m\u001b[38;5;124m seconds.\u001b[39m\u001b[38;5;124m\"\u001b[39m\n\u001b[1;32m    142\u001b[0m     )\n",
      "File \u001b[0;32m/opt/homebrew/lib/python3.11/site-packages/google/api_core/retry.py:349\u001b[0m, in \u001b[0;36mRetry.__call__.<locals>.retry_wrapped_func\u001b[0;34m(*args, **kwargs)\u001b[0m\n\u001b[1;32m    345\u001b[0m target \u001b[38;5;241m=\u001b[39m functools\u001b[38;5;241m.\u001b[39mpartial(func, \u001b[38;5;241m*\u001b[39margs, \u001b[38;5;241m*\u001b[39m\u001b[38;5;241m*\u001b[39mkwargs)\n\u001b[1;32m    346\u001b[0m sleep_generator \u001b[38;5;241m=\u001b[39m exponential_sleep_generator(\n\u001b[1;32m    347\u001b[0m     \u001b[38;5;28mself\u001b[39m\u001b[38;5;241m.\u001b[39m_initial, \u001b[38;5;28mself\u001b[39m\u001b[38;5;241m.\u001b[39m_maximum, multiplier\u001b[38;5;241m=\u001b[39m\u001b[38;5;28mself\u001b[39m\u001b[38;5;241m.\u001b[39m_multiplier\n\u001b[1;32m    348\u001b[0m )\n\u001b[0;32m--> 349\u001b[0m \u001b[38;5;28;01mreturn\u001b[39;00m \u001b[43mretry_target\u001b[49m\u001b[43m(\u001b[49m\n\u001b[1;32m    350\u001b[0m \u001b[43m    \u001b[49m\u001b[43mtarget\u001b[49m\u001b[43m,\u001b[49m\n\u001b[1;32m    351\u001b[0m \u001b[43m    \u001b[49m\u001b[38;5;28;43mself\u001b[39;49m\u001b[38;5;241;43m.\u001b[39;49m\u001b[43m_predicate\u001b[49m\u001b[43m,\u001b[49m\n\u001b[1;32m    352\u001b[0m \u001b[43m    \u001b[49m\u001b[43msleep_generator\u001b[49m\u001b[43m,\u001b[49m\n\u001b[1;32m    353\u001b[0m \u001b[43m    \u001b[49m\u001b[38;5;28;43mself\u001b[39;49m\u001b[38;5;241;43m.\u001b[39;49m\u001b[43m_timeout\u001b[49m\u001b[43m,\u001b[49m\n\u001b[1;32m    354\u001b[0m \u001b[43m    \u001b[49m\u001b[43mon_error\u001b[49m\u001b[38;5;241;43m=\u001b[39;49m\u001b[43mon_error\u001b[49m\u001b[43m,\u001b[49m\n\u001b[1;32m    355\u001b[0m \u001b[43m\u001b[49m\u001b[43m)\u001b[49m\n",
      "File \u001b[0;32m/opt/homebrew/lib/python3.11/site-packages/google/api_core/retry.py:217\u001b[0m, in \u001b[0;36mretry_target\u001b[0;34m(target, predicate, sleep_generator, timeout, on_error, **kwargs)\u001b[0m\n\u001b[1;32m    207\u001b[0m             \u001b[38;5;28;01mraise\u001b[39;00m exceptions\u001b[38;5;241m.\u001b[39mRetryError(\n\u001b[1;32m    208\u001b[0m                 \u001b[38;5;124m\"\u001b[39m\u001b[38;5;124mDeadline of \u001b[39m\u001b[38;5;132;01m{:.1f}\u001b[39;00m\u001b[38;5;124ms exceeded while calling target function\u001b[39m\u001b[38;5;124m\"\u001b[39m\u001b[38;5;241m.\u001b[39mformat(\n\u001b[1;32m    209\u001b[0m                     timeout\n\u001b[1;32m    210\u001b[0m                 ),\n\u001b[1;32m    211\u001b[0m                 last_exc,\n\u001b[1;32m    212\u001b[0m             ) \u001b[38;5;28;01mfrom\u001b[39;00m \u001b[38;5;21;01mlast_exc\u001b[39;00m\n\u001b[1;32m    214\u001b[0m     _LOGGER\u001b[38;5;241m.\u001b[39mdebug(\n\u001b[1;32m    215\u001b[0m         \u001b[38;5;124m\"\u001b[39m\u001b[38;5;124mRetrying due to \u001b[39m\u001b[38;5;132;01m{}\u001b[39;00m\u001b[38;5;124m, sleeping \u001b[39m\u001b[38;5;132;01m{:.1f}\u001b[39;00m\u001b[38;5;124ms ...\u001b[39m\u001b[38;5;124m\"\u001b[39m\u001b[38;5;241m.\u001b[39mformat(last_exc, sleep)\n\u001b[1;32m    216\u001b[0m     )\n\u001b[0;32m--> 217\u001b[0m     time\u001b[38;5;241m.\u001b[39msleep(sleep)\n\u001b[1;32m    219\u001b[0m \u001b[38;5;28;01mraise\u001b[39;00m \u001b[38;5;167;01mValueError\u001b[39;00m(\u001b[38;5;124m\"\u001b[39m\u001b[38;5;124mSleep generator stopped yielding sleep values.\u001b[39m\u001b[38;5;124m\"\u001b[39m)\n",
      "\u001b[0;31mKeyboardInterrupt\u001b[0m: "
     ]
    }
   ],
   "source": [
    "index_endpoint = index_endpoint.deploy_index(index=index, deployed_index_id=\"mm_rag_langchain_deployed_index\")\n",
    "index_endpoint.deployed_indexes"
   ]
  },
  {
   "cell_type": "code",
   "execution_count": null,
   "metadata": {},
   "outputs": [],
   "source": [
    "# If the request or runtime times out, then use the index endpoint number shown at:\n",
    "# https://console.cloud.google.com/vertex-ai/matching-engine/index-endpoints\n",
    "INDEX_ENDPOINT_ID = \"948680622677688320\"  # @param {type:\"string\"}\n",
    "index_endpoint = aiplatform.MatchingEngineIndexEndpoint(INDEX_ENDPOINT_ID)"
   ]
  },
  {
   "cell_type": "markdown",
   "metadata": {},
   "source": [
    "## Load `VectorSearchVectorStore`\n"
   ]
  },
  {
   "cell_type": "code",
   "execution_count": 66,
   "metadata": {},
   "outputs": [],
   "source": [
    "# # The vectorstore to use to index the summaries\n",
    "# vectorstore = VectorSearchVectorStore.from_components(\n",
    "#     project_id=PROJECT_ID,\n",
    "#     region=LOCATION,\n",
    "#     gcs_bucket_name=\"holtskinner-test\",\n",
    "#     index_id=\"langchain_mm_rag_deployed__1710182761418\",\n",
    "#     endpoint_id=\"6649108552487010304\",\n",
    "#     embedding=VertexAIEmbeddings(model_name=\"textembedding-gecko@latest\"),\n",
    "# )\n",
    "\n",
    "from langchain_community.vectorstores import Chroma\n",
    "\n",
    "# The vectorstore to use to index the summaries\n",
    "vectorstore = Chroma(\n",
    "    collection_name=\"mm_rag_test\",\n",
    "    embedding_function=VertexAIEmbeddings(model_name=\"textembedding-gecko@latest\"),\n",
    ")\n",
    "\n",
    "# Create retriever\n",
    "retriever_multi_vector_img = create_multi_vector_retriever(\n",
    "    vectorstore,\n",
    "    text_summaries,\n",
    "    texts,\n",
    "    table_summaries,\n",
    "    tables,\n",
    "    image_summaries,\n",
    "    img_base64_list,\n",
    ")"
   ]
  },
  {
   "cell_type": "code",
   "execution_count": 68,
   "metadata": {},
   "outputs": [],
   "source": [
    "import io\n",
    "import re\n",
    "\n",
    "from IPython.display import HTML, display\n",
    "from langchain_core.runnables import RunnableLambda, RunnablePassthrough\n",
    "from PIL import Image\n",
    "\n",
    "\n",
    "def plt_img_base64(img_base64):\n",
    "    \"\"\"Disply base64 encoded string as image\"\"\"\n",
    "    # Create an HTML img tag with the base64 string as the source\n",
    "    image_html = f'<img src=\"data:image/jpeg;base64,{img_base64}\" />'\n",
    "    # Display the image by rendering the HTML\n",
    "    display(HTML(image_html))\n",
    "\n",
    "\n",
    "def looks_like_base64(sb):\n",
    "    \"\"\"Check if the string looks like base64\"\"\"\n",
    "    return re.match(\"^[A-Za-z0-9+/]+[=]{0,2}$\", sb) is not None\n",
    "\n",
    "\n",
    "def is_image_data(b64data):\n",
    "    \"\"\"\n",
    "    Check if the base64 data is an image by looking at the start of the data\n",
    "    \"\"\"\n",
    "    image_signatures = {\n",
    "        b\"\\xFF\\xD8\\xFF\": \"jpg\",\n",
    "        b\"\\x89\\x50\\x4E\\x47\\x0D\\x0A\\x1A\\x0A\": \"png\",\n",
    "        b\"\\x47\\x49\\x46\\x38\": \"gif\",\n",
    "        b\"\\x52\\x49\\x46\\x46\": \"webp\",\n",
    "    }\n",
    "    try:\n",
    "        header = base64.b64decode(b64data)[:8]  # Decode and get the first 8 bytes\n",
    "        for sig, format in image_signatures.items():\n",
    "            if header.startswith(sig):\n",
    "                return True\n",
    "        return False\n",
    "    except Exception:\n",
    "        return False\n",
    "\n",
    "\n",
    "def resize_base64_image(base64_string, size=(128, 128)):\n",
    "    \"\"\"\n",
    "    Resize an image encoded as a Base64 string\n",
    "    \"\"\"\n",
    "    # Decode the Base64 string\n",
    "    img_data = base64.b64decode(base64_string)\n",
    "    img = Image.open(io.BytesIO(img_data))\n",
    "\n",
    "    # Resize the image\n",
    "    resized_img = img.resize(size, Image.LANCZOS)\n",
    "\n",
    "    # Save the resized image to a bytes buffer\n",
    "    buffered = io.BytesIO()\n",
    "    resized_img.save(buffered, format=img.format)\n",
    "\n",
    "    # Encode the resized image to Base64\n",
    "    return base64.b64encode(buffered.getvalue()).decode(\"utf-8\")\n",
    "\n",
    "\n",
    "def split_image_text_types(docs):\n",
    "    \"\"\"\n",
    "    Split base64-encoded images and texts\n",
    "    \"\"\"\n",
    "    b64_images = []\n",
    "    texts = []\n",
    "    for doc in docs:\n",
    "        # Check if the document is of type Document and extract page_content if so\n",
    "        if isinstance(doc, Document):\n",
    "            doc = doc.page_content\n",
    "        if looks_like_base64(doc) and is_image_data(doc):\n",
    "            doc = resize_base64_image(doc, size=(1300, 600))\n",
    "            b64_images.append(doc)\n",
    "        else:\n",
    "            texts.append(doc)\n",
    "    return {\"images\": b64_images, \"texts\": texts}\n",
    "\n",
    "\n",
    "def img_prompt_func(data_dict):\n",
    "    \"\"\"\n",
    "    Join the context into a single string\n",
    "    \"\"\"\n",
    "    formatted_texts = \"\\n\".join(data_dict[\"context\"][\"texts\"])\n",
    "    messages = []\n",
    "\n",
    "    # Adding the text for analysis\n",
    "    text_message = {\n",
    "        \"type\": \"text\",\n",
    "        \"text\": (\n",
    "            \"You are financial analyst tasking with providing investment advice.\\n\"\n",
    "            \"You will be given a mixed of text, tables, and image(s) usually of charts or graphs.\\n\"\n",
    "            \"Use this information to provide investment advice related to the user question. \\n\"\n",
    "            f\"User-provided question: {data_dict['question']}\\n\\n\"\n",
    "            \"Text and / or tables:\\n\"\n",
    "            f\"{formatted_texts}\"\n",
    "        ),\n",
    "    }\n",
    "    messages.append(text_message)\n",
    "    # Adding image(s) to the messages if present\n",
    "    if data_dict[\"context\"][\"images\"]:\n",
    "        for image in data_dict[\"context\"][\"images\"]:\n",
    "            image_message = {\n",
    "                \"type\": \"image_url\",\n",
    "                \"image_url\": {\"url\": f\"data:image/jpeg;base64,{image}\"},\n",
    "            }\n",
    "            messages.append(image_message)\n",
    "    return [HumanMessage(content=messages)]\n",
    "\n",
    "\n",
    "def multi_modal_rag_chain(retriever):\n",
    "    \"\"\"\n",
    "    Multi-modal RAG chain\n",
    "    \"\"\"\n",
    "\n",
    "    # Multi-modal LLM\n",
    "    model = ChatVertexAI(\n",
    "        temperature=0, model_name=\"gemini-pro-vision\", max_output_tokens=1024\n",
    "    )\n",
    "\n",
    "    # RAG pipeline\n",
    "    chain = (\n",
    "        {\n",
    "            \"context\": retriever | RunnableLambda(split_image_text_types),\n",
    "            \"question\": RunnablePassthrough(),\n",
    "        }\n",
    "        | RunnableLambda(img_prompt_func)\n",
    "        | model\n",
    "        | StrOutputParser()\n",
    "    )\n",
    "\n",
    "    return chain\n",
    "\n",
    "\n",
    "# Create RAG chain\n",
    "chain_multimodal_rag = multi_modal_rag_chain(retriever_multi_vector_img)"
   ]
  },
  {
   "cell_type": "code",
   "execution_count": 69,
   "metadata": {},
   "outputs": [],
   "source": [
    "query = \"\"\"\n",
    " - What are the critical difference between various graphs for Class A Share?\n",
    " - Which index best matches Class A share performance closely where Google is not already a part? Explain the reasoning.\n",
    " - Identify key chart patterns for Google Class A shares.\n",
    " - What is cost of revenues, operating expenses and net income for 2020. Do mention the percentage change\n",
    " - What was the effect of Covid in the 2020 financial year?\n",
    " - What are the total revenues for APAC and USA for 2021?\n",
    " - What is deferred income taxes?\n",
    " - How do you compute net income per share?\n",
    " - What drove percentage change in the consolidated revenue and cost of revenue for the year 2021 and was there any effect of Covid?\n",
    " - What is the cause of 41% increase in revenue from 2020 to 2021 and how much is dollar change?\n",
    "\n",
    "\"\"\"\n",
    "\n",
    "docs = retriever_multi_vector_img.get_relevant_documents(query, limit=10)\n",
    "\n",
    "result = chain_multimodal_rag.invoke(query)"
   ]
  },
  {
   "cell_type": "markdown",
   "metadata": {},
   "source": [
    "### Print Retrieved documents"
   ]
  },
  {
   "cell_type": "code",
   "execution_count": 70,
   "metadata": {},
   "outputs": [
    {
     "name": "stdout",
     "output_type": "stream",
     "text": [
      "['source: https://abc.xyz/assets/investor/static/pdf/20220202_alphabet_10K.pdf\\n\\nMARKET FOR REGISTRANT’S COMMON EQUITY, RELATED STOCKHOLDER MATTERS AND ISSUER PURCHASES OF EQUITY SECURITIES\\n\\nAs of October 2, 2015, Alphabet Inc. became the successor issuer of Google Inc. pursuant to Rule 12g-3(a) under the Exchange Act. Our Class A common stock has been listed on the Nasdaq Global Select Market under the symbol “GOOG” since August 19, 2004 and under the symbol \"GOOGL\" since April 3, 2014. Prior to August 19, 2004, there was no public market for our stock. Our Class B common stock is neither listed nor traded. Our Class C capital stock has been listed on the Nasdaq Global Select Market under the symbol “GOOG” since April 3, 2014.\\n\\nHolders of Record\\n\\nAs of December 31, 2021, there were approximately 4,907 and 1,733 stockholders of record of our Class A common stock and Class C capital stock, respectively. Because many of our shares of Class A common stock and Class C capital stock are held by brokers and other institutions on behalf of stockholders, we are unable to estimate the total number of stockholders represented by these record holders. As of December 31, 2021, there were approximately 64 stockholders of record of our Class B common stock.\\n\\nDividend Policy\\n\\nWe have never declared or paid any cash dividend on our common or capital stock. The primary use of capital continues to be to invest for the long-term growth of the business. We regularly evaluate our cash and capital structure, including the size, pace, and form of capital return to stockholders.\\n\\nIssuer Purchases of Equity Securities\\n\\nThe following table presents information with respect to Alphabet\\'s repurchases of Class A common stock and Class C capital stock during the quarter ended December 31, 2021:\\n\\nTotal Number of ximate Shares Dollar value of Purchased as Shares that May Total Number of Total Number of Average Price Average Price Partof Publicly Yet Be Purchased ClassAShares Class C Shares Announced Under the Purchased Purchased Class ‘A Share Class ¢\\'Share Programs ram Period (in thousands) (in thousands) “’ @ bead (in thousands) “ {in millions) October 1 - 31 126 1,445 $ 2,812.76 $ 2,794.72 1,571 $ 26,450 November 1 - 30 289 1,393 $ 2,943.97 $ 2,956.73 1,682 $ 21,479 December 1 - 31 250 1,169 $ 2,880.79 $ 2,898.56 1,419 $ 17,371 Total 665 4,007 4,672 (The repurchases are being executed from time to time, subject to general business and market conditions and other investment opportunities, through open market purchases or privately negotiated transactions, including through Rule 10b5-1 plans. The repurchase program does not have an expiration date. See Note 11 of the Notes to Consolidated Financial Statements included in Item 8 of this Annual Report on Form 10-K for additional information related to share repurchases. ) Average price paid per share includes costs associated with the repurchases.']\n"
     ]
    }
   ],
   "source": [
    "source_docs = split_image_text_types(docs)\n",
    "\n",
    "print(source_docs[\"texts\"])"
   ]
  },
  {
   "cell_type": "code",
   "execution_count": 71,
   "metadata": {},
   "outputs": [
    {
     "name": "stdout",
     "output_type": "stream",
     "text": [
      "['source: https://abc.xyz/assets/investor/static/pdf/20220202_alphabet_10K.pdf\\n\\nMARKET FOR REGISTRANT’S COMMON EQUITY, RELATED STOCKHOLDER MATTERS AND ISSUER PURCHASES OF EQUITY SECURITIES\\n\\nAs of October 2, 2015, Alphabet Inc. became the successor issuer of Google Inc. pursuant to Rule 12g-3(a) under the Exchange Act. Our Class A common stock has been listed on the Nasdaq Global Select Market under the symbol “GOOG” since August 19, 2004 and under the symbol \"GOOGL\" since April 3, 2014. Prior to August 19, 2004, there was no public market for our stock. Our Class B common stock is neither listed nor traded. Our Class C capital stock has been listed on the Nasdaq Global Select Market under the symbol “GOOG” since April 3, 2014.\\n\\nHolders of Record\\n\\nAs of December 31, 2021, there were approximately 4,907 and 1,733 stockholders of record of our Class A common stock and Class C capital stock, respectively. Because many of our shares of Class A common stock and Class C capital stock are held by brokers and other institutions on behalf of stockholders, we are unable to estimate the total number of stockholders represented by these record holders. As of December 31, 2021, there were approximately 64 stockholders of record of our Class B common stock.\\n\\nDividend Policy\\n\\nWe have never declared or paid any cash dividend on our common or capital stock. The primary use of capital continues to be to invest for the long-term growth of the business. We regularly evaluate our cash and capital structure, including the size, pace, and form of capital return to stockholders.\\n\\nIssuer Purchases of Equity Securities\\n\\nThe following table presents information with respect to Alphabet\\'s repurchases of Class A common stock and Class C capital stock during the quarter ended December 31, 2021:\\n\\nTotal Number of ximate Shares Dollar value of Purchased as Shares that May Total Number of Total Number of Average Price Average Price Partof Publicly Yet Be Purchased ClassAShares Class C Shares Announced Under the Purchased Purchased Class ‘A Share Class ¢\\'Share Programs ram Period (in thousands) (in thousands) “’ @ bead (in thousands) “ {in millions) October 1 - 31 126 1,445 $ 2,812.76 $ 2,794.72 1,571 $ 26,450 November 1 - 30 289 1,393 $ 2,943.97 $ 2,956.73 1,682 $ 21,479 December 1 - 31 250 1,169 $ 2,880.79 $ 2,898.56 1,419 $ 17,371 Total 665 4,007 4,672 (The repurchases are being executed from time to time, subject to general business and market conditions and other investment opportunities, through open market purchases or privately negotiated transactions, including through Rule 10b5-1 plans. The repurchase program does not have an expiration date. See Note 11 of the Notes to Consolidated Financial Statements included in Item 8 of this Annual Report on Form 10-K for additional information related to share repurchases. ) Average price paid per share includes costs associated with the repurchases.', 'iVBORw0KGgoAAAANSUhEUgAAAtMAAAB7CAYAAAC2JAybAAABYWlDQ1BJQ0MgUHJvZmlsZQAAKJF1kD9Lw2AQxp9opKABg6g4iGYQpyqSCnZtOhTBoVbFP4OQpDUV2vQliYiTIuoohYqgU6mLn0AXBb+BguAgIm7iLHbREu9t1baKB8f9eLh7eDigRdIZy4gAsrbnJGKasrC4pASeIUFEFyYwoJsui8TjU7SC79lc5TsIfN6OcK9B+XC/+FK4XN4+3uzpkPf+7jdVezLlmjQ/qFWTOR4gjBHH1z3GeYu426FQxAecrRqfcjZqfFHdmU1EiW+IZTOtJ4mfiINGg241cDazZn5l4OmllD03Q7OXuh8aUrAxDQUxzEOlP4RBqf65Ga/eRJEDwwYcrMJCGh5dR0hhyJCbgklyNDGKILFKbipC/Ne/f1jXciUg/Aa05uuacQSc7wJ993VtqAh07gBn10x39J/PCmXRXQmpNZY0oO3R91+HgUABqOR9/73k+5UT8n8AruxPFipjsSL2zmoAAABWZVhJZk1NACoAAAAIAAGHaQAEAAAAAQAAABoAAAAAAAOShgAHAAAAEgAAAESgAgAEAAAAAQAAAtOgAwAEAAAAAQAAAHsAAAAAQVNDSUkAAABTY3JlZW5zaG90yuCR1gAAAdZpVFh0WE1MOmNvbS5hZG9iZS54bXAAAAAAADx4OnhtcG1ldGEgeG1sbnM6eD0iYWRvYmU6bnM6bWV0YS8iIHg6eG1wdGs9IlhNUCBDb3JlIDYuMC4wIj4KICAgPHJkZjpSREYgeG1sbnM6cmRmPSJodHRwOi8vd3d3LnczLm9yZy8xOTk5LzAyLzIyLXJkZi1zeW50YXgtbnMjIj4KICAgICAgPHJkZjpEZXNjcmlwdGlvbiByZGY6YWJvdXQ9IiIKICAgICAgICAgICAgeG1sbnM6ZXhpZj0iaHR0cDovL25zLmFkb2JlLmNvbS9leGlmLzEuMC8iPgogICAgICAgICA8ZXhpZjpQaXhlbFlEaW1lbnNpb24+MTIzPC9leGlmOlBpeGVsWURpbWVuc2lvbj4KICAgICAgICAgPGV4aWY6UGl4ZWxYRGltZW5zaW9uPjcyMzwvZXhpZjpQaXhlbFhEaW1lbnNpb24+CiAgICAgICAgIDxleGlmOlVzZXJDb21tZW50PlNjcmVlbnNob3Q8L2V4aWY6VXNlckNvbW1lbnQ+CiAgICAgIDwvcmRmOkRlc2NyaXB0aW9uPgogICA8L3JkZjpSREY+CjwveDp4bXBtZXRhPgpQgj3rAABAAElEQVR4AeydBVxU2RfHfzCk0iGhIKCouCo29tqBgR1rgN26q7ur/u2uNbAbW1YFW9fuxkBFFEUFBJFGYoCJ+79DDwwgWKjn6nzmxb3nnPs9b5jz7px7nxLjBVSIABEgAkSACBABIkAEiAARKDQB5UK3oAZEgAgQASJABIgAESACRIAIpBKgYJouBCJABIgAESACRIAIEAEiUEQCFEwXERw1IwJEgAgQASJABIgAESACFEzTNUAEiAARIAJEgAgQASJABIpIgILpIoKjZkSACBABIkAEiAARIAJEgIJpugaIABEgAkSACBABIkAEiEARCVAwXURw1IwIEAEiQASIABEgAkSACFAwTdcAESACRIAIEAEi8MkEJP47MbZzB/ScdRrR6dIkz7diZKeO6Lvk2ifLzxIggveGoeji5ASn7K9uf2BPgDSrWgFbkmebMdypO+ZdSi6gZvppyTNsHu6E7vMuydUXeW/A0C4yWzqjc5du6Nl/DOYf9EG8XK2vs5N8aT56OA3HZl/J51EY7wP3aS7o0t4Jff/eCe+47GJFeLTOGe1c1mc/+FNuUzD9U7qdOk0EiAARIAJE4PMSEFi3goPKQxz9ZwLmXBEC0hDsnDQd26+GoUIrh8+oTIr3Xufw3+m7eB2fiMTE9FeCEKKPj6UhDn+MS2fP4/Yb0cfZJg7H40tncf72G7n60vdeOPffadx9HYeEuAi8uemO+f2ao8PSR/hIyXLyPmVHFHAb589ehHe4+FPEpLcV4uyfThi87ibiNRNwd9MIdBzukX6jFA+fHUPRd6o7Lt3w+Qy6vm8RKt+3+WQ9ESACRIAIEAEiUCwIKJvht+Uz4X59HLb/vQTd/xeIeWcSYDd+FSbVUAWSX8Bz0ULsvhMJTbuO+H3qENTR5zF3+FWsnbsWZ/xioKRvB8fx0zGilj82TNyG6Go1EXXxPMTt5mBFvwry3VStijFHTmOYVvbDItzd8Du2xTZGpxLXsOP8W2ja98W0aV1RjpsgfXsaS+Zsxs1YUzRxiEPmI6DzsI03wOklc7D5ZixMmzggLrNBdp2ybVVUHXMEp2XGJD/EjMZNsGTlEpwYsxudlRX3Gzws9dq2CKuP+yJWoxxajfwfRjY2hrJCW5JxffUE7BG1QAd2HrtuxqBstykYpHMU/+y8j6TyvTBtRg+Yp5rF8OHuWoxdexnvdOtj6PS/0MZCoJi/1t18OCdBr4Ez/m7QEf/rp49ljSpj7ksfhEk64eWMJmi1NhrGOqpQyoniZ9yXPU6cChEgAkSACBABIkAEPp2AmPm5tmLGGvrMyKgk067yB7ucKJMay04MLsdK6tuxDkOd2a9ltVmp1muZvySS7ethzjRNHVi/30ew1uW0mKbdH+xm9HbWUV+NaeqYM7s69dngvZHZTEtipwdbMQ11M1a1eUvWsmXaq7XzOvZEHMe2d9RnatrGrHKLvsy5jS3TVddnbTeGMZZyn82oo8s0jOxZt+EurLmNDlNX0WMd3ELysC2F3Z9Rh+lqGDH7bsOZS3MbpqOuwvQ6uGWzhbGk04OZlYYWa70xLv14Crv7ZxWmqWnPpjyMykO2mD1b3owZaRoze6cBrFttE6Zp1JqtfROdR/04trG1FlPRMmXVO7mwbjWMmHoJXWZu34EN6FyVGfA+tln/nsVt78j0VdSZbrkWzGV4N2ZvpMF0a09n91Ly4B+bH+f07iRdYbNb2jAD/apsuGcIkzAxe35oA9v3IJi5cdaatqPlePyMO5Tm8TPeQVGfiQARIAJEgAh8EQIC2I5egT9qAjHxZuizfBaaaHJFwjPYeTwYGtW7waVTdwxpZ4P4G/vgGayH3vse44HHLHSqaAYjbTWwqBAEpedHaDaZh+t3bmBLH4Pc1iopQ71ECZRIf5UsoQY+/ppalLRbYO6x3di+fQSqqSQh5NVbSF4exoknKagy2h3/bnDD4YVtoCdrkHJOsW2Bfjh84glSqoyG+78b4HZ4IdqkNkhXkuebMjQ0+DA4UpAUk0e/A19g/77bSLAbgX0eO7D/yEHsXD8JzVXzqB+clr+iUqoTlu53w6aB1aAi0UPbRQewY/Pg1D6+exOcZpGKIRyXHIbbhn/hProKUnyO49CjU4r7GJImN1/OTAOW9RxRWz8Qxza444lEgAqdh6N3dR0alU6/BijNI88PA50gAkSACBABIkAECk1AUB617HSh8sgGterrpDWXxOKDUArxmzNY73qLB2HGaNDQGvqJ7+ExogWGeiTDrumvKKuplhqgpaUOCKBnboESeRmg8guG7juSI80jHrd5feWSBjCUDReW0IQGf4uRSiH9kAAhlGGsa5AadKsZ6KOkrA6LU2ybMBahPPVb2VgXBrKgW80A+qkN+Ha+RQg///eQqlREWfMPeKao38IohCYwKBvpQ5/LVjatjQ4dNaAh2qrYliQG2ZRCpZJ6MOA2q6nx8E1ZGwZGvLGaGk8y4d3gfUwtSurQ5ukX4L0sZajDe/wOiXF58E+de5kXZwni3r3E25SKcJnriuZa92E3ewfcn4xDNXsZECoZBGhkOoMEvRMBIkAEiAARIAJfhoBmTVS35qPOug0xZYcbH7nWgJKBHaqYXMW/x15Ds80S/PfvdDTUFvM8Ztm/tCJQVcvbHmkEHhzcgz170l/7PHHrbcYMRKVco6aqFaqhgpYEPoc34VaIP47tuYxQ2Qi4qr1i22zsUK2CFiQ+h7HpVgj8j+3B5dQGikySIuLBQW7LTqyf6YLpp6Kg36w/epatnadse5ls32PYdisA3mt5TrdxOQy9VFlxfcuM4DV3v3JZIwrFua378ezdPWw96gNJyQqw/6WOYrkWaWGgQs6ih5jbpibqdZ6J/57dg+flN5BqmMLKLMOWHJp5/Z3TJmHJ8YAcJ378XQqmf3wfUw+JABEgAkSACHxbAoIa+GvlBNSN2Yb2Za3RdfMzaNRqgmo6DdCpmRniDg2EtWUL7IzRh2rCW/iHZQTF+ZideB8bBvZDv37pL5dRWHEjn2Xu9Ptg7pz20POejcbWtfD3KwOYyQZwle0V26aujz5z56C9njdmN7ZGrb9fwSC1gSKbEnF/w0D0cxmKiatuQbXpZOzY6AwztTz6zWX3nieT/YDLtkLtP69Do/kEjG9TPw9bFOnM45iqOUxCZsLBqh7+d0cbjnPmoY9xHnbkc68C1Rr4c+EwVAzZiI52DTDphibazl4M51J56E32xsF1q7H1TGAeFX7cw0qyRPEft3vUMyJABIgAESACRKD4EEhGdGgsBIalkJqJkGpYEt75Pke8USXYGkgR+yEFAi1daMkC3S9QpB/e4k28HqzMNZESz/M4NLWgkTrYqsg2boD0A96+iYeelTk0U+J5qogmtNIaFMK6PGTz9JeAJy8Ro2ODKtb6mTnffOkNBZw+Qp0kCWldUoMw5A1itK1QRjv7uGkR5ApD4PM0DCVsqsJalpOSZ0mG79y2GKe+FWf/tsmz1o94goLpH9Gr1CciQASIABEgAkSACHxNAsLLWDbzOZrNGIaacssVfk0jvo0uCqa/DXfSSgSIABEgAkSACBABIvADEKDVPH4AJ1IXiAARIAJE4McjkJKSkvp0vx+vZ9QjIlC8CKirq0NTU7aGY9EKBdNF40atiAARIAJEgAh8UQJr1qzBxIkTv6gOEk4EiADQt29f7N69u8goKJguMjpqSASIABEgAkTgyxHo2rUrbGx+rolcX44mSSYCeROwsrLK++RHnKGc6Y+ARFWIABEgAkSACBABIkAEiIAiAtnXS1F0no4RASJABIgAESACRIAIEAEikAcBCqbzAEOHiQARIAJEgAgQASJABIhAQQQomC6IEJ0nAkSACBABIkAE8iEQjXtuf6N/Z0d06DkK/5x9C0lqbSlCLyzHiO4d4NRvCtx9k9JlFLZ+Pqrp1GcgUFh/5FU/zRTRo3VwbueC9T5pV8FnMLDYi6Bguti7iAwkAkSACBABIlBcCfCAeccgdBi1GbfjSkD67CCm9+yJRU8kkAZuhEvvaTjsL0LkjXUY0m0yriQXtn5x7fePYldh/ZF3fRmReJ8dGNp3Ktwv3YBPpPhHgVRgPyiYLhARVSACRIAIEAEiQAQUE5AgOLoE7NtNxLaTB3FoZTeYJ/vi5l0hwg4fxM348nDeehzHpjaC2pvjcL+ZWMj6yYrV0tHPRODz+U90dyqaNByPy0naUFX6TOZ9J2IomP5OHEVmEgEiQASIABEofgRUUev3PfjPcxoaqUfjqudlvFcpj1q1VOD/KhgiZSOUtlRFCcvS0GPheP0ShawvKn5d/qEs+lz+04Sybh0M33AJ16dWh9oPxajgztA60wUzohpEgAgQASJABIhAfgSkEbgwvRP6bg2F7eiDmFhNCV7JIjAIoCqLrFRVoMwzqUUp6Xm0ha2fn2469+kECuuPXPUF3NOdMbwCT/XY8enmfG8SaGT6e/MY2UsEiAARIAJEoFgRiMWlqe3Rc7kfLEfuwaklzaEDFRjoa0OJCREXKwWLj0cySkDPQBZZF7Z+sersD2hMYf2hqP4PiKUQXaJguhCwqCoRIAJEgAgQASIgTyD8wEg4uz6E2LY1Olk8h/vqtTj+DKhY5xfos5e46HkL5089QJRaRdStq47C1pfXRnufm0Bh/aG4/s+zcodC/owKESACRIAIEAEiQASKQkASwlY212U8Z5TxICPtpaLFWm+MY0z8lK1zsmbaKmAqGoas5sQzLKaw9YtiE7X5eAKF9Ud+9dO1xm3vyPQ1bdnoy0kfb8d3XpMeJ67wFoMOEgEiQASIABEgAp9OIBnhfk8Rol4OVcvq8Lzpgkph6xckj85/GgHyx8fwo2D6YyhRHSJABIgAESACRIAIEAEioIBAwTeJChrRISJABIgAESACRIAIEAEiQATAp9tSIQJEgAgQASJABIodgZSUFCQmJhY7u8ig3ATU1dWhqakpd4L8J4ejWO8o8l9hDKZgujC0qC4RIAJEgAgQga9EYM2aNZg4ceJX0kZqPoVA3759sXv3bjkR5D85HMV6R5H/CmNwvjnTNyIKI4rqEgEiQASIABEgAp+LwLvAN3j55OHnEkdyviABU0sr2FapLqeB/CeHo1jvyPzn3FTef4UxmILpwtCiukSACBABIkAEiAARIAI/HIEGRkXvEk1ALDo7akkEiAARIAJEgAgQASLwkxOgYPonvwCo+0SACBABIkAEiAARIAJFJ1CICYjJ8F47HIcfJSvWptMYvReOQkUVKd4fm44tpwVo9L9Z+NVcQbyeFAhvDzdcvP0MUUJ1GFZpB0eXXrDVVSyajhIBIkAEiAARIAIZBETwO+wB5tgbFdUyjtH790OA/Pf9+OrjLC1EMA0oq6pDTU2JPy+UIfbxCXhFWKNh01+gocTPqamCvwGSJzi2ahNuBknwukx3NJpcDYJstkje7MLCfuNxI/kX1Pm1Dow13uHFnpEYu8cT4/7dC0fr7LWzNaRNIkAEiAARIAI/NQEpYm+vwvol23HnUSDgug31nBdgtEttlCzWXER4f2UDDh29jxg1K9h3H4U2NY0zn4YofHEUR/eehH+4FDoVW6Gtcw+U18ndIeGDHfj37GtIc5xSNmmKTl1L4s6mEwiR5DgpMEON/kNRo5QykvyP4/DOY/CPUkGpOr3QpW8TGH3VkON79V8WU+G9ddh0Shddp/SFRSo7IZ57uOJ2gDj1WfKpNQVlUMvFBVUUDJAmee/BwQuvIZE9eD6tMko1HoF2dfRT94Qvj+PInuN4FakCk3r90a23A/QyxmQTnuP6jq246RsB5TKN0XaIMyobZpxMF/eN3goRTKuj6rCNqJpqKB+l/l81PLjTFoNd56BstotRfHc7LgVURedBDJ6HNuLRhLWokXHnLHmOA+P/wC2d8fhn/0xU1krvdew5rOjQFRum7UC9XYNgUDzYfCOXkFoiQASIABEgArkJSMN2Y/GQ+QhtNR1NUtwhaaEHr7ld8Y+hN2Z2TAtGcrf61kekCN3TE6Nn+8Cmex9UFF/H9t578GD5NUzuUAqSh7Mxofc6CBv8hkYVgDceYzDO8zbmHvsHtTJihPQuiILu48HV+xBndIkJEfbsCRKq6aF1h9J4du08XmSeBJJDnsD/Q01odx+Kan4rMLnrPERU749mvwjxaGVnnLu5AevX9vxqMcf36b8M2Pz9w1msHzcZJ0T90Ojv9GBafA+nli3CFZWqMMsInlUqw6THAB5M5wzm+Ij8v3Ox+4QabCx10wZgoQqrMv3RhgfTKXdmYLzzZkh/HYAGpUNwe2E7XPE5gPXzW6CE8Dq2dO2CY1J+s9XKAhEXpuHPE96Yc3Ilaue4TrJZ/NU2CxFMf4xNSbi/7wiiqoxHRxd1+LrNxdHTC1GjY9otpvjJVpzy1kajbZOyAmmZWN3mGPjPRlRMqA61nOw/Ri3VIQJEgAgQASLwgxNIuXUCPmiJP+a7IGbIKUid16FO/Fg8EL6HBPpyvwIXGxSSRziy5QK0+1/Ewuk1+ZPiklAl2Q6z3Q5gVIfBeLxxM4Ls52D7luEwkn3/D6uOKY3+hMepWajVQz5K0unkCtdOGT2TImSXE8YsMcKQpWNhbijA74d6ZJyENGAzpnSaBd3J69G1LMObRbvgazAUq7cvQgUe+STVSUG/EZtwKbonuhpmNvuiG9+l/zKJROD69HG4JdSFcvbIMfYB3oSXRWuPSxhRLdvIama77BsxePEsDKbdz2P19Bry16v0LY4vWocPbXdjy4q2kHm+W2Vn/O52Fs9TmqH07pk4FO2E6ec2o54spBxSFfO7bYDXw2TUbqSeXck32c6O5NMNiDuOU+fjUOWv3jAxVUHrejOxevdehLcfAWP+IUn2foT3KpXQo45GDl3K0HPoA8ccR2mXCBABIkAEiAARSCMgMDCEZuItPPdLhonskLIRmkzbhybFGZCgOoaf8kdvsVH6I5cTER+fAkFJLT4mqQq7EVsxS6VW1uiwWgmoCyRITMmZzCHfSWnoDqxecheW467DqVyOIE4agv+mz4Jv+UlY71KBB21SlNQpCeXE94jgD5SsoCNFYng0RAJNaHzeKEjeyBx736X/UvsgRdSRcVh9tyFGDnmLxduzOiZ6/Agh6hXgaPgCjy4HQVDWAXZWOpkpPFk1+VbKA7wMVIflb0YIvn2Wx4M2qFyjHErKbqISzuKuTynUn9wUeH0ddwIA81ZucOsmO/kBJy95Q7/VbNTECzy+9Boo2wFTLvZVrIe3+Nrls15Gscd24p6kCcZ2LJXaj8Y9WmDj+B046T8UzrYCiJOSIVE1/KoX79cGSvqIABEgAkSACHwJAqr1/0C/pm2xpocDtPnjqyvt8UCVXp1RgY/KFuuiYQRdiPBi7xTs8ziOe4G1MHB7L57nLUBJ+zbIWt43Hk9XL8Ud/IpxLeVHpeX7Fw+vpfPx0GQoXAeWkx/h5BWFV2Zj5w1TdPIcidKpaJRh6rwCA6/3wuIW9WFtIcLb54moOf0AWmWkJsgr+CJ736v/pMG7sGzeI9Rdeh0OQb2yseFB9hNfRCe9xAZHR2hoJCPmvQjmvdZjwcJu4GnqckUa9hABEUIEz22IiSU0II54B1HZAfhz52o0jn6JMJEGVHc0RL8L4VBViUOM2BYdVh7F2Jbv8TYkhc/Z24iRDU8jRlUFiVFilOm7FYvndsi6EZPT9nV3cnT1E5RLg3D24DXExp7Bslr6aFdeH91+P4bYD944u/N2ao6TZmkzlEx6j/Co3Hec0rBHePoyKisX6hNMoaZEgAgQASJABH44AgIeXGz1xpaNv6OydgyebRmKUY0aYuO1D99BV5MhFKvByPYXGCbdxck9ZyAfCnzA0zXdMG1bPH5duA6tTfIOT6Rh+3DgZAJqDBuXmrIh13lpKM5tPARhw/HoXk01/ZSU59huwon7Ylg0aot6zVujaukP8D7ggWcJcq2/7M736D+JP47+OQvBbdZgRNOMPOcMTAxJelVRt+NULLz2CntvB2Hnxs5IOjAOa4/FZlTKfGeJhijXtAcG7HyCAzf94HGN/6oi3IWVMw8iLjERItFTPInoj6VegTjw0Aez2iXg5JT/4U5iApKSRXjtFYa2+/zhcT+Q63FC0r6x2HhRmCn/W27kfbUW0irJ6104/0gLzV0fYuflR9iR+nqMBYOtEHpsI27zC1atQRvYafjg+pGcs3GT4bumD8Z1G4ebX/PCLmQfqToRIAJEgAgQgW9LQAtlmrmghnV19Dl7F2OqB+Dwsm0Iyz1G9W3NzKVdC9UGLMCoRR5Ys6oD4vfNhufz9KU3JK9x8a+m+HttFJqsPoO/Opjl8/M9D4yPuMNHvRXatzfOpUUauh/nvTRQ57eu0Ms4yxc/OLrKHSKnnVi+YiZ6j1mAmR5rUCNwJbb9G5pR6yu9f0/+kyJs71i4PTRFFdOHOLFxJY7cDIEk0Rc3tu3Gk0gllO23HvNXjEVFbRk+ZRi1nIgW5ePw/MbDXDwFFQZj4vbN6GafNo9O2aQdeneuhETvy/BXLcHnzJVCnSEjYCtbmkZgjnoje8AixgsPXmjwUW9l6P86Fk5VZL9YCGDccgKalYvEs+u+ufR8iwOfKZgWwX/ffvjrt0P7DjYoVdoi/VUWtfkSN1axp3D0SDig3wt9+5aF/6o+WLn/IT7IPvzSCPhuH4zFe9+hXP+JqF+81/f5Fj4inUSACBABIvDTE+CrYux1xgiXFeArz6YVFSvUrVsW0shgRBfXYDrlOl/FaygOPhBlelDDxhr6SnGIi+ZLb4j9cHxoSyy9UBoD3C/g97Zl8gmkZSJiceeiN9QcOqGmgngh4cJpvNBoiEaNsqWJsAh8iAf0LMql521zMSUq8UmLEsTx3OmvU75H/zEkSw1RxloJ/if348KR/bj0MIwH0/64d/wUXkRF4O6akVi3/zmfAJteWCKSkwANrbSAOeOw7P3D5SVYNnsnAjMrS5GUxCtrakPb2g6mJVIg/JB1nUAs5tnu6lDXtoGVRQmIE2KyZS+IIZEoQVWjRHYV32y7iMG0MpSUVaGiopK2tIn4Ds6cCYRJm/6onrEMXnqXBBWd0bK6FD4H9yBUqoEqUw5jck8t3PpfA3SpYIwOtpYYPf8mjJx3Ye6EGlkX+jdDQoqJABEgAkSACBQ3AnyivokAkZc3Ys/Z96lr+rIPt3D8vxfQqtIQlp91BtRn7LtAD4l+Hti9ZBMCZL/Ip7zCxaW78MagCerbK8NvRX+su26CTgvmopZaAPx9+XJ2vj4IjZZFXHxd5ocHcfzwjayUkBQv+DwXw7JmI2jmMjMZz+75QlLeAdWyB9oq1VG3liHeHFiMO6GyYE2EkJNLcDGgNKo1LZ9Lypc58D36TwALHputPXkD69NfK0byVdeMOmCs5x504U/aUwm+gCNLZ3OWMq7xeLlzJs69q4jGTlX4vrz/NAVBuLdjNtx4doJsBUOhz2Zs9XwLS8desNFtj9a/quHBxjm4F8nvDMX81wrX/Qgt1w6NrPVQv3tLqF53hdvVcC6V++/oQpwPqoB6bct9GXcVUqoS4yWvNjci8jrzGY4L3yHg2UueYK4Ls8rVUCr7hf8ZxJMIIkAEiAARIAI/FAGeD3xjVlcs2fsMKTycVubDYSrlB+Ivt3/QMJ8c42/NQPRsCxaNmIbr7wTQYAkQGzdH35Xb0cfeC8satofnGz46KVdKwH7mM6wbY4qnM+wx/r+mWHRtHQ+2eaXY9fij5kIYb/TD/1rmXBksGoe7W2OX2V7sW+0IubG96CvYOWYo3G/wyW1aAqRIzFD3DzdMHlpLQVAuZ8zn2/lO/ZcdgHBXW3RZbYP5Gf6Iu4G9owdj741IPkosRrJyBTSbsQt/dLflg6OiHP77gCdrBmDR6suIUdeEVKgEi06LMX1xP5ThN4PSqAvYMWo4PO7F8wmIfMEK4zYYvMENTpW5n3kWw71lPJ96y20I1blksSkcJu3GFOdq8n7ObmwhtxtkzYQtZEvg2wXThTaVGhABIkAEiAARIALiaG/scB4D6VwPuNiX4gvMfQ9FhLggfz7CbATzskYfb7PwMBYM9EKPPfPAFwX75CKKDcL7aAH0LcxR8jPIK4pB36f/8u+pKDoQ7z+owdDCFJrZcx4U+S8lCu+DY6BaygoGqeviyctOiQpARJIeSpnzkW/5U3yB8AiEvk+CVuky0Mp1Mmflwu1/SjD9mU0pnOFUmwgQASJABIgAESgcARX9ymg6aiJg970E0rL+qULbohJS56l9dHelCD9xCeodR8PmMwW+qroWKPMVl8NT1NXv03+KepJ1TFXfEmVyPYQzD/+pGcDE2iCrcY4tNYOyMM9xLHOXL7NoWjZzr9hs0Mh0sXEFGUIEiAARIAJEgAgQASLwLQh8ysh09sH4b2E76SQCRIAIEAEiQASIABEgAt8tAQqmv1vXkeFEgAgQASJABIgAESAC35pAvmke39o40k8EiAARIAJEgAgQASJABIozARqZLs7eIduIABEgAkSACBABIkAEijUBCqaLtXvIOCJABIgAESACRIAIEIHiTICC6eLsHbKNCBABIkAEiAARIAJEoFgTKFIwLQ27gc1/9UGbBrVQvXYjtOk9EesuBfFn3WQvcQgMkD32kT+4JvQE5o6Yj1Phsr3vo8QFBqBo5sbDa1V//FrLHrU6//N9dJasJAJEgAgQASJABIgAESgSgUJPQBT5bkCP9pNwQ6s5fuvTCpV14+B3+QD2nQpB+b8O4sT0BtBCMi78UQvDIubhya7OUH02C/UcTsHJ6yam2RYpfi9S54raKPnCH6g1LALznuxC55xPKy1IaPh6tKk4Ax9+m4FhbRtjYIfqBbWg80SACBABIkAEflwCwvvY43oKr8Uss4+CMs0xwqUBsj/nQ3h3LSZd+gWr/mqaWS/XRnIgzm1Zzx85HQE168boN6If6hinxxUfqQfxt7Bu2hHojpqHvhU+09Ngchn6Yx2If34cG7cex5MIFVg27o8xzg5Iwy7E/T2uOPVazB9wn14EZdB8hAsaZHduxjkR99+GdTh4PxxqVo3Rd9QAOMgExd/FjhUn8FqSUTFDlhmaDh2KpqbKEAWew4Z1B3E/XA1Wjfti1IAMG3K0+Qa7hYtsJc+wfNj/cMtqGs7eOYSVU0Zh2KhJ+Off27i0tAZeLh2GWdeTeTekCAuKQFIm2Ww9kwgRJ8xJK+28JD4KUfGKz4GPe4vkh76zCZVtSiCMjkKcouaSeERFxfMaCgo/Fx0tlDsnDQvij7JUZHz29hLER0Uhp7mSiFBESmzgOH50voG0KEdn8u97dr3y2wW1kwjjEJ8vN3l5mXuFZJbZjjaIABEgAkSACGQjILq3A3MXrcf+06dxOv119uZLJGT7sTrJdwsG9JkMt3PPs7XMsSnxw/quDdF90RUkGBoD9/9Bp3q9sP11mqCP0QPE4uzkQZi86QCuvxXnUEC7iggIr89Ai8ZD4R6si7KlYnF6Wjs0n3AecbLKonvYMXcR1u/P8u3pszfxMrtzM4RKA7CtZyP0Wv0IapalIb4+F+0bDoZnGPdfyhvcv3ge589nvY7vdMWiFfvxUMijyoBt6NmoF1Y/UoNlaTGuz22PhoM9IWtaLAorREm5P4lV07JhI84l5W4lvs8mVdNiFi5H2J1ZDZmRljpT19Zn5q2XM3+fmay2diXWrm8TZq2vxTQ1tFnp+uOZZ7AkVU6K3142qlFZpq9rwAz1jVj5VpPZidRzKez633VZ1a4DWQdrXaahV5/NfyLOoVvIHm8ZxOpbGjB9IwOma1iOtZ5xloXLRKf4sb2jGjErfW2mq6vN9K0asTHuL1mqhEQvtqLbL8zUwIiZGOkzQ+tGbLxHIEt+OIs1NNJi6uq8vnlrtvxNmo1ZSlOY395RrJGVPtPW1WXa+las0Rh39pILFcvamugyTbUSTNfInLVc6p/VTGbO9b9Z3apd2cAO1kxXQ4/Vn/+ECfPqe9gO1tOmCht5KjFTRtKViayWTTe29Z2Edy0vZmLmt7gFs3Ecw35vasX0NTWYhrY5cxh9gAWmMrnJJjtYsR474tLlSljI2g7Mqul8loo2nVlZfV1mYKjPjMq3YpNPBLNUCnkwy0ko02DaIAJEgAgQgZ+eQNiqFky/2iR2P+fXt4yMJJJdW/Ebsy9lyEqX5t+rrTfkySvp9BBmrVuTTb2fklZH8p65dTJj1oP+Y0J+JF896VLDjw1ilaytWBmtcmzkeQWxTJ7af9ITkiDm2sKQlR9yisVkMNw9gNk3msQuyvCFrWIt9KuxSQqdK89M/GAKs9fhde+l+094ig2y0mMt14TJV+R7Ev9NrEMZc9ZmzXMes4nZgyn2TIdfQ1lNBzErvZZMQdNcsr7GARRGSdxWR6ar145t+aColZAd6WfOtOrOZX6SRLavmwkr3fdQ6gUu9uXBNA/qLDusZHcjJSzp1V7W20aLVZt0n4nFD9isOvrMymkdeyCT++EBW97GnJk6bmJBkiR2ebQt09SqyHq5HmEnPC8x/xwfRvGD6awWD2i7bvZliTzkCzszhlXVs2WjLiYw7zkOTL90a7b0VgyTSGLYnX/aMAv9emzOQzGL2uLIDMsPZCciZX2J4UF7HWZSeyrz4j5O3NeNmZTuyw7JPp05ith7DnPQL81aL73FYiQSFnPnH9bGQp/Vm/MwNUgXP53Oauo4sHn+uUPMpMujma2mFqvYy5UdOeHJLj33yqfv4Wy7kwkr85snSwt7hez0EGtWynEze58vMzHznVmbldC0Zl3W3GFhKUL2cmcvZq1Vhf15l3cu6TIbbavDWm/ICqYDFzfkF+lk9kDML9hZdfhNhxNbl+YM9mB5G2Zu6sg2BUnyZZYDE+0SASJABIgAEeAEklK/u0y772KBvlfZmTM32cvYbN+PKdfYjE6d2aT93uw0/77XySeYjnRtxnTKjWBZMXDa95121b95kFWAHm6J5N2/rI9tJTZ4P//e1qVg+qMuz9htrL2RHRt/Tchi/K6x06evMb+YLP+l3uCYdme7An3Z1TNn2M2XsWmDb3kIF4aHs8wQMnIv625uzJy2x8rXlgSzbU7mzKSla+pAZdpJIQsPz2zJIvd2Z+bGTixnU3lBX2+vUGkeSXGJkKiUQEkVRYPqStBQVwOShRAqypBQsUZXnhZS20AZ6tad0bW2FiICXkP4yB2ez8zRcWRL6IS/wqtwHTj2bwr1G/txJCJNj0rFXpg5uhMcu/wKG7n0JgleHD4FP4vemD6wEjShDONWc/Dv8W0YXzkAh489Rek+CzDeQRfKyrqo8/tC/Gbhg0MHn0FVTwfq4Vexer4rDt6IQbXFdxB6dx5qqSrqW8YxCV4ePoanpftgwXgH6CorQ7fO71j4mwV8Dh3EM4V5JBlt099VKqLXzNHo5NgFjRIO5NN3I3Qd0By4tA8nPvC28f9h1+lk/DqgBww/gpnAqgsmDasDY1UNlOveBbVLRuHtmwJ+0hI/grvnM5h3HImWOuF49SocOo790VT9BvZzZxSNWY7+0y4RIAJEgAj8PASk7/HQNxzCq5PR0HEwRrs4onr5uhjt8TZ1gQKoNsTsI4ewqEdFFDRFqURpE2hFPcej0Izf9mPxwCcE4pj3eCcqQI80CLtGT8GjVq5Y1lbn5+H/iT2VvH6JtykaeLuxISo36oNhAzugZoV6+P14KPefFO8f+iJceBWTGzpi8GgXOFYvj7qjPfA2w0U59GsYGUFb9BBuf/ZDqwYTcL/WdMzuJe+P+HOzMf+yKYYuGYlymTGfBoyMtCF66IY/+7VCgwn3UWv6bORomkPb19stVDCtZWkOneR3CFCYpBKH129joGJaFmUyO5+tI0raMDDOOKEEgUAZUqkYouAQRPGE9H2DmqJx48apr+Z/X4JIhyEuMi06VTIwUywTYoS8j4KSkTnKZojm0xnsGjZCBd33CI1WQilLa2TGxwIbWJZSQkzYO2h1ccXe6Y0hOrMEQ5pXRJkyNdF9/vkCVvAQ411oNJRKWcI6SyhsLEtBKSYM7wqIVVNpKBnALB1QQX3XdnRBO40r2HcoCtHH9+CCoBWcO+kWwCzNCCVtfRhkMFFShYqAX/Z5XNyZXhIFIyRKhMB9g9A03ReNm/+NSyIdsLjIIjLLlE4bRIAIEAEi8LMRYAkwrNoaPaYewZNXz+EX5IN9nROxa9xEHIwtHAyN9qPRv+xDzGnTAWOmz8Kfvdti7j0lqMmmvknz0yOB/6bhmPWyE9Ysag1dpcLp/ZlrSxMSkSJ6ipth/XHCPxBvArn/nBLgNvZ/OM1HThMMq6J1j6k48uQVnvsFwWdfZyTuGoeJ+Tk3OR4iNXNU/MUMSXe3Y+sZWWCeXqSh2LfyEBKajse4GpmBVsZZJPNJYGrmFfGLWRLubt+KM5k3VplVvslGoYJpjeZOaKztg/2bH/L1OuSLxG879t5RQi3HttBLP5Xzes25L6smMDKGtqodxvGl9YKDg9Nevldx8pgbRldMjwaVlKCoLaACEyNdsOj3CM4cFY7CmWV/YdVVNRjwgDwiJDBrcqHkDd6GM+gYlUI816XSagHOPA7Gu1fXsGWIMe4smogVj9IFKVQo08cDy4gQBGbqk+DN23AwHSOUUjhiL88JvCe8O6mlwL5rNINLJwPcOrgLu/ZehVb7QWipWRCzAoxQVgL/D3FKSrphDLEfEtJm4aoYwVhbFXbjLiEowxfBvrh68hjcRlcsmFnOrtI+ESACRIAI/NwEBHYYvN4Dm8fWQur4o7IZ2k3shUpx93H5Yc5IogBUGo2w4MxRzHfUReD9x4ixm4Qd4ypDWcsIhup567l0dhPGzvKCaX0zPNy6Eis3XEGIJBG+x9dh943wApT+3KeVtUpAXbkUWo4dgepanIXAHO0m9ECFSC9c8pXCbjBfWWXzWNRKcy7M2k1Er0pxuH/5Yd7gtBph2IIlWONxGds6xGD77HV4mh5TSUP2w/2WBloN7go+xTRX0Wo0DAuWrIHH5W3oELMds9c9zVXnWxwoVDAN3W6YNakuQtb0Qp+lFxCU+jmQIPz2RgzsvgCPy43EnGGWPNmC3ymqCZAUHojAKCEfP867qNbogrYWz7F96g484zM2IXkLj7Ft0aTbAtzJiPfybC5ABac2sHmzH4s9AlKD5tgbyzBj4SH4sKro2s4Wge5z4OabxCUk4dn2OXB/Y4O2nSvg7faRaN/lT3i+lUDTvDZaNSkPLYEq1PiNkJKaGgRJ4QgMjIL8wiMClO/cDraB7pjj5sslcqnPtmOO+xvYtO0Mu4yR4DztlT9RcN9V4eDSFaXvLMHim6boPLA+1LmIgtvJ65HbE5SGqSHDi2tnILuhk4adw8aj/mk+Uq2BLm0t8Hz7VOxIcwbeeoxF2ybdsOBOYr7M5HTQDhEgAkSACBABGYGos1gy8m/sfJ45AgVpopB/f5aAtk4Bgz85CErDveB5LA7Nl+7D0RMe2DLTEe8fPIdqRXtUjstbjxZXY2hbHkqPDmP//v3Y7+GFMHEC/C944tTDyBxaaDc7AYG1HaxLpCAhJtuyYGIxxErq0CwRjbM8FePvnc+zBi2liRDy4KiEtnzqhkxm8vWVGDzUFXczRZWErXUpIC4aUemBYixf7cVbsyE6NZVF7hklGddXDsZQ17tZzzMpaYu0plEZlb7te+HTs2OZ14YhrJG1Hiuhy1fCMNZjJXVKs9o9F7Dz7zOS0iUscDuf9KatxjQrjmOXHvMJiDp12Vy/jPNC5tGHTzLs+S+fNMhY3L1VrFc1E6arb87KmOgxQ9v2bMEV2bzRtAmIsgkJGdPlctubyO6v6cWqltJjRubmfAUKa76ax3mWOq9Q6M029rVnJnyVEDMzvtpH6TrMeZN36qRIFnuVzW9jw/T1TJiltTkzNqnIOiy4mjpbVRK4nfWy1mZqmhXZuKvps04zFQuZ98a+zJ6v2mFgZsYM+GTEOs6bmHf6ZMUCJyDqtGaZc//y7Xu6QokfW9BAh2nXncN8s02+zJtZ2oQMndSJoOkyhB6sj7kp6/mvjLaEBR8YzuyNZKuVWDBz86qs52+Nmam9bAJiqkFsVa9qnBlfiaWMCdMztGXtF1xJm8WbD7N0TfRGBIgAESACRCCLQNJFNqaCNrPps5e9kn2dxj1kaztaMv3aM1jGohxplbO+77MaS1j43QNss/t1xhexYpKQ9ayNkQXruj0gdcJ/5OXJzMHImjkf4xPYPlqPzIZNNAExC3IBW1HsYB8LZljnT3Y+jDsh5RXb95st99907r8kdnFMBaZt04ftTXMue7i2I7PUr81mpDpX3n/iJ3NZPR7ntVvzNDX2S/J3Z86VdJn14JPpMV4SO8MXWtBtuoK9k7NKzJ7MrcdjlnZszVNZHJPE/N2dWSVdazb4ZN7RoZyIL7xTqNU85GyRxLF3z7zY9TuPWWBstigve6WURJaYlBFAZz+haFvMYoNfsucBkRxTEUpKFAt86c/exeXWJ44NYi9fvWNxCsxMigxgz/0CWVTOmJmlsMTEpLxnpYpjWdDLV1yfAqGFNr+ofS9qO26gOIq9evyYBchmVUvELEUsz00cG8xePg9gkQqckTezQnecGhABIkAEiMAPTiD2+mLmVMmI6RmbMzN9PlDjMIzt8sv5pasomE5htybYMa1yI9NX8Ehi3ut6MDu+nK2phTkzNPmFdV1yLXPJto/Tw2FTMF2oK04Sfp7NalueGemb8hU09JlJ1d5sQ8YIYux1ttipEjPSM2bmZvo84HVgw3b58QhKVnL778nmfqmDkbLBT0M+IGvXZQm7nrmYRxRb10qXL7F8Im3QM7uVSU/Y5n6ywVEjPghoyJcftmNdllxnmU2z1/0G24V+AuK3HUcn7USACBABIkAEiMD3RyAZUYGBiFEzg5WpFk8H/cgiPIyBXb0w/vg8VM9IpUyKQEBICvTL8kURMo5liiuinsz2tJEXgaSIAIQk6cGijG7Wwg7plZOjeFpvjBrMrEyhld25ivwnikaAP590aGQDayNZ8urHF1F0APx5jqqRjTUK2fTjlRShJgXTRYBGTYgAESACRIAIEIEvTUCKkN0TMDdlNNYMskWuuPlLqyf5n0jg5/EfBdOfeKlQcyJABIgAESACRIAIEIGfl0DhptL+vJyo50SACBABIkAEviqBFL6EaWJi4lfVScqKRkBdna9uocnXrs1WyH/ZYBTzTUX+K4zJFEwXhhbVJQJEgAgQASLwlQisWbMGEydO/EraSM2nEOjbty92794tJ4L8J4ejWO8o8l9hDM43zeNG+uO8CyOQ6hIBIkAEiAARIAKfTuBd4Bu8fJLPwy8+XQVJ+EwETC2tYFulupw08p8cjmK9I/Ofc1N5/xXGYAqmC0OL6hIBIkAEiAARIAJEgAj8cAQaGBW9S9kXMCm6FGpJBIgAESACRIAIEAEiQAR+QgIUTP+ETqcuEwEiQASIABEgAkSACHweAoWYgJgM77XDcfhRsmLNOo3Re+EoVMxLYnwgQpPLwNQw//hd8todm9e+Q/0Ff8BeTbGqz3008W0AUszLQi9/03KrTfDCwb8m4pRPPEr12oqFo4qeb5NbOB0hAkSACBABIqCIgAh+hz3AHHuj4lf6nlRkBR0rKgHyX1HJFdd2eYW+Cu1VVlWHmpoSGP8X+/gEvCKs0bDpL9BQApTVVMHfFJeUC1jVbhhipzzBdEcNxXXSj0rfXcMlzxcwm/11gmnR1T8wYmIEhl7Zhcb5m5bL7pj9U7HtQgpa/jkGDvVscp2nA0SACBABIkAEPh8BKWJvr8L6Jdtx51Eg4LoN9ZwXYLRLbZT8fEq+gCQhgk6vw5Ezj/FBpQyqOI1G+wZmuR/CknALhxYcgdageWhVLvcjWoQPduDfs68hzWGhsklTdOrfFAbKIry/sgGHjt7nT1q0gn33UWhT0zjzaYvCF0dxdO9J+IdLoVOxFdo690B5nRzCvujud+A/4V14zr0E61l/oUauGzUhfLdOwsOKS9GnUdaTC6XR93BmsxsevJXAoGYfdO3fBMa53ZdGNiUQXrvW47J3BARlG6ONSz/YZQ6y5u8/0dtzOLbdA88j+ZMW6/dD5+51Cj8I+oX8W4ixWHVUHbYRU1a74X+rN+K3BgYQmLbFYFfZvhsmzx+KCrLQXBKPD9HxkGQ3WBKG8MgkHoLnKOI4fIiMRkrOT0aOarl2JULERcfJ60ivJEmIwocEOe1ZzbltcbFCuXaSiCDEJOeyLKtN6pYEwugoCOXEShAbFglJWUf0HDQQDavk9YkUQSzOLk6RrOzn897Ot2+8mUQYB6GcrrxlZT+Tr1wFzLK3pW0iQASIABH4OgSkYbuxeMh8+JUdhCaVKqGhkx4ezO2Kf45Ffx0DiqRFgoANHTFm7FYEaZSFsfgGdjk3wvwj/HHScvJicXfuIKzfeQCPQhR/kYmC7uPB1fO4l/G6chynNi3C/iMPkcSlhe7piVFDVsNfzRJG4uvY3rshFh0PS9UjejgbEzoOxakATZQqUxKhHmMwzulP3IuXM+KL7hR7/yX54viYPli/9xwCRTlRJCFg9wDMnuuGu/7ZTiZcxcbubbH5WjL0jSXwWd0ZY8YdRJS8c9OESfxw2KUhpq26AqGBMfDoH0xu24v7RFY5f/9J/Ndjavvu2H0jATp8oqDfmk4YPnQ7QhTpyWn6V9gvRDBdgDXiFzg3qTF6VDJHz9rm6FizMVYc9odE4g237mNxKzYC18aXw4QNARBHnMGW336Bk50VfqtvhQ6VKmDissso8JpOeoLj4xugu11p9HGwQKe6bbD1SkTqB0X8eh+Wd7BGxyo26FnFGD06jsX5N+nRr/AeDgyswvVZo69DaXSq1Riux4Mg8uEfrimnERdxFAvrtMH+oJxeEeGt52iM4ne2TrVt4FTJGqOn/ItgiQQvl/6KsZufIsl3GUbYt4J76sWQwUiEJ3Mc4OwyCJNqG6N1pQbY9SwpU1YXhwro9ost/ph3EvwGGYjciZl1qmLZBWGGAIhu/YkhdbrjRJgUaX2zQsdqtuhT3RS9u0/BTf5seh4+4+2aluj121is6sL7XqEU2lcojeGTD4I3g/jeFAyv2RP/JaSLlb7Dob7WGLfSJ/WGIm+5vH4ezHISyjSYNogAESACROCLEki5dQI+aIkB811gpaMLa+d1GDmwIfSE7+UGib6oEYUVLvHF2QN3oNd/D+bPn42hy05gQlsxbu7wwIdssmJPT4DrOSG08hrR5HV1OrnC9dhVrE19XcbUXmaQaDbFkKVjYc4e4ciWC9Du746FC2ZjyJKj+KOdCFfdDnA9Sbi1cTOC7Ofgny0rMGTyCszzXAL79zvgcarAyCOblZ+2WXz9J8WHOysxu11TrPdKgmqONANp9HUcGFEPY+bcREqOk1EH5+NEZBuM37MZI6ZvwnK3ESh5eiE8n8mNPqaCE11dij23S6HbrkuYNmsBfnc7hxGVrsNt+VmkSPLzXzLurVmKR8ZjsOjoToye6sr9txDWt+dg5+WkT3PKZ2r9mYJpCfxd+2P5fyXQ7d8gnHwRhGVDSuLqX/14EFkFAw+uRj1dIzRy9cfyEabwXjwanmGOmHMvEsf9QrHhdws837AEl+Py65UEL1a6YN1VM7icCMbxZy8wq8U7nrM8E96Jj7B75GhcKzEa/3hH4aT3aXQrcQTLRi7AS+7POI8Z2O5TF5Nvh+Pos9dY7JSM864b8ariTCxf2AbaRp0w5e5p9LSQxyF5ughzJx2B5pBT8HwRBc/9Y6BxciTmrnwC678uY/UQO2hU/gubvM+id9nsbaWQJEbj7aUb0By+E/NdF6Jp8mLMnnQSumMvwNMvAgcPjoLy/sFYuuctpIaOqG8Xjuv7/0NaOJ2EB/964r1tWzQwfIRdw0fjpsEkuHpH4sSDs+gq2IlFE7amBszSxFhEXD2B0A77sfd1NHYtboxo99k48EgElhyH2JhYZGW5iyGM4SP38fyuUvIwX7l5MXuheMAgP8fROSJABIgAEfgMBAQGhtBMfI7nful/1ZWN0GTaPozvWSl3ysRn0PdZRChpQ6uEAMKwEB7S8iKNRUysCALNEpk2S8P2Y+WMG6g6YwysPzL5VBq6A6uX3IXluLVwkqWECKpj+Cl/uP5RE2kiEhEfnwJBSS2o8n92I7Zi1oxuPBUkvVdqJaAukEBc6J/Gi06l+PqP/3pw8SKSm6/BKtfO0MkZTL84g3vCtphweBsaGWQ/mYQnNx8DVVuhtnYaF5VK7VDN2B+Pr0XmAiV84Y8PhnVRs5Jq2jllQ/xStTRiH1zAa5af/xIQ+CYSejWaZ14fyvr1UMEsAr5Xn+bS8y0OZFxWn6Zb8hJXTz+FcZcF6F5TF8rKurAbvhCtzX1w5dizHLL5Rf27B1a7zYC9jhTC968QraILTXEsYj/kM+4peYGr5/1Qqut0tLPlj+xUNkadyf9iyarxsHp7GNf9SqPF1PGorKMMZZ066DH1N5R6fgiXXkigoqsD1air8Fjhikt3Y1Buxh0cPTsv78mSqRZLEHzyGN6Y9cGwYQ7QUlaGVo3fMby7BV6fPIiA3DddOfrJP9vle2HgoE6o374RhEc9EWDaEZ2b6iAm4BVitB3RtoE6Hh8+gljwP4g9mwPX9+GG7IYi4T+cvpiMGj17QMfHHZdfmKPhwJYoGfkKIZE6qNezKdTu7Me1qDSVKpZd0M+Z5w6paKB0hy6oVDIKEUH5R72SAuQWjVkuBHSACBABIkAEPhMB1fp/oF/TWBzq4YA9j97gwR4P+EV+xJfRZ9JfJDHKZeE0dwasbw3G4Hat8HtrB2x4+SsfxfwNqfGXNAhn/p4C/6auGN08r3TJnJrj4bV0Ph6aDMWogeUyg3JoGEFXS4QXe//EnG4NsPpRLQyc1IvnkwtgZN8GtX8xSs+fjsfT1UtxB7+ieUutnMK/2H7x9Z8qqvKBwwXTe8AyV540oFJ3NhbtWIRm5XNOLBMiIiweJU3K8NuV9MJz4g31GGJC32YcyXzXMDWBZvRzvHqfEevFwu95CMSx7xEpC1ny9F8JGJXSwoeXjxCZ0fTDA7wJFSMu7F2m/G+58ZH3gAWYKHmHyBgl6JexTr8j5PUFNjAxUkJ8eM6O8mA3xguH+AfpxpMgJAoMYWahBiEzBMsvdVkSgmiuQ8+0bNYHR9cOVR0A0bVQxKEUTC0z3QmBlSX0EIPoMDE027tiVtBkbHdfgkU8eR5GlVHbZSn+HN8COS+NrJ6KERnG89CMLGGWSUkA89KlwJOlEcX/fvGMn3yLkp5ZehK+COGhURAH78MiJw+5NiXL87xxLqtsSxfUmz0A505Goa7aHtxTboW/2+hCciUEH0SBODe+KS5nb6lth8So9IBZSx/8HiKtKKlCoCyFNOOCy94m27b4XX5yJfkyK/SqJ9n00iYRIAJEgAgUkYDAFh22eqP6xW3YPHUhnm7hwSQPCntsPoPhjT42EC2i7qI24+mFt3duw1NxBTRq3gYWKaWQsP8K/jvuhRaV6iFq53Bsfd0J/1vTGlpKmz9KizRsHw6cTECN2ePS5mrJtUrmc4fUYGT7Cwz9buDknjNoNq9T1og0T/p4uqYHpm2Lx68r1qG1ScaXp5yQL7PzPfovXxJiSHjcpqyaFXuBh9UqHKlElJKrpVqr0Whr0QluvTogqFNdqL06iVsPlXiL7MGfYv81GNQfpv3mYGLfl2hWQwNvz52Er7KCyD+X1q9zIDNM/CR1AhPo6jA8Dg3keVt8YqJMmOQNwiIZStbiwSdkzyVP/2lA4gP3CRNwQ/9/mH52BKqV1YH0+mj071/AI1PTdfiEB3Md+mk6os/A3fUZyrc34HeeEQgP5lGpflrClSToLQ+ldVDZSAXCd8EQNF2A5aO2ISXUC7d2TuU/ZUzEv63uwVlmq8Ki0P37LAAAJXRJREFUAgMD/scpMgTvuVidtE4h9F04oF03Q43ClpkHlZTSey2AnqE2VG2HYfWp6SiT/tlNCPBGqIoNLGSyBc3g2MYA/zu6C6eVrqJE6/2owwfglYyMUULNDp2O3ISLdXrDuFd4GaQK8/IqqWQz9eXYUOKj6coQ85+x+AnZVG8WiwRh2kWrnK9c/pNcPsyGV0ljnEMd7RIBIkAEiMAXJ6CFMs1cUMP6FOxXrYHymEbYuGwbujT4HaXSvyK+uAmFUCB5uRG7D6eg2a4zmNAwbfjKqUZ/OI+fjVOte+DmUi8Y8lzdl3tW8rTMe4gQJ0J0Zh3OaPRD6zqKhqykiDjiDh/1VnxCmqLzWqg2YAGqcRsT2wzlvw7Phmf/9hhix7+3JK9xcXI3LDsuQMvVZzCurVn6SHUhOvTJVb8v/+XfXU2U5Ck8oviErHCYxSGBZyGpl9TN3VSjEYYdOArTlWtx89FjGNSYhKm1NmLiTv6LQmY0mof/HHgMt7ssdm07Bb+npWA3dgd+2dEGR3jqU3Eon+ejJyiPxi1s8d5zDk75ybKikhC4bw7OvbWBQzs7HhGqQUWQhNjgQJ6vG4SwCB4OV++YGkgLpG9xbfdphPMlL0TZJojmgiPgd7XNbBB6ZDEuB/HolidHPFk/A7tO+oDZdUU9m0CcX+qGgFT1z3BqqTtCLduicQUg3H0k/nL+E1dCJNAwrY3a9cujhIBnUXHnKauqQTkpHO+Do5AkE5tZBCjdrh3KBLvDbZ8vZPFoyovtcPN8A7PmnVG2UPGkKiq0b4tS/tuxyf1Zat6YJMQDK3s1wdSVd3i4Kys8/aVPVxjfX4Ldd03RuE99foT/vFK1CxzMn+PU/B0IlCVUS97i0pS2fCmkBXia+8ZPJiizKJuZQhcv8OiSbNa0FNFXNuLam3Rt+cqV5MssUwFtEAEiQASIwFciwFc72OuMES4rkPoVKNOqYoW6dctCGhmM6AJ+jfxKRuZSw6KikMh/xzWzzhpF1LC1gZ4kCpHhYujYlIfS08O4cGQ/LhzzQrQ4AcFXPXHzce6c2zThsbhz0RtqDp1QUzZIlFFS+CS58UNx8EFWIKFhYw19pTi++hf/3hP74fjQllh6oTQGuF/A723LfOVA+vv0XwZexe/qsC5vjoRAX8RmXH8pPgh+rwnziha5mkgjvXDlvzjUnLUPi/d6YNJfjoh6/JynxNrDSpqf/1IQ89AT1+ObY9TGo1iyfQsGtnwPP39VWFapnEvPtzhQxGBaGUrKfChfRSV95FUVFf9ww0iHV9jsWBpOVUpjxNIgVJ+5E4Nq8JBQrQ4c6mvjyYzqGLlYFY4D6iBySzP0b+WAgQ2aY79yXVTQDEXwy6ypcrlhqKLSRDcMqeaNFc1M0bmqDSZ56qLrsoWoo1UTzqsWo2rgNAyvZg6nag2wLaQJRq+bBTsVASyH/YO+NjexpElpdK9VGr2Hn0fpcSvQs5IAKjXaoLr2Taxu2gAbvLI+hDL9KvbT8L8ZDfFuYX10rmKOzo4zEVZ/Kab/VScrnSW3oQqPqDrMwbTJdRA4rx66VrVAlybD8aTcZEyZ3gIZf2IEds5oZh2PRKtuaF8l/WcTtUYYsnYu7F5MwbBqpXnbqljqVQH9Vy1C7bxzVFJtULZwQa+uBrg3oTK6VrfAoJlhsKmim+azfOXmz0xhB+kgESACRIAIfEECytAzESDy8kbsOfs+dSSQfbiF4/+9gFaVhrDMHNn7giYUQbRKlTb4Re8pTq+WDZpxAeLXuLr6AEJMG8Ph15GYfuwG1p9Mfx2cAFsNYzSYew4zB1Xilfm6zA8P4vjhG1lLraV4wee5GJY1G4H/eJtVBHpI9PPA7iWbECAbeEp5hYtLd+GNQRPUt1eG34r+WHfdBJ0WzEUttQD4+z7hLx+ERsuNomXJ++xb36f/8segCtvOjjDxdcPOi7JBuzg8XesKL+VmaNFclouew39iLxybMxwbD8qyGIAPN/hqHOcEqPdbZ5TM13/qED/cgvUT/oezfC1rIArey+bhpqAd2rcrHulNSoyXvGDdkGVnFLJI4t4iNIqnSJQxhWaO0VuxUAimrglVHsInhXjjRWASdG2rw9JQFSlxsRCr6/KUhoLje3FsEN7HqMLAguuQqy5BQsgbxKqYwIQnq+dQD1E0fwqjLO/awgLacn94REgSSqGmqa74TlXyAWFBkVAxtoRByZxSCwvoA8KD+EWnWxYm+lmLnhcshfct9A2ixPowLWOQOmpdcJu0GpLY13gTIoBpRUtoMr7KR2pedUbr/OXmzSyjPb0TASJABIjAVyEgDcWNWV2xZO8z/msp45P9+aBP+YH4y+0fNPyaub+F7OyHG/Mxf+JyPIhQRwllIaQmrTFg9VZ0t88x+S9hMybaL4a5mw8mNpZ9P4rwdIY9xv/XFIuureNBMD8Uux5/1FwI441++F9L+REl0bMtWDRiGq6/E0CDJUBs3Bx9V25HH3svLGvYHp5vZD9dZy8lYD/zGdaNyT2Kmr3WZ9v+DvwnujEG/fu9QJ/Hp+GUfeRfBiHlCpY37oi3o4Kx3DnDdx/weFVvzFt9E4n8oX4iZTt0+OcgRrWRpdDk9F8y/N36Y+aic4jT0OTP4NBH9VH8+SWjG0ImLU//1eEBc8ojHB7VG1suR0NNQwSJ3q/ozdOb+tRVkE5SRIc14OtXF7V89mC6qIZQOyJABIgAESACRKBgAuJob+xwHgPpXA+42Jcq1OBKwdK/VI1kxMlSPfn8J1NTnVyDXXlqFR7GgoFe6LFnHmw/aixLhLggfz6SbQTzskbFks336b88PZR6QioMQ+j7FOhYlJFfK1yR/5IiUutqlzHnI9I55ebvv5SoAESk6MOkMNdQThV57H9KMC03PpuHfDpMBIgAESACRIAIFBMCKvqV0XTURMDuewmkZeDUoV3aNm05vI/mKEX4iUtQ7zgaNrmCrryEqELbolIh9eQl68sc/z79lz8LZc1SMLfKWScP//El8PjCbHmU/P2nZlAW5nm0/JaHaWT6W9In3USACBABIkAE8iAgy+t9cO1CHmfpcHEiYFXxF9Ru0kLOJPKfHI5ivSPz37iu8v4rjME0Ml0YWlSXCBABIkAEiMBXIuB94zK2LJ7xlbSRmk8h0Kxjj1zBNPnvU4h+3bYy/31KMJ3vyPTX7QppIwJEgAgQASJABIgAESAC3xcBGpn+vvxF1hIBIkAEiMBPQsDDwwOurq4/SW+/726248+lmDJlilwn/t/eucBFVW1//Ie8FWYYGF6DICBIWmIpqCR2LUUUTUUrU9PCzCQ1Te2G1zQjpYzMtPImPsBrKamgpWZadkl8hZT4SISQqzwFZABBQJjD+u95ADMwDOLtj9Xd5/PROY+91977u9aes87mrDVcfzo4/tAH+vTXkQ5zZ7ojtHhZToAT4AQ4AU6gkwhYWVlBJvsjhlt1EoA/UTO2tratesv11wrJH/aEPv11pLP8NY+O0OJlOQFOgBPgBDgBToAT4AQ4AS0COj95onWe73ICnAAnwAlwApwAJ8AJcAKcQDsEOvCaxx0cj34Zn/1yR/Uzpi3ldrEZikUbXsEAza9gt7yOyhxcr+2OHvaG/Xfht3i8ubYQIetfg+oHkFoJ+v1PVOZcR233Hmina60brkrFhvDF2H6hCq7Tt2L/kodbl+Fn/ncJ3KXNdyagqtQNCF+8HReqXDF96x4sebitCduZveJtcQKcACfACXACf14Chj3bFuMyNjOHhYUF+2eO2+nf46sfr7KfAFces3/mpvp/ilsp484PeC3gCbx5sq6FxNaHisITSNj1LS7Xt772/3Hmzg+vIeAJ9vOj7XetVfMlO5Zh5bd1CJg1D7NGeLa6zk/8DxPogM13HqUS7Fi2Et/WBWDWvFkY4ckd6c5jz1viBDiB/5ZA1ZmNWLj0C2QKWpKqMnBw7d8xJ2wm5r0Vi59KGrQutrFbdQYbFy7FFzqCWpRtyMOhN5/C3x4dholL4pFxp/F6A27Eh+Op1T+h6VTjJf5pkIA+/dXnfI+PI+Yg7MVX8XbcT7gb9dWc/RSvRicZbAudrL8OONPmGLJgE7bFxiI2dhNef8wWJs6jELlVeRyLrR+9hEeU92ahCnJ5FbRtHQ3FyL1Z23pFu74S8pIy1N6F7etQE2pQJq/UbUNTQKiSQ16l03pzVda3srIanXoNxbm4WUvNZfTuCaiSy6ErVsDNG6UQPEOwYG4Yxj7Mfjte71aPep0HA32y9FZsddLg2FhpoaYSVTpttRKh94RBuXqY6RXCTtZXylFSVgt96hSqylBW04ZedASynxKVl6Dsbo2ioUFveyqR+mxRq616XcUwfmWQV+rrY3s6E1BTWQUd9Pdk83dwq6LF3NHqr0E9aZVrc+wC+wnXUgGeIQswN2ws2jZZZrPa8trhqF1UZ7/denq46Qho68CQPti1sjLclam1JZ6f5wQ4gT8egYrvEDEzAjF7TiJPoelezUmsGD4UL8XnQ9zDARVH3sToJxbhWKWh7lfgu4iZiIjZg5NNglqXr9i7GOH7JFgYsxp+v7yOsOh0te9w5zSiP7iAvk/6sd905NtdE9Cjv4br2/BM4GR8fMEMbi4KnHxnDIa8mIhifU6EpqHa9C2YMSUCsd9nGGy60/VH97TV0vH5vci6/3K6rNAIqMukna8EkrvEmsRia5K4B9K8+CxSKNJo5RApWZmbk7VERiM/vEZ1RUdoeUgfcpLYkr2diKztvCk4MonKmajaH+eSt2gkfVapp2M1F2nLzABys5WQ1FZMdj1H0orvSkhgResyd9Irge4ksRaT2FpC7oHzKD5L07nqVFo36UFyspWSo1RCdh6BtCAhh+6kraQhUisyN2f9lY2kD68pJWlvdZS58xUKdJeQtVjM+u9OgfPiKUuhoLSVQ8hRbElmXcUklY2g6Kvadevo5N8HUt+JYTTWQ0wWNgG0+lKNWlYPCYlt7Ugi9aKgiEOUr6xWvJ2e8XyIwg9XNzVee3wxDfCcRFsLBc3YepBEbEt2Eil5BUXQIVVFBWWuGU6eIfNo4TA2dksLsrCW0aC5eyiHya07HUGD3J+m7Y0shQL6dKw7DVt9iZRk1Mz0yWUX22CmPUp1ZwUqOrKcQvo4kcTWnuxE1mTnHUyRSUptKsWso0kPOpGt1JGkEjvyCFxACcrOtdyEIjqyPIT6OEnI1t6ORNZ25B0cSRoxOqWFrA8o2HsMzZkbSG5SG7KR9KCA2dspo1ZTTGOLPSRisrVjtuIVRBGH8tV2cvLvNLDvRAob60FiCxsKYCwqL26hmQFuZMvY2ortqOfIFfRdibKPGv3r05kik9YM96SQeQtpGLMPSwsLspYNorl7ckjooM0zSnRu4xTq52jN7MyG7PtMoClBXvTI4uOkHJJBPemQURU2MA8dSWxpRl3FUpKNiCZdkz1Jfx/YlyaGjSUPsQXZBKymSzXqOd2aYzFtf8aTHgo/zHqu2WqP0+IBnjRpayEJBviTIW6M9+mIQeT+9HZqNtlPaaz7MDZ/VBbb9hxiPUldN4kedLIlqaOUJHYeFLggQTUPGrvIPzkBTuDPSqCEDsx8gDzcu5NVz3A6pvquFyh3/XCy85pFh9W3G6KSz2lGv0B649+NN4PW4y05MJMe8HCn7lY9KVwtqHUh5XfRaw+S+/MHqYbdObJWDSb7ccrvJYGufzqK+k7bS3I9tfiptgjo05+Czi3tRyLfN+jnOnW9msMzyd1mBH1SrEeOUEon1k2lfg525OLCfLKRn+kp1Hiq8/WHxqY79tnSmVbQ+chBJHEZSdFnykkQyinlg2BylQymyDR2E6zeRZMcXWjavhrWTC0dm+NFkv5L6LhqAlTTpegnmKMVQlsrDDnTDPzyAcxJn0ib09ktXCimo/P6ko33K/Tv2+cpcpCEXEZG05lygYTyFPog2JUkgyNJ2bx8SwibcGF0qFQ5ynLm6PqTo98ySmUKrN41iRxdppGqay0gKM5H0iCJC42MPkPlgkDlKcyJc5XQ4Mg05owq6PLy/iQatErXKVHJqKUf53qTpZUPTV7/FR1KTKKM1JXkz5zx8RvP0S1W5ta5DylY5kQhMblsepZQ3HhH6j41UeNE1NCRWR7kELKZihTnaKU/ezgYv5HOqSvSh8EycgqJoVxBQelv+VFXSw8K/SSFiutqKOtfk8nD6iFacrau9YOJkENrhojIN+Ice8gxJNcwMx1MtcdojpeE+i85rnoYoupLFP0Ec2ZCtlIF+7rZEmJHXmGHSI2eOWz+juS3LFVHhPKg9tgc8pL0pyVqo2BioukJ9uATojSKFpsi/S3yYw8OLsFrKbVCoOrzG2lcD1t6dPVllV7OrfRndjKeNqqB0bkPg0nmFEIxuYKaiaUV+UxeT18dSqSkjFRaPoDxnbiZ1GZ1lOb1tSHvV/5Nt88Z0Jkind7y60qWHqH0SUox1dVk0b8me5DVQ0uIoe+QzdedjaB+kp70zLZ09sVdQxk7ppGPlSX1DD9Gte3oSRdNO/NQcZmW9xfRoFVXVQ8WOnVrf6S53pZk5TOZ1n91iBKTMijVAMeSuPHk2H0qJWq83pojs8jDIYQ2F7F5aqAeGeSmnjci9iXZ5EznrKEhIl+KOMdmnCF9yLdQiJ0XhaknOZWzhyZ/Rz9appzkfOMEOIE/MQGBCr+cQt4PvEi7mV8hbnKmK2jbGCn1XnCCasoz6cSRI3Qik/kfBkYqFH5JU7wfoBd3s3u52JAzraCMtweS84R/sftYHZ1Z9BD1mH6Aaiq/ozm+gbSqaRXRQGP8koZAW/pTXq6hkhKlY6PeSnc+RTL78RTX+rbPVpVO0IpxE+iN3efpCPOvlPeJtrfO118HXvMwsKIuZGH/gctwmRKFBYPE6NJFDP+F72Kq66/Yt/dKi4qm8P9HApISV2CouAFVhdkoMhWjm6ICNysMrO0Lv2H/4Uy4PrscYQ9YAl3sERT5JQ5uW4A+1/fjwGUXTIlagEHiLugi9sfCd6fC9dd92HtFgKmNCOYlyfh49XrsPVUO3zUpuHF2VdvBkqoeC8jafwCXXaYgasEgiLt0gdh/Id6d6opf9+0FE9vuZuIzGW/NHYeQ0EDc3pOIK7InET5ChJLsbJSIQjB9mDlO7f4KNyHFxBlPAEm7cOgWE1v1LXYcuYO/zXgadhfikXhFhifDR0BUko3sEhFCpg+D+and+OqmugvG7qF4Y7Y/7E0t0POpUPh1kyPvWuPfwfR3U9GO3LtmZuqPfyQkIXHFUIgbqlCYXQRTcTcoKm6iosEUNiJzlCR/jNXr9+JUuS/WpNzA2VUDWnXK1P8fSEhKxIqhYjRUFSK7yBTibgpU3KzQ/xqHiQ+mv7cAA0RdYOk7G29PccWlfV/itzsXEJ94BbInwzFCVILs7BKIQqZjmPkp7G4ExupOfmsuxoWEIrDhAA5nuuLZ5WFQm1UQIr88iG0L+iA93pDOlEMwhnvoG5jtbw9Ti554KtQP3eR5aI3ekM3fwXnW3n98ZuLd5x8Aiz5Ar6nv4+UBZipGQjt60gHZoXmoU1NzYAKfyW9h7rgQhAbexh4DHKUTZ+AJJGGX2mDx7Y4juPO3GXja7i743zU37T4qcMGQPkxtIDIvQfLHq7F+7ymU+65Byo2zWNVmRLS2bL7PCXACf1QCDbk7MHfpBQStX4tR2m9TCv9BVl4dLPI2YUifQEyZzV637N8LgxcexA19rkRDLnbMXYoLQeuxVkeQvpEbo+dzLyHg8iqMfWo8Xv5ajLBXhiH3sygkP7wY83ob66vEz+kh0Kb+VGUtIJVaoz4tFkueC8Kji37BgOVvY7K2nhtlmg7B21/tw3tP+7C7ZHtb5+uvA9k8DHReUYgbZUZwcPNAU0iTsSfcHIxQXlzYomIXmMhTsXHRVBxKy0WliR3ce5jhNtmxVfIWRbUPFQUokhtBKuvBbsWaTdIbQwJZfGPSDZQZOcDNo6l1GHu6wcGoHMWFCliFrsfOaxF4J+59zPr0DUDaByPCo/HPpcNh1Sir1acChTfKYOTghmaxxvB0c4BReTGYWLi0qqN7wsjWGd1Vna1HfoEc9Tm7MHNYgk4hUe9KsNdY0TvkBYx+fQZ27ZNjpPkX+ME4CDHjxKg/VgB5fQ52zRwGnZqi3qgsVTvMRtYS2DZCMTKFiXEDBH1fJlot1+cbkisYZKaT9aSLCeSpG7Fo6iGk5VbCxM4dPcxug+yIvSNvhdD1O3Et4h3EvT8LavQjEB79Tywbbq/VG/ZsZCJH6sZFmHooDbmVJrBz7wGz2wS7tozCxBk9vRoHbQwPVyavtAC5tfkokNcjZ9dM6KIWoXdlqbpNI1s4qxUDRUER5EZSyHo0ygIkvYcgELU4aEhnKvRGsJbYNtmjkakJjBsEPc6/IZsXUHCjHMZ2znBofLTtIkF3x26qgN729ASH5n6j3XnYrsXC1rm7ejz17XC0DsELo1/HjF37IB9pji9+MEZQzDiI64+1w9+I6eBuuWmbSDtzyDIc63deQ8Q7cXh/1qd4gz2g9hkRjuh/LsVwHYPVlsn3OQFO4A9NQLiKmJdXImtcLOJGimG0Wau3DbdRXVePy6eL8d6hq1j4sCUKDoYjaNp8/CN4OLaNZotuTZuAqzEvY2XWOMTGjYRYR1BTIZ0dY89Z2JPyN5xKyYeo3xD4WhxhQXIKPJcYjMJ/zcOzMeeBh57DapblrL+1TlV+0EjAkP4ay7DPOyzYy0zmgwedL+NU3FYcffojjHNqvCFqFezAbmfr77/rbePATBwhFRFuFuQ0B/cJ15BXQhBJHTSllDdRtgm/Inr2Ihw0m4EdqbkoLcrGT9HDIdFcVhfS87+yDTGhrCi/uQ35Uax9fQOSzWwhopsoyGleLhau5aGERJA6mKAqPx8mQVE4ejGfrZyewJZZ9kh5bzHWXdCU19u2CRylItDNAjSLFXAtrwQkkoKJbX8zMmJug3IzhtTeGqa9X0VSbj7yWX+U/9KTv8GB2LnwUfpDFo/jhXG2OLN3B3bsTIbVmJkYwb4LjKX2sDbtjVeTcpvq5acn45sDsZjrY7gTXYy6sPYVqGvMVEIVuMUcVOVmYlCucfvMVFKU6ozG7EUHYTZjB1JzS1GU/ROih0s0465ifTZBUNRRXMxnq80ntmCWfQreW7xOU7vxQ8Cv0bOx6KAZZuxIRW5pEbJ/isZwQ0bRcAul8sYnBuaQFpWBxA5wNpfC3toUvV9NQq6Gc35+OpK/OYDYuT6aBpleNDo3cZRCTGUoym+2HfnRtXh9QzJM2RNzmzozjL6pHdWOQZs3gVt3WyiKctDUhYabuF5wW+WUG9a/liOtbOiu5qGma218GDWCMW6PowUef2EcbM/sxY4dO5FsNQYz1QZ7F/zbaJw9Phh1YYpR1KHZZG+xB21leRPDc6iGzSmTIEQdvYh89teuE1tmwT7lPSxed6Gtxvh5ToAT+EMTaEDetvlYmeqEAOc0luTgI3x2vABCdToObvwcp0q7oqt5FziMmI85DyuXxYwhG70IT/cqRWpSus7IGvK2Yf7KVDgFOCNt60f46LPjKBCqkX5wIz4/VaJTVvugi9gbgUHD4MtWOi6tfxcpgyMQ3nULXl36M/qvWofxhe/hhbd/0q7C95sItKM/rbQdVoGzEfX+J0j4cRvGlsfh7Y2Xm6T8Nzudqb/fx5k29sKE0d7IiY9EbHotG3strsRFIv6aJ0ZN6M0WosxgZlyLkpwcli0hlznZAhz9n8RQDxFbycvD15uPIE9gTp+hPDPGvTA+2BPXdq9BwnWl41OBU2tX4N19v4JF+mG0dw7iI2Ohbv4K4iLjcc1zFJTN58WFY0zoEiTmCbCU+SHoMS9YGZvCjC1kG5mZwbi2BDk58hYZAIzhNWE0vHPiERmbzkbERnUlDpHx1+A5agI69lceUzwSOgquGXFYtv0KapgsIS8B80c9hklRKRrHwRSDXpgIl5T3sea0EyaEBagihU0fCcUo1wzELduOK+qKSJg/Co9NikJKo8fB5OnbjF2c2Mrubzhx9AZzzBpQ/P0mfH1VvZptWK5gkJl2W4oC9tAiOML/yaHwEBmzbDRfY/ORPAjMIbqjyENc+BiELklk+rWEzC8Ij3lZwdhU/QpDsxwFCthDiuDojyeHekDEVtbzvt6MI0xfiraMov4idq49pkqj01BwAB/szobHyAnwsXgEoaNckRG3DNvVwJCXMB+jHpuEKD3AjHuNR7DnNexekwC1WZ3C2hXvgpkVBk9sT2fNI2i1d9c2b4K+U57Cg9lxWLLhFIqrbiJ102v4J8vnrtwM66lFq+3NwxbFDR6ats/RdNALmOiSgvfXnIbThDAEKEPb76Je2+0aw8WJ/YXqtxM4qvw7LcuI8v2mr6E2WcNzqDovDuFjQrEkkdmepQx+QY/By8oYpspJzjdOgBP4ExIgVDfYwdvLCBf278bu3buRkFoMxe2r+CHxMNLK3dHboyvqbpdrZR9SQKEwgrllV53xUnUD7Ly9YHRhv0rO7oRUFCtu4+oPiTicpvmLpU6NFgc392L1F+YIiwiG+bkUZNgNQegQP0wO9kLeL9yZbkFLc9iO/kprcfKjF/HS+rPN+uvmDQ+2/lpZJtcv8l7Pdob+2n6B29CVOkpe+CBJBr1N6coge+VWc542TevHMlzYkrOzLQtG9KfnY86z18vZxgLf4lhwlrWZJfm8+j2dinqcZGJH6uU3kPp5e1PA9CkUIHWjGQerWwfNKes3btW/0CeT+5KDDctGIGOZLTxYNo9jqtA21vwmmtaPZSuwdSZnlu3Dxf95ijmvap2oIplWB3uSxMaR3DxkZO/oQ2OjklUBc0JOHE32sCYzSx96NbllsFINnd80jWVZYFkhnJ1ZtgcX8n8+htRi2w9A1A6kIhZS9fOGyeTLZElk3cnRhmWrGBOlCcLUDFDIpKhHWXaTgZHNXNmlyp830GRfNjaWDaW7ow3LljGGolSBeuoARNHAdyizMeqiJoGmsMDGZ75UBmnm056X+5GUZTeRucpI1vcZmjrUifopAxANymUXDTDT9Fb9UXOWoh6XkdixF/kN7Efe3gE0fUoASd1mEFMnE7Oagj0lZOPoRh4ye3L0GUtRyY2h182Sas5G0eMyMTn28qOB/bzJO2A6TQmQktuMg80ZIzTFVQGI1q7k+0gPcvbwYhk9WIaTMWvodGMcQ+XPtGGyL7NFNu7ujmTDssWMiVIHSOrLFlP9yyc0ua8D2UgZI5ZpxYNl81CblQGdqQLpRDTwncymgJeahCks0PEZUqLviM0rs4Zk7JhDgR62ZNWNBUMGPk8TfK3pgYUn2BVD+m/m17RnaB62G4AoopHaaXQMcFS3J1Bm1KMs88pAimz6IlB1uE3+6gDEtrkJ+Xvo5X5SVeYfV5mM+j4zlYY69VMFIBqeQxWUvDqYPCU25OjmwYJYHMlnbBTpMbUmVHyHE+AE/lwEKmO0AxBZoPzeKeRq509LjhWz7+E6yt41lbwlfrT8F/bNybI/pO7dTJ8nqzM56Yy0MqadAETt0nWUutSPer90RBUYrQyW9/Z5hZJqWWaPdx8l6Zit2oX5vgECuvpT0KV3BjN/aDR9cll506ylq/HP0wNiD3rxGxaC3qb+mgPVDTSldalz9HeP2Ty0+tliV1GRS1nZhVTZ6GRrXa+rZs6yxumrzk2jE8fPUHqxMoWNQDUVcrrVeFGrjr7dOnkOZV1lbTQ6kE2FFFSRm0XZhZUqZ7HptGantvQ6ZWTmkLylz8wmYXV1bZNT1LIeKSooNyubCvUNqlXhdk4wWflZGXS9tO3UPfolsLHlZ1HG9VJVujT9ZfSfVciz6eLF68QSX7C0bXWk0OFmWG7bzLTbqqbctBN0/Ew6qdVZQxXyW026Vk6S0usZlJkjVzmH2jV19qtzKe3EcTqTXqwao1DD8oHcaq0XlTMtGkjvZN6i/Itn6dw1/RHciop8ysq4TneHuo7kOVl0ldmODh5lB+9ZZ8xNvgubr7v4FW3Zl9acaklxkZY9IqbBq7WzbhjWkw5HVZfbnocty7Z33DGOzdLutR4DTvLsi3TxegXThUCKOoWuTgzpo7aUrmdkUk7rSd7cMb7HCXACf0oCus4YG4JQQsdWjiIvlvnJiS3WSBz70rOfaRbx6lLp9b7dyC3sG/WinvaIO+BMCwWxNMFrBK1rzCVak0SL+3nSo8+/TKN6+9DU+CJtyXzfAIFW+qu9RJufUy7CKhdI7Ugs7U2h759kGVTY1qb+OuZMd5b+jJR9vteVc16PE7gfBIQrKzF40GGMTz2NN71/nzeV7sc4Gtu88+N8+E44Br/V67BwcDdc2x+JRZ+U48UfTmPlwy3ei26sxD85AU6AE+AE1ARqlXEmtbBx7Q7x7/xm151LCYi54o2XnvJtyiLRcPMc9u87i7q+Y/H0YJk6aJvr4p4J1Jddx1X2ap/U0wNS5euCv+PWWfrjzvTvqDQuqnMIqFLtvPQTAmM3YJrzn9+ZBm7h55ilWL41CVllBLG7P0IXrcIb7N1v7kp3jk3xVjgBToAT4AQ4gXslwJ3peyXH63ECnAAnwAlwApwAJ8AJ/M8T+Css6/3PK5ED4AQ4AU6AE+AEOAFOgBO4PwS4M31/uPNWOQFOgBPgBDgBToAT4AT+AgS4M/0XUCIfAifACXACnAAnwAlwApzA/SHAnen7w523yglwApwAJ8AJcAKcACfwFyDAnem/gBL5EDgBToAT4AQ4AU6AE+AE7g8B7kzfH+68VU6AE+AEOAFOgBPgBDiBvwAB7kz/BZTIh8AJcAKcACfACXACnAAncH8I/B9C/hjrXipc8QAAAABJRU5ErkJggg==']\n"
     ]
    }
   ],
   "source": [
    "print(docs)"
   ]
  },
  {
   "cell_type": "code",
   "execution_count": 72,
   "metadata": {},
   "outputs": [
    {
     "data": {
      "text/markdown": [
       " **1. What are the critical differences between various graphs for Class A Share?**\n",
       "\n",
       "The critical differences between the various graphs for Class A Share are:\n",
       "\n",
       "- The line graph shows the stock price over time, while the bar graph shows the total volume of shares traded over time.\n",
       "- The pie chart shows the percentage of shares held by different types of investors, while the table shows the financial performance of the company.\n",
       "\n",
       "**2. Which index best matches Class A share performance closely where Google is not already a part? Explain the reasoning.**\n",
       "\n",
       "The index that best matches Class A share performance closely where Google is not already a part is the S&P 500. The S&P 500 is a stock market index that tracks the 500 largest publicly traded companies in the United States. Google is a member of the S&P 500, and its performance is closely correlated with the performance of the index.\n",
       "\n",
       "**3. Identify key chart patterns for Google Class A shares.**\n",
       "\n",
       "The key chart patterns for Google Class A shares are:\n",
       "\n",
       "- An uptrend since the company's IPO in 2004\n",
       "- A series of higher highs and higher lows\n",
       "- A strong correlation with the S&P 500\n",
       "- A beta of 1.2, which means that the stock is more volatile than the S&P 500\n",
       "\n",
       "**4. What is cost of revenues, operating expenses and net income for 2020. Do mention the percentage change**\n",
       "\n",
       "The cost of revenues for 2020 was $84,732 million, the operating expenses were $43,564 million, and the net income was $40,269 million. The percentage change in cost of revenues from 2019 to 2020 was 46.4%, the percentage change in operating expenses from 2019 to 2020 was 23.6%, and the percentage change in net income from 2019 to 2020 was 16.4%.\n",
       "\n",
       "**5. What was the effect of Covid in the 2020 financial year?**\n",
       "\n",
       "The effect of Covid in the 2020 financial year was significant. The company's revenue declined by 13% year-over-year, and its net income declined by 21% year-over-year. The decline in revenue was due to a decrease in advertising spending by businesses, while the decline in net income was due to an increase in expenses related to the pandemic.\n",
       "\n",
       "**6. What are the total revenues for APAC and USA for 2021?**\n",
       "\n",
       "The total revenues for APAC and USA for 2021 were $20,462 million and $51,297 million, respectively.\n",
       "\n",
       "**7. What is deferred income taxes?**\n",
       "\n",
       "Deferred income taxes are taxes that are owed on income that has been earned but not yet received. These taxes are recorded as a liability on the balance sheet and are paid when the income is received.\n",
       "\n",
       "**8. How do you compute net income per share?**\n",
       "\n",
       "Net income per share is computed by dividing the net income by the number of shares outstanding.\n",
       "\n",
       "**9. What drove percentage change in the consolidated revenue and cost of revenue for the year 2021 and was there any effect of Covid?**\n",
       "\n",
       "The percentage change in the consolidated revenue and cost of revenue for the year 2021 was driven by a number of factors, including the growth of the company's advertising business, the launch of new products and services, and the impact of the COVID-19 pandemic. The COVID-19 pandemic had a negative impact on the company's revenue and cost of revenue in 2021, as it led to a decrease in advertising spending by businesses and an increase in the cost of doing business.\n",
       "\n",
       "**10. What is the cause of 41% increase in revenue from 2020 to 2021 and how much is dollar change?**\n",
       "\n",
       "The 41% increase in revenue from 2020 to 2021 was due to a number of factors, including the growth of the company's advertising business, the launch of new products and services, and the impact of the COVID-19 pandemic. The COVID-19 pandemic had a positive impact on the company's revenue in 2021, as it led to an increase in the demand for the company's products and services. The dollar change in revenue from 2020 to 2021 was $12,788 million."
      ],
      "text/plain": [
       "<IPython.core.display.Markdown object>"
      ]
     },
     "execution_count": 72,
     "metadata": {},
     "output_type": "execute_result"
    }
   ],
   "source": [
    "from IPython.display import Markdown\n",
    "\n",
    "Markdown(result)\n"
   ]
  },
  {
   "cell_type": "markdown",
   "metadata": {
    "id": "KwNrHCqbi3xi"
   },
   "source": [
    "## Conclusions"
   ]
  },
  {
   "cell_type": "markdown",
   "metadata": {
    "id": "05jynhZnkgxn"
   },
   "source": [
    "Congratulations on making it through this multimodal RAG notebook!\n",
    "\n",
    "While multimodal RAG can be quite powerful, note that it can face some limitations:\n",
    "\n",
    "* **Data dependency:** Needs high-quality paired text and visuals.\n",
    "* **Computationally demanding:** Processing multimodal data is resource-intensive.\n",
    "* **Domain specific:** Models trained on general data may not shine in specialized fields like medicine.\n",
    "* **Black box:** Understanding how these models work can be tricky, hindering trust and adoption.\n",
    "\n",
    "\n",
    "Despite these challenges, multimodal RAG represents a significant step towards search and retrieval systems that can handle diverse, multimodal data."
   ]
  }
 ],
 "metadata": {
  "colab": {
   "provenance": []
  },
  "environment": {
   "kernel": "python3",
   "name": "common-cpu.m116",
   "type": "gcloud",
   "uri": "gcr.io/deeplearning-platform-release/base-cpu:m116"
  },
  "kernelspec": {
   "display_name": "Python 3 (Local)",
   "language": "python",
   "name": "python3"
  },
  "language_info": {
   "codemirror_mode": {
    "name": "ipython",
    "version": 3
   },
   "file_extension": ".py",
   "mimetype": "text/x-python",
   "name": "python",
   "nbconvert_exporter": "python",
   "pygments_lexer": "ipython3",
   "version": "3.11.7"
  }
 },
 "nbformat": 4,
 "nbformat_minor": 4
}
