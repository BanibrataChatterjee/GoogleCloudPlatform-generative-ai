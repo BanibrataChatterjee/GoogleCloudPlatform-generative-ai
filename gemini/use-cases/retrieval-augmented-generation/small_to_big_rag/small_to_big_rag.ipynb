{
 "cells": [
  {
   "cell_type": "markdown",
   "metadata": {},
   "source": [
    "## Small-to-big Retrieval-Augmented Generation \n",
    "\n",
    "Keith Ballinger and Megan O'Keefe, 2024"
   ]
  },
  {
   "cell_type": "markdown",
   "metadata": {},
   "source": [
    "Small-to-big RAG is a form of recursive RAG, where small chunks are connected to larger chunks (eg. a passage of a document is connected to the full document). Initially, only small chunks are retrieved during RAG. If needed, the model can request additional context, at which point the larger context can be added.\n",
    "\n",
    "Small-to-big RAG is a way to work around the limits of dense, meaning-rich vector embeddings, where passing in too much context can result in a loss of meeting in the vector representation.  \n",
    "(Text-embedding-gecko has a text input limit of 3,072 tokens)  \n",
    "\n",
    "Small-to-big is also a good option if you are working with long or complex documents that require context exceeding the ideal chunk size. \n",
    "\n",
    "Lastly, Small-to-big can help you optimize inference costs, especially if you're paying per token (eg. Gemini API on Vertex AI) — because if a small amount of input context is enough for the model to generate an answer, you don't have to provide the whole large document as context. Said another way - you're only paying for the number of context tokens you actually need to generate an accurate response from Gemini.\n",
    "\n",
    "In this example, we'll walk through a Small-to-big RAG example using a GitHub codebase called [Online Boutique](https://github.com/GoogleCloudPlatform/microservices-demo). This is a microservices, polyglot sample application. We'll help a new Online Boutique user (or contributor) navigate this large codebase by providing a Q&A chatbot functionality, grounded on the codebase. \n"
   ]
  },
  {
   "cell_type": "markdown",
   "metadata": {},
   "source": [
    "![](architecture.png)"
   ]
  },
  {
   "cell_type": "markdown",
   "metadata": {},
   "source": [
    "Prerequisites:\n",
    "- Google Cloud account\n",
    "- Google Cloud project with billing enabled \n",
    "- Enable the Vertex AI API\n",
    "\n",
    "This notebook uses the following products and tools:\n",
    "- Vertex AI - Gemini API \n",
    "- Vertex AI - Text Embeddings API \n",
    "- Chroma (in-memory vector database)  \n",
    "\n",
    "\n"
   ]
  },
  {
   "cell_type": "markdown",
   "metadata": {},
   "source": [
    "### Setup "
   ]
  },
  {
   "cell_type": "code",
   "execution_count": 1,
   "metadata": {},
   "outputs": [],
   "source": [
    "EMBEDDING_MODEL=\"textembedding-gecko@003\"\n",
    "GENERATIVE_MODEL=\"gemini-1.0-pro\"\n",
    "PROJECT_ID=\"mokeefe-genai-test\"\n",
    "REGION=\"us-central1\""
   ]
  },
  {
   "cell_type": "code",
   "execution_count": 15,
   "metadata": {},
   "outputs": [
    {
     "name": "stdout",
     "output_type": "stream",
     "text": [
      "Requirement already satisfied: google-cloud-aiplatform>=1.38 in /opt/homebrew/lib/python3.10/site-packages (1.46.0)\n",
      "Requirement already satisfied: google-api-core!=2.0.*,!=2.1.*,!=2.2.*,!=2.3.*,!=2.4.*,!=2.5.*,!=2.6.*,!=2.7.*,<3.0.0dev,>=1.34.1 in /opt/homebrew/lib/python3.10/site-packages (from google-api-core[grpc]!=2.0.*,!=2.1.*,!=2.2.*,!=2.3.*,!=2.4.*,!=2.5.*,!=2.6.*,!=2.7.*,<3.0.0dev,>=1.34.1->google-cloud-aiplatform>=1.38) (2.12.0)\n",
      "Requirement already satisfied: google-auth<3.0.0dev,>=2.14.1 in /opt/homebrew/lib/python3.10/site-packages (from google-cloud-aiplatform>=1.38) (2.23.2)\n",
      "Requirement already satisfied: proto-plus<2.0.0dev,>=1.22.0 in /opt/homebrew/lib/python3.10/site-packages (from google-cloud-aiplatform>=1.38) (1.22.3)\n",
      "Requirement already satisfied: protobuf!=3.20.0,!=3.20.1,!=4.21.0,!=4.21.1,!=4.21.2,!=4.21.3,!=4.21.4,!=4.21.5,<5.0.0dev,>=3.19.5 in /opt/homebrew/lib/python3.10/site-packages (from google-cloud-aiplatform>=1.38) (4.24.3)\n",
      "Requirement already satisfied: packaging>=14.3 in /opt/homebrew/lib/python3.10/site-packages (from google-cloud-aiplatform>=1.38) (23.2)\n",
      "Requirement already satisfied: google-cloud-storage<3.0.0dev,>=1.32.0 in /opt/homebrew/lib/python3.10/site-packages (from google-cloud-aiplatform>=1.38) (2.11.0)\n",
      "Requirement already satisfied: google-cloud-bigquery!=3.20.0,<4.0.0dev,>=1.15.0 in /opt/homebrew/lib/python3.10/site-packages (from google-cloud-aiplatform>=1.38) (3.11.4)\n",
      "Requirement already satisfied: google-cloud-resource-manager<3.0.0dev,>=1.3.3 in /opt/homebrew/lib/python3.10/site-packages (from google-cloud-aiplatform>=1.38) (1.10.4)\n",
      "Requirement already satisfied: shapely<3.0.0dev in /opt/homebrew/lib/python3.10/site-packages (from google-cloud-aiplatform>=1.38) (1.8.5.post1)\n",
      "Requirement already satisfied: pydantic<3 in /opt/homebrew/lib/python3.10/site-packages (from google-cloud-aiplatform>=1.38) (2.6.0)\n",
      "Requirement already satisfied: docstring-parser<1 in /opt/homebrew/lib/python3.10/site-packages (from google-cloud-aiplatform>=1.38) (0.16)\n",
      "Requirement already satisfied: googleapis-common-protos<2.0.dev0,>=1.56.2 in /opt/homebrew/lib/python3.10/site-packages (from google-api-core!=2.0.*,!=2.1.*,!=2.2.*,!=2.3.*,!=2.4.*,!=2.5.*,!=2.6.*,!=2.7.*,<3.0.0dev,>=1.34.1->google-api-core[grpc]!=2.0.*,!=2.1.*,!=2.2.*,!=2.3.*,!=2.4.*,!=2.5.*,!=2.6.*,!=2.7.*,<3.0.0dev,>=1.34.1->google-cloud-aiplatform>=1.38) (1.60.0)\n",
      "Requirement already satisfied: requests<3.0.0.dev0,>=2.18.0 in /opt/homebrew/lib/python3.10/site-packages (from google-api-core!=2.0.*,!=2.1.*,!=2.2.*,!=2.3.*,!=2.4.*,!=2.5.*,!=2.6.*,!=2.7.*,<3.0.0dev,>=1.34.1->google-api-core[grpc]!=2.0.*,!=2.1.*,!=2.2.*,!=2.3.*,!=2.4.*,!=2.5.*,!=2.6.*,!=2.7.*,<3.0.0dev,>=1.34.1->google-cloud-aiplatform>=1.38) (2.31.0)\n",
      "Requirement already satisfied: grpcio<2.0dev,>=1.33.2 in /opt/homebrew/lib/python3.10/site-packages (from google-api-core[grpc]!=2.0.*,!=2.1.*,!=2.2.*,!=2.3.*,!=2.4.*,!=2.5.*,!=2.6.*,!=2.7.*,<3.0.0dev,>=1.34.1->google-cloud-aiplatform>=1.38) (1.58.0)\n",
      "Requirement already satisfied: grpcio-status<2.0.dev0,>=1.33.2 in /opt/homebrew/lib/python3.10/site-packages (from google-api-core[grpc]!=2.0.*,!=2.1.*,!=2.2.*,!=2.3.*,!=2.4.*,!=2.5.*,!=2.6.*,!=2.7.*,<3.0.0dev,>=1.34.1->google-cloud-aiplatform>=1.38) (1.58.0)\n",
      "Requirement already satisfied: cachetools<6.0,>=2.0.0 in /opt/homebrew/lib/python3.10/site-packages (from google-auth<3.0.0dev,>=2.14.1->google-cloud-aiplatform>=1.38) (5.3.1)\n",
      "Requirement already satisfied: pyasn1-modules>=0.2.1 in /opt/homebrew/lib/python3.10/site-packages (from google-auth<3.0.0dev,>=2.14.1->google-cloud-aiplatform>=1.38) (0.3.0)\n",
      "Requirement already satisfied: rsa<5,>=3.1.4 in /opt/homebrew/lib/python3.10/site-packages (from google-auth<3.0.0dev,>=2.14.1->google-cloud-aiplatform>=1.38) (4.9)\n",
      "Requirement already satisfied: google-cloud-core<3.0.0dev,>=1.6.0 in /opt/homebrew/lib/python3.10/site-packages (from google-cloud-bigquery!=3.20.0,<4.0.0dev,>=1.15.0->google-cloud-aiplatform>=1.38) (2.3.3)\n",
      "Requirement already satisfied: google-resumable-media<3.0dev,>=0.6.0 in /opt/homebrew/lib/python3.10/site-packages (from google-cloud-bigquery!=3.20.0,<4.0.0dev,>=1.15.0->google-cloud-aiplatform>=1.38) (2.6.0)\n",
      "Requirement already satisfied: python-dateutil<3.0dev,>=2.7.2 in /Users/mokeefe/Library/Python/3.10/lib/python/site-packages (from google-cloud-bigquery!=3.20.0,<4.0.0dev,>=1.15.0->google-cloud-aiplatform>=1.38) (2.8.2)\n",
      "Requirement already satisfied: grpc-google-iam-v1<1.0.0dev,>=0.12.4 in /opt/homebrew/lib/python3.10/site-packages (from google-cloud-resource-manager<3.0.0dev,>=1.3.3->google-cloud-aiplatform>=1.38) (0.12.6)\n",
      "Requirement already satisfied: annotated-types>=0.4.0 in /opt/homebrew/lib/python3.10/site-packages (from pydantic<3->google-cloud-aiplatform>=1.38) (0.6.0)\n",
      "Requirement already satisfied: pydantic-core==2.16.1 in /opt/homebrew/lib/python3.10/site-packages (from pydantic<3->google-cloud-aiplatform>=1.38) (2.16.1)\n",
      "Requirement already satisfied: typing-extensions>=4.6.1 in /opt/homebrew/lib/python3.10/site-packages (from pydantic<3->google-cloud-aiplatform>=1.38) (4.9.0)\n",
      "Requirement already satisfied: google-crc32c<2.0dev,>=1.0 in /opt/homebrew/lib/python3.10/site-packages (from google-resumable-media<3.0dev,>=0.6.0->google-cloud-bigquery!=3.20.0,<4.0.0dev,>=1.15.0->google-cloud-aiplatform>=1.38) (1.5.0)\n",
      "Requirement already satisfied: pyasn1<0.6.0,>=0.4.6 in /opt/homebrew/lib/python3.10/site-packages (from pyasn1-modules>=0.2.1->google-auth<3.0.0dev,>=2.14.1->google-cloud-aiplatform>=1.38) (0.5.0)\n",
      "Requirement already satisfied: six>=1.5 in /Users/mokeefe/Library/Python/3.10/lib/python/site-packages (from python-dateutil<3.0dev,>=2.7.2->google-cloud-bigquery!=3.20.0,<4.0.0dev,>=1.15.0->google-cloud-aiplatform>=1.38) (1.16.0)\n",
      "Requirement already satisfied: charset-normalizer<4,>=2 in /opt/homebrew/lib/python3.10/site-packages (from requests<3.0.0.dev0,>=2.18.0->google-api-core!=2.0.*,!=2.1.*,!=2.2.*,!=2.3.*,!=2.4.*,!=2.5.*,!=2.6.*,!=2.7.*,<3.0.0dev,>=1.34.1->google-api-core[grpc]!=2.0.*,!=2.1.*,!=2.2.*,!=2.3.*,!=2.4.*,!=2.5.*,!=2.6.*,!=2.7.*,<3.0.0dev,>=1.34.1->google-cloud-aiplatform>=1.38) (2.1.1)\n",
      "Requirement already satisfied: idna<4,>=2.5 in /opt/homebrew/lib/python3.10/site-packages (from requests<3.0.0.dev0,>=2.18.0->google-api-core!=2.0.*,!=2.1.*,!=2.2.*,!=2.3.*,!=2.4.*,!=2.5.*,!=2.6.*,!=2.7.*,<3.0.0dev,>=1.34.1->google-api-core[grpc]!=2.0.*,!=2.1.*,!=2.2.*,!=2.3.*,!=2.4.*,!=2.5.*,!=2.6.*,!=2.7.*,<3.0.0dev,>=1.34.1->google-cloud-aiplatform>=1.38) (3.4)\n",
      "Requirement already satisfied: urllib3<3,>=1.21.1 in /opt/homebrew/lib/python3.10/site-packages (from requests<3.0.0.dev0,>=2.18.0->google-api-core!=2.0.*,!=2.1.*,!=2.2.*,!=2.3.*,!=2.4.*,!=2.5.*,!=2.6.*,!=2.7.*,<3.0.0dev,>=1.34.1->google-api-core[grpc]!=2.0.*,!=2.1.*,!=2.2.*,!=2.3.*,!=2.4.*,!=2.5.*,!=2.6.*,!=2.7.*,<3.0.0dev,>=1.34.1->google-cloud-aiplatform>=1.38) (1.26.13)\n",
      "Requirement already satisfied: certifi>=2017.4.17 in /opt/homebrew/lib/python3.10/site-packages (from requests<3.0.0.dev0,>=2.18.0->google-api-core!=2.0.*,!=2.1.*,!=2.2.*,!=2.3.*,!=2.4.*,!=2.5.*,!=2.6.*,!=2.7.*,<3.0.0dev,>=1.34.1->google-api-core[grpc]!=2.0.*,!=2.1.*,!=2.2.*,!=2.3.*,!=2.4.*,!=2.5.*,!=2.6.*,!=2.7.*,<3.0.0dev,>=1.34.1->google-cloud-aiplatform>=1.38) (2022.12.7)\n",
      "\n",
      "\u001b[1m[\u001b[0m\u001b[34;49mnotice\u001b[0m\u001b[1;39;49m]\u001b[0m\u001b[39;49m A new release of pip is available: \u001b[0m\u001b[31;49m23.3.1\u001b[0m\u001b[39;49m -> \u001b[0m\u001b[32;49m24.0\u001b[0m\n",
      "\u001b[1m[\u001b[0m\u001b[34;49mnotice\u001b[0m\u001b[1;39;49m]\u001b[0m\u001b[39;49m To update, run: \u001b[0m\u001b[32;49mpython3.10 -m pip install --upgrade pip\u001b[0m\n"
     ]
    }
   ],
   "source": [
    "! pip install \"google-cloud-aiplatform>=1.38\""
   ]
  },
  {
   "cell_type": "code",
   "execution_count": 16,
   "metadata": {},
   "outputs": [],
   "source": [
    "from google.cloud import aiplatform\n",
    "import vertexai\n",
    "from vertexai.language_models import TextEmbeddingModel\n",
    "from vertexai.generative_models import GenerativeModel, ChatSession\n",
    "import os \n"
   ]
  },
  {
   "cell_type": "markdown",
   "metadata": {},
   "source": [
    "### Create helper functions\n",
    "\n",
    "We'll create one function that calls Vertex AI text-embeddings-gecko, and another that inferences Gemini Pro on Vertex AI."
   ]
  },
  {
   "cell_type": "code",
   "execution_count": 17,
   "metadata": {},
   "outputs": [],
   "source": [
    "def get_text_embedding(doc) -> list:\n",
    "    model = TextEmbeddingModel.from_pretrained(EMBEDDING_MODEL)\n",
    "    embeddings = model.get_embeddings([doc])\n",
    "    if len(embeddings) > 1:\n",
    "        raise ValueError(\"More than one embedding returned.\")\n",
    "    if len(embeddings) == 0:\n",
    "        raise ValueError(\"No embedding returned.\")\n",
    "    return embeddings[0].values"
   ]
  },
  {
   "cell_type": "code",
   "execution_count": 20,
   "metadata": {},
   "outputs": [],
   "source": [
    "vertexai.init(project=PROJECT_ID, location=REGION)\n",
    "model = GenerativeModel(GENERATIVE_MODEL)\n",
    "chat = model.start_chat()"
   ]
  },
  {
   "cell_type": "code",
   "execution_count": 25,
   "metadata": {},
   "outputs": [],
   "source": [
    "def gemini_inference(chat: ChatSession, prompt: str) -> str:\n",
    "    text_response = model.generate_content(prompt)\n",
    "    return text_response.text"
   ]
  },
  {
   "cell_type": "code",
   "execution_count": 26,
   "metadata": {},
   "outputs": [
    {
     "data": {
      "text/plain": [
       "'Bonjour le monde!'"
      ]
     },
     "execution_count": 26,
     "metadata": {},
     "output_type": "execute_result"
    }
   ],
   "source": [
    "gemini_inference(chat, \"hello world!\")"
   ]
  },
  {
   "cell_type": "markdown",
   "metadata": {},
   "source": [
    "### Get summaries of code files \n",
    "\n",
    "First, we'll use Gemini on Vertex AI to get short summaries of each code file.  We'll do this by recursively traversing the files in `onlineboutique-codefiles`. "
   ]
  },
  {
   "cell_type": "code",
   "execution_count": 27,
   "metadata": {},
   "outputs": [
    {
     "name": "stdout",
     "output_type": "stream",
     "text": [
      "Processing file:  onlineboutique-codefiles/.DS_Store\n",
      "⚠️ Error processing file: onlineboutique-codefiles/.DS_Store - 'utf-8' codec can't decode byte 0xff in position 578: invalid start byte\n",
      "Processing file:  onlineboutique-codefiles/LICENSE\n",
      "Processing file:  onlineboutique-codefiles/cloudbuild.yaml\n",
      "Processing file:  onlineboutique-codefiles/README.md\n",
      "Processing file:  onlineboutique-codefiles/skaffold.yaml\n",
      "Processing file:  onlineboutique-codefiles/terraform/output.tf\n",
      "Processing file:  onlineboutique-codefiles/terraform/main.tf\n",
      "Processing file:  onlineboutique-codefiles/terraform/terraform.tfvars\n",
      "Processing file:  onlineboutique-codefiles/terraform/providers.tf\n",
      "Processing file:  onlineboutique-codefiles/terraform/README.md\n",
      "Processing file:  onlineboutique-codefiles/terraform/memorystore.tf\n",
      "Processing file:  onlineboutique-codefiles/terraform/variables.tf\n",
      "Processing file:  onlineboutique-codefiles/protos/demo.proto\n",
      "Processing file:  onlineboutique-codefiles/protos/grpc/health/v1/health.proto\n",
      "Processing file:  onlineboutique-codefiles/release/kubernetes-manifests.yaml\n",
      "Processing file:  onlineboutique-codefiles/src/adservice/Dockerfile\n",
      "Processing file:  onlineboutique-codefiles/src/adservice/README.md\n",
      "Processing file:  onlineboutique-codefiles/src/adservice/.gitignore\n",
      "Processing file:  onlineboutique-codefiles/src/adservice/src/main/proto/demo.proto\n",
      "Processing file:  onlineboutique-codefiles/src/adservice/src/main/resources/log4j2.xml\n",
      "Processing file:  onlineboutique-codefiles/src/adservice/src/main/java/hipstershop/AdServiceClient.java\n",
      "Processing file:  onlineboutique-codefiles/src/adservice/src/main/java/hipstershop/AdService.java\n",
      "Processing file:  onlineboutique-codefiles/src/cartservice/cartservice.sln\n",
      "Processing file:  onlineboutique-codefiles/src/cartservice/.gitignore\n",
      "Processing file:  onlineboutique-codefiles/src/cartservice/tests/CartServiceTests.cs\n",
      "Processing file:  onlineboutique-codefiles/src/cartservice/tests/cartservice.tests.csproj\n",
      "Processing file:  onlineboutique-codefiles/src/cartservice/tests/.gitignore\n",
      "Processing file:  onlineboutique-codefiles/src/cartservice/src/cartservice.csproj\n",
      "Processing file:  onlineboutique-codefiles/src/cartservice/src/Dockerfile\n",
      "Processing file:  onlineboutique-codefiles/src/cartservice/src/Startup.cs\n",
      "Processing file:  onlineboutique-codefiles/src/cartservice/src/appsettings.json\n",
      "Processing file:  onlineboutique-codefiles/src/cartservice/src/.dockerignore\n",
      "Processing file:  onlineboutique-codefiles/src/cartservice/src/Dockerfile.debug\n",
      "Processing file:  onlineboutique-codefiles/src/cartservice/src/Program.cs\n",
      "Processing file:  onlineboutique-codefiles/src/cartservice/src/protos/Cart.proto\n",
      "Processing file:  onlineboutique-codefiles/src/cartservice/src/cartstore/ICartStore.cs\n",
      "Processing file:  onlineboutique-codefiles/src/cartservice/src/cartstore/SpannerCartStore.cs\n",
      "Processing file:  onlineboutique-codefiles/src/cartservice/src/cartstore/AlloyDBCartStore.cs\n",
      "Processing file:  onlineboutique-codefiles/src/cartservice/src/cartstore/RedisCartStore.cs\n",
      "Processing file:  onlineboutique-codefiles/src/cartservice/src/services/HealthCheckService.cs\n",
      "Processing file:  onlineboutique-codefiles/src/cartservice/src/services/CartService.cs\n",
      "Processing file:  onlineboutique-codefiles/src/productcatalogservice/go.mod\n",
      "Processing file:  onlineboutique-codefiles/src/productcatalogservice/server.go\n",
      "Processing file:  onlineboutique-codefiles/src/productcatalogservice/Dockerfile\n",
      "Processing file:  onlineboutique-codefiles/src/productcatalogservice/go.sum\n",
      "Processing file:  onlineboutique-codefiles/src/productcatalogservice/product_catalog_test.go\n",
      "Processing file:  onlineboutique-codefiles/src/productcatalogservice/README.md\n",
      "Processing file:  onlineboutique-codefiles/src/productcatalogservice/.dockerignore\n",
      "Processing file:  onlineboutique-codefiles/src/productcatalogservice/genproto.sh\n",
      "Processing file:  onlineboutique-codefiles/src/productcatalogservice/products.json\n",
      "Processing file:  onlineboutique-codefiles/src/productcatalogservice/product_catalog.go\n",
      "Processing file:  onlineboutique-codefiles/src/paymentservice/charge.js\n",
      "Processing file:  onlineboutique-codefiles/src/paymentservice/logger.js\n",
      "Processing file:  onlineboutique-codefiles/src/paymentservice/server.js\n",
      "Processing file:  onlineboutique-codefiles/src/paymentservice/Dockerfile\n",
      "Processing file:  onlineboutique-codefiles/src/paymentservice/index.js\n",
      "Processing file:  onlineboutique-codefiles/src/paymentservice/.dockerignore\n",
      "Processing file:  onlineboutique-codefiles/src/paymentservice/.gitignore\n",
      "Processing file:  onlineboutique-codefiles/src/paymentservice/package-lock.json\n",
      "⚠️ Error processing file: onlineboutique-codefiles/src/paymentservice/package-lock.json - 400 Input request contains (115215) tokens, which is more than the max tokens limit allowed: (32760)\n",
      "Processing file:  onlineboutique-codefiles/src/paymentservice/package.json\n",
      "Processing file:  onlineboutique-codefiles/src/paymentservice/genproto.sh\n",
      "Processing file:  onlineboutique-codefiles/src/paymentservice/proto/demo.proto\n",
      "Processing file:  onlineboutique-codefiles/src/paymentservice/proto/grpc/health/v1/health.proto\n",
      "Processing file:  onlineboutique-codefiles/src/checkoutservice/go.mod\n",
      "Processing file:  onlineboutique-codefiles/src/checkoutservice/Dockerfile\n",
      "Processing file:  onlineboutique-codefiles/src/checkoutservice/go.sum\n",
      "Processing file:  onlineboutique-codefiles/src/checkoutservice/README.md\n",
      "Processing file:  onlineboutique-codefiles/src/checkoutservice/.dockerignore\n",
      "Processing file:  onlineboutique-codefiles/src/checkoutservice/genproto.sh\n",
      "Processing file:  onlineboutique-codefiles/src/checkoutservice/main.go\n",
      "Processing file:  onlineboutique-codefiles/src/checkoutservice/genproto/demo.pb.go\n",
      "⚠️ Error processing file: onlineboutique-codefiles/src/checkoutservice/genproto/demo.pb.go - 400 Input request contains (32782) tokens, which is more than the max tokens limit allowed: (32760)\n",
      "Processing file:  onlineboutique-codefiles/src/checkoutservice/money/money.go\n",
      "Processing file:  onlineboutique-codefiles/src/checkoutservice/money/money_test.go\n",
      "Processing file:  onlineboutique-codefiles/src/emailservice/requirements.txt\n",
      "Processing file:  onlineboutique-codefiles/src/emailservice/Dockerfile\n",
      "Processing file:  onlineboutique-codefiles/src/emailservice/demo_pb2_grpc.py\n",
      "Processing file:  onlineboutique-codefiles/src/emailservice/logger.py\n",
      "Processing file:  onlineboutique-codefiles/src/emailservice/email_client.py\n",
      "Processing file:  onlineboutique-codefiles/src/emailservice/genproto.sh\n",
      "Processing file:  onlineboutique-codefiles/src/emailservice/email_server.py\n",
      "Processing file:  onlineboutique-codefiles/src/emailservice/demo_pb2.py\n",
      "Processing file:  onlineboutique-codefiles/src/emailservice/requirements.in\n",
      "Processing file:  onlineboutique-codefiles/src/emailservice/templates/confirmation.html\n",
      "Processing file:  onlineboutique-codefiles/src/currencyservice/client.js\n",
      "Processing file:  onlineboutique-codefiles/src/currencyservice/server.js\n",
      "Processing file:  onlineboutique-codefiles/src/currencyservice/Dockerfile\n",
      "Processing file:  onlineboutique-codefiles/src/currencyservice/.dockerignore\n",
      "Processing file:  onlineboutique-codefiles/src/currencyservice/.gitignore\n",
      "Processing file:  onlineboutique-codefiles/src/currencyservice/package-lock.json\n",
      "⚠️ Error processing file: onlineboutique-codefiles/src/currencyservice/package-lock.json - 400 Input request contains (68321) tokens, which is more than the max tokens limit allowed: (32760)\n",
      "Processing file:  onlineboutique-codefiles/src/currencyservice/package.json\n",
      "Processing file:  onlineboutique-codefiles/src/currencyservice/genproto.sh\n",
      "Processing file:  onlineboutique-codefiles/src/currencyservice/proto/demo.proto\n",
      "Processing file:  onlineboutique-codefiles/src/currencyservice/proto/grpc/health/v1/health.proto\n",
      "Processing file:  onlineboutique-codefiles/src/currencyservice/data/currency_conversion.json\n",
      "Processing file:  onlineboutique-codefiles/src/shippingservice/shippingservice_test.go\n",
      "Processing file:  onlineboutique-codefiles/src/shippingservice/go.mod\n",
      "Processing file:  onlineboutique-codefiles/src/shippingservice/Dockerfile\n",
      "Processing file:  onlineboutique-codefiles/src/shippingservice/go.sum\n",
      "Processing file:  onlineboutique-codefiles/src/shippingservice/quote.go\n",
      "Processing file:  onlineboutique-codefiles/src/shippingservice/README.md\n",
      "Processing file:  onlineboutique-codefiles/src/shippingservice/tracker.go\n",
      "Processing file:  onlineboutique-codefiles/src/shippingservice/.dockerignore\n",
      "Processing file:  onlineboutique-codefiles/src/shippingservice/genproto.sh\n",
      "Processing file:  onlineboutique-codefiles/src/shippingservice/main.go\n",
      "⚠️ Error processing file: onlineboutique-codefiles/src/shippingservice/main.go - 503 502:Bad Gateway\n",
      "Processing file:  onlineboutique-codefiles/src/recommendationservice/requirements.txt\n",
      "Processing file:  onlineboutique-codefiles/src/recommendationservice/Dockerfile\n",
      "Processing file:  onlineboutique-codefiles/src/recommendationservice/client.py\n",
      "Processing file:  onlineboutique-codefiles/src/recommendationservice/demo_pb2_grpc.py\n",
      "Processing file:  onlineboutique-codefiles/src/recommendationservice/logger.py\n",
      "Processing file:  onlineboutique-codefiles/src/recommendationservice/.gitignore\n",
      "Processing file:  onlineboutique-codefiles/src/recommendationservice/genproto.sh\n",
      "Processing file:  onlineboutique-codefiles/src/recommendationservice/demo_pb2.py\n",
      "Processing file:  onlineboutique-codefiles/src/recommendationservice/recommendation_server.py\n",
      "Processing file:  onlineboutique-codefiles/src/recommendationservice/requirements.in\n"
     ]
    }
   ],
   "source": [
    "# for every file in onlineboutique-codefiles/, read it in, and get the full tree filename, and a code summary \n",
    "summaries = {} \n",
    "for root, dirs, files in os.walk(\"onlineboutique-codefiles/\"):\n",
    "    for file in files:\n",
    "        temp = {}\n",
    "        full_file_path = os.path.join(root, file)\n",
    "        with open(full_file_path, \"r\") as f:\n",
    "            print(\"Processing file: \", full_file_path)\n",
    "            try:\n",
    "                content = f.read()     \n",
    "                temp[\"content\"] = content \n",
    "                prompt = \"\"\" \n",
    "                You are a helpful code summarizer. Here is a source code file. Please identify the programming language and summarize it in three sentences or less. Give as much detail as possible, including function names and libraries used. Code: \n",
    "                {}\n",
    "                \"\"\".format(content)\n",
    "                summary = gemini_inference(chat, prompt)\n",
    "                temp[\"summary\"] = summary\n",
    "                summaries[full_file_path] = temp\n",
    "            except Exception as e:\n",
    "                print(\"⚠️ Error processing file: {} - {}\".format(full_file_path, e))"
   ]
  },
  {
   "cell_type": "code",
   "execution_count": 28,
   "metadata": {},
   "outputs": [],
   "source": [
    "import pandas as pd\n",
    "df =  pd.DataFrame.from_dict(summaries, orient='index')"
   ]
  },
  {
   "cell_type": "code",
   "execution_count": 29,
   "metadata": {},
   "outputs": [
    {
     "data": {
      "text/html": [
       "<div>\n",
       "<style scoped>\n",
       "    .dataframe tbody tr th:only-of-type {\n",
       "        vertical-align: middle;\n",
       "    }\n",
       "\n",
       "    .dataframe tbody tr th {\n",
       "        vertical-align: top;\n",
       "    }\n",
       "\n",
       "    .dataframe thead th {\n",
       "        text-align: right;\n",
       "    }\n",
       "</style>\n",
       "<table border=\"1\" class=\"dataframe\">\n",
       "  <thead>\n",
       "    <tr style=\"text-align: right;\">\n",
       "      <th></th>\n",
       "      <th>content</th>\n",
       "      <th>summary</th>\n",
       "    </tr>\n",
       "  </thead>\n",
       "  <tbody>\n",
       "    <tr>\n",
       "      <th>onlineboutique-codefiles/LICENSE</th>\n",
       "      <td>\\n                                 Apache Lice...</td>\n",
       "      <td>This is a text file describing the Apache Lice...</td>\n",
       "    </tr>\n",
       "    <tr>\n",
       "      <th>onlineboutique-codefiles/cloudbuild.yaml</th>\n",
       "      <td># Copyright 2020 Google LLC\\n#\\n# Licensed und...</td>\n",
       "      <td>This configuration file uses Google Cloud Buil...</td>\n",
       "    </tr>\n",
       "    <tr>\n",
       "      <th>onlineboutique-codefiles/README.md</th>\n",
       "      <td>&lt;p align=\"center\"&gt;\\n&lt;img src=\"/src/frontend/st...</td>\n",
       "      <td>Online Boutique is a web-based microservices d...</td>\n",
       "    </tr>\n",
       "    <tr>\n",
       "      <th>onlineboutique-codefiles/skaffold.yaml</th>\n",
       "      <td># Copyright 2021 Google LLC\\n#\\n# Licensed und...</td>\n",
       "      <td>This Skaffold configuration file defines build...</td>\n",
       "    </tr>\n",
       "    <tr>\n",
       "      <th>onlineboutique-codefiles/terraform/output.tf</th>\n",
       "      <td># Copyright 2022 Google LLC\\n#\\n# Licensed und...</td>\n",
       "      <td>This Terraform configuration outputs data from...</td>\n",
       "    </tr>\n",
       "  </tbody>\n",
       "</table>\n",
       "</div>"
      ],
      "text/plain": [
       "                                                                                        content  \\\n",
       "onlineboutique-codefiles/LICENSE              \\n                                 Apache Lice...   \n",
       "onlineboutique-codefiles/cloudbuild.yaml      # Copyright 2020 Google LLC\\n#\\n# Licensed und...   \n",
       "onlineboutique-codefiles/README.md            <p align=\"center\">\\n<img src=\"/src/frontend/st...   \n",
       "onlineboutique-codefiles/skaffold.yaml        # Copyright 2021 Google LLC\\n#\\n# Licensed und...   \n",
       "onlineboutique-codefiles/terraform/output.tf  # Copyright 2022 Google LLC\\n#\\n# Licensed und...   \n",
       "\n",
       "                                                                                        summary  \n",
       "onlineboutique-codefiles/LICENSE              This is a text file describing the Apache Lice...  \n",
       "onlineboutique-codefiles/cloudbuild.yaml      This configuration file uses Google Cloud Buil...  \n",
       "onlineboutique-codefiles/README.md            Online Boutique is a web-based microservices d...  \n",
       "onlineboutique-codefiles/skaffold.yaml        This Skaffold configuration file defines build...  \n",
       "onlineboutique-codefiles/terraform/output.tf  This Terraform configuration outputs data from...  "
      ]
     },
     "execution_count": 29,
     "metadata": {},
     "output_type": "execute_result"
    }
   ],
   "source": [
    "df.head()"
   ]
  },
  {
   "cell_type": "code",
   "execution_count": 31,
   "metadata": {},
   "outputs": [
    {
     "name": "stdout",
     "output_type": "stream",
     "text": [
      "Number of rows:  109\n"
     ]
    }
   ],
   "source": [
    "# number of file summaries \n",
    "print(\"Number of rows: \", df.shape[0])"
   ]
  },
  {
   "cell_type": "code",
   "execution_count": 32,
   "metadata": {},
   "outputs": [
    {
     "data": {
      "text/html": [
       "<div>\n",
       "<style scoped>\n",
       "    .dataframe tbody tr th:only-of-type {\n",
       "        vertical-align: middle;\n",
       "    }\n",
       "\n",
       "    .dataframe tbody tr th {\n",
       "        vertical-align: top;\n",
       "    }\n",
       "\n",
       "    .dataframe thead th {\n",
       "        text-align: right;\n",
       "    }\n",
       "</style>\n",
       "<table border=\"1\" class=\"dataframe\">\n",
       "  <thead>\n",
       "    <tr style=\"text-align: right;\">\n",
       "      <th></th>\n",
       "      <th>filename</th>\n",
       "      <th>content</th>\n",
       "      <th>summary</th>\n",
       "    </tr>\n",
       "  </thead>\n",
       "  <tbody>\n",
       "    <tr>\n",
       "      <th>0</th>\n",
       "      <td>onlineboutique-codefiles/LICENSE</td>\n",
       "      <td>\\n                                 Apache Lice...</td>\n",
       "      <td>This is a text file describing the Apache Lice...</td>\n",
       "    </tr>\n",
       "    <tr>\n",
       "      <th>1</th>\n",
       "      <td>onlineboutique-codefiles/cloudbuild.yaml</td>\n",
       "      <td># Copyright 2020 Google LLC\\n#\\n# Licensed und...</td>\n",
       "      <td>This configuration file uses Google Cloud Buil...</td>\n",
       "    </tr>\n",
       "    <tr>\n",
       "      <th>2</th>\n",
       "      <td>onlineboutique-codefiles/README.md</td>\n",
       "      <td>&lt;p align=\"center\"&gt;\\n&lt;img src=\"/src/frontend/st...</td>\n",
       "      <td>Online Boutique is a web-based microservices d...</td>\n",
       "    </tr>\n",
       "    <tr>\n",
       "      <th>3</th>\n",
       "      <td>onlineboutique-codefiles/skaffold.yaml</td>\n",
       "      <td># Copyright 2021 Google LLC\\n#\\n# Licensed und...</td>\n",
       "      <td>This Skaffold configuration file defines build...</td>\n",
       "    </tr>\n",
       "    <tr>\n",
       "      <th>4</th>\n",
       "      <td>onlineboutique-codefiles/terraform/output.tf</td>\n",
       "      <td># Copyright 2022 Google LLC\\n#\\n# Licensed und...</td>\n",
       "      <td>This Terraform configuration outputs data from...</td>\n",
       "    </tr>\n",
       "  </tbody>\n",
       "</table>\n",
       "</div>"
      ],
      "text/plain": [
       "                                       filename  \\\n",
       "0              onlineboutique-codefiles/LICENSE   \n",
       "1      onlineboutique-codefiles/cloudbuild.yaml   \n",
       "2            onlineboutique-codefiles/README.md   \n",
       "3        onlineboutique-codefiles/skaffold.yaml   \n",
       "4  onlineboutique-codefiles/terraform/output.tf   \n",
       "\n",
       "                                             content  \\\n",
       "0  \\n                                 Apache Lice...   \n",
       "1  # Copyright 2020 Google LLC\\n#\\n# Licensed und...   \n",
       "2  <p align=\"center\">\\n<img src=\"/src/frontend/st...   \n",
       "3  # Copyright 2021 Google LLC\\n#\\n# Licensed und...   \n",
       "4  # Copyright 2022 Google LLC\\n#\\n# Licensed und...   \n",
       "\n",
       "                                             summary  \n",
       "0  This is a text file describing the Apache Lice...  \n",
       "1  This configuration file uses Google Cloud Buil...  \n",
       "2  Online Boutique is a web-based microservices d...  \n",
       "3  This Skaffold configuration file defines build...  \n",
       "4  This Terraform configuration outputs data from...  "
      ]
     },
     "execution_count": 32,
     "metadata": {},
     "output_type": "execute_result"
    }
   ],
   "source": [
    "# the first column should be named \"filename\"\n",
    "df = df.reset_index()\n",
    "df = df.rename(columns = {'index':'filename'})\n",
    "df.head()"
   ]
  },
  {
   "cell_type": "code",
   "execution_count": 39,
   "metadata": {},
   "outputs": [
    {
     "name": "stdout",
     "output_type": "stream",
     "text": [
      "Filename:  onlineboutique-codefiles/src/currencyservice/proto/demo.proto\n",
      "Summary:  This Go code defines a gRPC service for a product catalog. It includes methods for listing products, getting a specific product, searching products, and health checks. The service uses the gRPC health API for health checks and the `github.com/GoogleCloudPlatform/microservices-demo/src/productcatalogservice/genproto` library for the gRPC service definition.\n",
      "\n",
      "\n",
      "Filename:  onlineboutique-codefiles/src/productcatalogservice/server.go\n",
      "Summary:  This code is written in Dockerfile and defines multi-stage Docker image builds. It creates a Go application and packages it into a container. Key functions include `go mod download`, `go build`, and `COPY`. The image uses the `golang:1.22.1-alpine` and `alpine:3.19.1` base images and exposes port 3550.\n",
      "\n",
      "\n",
      "Filename:  onlineboutique-codefiles/src/productcatalogservice/genproto.sh\n",
      "Summary:  This JavaScript code defines a function called `charge` that validates and processes credit card payments. It uses the `simple-card-validator` library to validate card numbers and the `pino` library for logging. It throws specific error types for invalid, unaccepted, and expired credit cards. The function returns a transaction ID as a UUID.\n",
      "\n",
      "\n",
      "Filename:  onlineboutique-codefiles/src/productcatalogservice/README.md\n",
      "Summary:  The provided code is a directory named \"vendor\" and does not contain any code to summarize. Please provide the actual code file for analysis.\n",
      "\n",
      "\n",
      "Filename:  onlineboutique-codefiles/src/recommendationservice/genproto.sh\n",
      "Summary:  This is a Go project. It uses the `dep` package manager to restore dependencies to the `vendor/` directory. The `dep ensure` command is used to ensure that the dependencies are up to date.\n",
      "\n",
      "\n",
      "Filename:  onlineboutique-codefiles/src/paymentservice/charge.js\n",
      "Summary:  This code is written in JavaScript and is a gRPC server. It uses the pino logging library, gRPC OTel Instrumentation, and the @opentelemetry/sdk-trace-node library. This server handles three functions: getSupportedCurrencies, convert, and check. The getSupportedCurrencies function lists the supported currencies, the convert function converts between currencies, and the check function serves as a health check endpoint.\n",
      "\n",
      "\n",
      "Filename:  onlineboutique-codefiles/src/paymentservice/.gitignore\n",
      "Summary:  This Go code is part of a microservice demonstration project. It uses the Cloud Profiler library for profiling, gRPC and gRPC-gateway for communication, OpenTelemetry for tracing and metrics, and Logrus for logging. The code includes functions such as `createShipment` and `getShipmentStatus` for managing checkouts.\n",
      "\n",
      "\n",
      "Filename:  onlineboutique-codefiles/src/recommendationservice/recommendation_server.py\n",
      "Summary:  This code is written in C# and implements a gRPC service using the `Grpc.Core` library.\n",
      "The service, defined by the `CartService` class, manages user carts in a shopping application.\n",
      "It offers methods to add items to a cart, retrieve a cart, and empty a cart.\n",
      "\n",
      "\n",
      "Filename:  onlineboutique-codefiles/src/cartservice/src/protos/Cart.proto\n",
      "Summary:  This JavaScript code defines a function called `charge` that validates and processes credit card payments. It uses the `simple-card-validator` library to validate card numbers and the `pino` library for logging. It throws specific error types for invalid, unaccepted, and expired credit cards. The function returns a transaction ID as a UUID.\n",
      "\n",
      "\n",
      "Filename:  onlineboutique-codefiles/src/cartservice/src/cartstore/AlloyDBCartStore.cs\n",
      "Summary:  This code is written in Java and uses the Gradle build tool to compile and package the application. The code includes a simple service called \"AdService\" that provides advertisements based on context keys. The service can be built locally using the `./gradlew installDist` command or by building a Docker image using the `docker build ./` command from the `src/adservice/` directory.\n",
      "\n",
      "\n"
     ]
    }
   ],
   "source": [
    "# print a random list of 10 summaries\n",
    "import random\n",
    "for i in range(10):\n",
    "    print(\"Filename: \", df.iloc[random.randint(0, df.shape[0])][\"filename\"])\n",
    "    print(\"Summary: \", df.iloc[random.randint(0, df.shape[0])][\"summary\"])\n",
    "    print(\"\\n\")"
   ]
  },
  {
   "cell_type": "code",
   "execution_count": 33,
   "metadata": {},
   "outputs": [],
   "source": [
    "# write to csv\n",
    "df.to_csv(\"code_summaries.csv\", index=False)"
   ]
  },
  {
   "cell_type": "markdown",
   "metadata": {},
   "source": [
    "### Convert summaries to embeddings"
   ]
  },
  {
   "cell_type": "code",
   "execution_count": null,
   "metadata": {},
   "outputs": [],
   "source": [
    "! pip install chromadb\n",
    "\n"
   ]
  },
  {
   "cell_type": "code",
   "execution_count": 35,
   "metadata": {},
   "outputs": [],
   "source": [
    "import chromadb\n",
    "chroma_client = chromadb.Client()"
   ]
  },
  {
   "cell_type": "code",
   "execution_count": 37,
   "metadata": {},
   "outputs": [],
   "source": [
    "collection = chroma_client.create_collection(name=\"code_summaries\")\n",
    "\n"
   ]
  },
  {
   "cell_type": "code",
   "execution_count": null,
   "metadata": {},
   "outputs": [],
   "source": [
    "\n",
    "# iterate over dataframe. convert summary into embeddings. insert summary into collection. \n",
    "for index, row in df.iterrows():\n",
    "    fn = row[\"filename\"]\n",
    "    print(\"Getting embedding for: \", fn)\n",
    "    summ = row[\"summary\"] \n",
    "    print(summ)\n",
    "    e = get_text_embedding(summ) \n",
    "    print(e)\n",
    "    # add vector embedding to in-memory Chroma database. \n",
    "    # the \"small\" summary embedding is linked to the \"big\" raw code file through the metadata key, \"filename.\" \n",
    "    collection.add(\n",
    "        embeddings=[e],\n",
    "        documents=[summ],\n",
    "        metadatas=[{\"filename\": fn}],\n",
    "        ids=[fn])\n",
    "    "
   ]
  },
  {
   "cell_type": "markdown",
   "metadata": {},
   "source": [
    "### Complete the Small-to-big RAG workflow "
   ]
  },
  {
   "cell_type": "code",
   "execution_count": null,
   "metadata": {},
   "outputs": [],
   "source": [
    "all_files = []\n",
    "for root, dirs, files in os.walk(\"onlineboutique-codefiles/\"):\n",
    "    for file in files:\n",
    "        all_files.append(os.path.join(root, file))\n",
    "print(all_files)"
   ]
  },
  {
   "cell_type": "code",
   "execution_count": 57,
   "metadata": {},
   "outputs": [],
   "source": [
    "def small_to_big(user_prompt):\n",
    "    # SMALL: first, run RAG with the summary embeddings to try to get a response\n",
    "    query_emb = get_text_embedding(user_prompt)\n",
    "    result = collection.query(\n",
    "        query_embeddings=[query_emb], \n",
    "        n_results=3\n",
    "    )\n",
    "    # process nearest-neighbors \n",
    "    processed_result = {}\n",
    "    d = result[\"documents\"][0]\n",
    "    for i in range(0, len(d)):\n",
    "        summary = d[i]\n",
    "        filename = result[\"metadatas\"][0][i][\"filename\"]\n",
    "        processed_result[filename] = summary\n",
    "    prompt_with_small = \"\"\"\n",
    "    You are a codebase helper. You will be given a user's question about the codebase, along with \n",
    "    summaries of relevant code files. Attempt to answer the question and only respond if you're confident in the answer. \n",
    "    If you need any more information, respond with ONLY the phrase \"need more context\". \n",
    "\n",
    "    The user query is: {} \n",
    "\n",
    "    The summaries are: {}\n",
    "    \"\"\".format(user_prompt, str(processed_result))\n",
    "    print(prompt_with_small)\n",
    "    small_result = gemini_inference(chat, prompt_with_small) \n",
    "    # we're done if Gemini is confident with just the summaries as context... \n",
    "    if \"need more context\" not in small_result.lower():\n",
    "        return \"🐝 Completed at small, Gemini had enough context to respond. RESPONSE: \\n\" + small_result\n",
    "        \n",
    "    # otherwise, move on to BIG: \n",
    "    # IF we need the full context, get the filename that most closely matches the user's question\n",
    "    prompt_to_get_filename = \"\"\" \n",
    "    You are a codebase helper. The list of code files that you know about: \n",
    "    {}\n",
    "\n",
    "    The user asks the following question about the codebase: {}\n",
    "\n",
    "    Please respond with the filename that most closely matches the user's question. Respond with ONLY the filename. \n",
    "    \"\"\".format(all_files, user_prompt)\n",
    "    filename = gemini_inference(chat, prompt_to_get_filename)\n",
    "    print(\"Prompted for a specific filename, Gemini said: \" + filename)\n",
    "    # is the filename in the dataframe? \n",
    "    if filename not in df[\"filename\"].values:\n",
    "        # attempt to try again, appending \"onlineboutique-codefiles\"  \n",
    "        filename = \"onlineboutique-codefiles/\" + filename\n",
    "        if filename not in df[\"filename\"].values:\n",
    "            return \"⚠️ Error: filename {} not found in dataframe\".format(filename)\n",
    "    \n",
    "    # get the full code file \n",
    "    full_code = df[df[\"filename\"] == filename][\"content\"].values[0]\n",
    "    prompt_with_big = \"\"\" \n",
    "    You are a codebase helper. You will be given a user's question about the codebase, along with a complete source code file. Respond to the user's question with as much detail as possible.\n",
    "\n",
    "    The user query is: {}\n",
    "    \n",
    "    The full code file is: {}\n",
    "    \"\"\".format(user_prompt, full_code) \n",
    "\n",
    "    big_response = gemini_inference(chat, prompt_with_big) \n",
    "    return \"🦖 Completed at big. RESPONSE: \\n\" + big_response"
   ]
  },
  {
   "cell_type": "markdown",
   "metadata": {},
   "source": [
    "### Test it out "
   ]
  },
  {
   "cell_type": "code",
   "execution_count": 55,
   "metadata": {},
   "outputs": [
    {
     "name": "stdout",
     "output_type": "stream",
     "text": [
      "\n",
      "    You are a codebase helper. You will be given a user's question about the codebase, along with \n",
      "    summaries of relevant code files. Attempt to answer the question and only respond if you're confident in the answer. \n",
      "    If you need any more information, respond with ONLY the phrase \"need more context\". \n",
      "\n",
      "    The user query is: How does the ad service work? \n",
      "\n",
      "    The summaries are: {'onlineboutique-codefiles/src/adservice/src/main/java/hipstershop/AdService.java': 'This is a Java gRPC server for an ad service.\\nIt has a `getAds` function that takes a request containing context and returns a response with a list of ads.\\nIt uses a map of categories to ads to retrieve the ads and a random function to retrieve random ads if no category is specified.', 'onlineboutique-codefiles/src/adservice/src/main/java/hipstershop/AdServiceClient.java': 'This Java code defines a client that interacts with an Ads Service using gRPC. The `AdServiceClient` class establishes a connection to the service running at a specified address and port. Once connected, it sends `getAds` requests with a context key and receives `AdResponse` objects containing relevant advertisements. The client uses `ManagedChannel` for communication and `AdServiceGrpc.AdServiceBlockingStub` to invoke RPC methods. It also utilizes the `log4j2` library for logging.', 'onlineboutique-codefiles/src/adservice/README.md': 'This code is written in Java and uses the Gradle build tool to compile and package the application. The code includes a simple service called \"AdService\" that provides advertisements based on context keys. The service can be built locally using the `./gradlew installDist` command or by building a Docker image using the `docker build ./` command from the `src/adservice/` directory.'}\n",
      "    \n"
     ]
    },
    {
     "data": {
      "text/plain": [
       "'🐝 Completed at small, Gemini had enough context to respond. RESPONSE: \\nThe Ad Service is a gRPC service that provides advertisements based on context keys. It has a `getAds` function that takes a request containing a context key and returns a response with a list of ads.\\nThe service uses a map of categories to ads to retrieve the ads, and a random function to retrieve random ads if no category is specified.\\nThe Ads Service is implemented in Java and uses the Gradle build tool to compile and package the application. It can be built locally using the `./gradlew installDist` command or by building a Docker image using the `docker build ./` command from the `src/adservice/` directory.'"
      ]
     },
     "execution_count": 55,
     "metadata": {},
     "output_type": "execute_result"
    }
   ],
   "source": [
    "# an example of a query where only the small (summary) step is needed\n",
    "small_to_big(\"How does the ad service work?\")"
   ]
  },
  {
   "cell_type": "code",
   "execution_count": 59,
   "metadata": {},
   "outputs": [
    {
     "name": "stdout",
     "output_type": "stream",
     "text": [
      "\n",
      "    You are a codebase helper. You will be given a user's question about the codebase, along with \n",
      "    summaries of relevant code files. Attempt to answer the question and only respond if you're confident in the answer. \n",
      "    If you need any more information, respond with ONLY the phrase \"need more context\". \n",
      "\n",
      "    The user query is: Exactly how long is the kubectl wait condition in the Terraform deployment of online boutique? Return the right number of seconds \n",
      "\n",
      "    The summaries are: {'onlineboutique-codefiles/terraform/README.md': \"This Terraform script deploys the Online Boutique sample application, a microservices-based application, on a Google Kubernetes Engine (GKE) cluster. It provisions resources such as a GKE cluster, Memorystore (Redis) instance (optional), and a Kubernetes deployment for the application. Functions like `terraform init` and `terraform apply` are used to initialize and create the resources. Libraries like `kubectl` are used to retrieve the frontend's external IP address for accessing the application.\", 'onlineboutique-codefiles/terraform/main.tf': 'This Terraform code defines an infrastructure using Cloud APIs, a GKE cluster, and kubectl commands. It starts by defining local variables and modules to enable Google services. It then sets up a GKE cluster with autopilot enabled. Following this, it retrieves cluster credentials, and finally uses kubectl to deploy YAML configurations and waits until Pods are ready. The code relies on the `google` and `terraform-google-modules/gcloud` modules.', 'onlineboutique-codefiles/terraform/output.tf': 'This Terraform configuration outputs data from a Google Container Cluster resource. The output includes the `location` and `name` of the cluster. The `location` variable is assigned the value of the `location` attribute of the `resource.google_container_cluster.my_cluster` object, and the `name` variable is assigned the value of the `name` attribute of the same object.'}\n",
      "    \n",
      "Prompted for a specific filename, Gemini said: onlineboutique-codefiles/terraform/main.tf\n"
     ]
    },
    {
     "data": {
      "text/plain": [
       "'🦖 Completed at big. RESPONSE: \\nThe kubectl wait condition in the Terraform deployment of online boutique is 280 seconds. This is specified in the `command` argument of the `null_resource \"wait_conditions\"` resource:\\n\\n```\\ncommand     = <<-EOT\\n    kubectl wait --for=condition=AVAILABLE apiservice/v1beta1.metrics.k8s.io --timeout=180s\\n    kubectl wait --for=condition=ready pods --all -n ${var.namespace} --timeout=280s\\n    EOT\\n```\\n\\nThe `--timeout` flag specifies the maximum amount of time to wait for the condition to be met. In this case, the condition is that all pods in the `var.namespace` namespace are ready. If the condition is not met within 280 seconds, the command will fail and the deployment will not proceed.'"
      ]
     },
     "execution_count": 59,
     "metadata": {},
     "output_type": "execute_result"
    }
   ],
   "source": [
    "small_to_big(\"Exactly how long is the kubectl wait condition in the Terraform deployment of online boutique? Return the right number of seconds\")"
   ]
  },
  {
   "cell_type": "markdown",
   "metadata": {},
   "source": [
    "# Solution terraform code in main.tf  - 280 seconds is correct  \n",
    "\"\"\"\n",
    "\n",
    "# Wait condition for all Pods to be ready before finishing\n",
    "resource \"null_resource\" \"wait_conditions\" {\n",
    "  provisioner \"local-exec\" {\n",
    "    interpreter = [\"bash\", \"-exc\"]\n",
    "    command     = <<-EOT\n",
    "    kubectl wait --for=condition=AVAILABLE apiservice/v1beta1.metrics.k8s.io --timeout=180s\n",
    "    kubectl wait --for=condition=ready pods --all -n ${var.namespace} --timeout=280s\n",
    "    EOT\n",
    "  }\n",
    "\n",
    "  depends_on = [\n",
    "    resource.null_resource.apply_deployment\n",
    "  ]\n",
    "}\n",
    "\n",
    "\"\"\""
   ]
  },
  {
   "cell_type": "code",
   "execution_count": 61,
   "metadata": {},
   "outputs": [
    {
     "name": "stdout",
     "output_type": "stream",
     "text": [
      "\n",
      "    You are a codebase helper. You will be given a user's question about the codebase, along with \n",
      "    summaries of relevant code files. Attempt to answer the question and only respond if you're confident in the answer. \n",
      "    If you need any more information, respond with ONLY the phrase \"need more context\". \n",
      "\n",
      "    The user query is: What tracing frameworks are used across the codebase? \n",
      "\n",
      "    The summaries are: {'onlineboutique-codefiles/src/emailservice/requirements.in': 'This Python code uses the `google-cloud-profiler` and `google-cloud-trace` libraries to profile and trace Google Cloud applications. It also uses the `opentelemetry-distro` library for distributed tracing and the `grpcio` library for handling gRPC requests. The `requests` library is employed for making HTTP requests.', 'onlineboutique-codefiles/src/recommendationservice/requirements.in': 'This Python code uses the Google Cloud Profiler library to perform profiling and monitoring operations. It utilizes the gRPC health checking library for service health checks. The code also employs the OpenTelemetry instrumentation library for gRPC to enable tracing and observability.', 'onlineboutique-codefiles/src/checkoutservice/go.mod': 'This Go code is part of a microservice demonstration project. It uses the Cloud Profiler library for profiling, gRPC and gRPC-gateway for communication, OpenTelemetry for tracing and metrics, and Logrus for logging. The code includes functions such as `createShipment` and `getShipmentStatus` for managing checkouts.'}\n",
      "    \n"
     ]
    },
    {
     "data": {
      "text/plain": [
       "'🐝 Completed at small, Gemini had enough context to respond. RESPONSE: \\nThe codebase uses `google-cloud-profiler`, `google-cloud-trace`, `opentelemetry-distro`, `grpcio`, and `requests` for profiling and tracing in Python, and `Cloud Profiler`, `grpc`, `grpc-gateway`, `OpenTelemetry`, and `Logrus` for profiling, tracing, logging, and health checking in Go.'"
      ]
     },
     "execution_count": 61,
     "metadata": {},
     "output_type": "execute_result"
    }
   ],
   "source": [
    "small_to_big(\"What tracing frameworks are used across the codebase?\") "
   ]
  },
  {
   "cell_type": "code",
   "execution_count": 62,
   "metadata": {},
   "outputs": [
    {
     "name": "stdout",
     "output_type": "stream",
     "text": [
      "\n",
      "    You are a codebase helper. You will be given a user's question about the codebase, along with \n",
      "    summaries of relevant code files. Attempt to answer the question and only respond if you're confident in the answer. \n",
      "    If you need any more information, respond with ONLY the phrase \"need more context\". \n",
      "\n",
      "    The user query is: Describe in detail exactly how the ListRecommendations function works. \n",
      "\n",
      "    The summaries are: {'onlineboutique-codefiles/src/recommendationservice/client.py': 'This is a Python script that uses gRPC to communicate with a RecommendationService. It imports necessary libraries and sets up a server stub. The script forms a request and makes a call to the server, then logs the response using a custom JSON logger. It allows users to specify a port number as an argument.', 'onlineboutique-codefiles/src/productcatalogservice/.dockerignore': 'This is a directory listing. It is not a source code file, so I cannot provide a language identification or summary.', 'onlineboutique-codefiles/src/adservice/src/main/java/hipstershop/AdService.java': 'This is a Java gRPC server for an ad service.\\nIt has a `getAds` function that takes a request containing context and returns a response with a list of ads.\\nIt uses a map of categories to ads to retrieve the ads and a random function to retrieve random ads if no category is specified.'}\n",
      "    \n",
      "Prompted for a specific filename, Gemini said: onlineboutique-codefiles/src/recommendationservice/recommendation_server.py\n"
     ]
    },
    {
     "data": {
      "text/plain": [
       "\"🦖 Completed at big. RESPONSE: \\nThe `ListRecommendations` function in the `recommendationservice` retrieves a list of recommended products from the product catalog. It receives a request object containing a list of product IDs, and returns a response object containing a list of recommended product IDs.\\n\\nThe function works as follows:\\n\\n1. It fetches a list of all products from the product catalog using the `ListProducts` method of the `product_catalog_stub` gRPC client.\\n\\n2. It filters out any products that are already included in the request's list of product IDs, to avoid recommending products that the user has already seen.\\n\\n3. It randomly selects a subset of the remaining products to return as recommendations.\\n\\n4. It builds and returns a response object containing the list of recommended product IDs.\""
      ]
     },
     "execution_count": 62,
     "metadata": {},
     "output_type": "execute_result"
    }
   ],
   "source": [
    "small_to_big(\"Describe in detail exactly how the ListRecommendations function works.\")"
   ]
  },
  {
   "cell_type": "code",
   "execution_count": null,
   "metadata": {},
   "outputs": [],
   "source": []
  }
 ],
 "metadata": {
  "kernelspec": {
   "display_name": "Python 3",
   "language": "python",
   "name": "python3"
  },
  "language_info": {
   "codemirror_mode": {
    "name": "ipython",
    "version": 3
   },
   "file_extension": ".py",
   "mimetype": "text/x-python",
   "name": "python",
   "nbconvert_exporter": "python",
   "pygments_lexer": "ipython3",
   "version": "3.10.13"
  }
 },
 "nbformat": 4,
 "nbformat_minor": 2
}
