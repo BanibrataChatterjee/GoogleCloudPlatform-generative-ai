{
  "cells": [
    {
      "cell_type": "markdown",
      "source": [
        "# Code Vulnerability Scanning & Automated Remediation using Vertex AI Gemini API (Gemini Pro 1.5)\n",
        "\n",
        "---\n",
        "\n"
      ],
      "metadata": {
        "id": "nUWIDIzvODfw"
      },
      "id": "nUWIDIzvODfw"
    },
    {
      "cell_type": "markdown",
      "source": [
        "### Background\n",
        "\n",
        "In today's digital landscape, software security is paramount. With the increasing sophistication of cyber threats, it's more important than ever for developers to proactively identify and address vulnerabilities in their code. Vulnerabilities can lead to data breaches, financial losses, and reputational damage. By harnessing the power of Gemini Pro 1.5, we can revolutionize code vulnerability detection and remediation, ensuring more robust and secure software applications"
      ],
      "metadata": {
        "id": "R2__rS9iZeVx"
      },
      "id": "R2__rS9iZeVx"
    },
    {
      "cell_type": "markdown",
      "source": [
        "### Use Case:\n",
        "\n",
        "Advanced code scanning and vulnerability detection (100+ python files) for enhanced software security with gemini pro 1.5"
      ],
      "metadata": {
        "id": "xdDE5pyqUOPS"
      },
      "id": "xdDE5pyqUOPS"
    },
    {
      "cell_type": "markdown",
      "source": [
        "| | |\n",
        "|-|-|\n",
        "|Author(s) | [Souvik Mukherjee](https://github.com/talktosauvik)"
      ],
      "metadata": {
        "id": "zBrMoWSrXFI6"
      },
      "id": "zBrMoWSrXFI6"
    },
    {
      "cell_type": "markdown",
      "source": [
        "###Objectives & Approach\n",
        "\n",
        "This notebook provides a guide to building a code vulnerability scanning and remediation engine using gemini 1.5 pro,\n",
        "\n",
        "step by step process:\n",
        "\n",
        "\n",
        "1.   **Data ingestion:** Reading Python files from a GCS bucket and combining them into a single string.\n",
        "\n",
        "1.   **Prompt engineering:** Crafting a clear and comprehensive prompt for Gemini Pro, providing instructions for code analysis and output formatting.\n",
        "\n",
        "1.   **LLM invocation:** Submitting the consolidated code string to Gemini Pro 1.5 for analysis.\n",
        "2.   **Response parsing:** Extracting vulnerability information, recommendations, and code snippets from Gemini Pro's response.\n",
        "\n",
        "\n",
        "5.  **Output generation:** Creating CSV and JSON reports for further analysis and integration with security tools.\n"
      ],
      "metadata": {
        "id": "ebhJl46SN80V"
      },
      "id": "ebhJl46SN80V"
    },
    {
      "cell_type": "markdown",
      "source": [
        "### Gemini\n",
        "\n",
        "Gemini is a family of generative AI models developed by Google DeepMind that is designed for multimodal use cases. The Gemini API gives you access to the Gemini 1.0 Pro Vision and Gemini 1.0, and Gemini 1.5 Pro models.\n",
        "\n",
        "Its key strengths include:\n",
        "\n",
        "\n",
        "1.   **Multimodality:** Gemini Pro 1.5 excels in understanding and\n",
        "generating content across various modalities, including text, code, and images. This multimodality makes it an ideal tool for analyzing complex codebases.\n",
        "2.   **Extended Context Window:** Gemini Pro 1.5 boasts an extended context window of 1M tokens¹, allowing it to process vast amounts of code in a single call, making it efficient for large-scale code scanning.\n",
        "3. **Advanced Code Understanding:** Gemini Pro 1.5 possesses a deep understanding of programming languages and security best practices, enabling it to identify potential vulnerabilities and suggest effective remediation strategies.\n",
        "\n"
      ],
      "metadata": {
        "id": "jLSm1imBPaIx"
      },
      "id": "jLSm1imBPaIx"
    },
    {
      "cell_type": "markdown",
      "source": [
        "### Dataset\n",
        "\n",
        "The sample data files for this notebook have been taken from an openly accessible Git repo- For your purpose, you can download from any similar or different repos.\n",
        "\n",
        "\n",
        "\n",
        "For this specific use case, the dataset can be made available in a couple different way\n",
        "\n",
        "1. Dataset containing individual .py/.java files uploaded into GCS Bucket\n",
        "1. Dataset available in a single jsonl format where\n",
        "every line contains a JSON object with the following fields:\n",
        "\n",
        "*   ID: unique identifier of the sample.\n",
        "*   Prompt: Prompt for the code generation model.\n",
        "*   Insecure_code: code of the vulnerability example\n",
        "\n",
        "While the dataset can very, the approach can remain same to handle the use case.\n"
      ],
      "metadata": {
        "id": "aGamQlrXagh3"
      },
      "id": "aGamQlrXagh3"
    },
    {
      "cell_type": "markdown",
      "source": [
        "### Getting Started"
      ],
      "metadata": {
        "id": "TpJD9T2_PvPp"
      },
      "id": "TpJD9T2_PvPp"
    },
    {
      "cell_type": "markdown",
      "source": [
        "### Install Vertex AI SDK for Python and Google Storage\n"
      ],
      "metadata": {
        "id": "k9uwJYsyP7rv"
      },
      "id": "k9uwJYsyP7rv"
    },
    {
      "cell_type": "code",
      "id": "N75LKYKXbuHp5cpzkJiq89Sb",
      "metadata": {
        "tags": [],
        "id": "N75LKYKXbuHp5cpzkJiq89Sb",
        "executionInfo": {
          "status": "ok",
          "timestamp": 1714504923937,
          "user_tz": 240,
          "elapsed": 17240,
          "user": {
            "displayName": "",
            "userId": ""
          }
        },
        "colab": {
          "base_uri": "https://localhost:8080/"
        },
        "outputId": "34ea7a68-df35-459b-bdd7-b48809a29b1e"
      },
      "source": [
        "! pip3 install  -q --upgrade --user google-cloud-aiplatform google-cloud-storage"
      ],
      "execution_count": null,
      "outputs": [
        {
          "output_type": "stream",
          "name": "stdout",
          "text": [
            "\u001b[2K     \u001b[90m━━━━━━━━━━━━━━━━━━━━━━━━━━━━━━━━━━━━━━━━\u001b[0m \u001b[32m4.9/4.9 MB\u001b[0m \u001b[31m12.9 MB/s\u001b[0m eta \u001b[36m0:00:00\u001b[0m\n",
            "\u001b[2K     \u001b[90m━━━━━━━━━━━━━━━━━━━━━━━━━━━━━━━━━━━━━━━━\u001b[0m \u001b[32m125.6/125.6 kB\u001b[0m \u001b[31m19.4 MB/s\u001b[0m eta \u001b[36m0:00:00\u001b[0m\n",
            "\u001b[2K     \u001b[90m━━━━━━━━━━━━━━━━━━━━━━━━━━━━━━━━━━━━━━━━\u001b[0m \u001b[32m139.0/139.0 kB\u001b[0m \u001b[31m21.2 MB/s\u001b[0m eta \u001b[36m0:00:00\u001b[0m\n",
            "\u001b[?25h\u001b[33m  WARNING: The script tb-gcp-uploader is installed in '/root/.local/bin' which is not on PATH.\n",
            "  Consider adding this directory to PATH or, if you prefer to suppress this warning, use --no-warn-script-location.\u001b[0m\u001b[33m\n",
            "\u001b[0m"
          ]
        }
      ]
    },
    {
      "cell_type": "markdown",
      "source": [
        "### Restart the Carnel\n",
        "\n",
        "To use the newly installed packages, you must restart the current runtime."
      ],
      "metadata": {
        "id": "Xb3No6mSQFoe"
      },
      "id": "Xb3No6mSQFoe"
    },
    {
      "cell_type": "code",
      "source": [
        "# restart the current runtime to be able to access the downloaded packages\n",
        "import IPython\n",
        "import time\n",
        "app = IPython.Application.instance()\n",
        "app.kernel.do_shutdown(True)"
      ],
      "metadata": {
        "colab": {
          "base_uri": "https://localhost:8080/"
        },
        "id": "2l4Q9oy8f2KR",
        "executionInfo": {
          "status": "ok",
          "timestamp": 1714504950652,
          "user_tz": 240,
          "elapsed": 257,
          "user": {
            "displayName": "",
            "userId": ""
          }
        },
        "outputId": "4c62c2e5-f4e8-47b4-914c-9123cc614abb"
      },
      "id": "2l4Q9oy8f2KR",
      "execution_count": null,
      "outputs": [
        {
          "output_type": "execute_result",
          "data": {
            "text/plain": [
              "{'status': 'ok', 'restart': True}"
            ]
          },
          "metadata": {},
          "execution_count": 2
        }
      ]
    },
    {
      "cell_type": "markdown",
      "source": [
        "### Authenticate the notebook environment (Colab only)\n",
        "\n",
        "If you are running this notebook on Google Colab, run the following cell to authenticate your environment. This step is not required if you are using [Vertex AI Workbench](https://cloud.google.com/vertex-ai-workbench)."
      ],
      "metadata": {
        "id": "IIyao4PXQkAm"
      },
      "id": "IIyao4PXQkAm"
    },
    {
      "cell_type": "code",
      "source": [
        "import sys\n",
        "import os\n",
        "from google.colab import auth\n",
        "auth.authenticate_user()"
      ],
      "metadata": {
        "id": "pX9rkTlff8l-"
      },
      "id": "pX9rkTlff8l-",
      "execution_count": null,
      "outputs": []
    },
    {
      "cell_type": "markdown",
      "source": [
        "### Define project information & initialize Vertex AI\n",
        "\n"
      ],
      "metadata": {
        "id": "x4A6vhaKQqKT"
      },
      "id": "x4A6vhaKQqKT"
    },
    {
      "cell_type": "code",
      "source": [
        "#initialize variables\n",
        "PROJECT_ID = 'your-project-id'\n",
        "REGION = 'us-central1'\n",
        "BUCKET_NAME = 'your-bucket-name'\n",
        "PREFIX = 'folder-name/'"
      ],
      "metadata": {
        "id": "-c8ZjhqIgA7K"
      },
      "id": "-c8ZjhqIgA7K",
      "execution_count": null,
      "outputs": []
    },
    {
      "cell_type": "code",
      "source": [
        "#import and initialize Vertex AI\n",
        "import vertexai\n",
        "vertexai.init(project=PROJECT_ID, location=REGION)"
      ],
      "metadata": {
        "id": "TwEE78OKgTRB"
      },
      "id": "TwEE78OKgTRB",
      "execution_count": null,
      "outputs": []
    },
    {
      "cell_type": "markdown",
      "source": [
        "### Read the .py files from a GCS bucket and combines them into a single string.\n"
      ],
      "metadata": {
        "id": "zrgeiLeZRB8m"
      },
      "id": "zrgeiLeZRB8m"
    },
    {
      "cell_type": "code",
      "source": [
        "## This block of code reads the file from GCS bucket, iterates through those and combine them into a single string.\n",
        "## it also Demarcate individual file content using the actual filename as a separator\n",
        "## for example purposes we have just taken 10 files, however, this same process can scan 100s of files as well. specifically taking advantages of the longb context window\n",
        "## the sample files have been taken from an openly accessible Git repo-\n",
        "## for your purpose, you can download from any similar or different repos. https://github.com/s2e-lab/SecurityEval/tree/main\n",
        "\n",
        "from google.cloud import storage\n",
        "\n",
        "def process_py_files(bucket_name, prefix):\n",
        "  \"\"\"\n",
        "  Reads .py files from a GCS bucket and combines them into a single string.\n",
        "  Returns:\n",
        "    A string containing the combined content of all .py files.\n",
        "  \"\"\"\n",
        "\n",
        "  storage_client = storage.Client()\n",
        "  bucket = storage_client.get_bucket(BUCKET_NAME)\n",
        "  blobs = bucket.list_blobs(prefix=PREFIX)\n",
        "\n",
        "  combined_text = \"\"\n",
        "  for blob in blobs:\n",
        "    if blob.name.endswith(\".py\"):\n",
        "      file_content = blob.download_as_string().decode(\"utf-8\")\n",
        "      combined_text += f\"### File: {blob.name} ###\\n{file_content}\\n\"\n",
        "\n",
        "  return combined_text\n",
        "\n",
        "combined_string = process_py_files(BUCKET_NAME, PREFIX)\n",
        "print(combined_string)"
      ],
      "metadata": {
        "id": "lZNJhxiignA5",
        "collapsed": true
      },
      "id": "lZNJhxiignA5",
      "execution_count": null,
      "outputs": []
    },
    {
      "cell_type": "markdown",
      "source": [
        "### Import Generative model library from Vertex AI"
      ],
      "metadata": {
        "id": "ODdfYDIdRzzX"
      },
      "id": "ODdfYDIdRzzX"
    },
    {
      "cell_type": "code",
      "source": [
        "#import Generative_models library from vertexai. this library is where the gemini models are hosted\n",
        "\n",
        "from IPython.display import Markdown, display, Latex\n",
        "from vertexai.preview.generative_models import GenerativeModel\n",
        "from vertexai.preview.generative_models import GenerationConfig\n"
      ],
      "metadata": {
        "id": "WCIOjVZYh28Q"
      },
      "id": "WCIOjVZYh28Q",
      "execution_count": null,
      "outputs": []
    },
    {
      "cell_type": "markdown",
      "source": [
        "### Initiate Gemini 1.5 pro"
      ],
      "metadata": {
        "id": "zyh4WLTZR42A"
      },
      "id": "zyh4WLTZR42A"
    },
    {
      "cell_type": "code",
      "source": [
        "model = GenerativeModel(\"gemini-1.5-pro-preview-0514\")\n",
        "#model = GenerativeModel(\"gemini-1.5-pro-preview-0409\")\n",
        "#model = GenerativeModel(\"gemini-1.0-pro-002\")"
      ],
      "metadata": {
        "id": "sjA145qSh9O8"
      },
      "id": "sjA145qSh9O8",
      "execution_count": null,
      "outputs": []
    },
    {
      "cell_type": "markdown",
      "source": [
        "### Setting up model configuration & Prompt template"
      ],
      "metadata": {
        "id": "QHjEFzCBR_n9"
      },
      "id": "QHjEFzCBR_n9"
    },
    {
      "cell_type": "code",
      "source": [
        "#setting up model configurations & prompt template with 1 shot inference\n",
        "#for this specific use case, we have set the safety filters to block none.\n",
        "\n",
        "# define the prompt template to be passed to gemini.\n",
        "context = combined_string\n",
        "\n",
        "my_prompt = f\"\"\"You are an expert code assistant. Review the following code for vulnerabilities and provide recommendations:\n",
        "{context}\n",
        "\n",
        "Please format your response using markdown and Display with the following structure:\n",
        "\n",
        "file_name: Name of the code file\n",
        "Vulnerability Name: Name of the identified vulnerability\n",
        "Vulnerability: Description of the vulnerability and its potential impact.\n",
        "Recommendations: List of actionable steps to mitigate the vulnerability.\n",
        "Recommended code: Recommended code snippet to remove the suspected vulnerability\n",
        "\n",
        "I am also providing a sample response output that you should follow-\n",
        "-------------------------------------------------\n",
        "**file_name: bulk/example_1.py**\n",
        "\n",
        "**Vulnerability Name:** Information Exposure\n",
        "\n",
        "**Vulnerability:** The `server_bad` function returns the entire traceback when an exception occurs\n",
        ".This can leak sensitive information about the application's internals, such as file paths, variable names, and even the type of exception raised. Attackers could\n",
        " exploit this information to gain a deeper understanding of the system and potentially launch further attacks.\n",
        "\n",
        "**Recommendations:**\n",
        "\n",
        "*Catch specific exceptions instead of using a broad `Exception` clause.\n",
        "*Return a generic error message to the user without revealing internal details.\n",
        "*Log the full traceback for debugging purposes, but do not expose it to the user.\n",
        "\n",
        "**Recommended code:**\n",
        "\n",
        "```python\n",
        "sample code\n",
        "```\n",
        "\"\"\"  # try your own prompt\n",
        "\n",
        "\n",
        "generation_config = GenerationConfig(\n",
        "        temperature=0.5,\n",
        "        top_p=0.4,\n",
        "        top_k=24,\n",
        "        candidate_count=1,\n",
        "        max_output_tokens=8192,\n",
        "    )\n",
        "responses = model.generate_content(\n",
        "        contents=my_prompt,\n",
        "        generation_config=generation_config,\n",
        "        stream=True,\n",
        "    )\n",
        "\n",
        "for res in responses:\n",
        "    print(res.text)"
      ],
      "metadata": {
        "id": "rX2dng4piDHd"
      },
      "id": "rX2dng4piDHd",
      "execution_count": null,
      "outputs": []
    },
    {
      "cell_type": "markdown",
      "source": [
        "### Capture the model response into a single variable"
      ],
      "metadata": {
        "id": "cnuNp-heSUMD"
      },
      "id": "cnuNp-heSUMD"
    },
    {
      "cell_type": "code",
      "source": [
        "# capture the model response into a variable.\n",
        "response_text = \"\"\"\n",
        " Security Analysis of Code Snippets\n",
        "\n",
        "### file_name: Bulk/example_1.py\n",
        "\n",
        "**Vulnerability Name:** Information Exposure Through Exception Handling\n",
        "\n",
        "**Vulnerability:** The `server_bad` function returns the entire traceback when an exception occurs. This can leak sensitive information about the application's internals, such\n",
        " as file paths, variable names, and even the type of exception raised. Attackers could exploit this information to gain a deeper understanding of the system and potentially launch\n",
        " further attacks.\n",
        "\n",
        "**Recommendations:**\n",
        "\n",
        "*Catch specific exceptions instead of using a broad `Exception` clause.\n",
        "*Return a generic error message to the user without revealing internal details.\n",
        "*Log the full traceback for debugging purposes, but do not expose it to the user.\n",
        "\n",
        "**Recommended code:**\n",
        "\n",
        "```python\n",
        "@app.route('/bad')\n",
        "def server_bad():\n",
        "    try:\n",
        "        result = do_computation()\n",
        "        return\n",
        " result\n",
        "    except SpecificException as e:\n",
        "        # Log the error for debugging\n",
        "        app.logger.exception(\"An error occurred during computation\")\n",
        "        return \"An error occurred. Please try again later.\"\n",
        "```\n",
        "\n",
        "### file_name: Bulk/example_10.py\n",
        "\n",
        "**Vulnerability Name:** Insecure Temporary File Creation\n",
        "\n",
        "**Vulnerability:** The `mktemp()` function creates temporary files with predictable names, which could allow attackers to guess the file names and access sensitive data. Additionally, the file permissions might be insecure, allowing unauthorized access.\n",
        "\n",
        "**Recommendations:**\n",
        "\n",
        "*Use the `tempfile .mkstemp()` function to create temporary files with more secure permissions and unpredictable names.\n",
        "*Ensure that the temporary files are deleted after they are no longer needed.\n",
        "\n",
        "**Recommended code:**\n",
        "\n",
        "```python\n",
        "import tempfile\n",
        "\n",
        "def write_results(results):\n",
        "    with tempfile.NamedTemporaryFile(mode=\"\n",
        "w+\", delete=False) as f:\n",
        "        filename = f.name\n",
        "        f.write(results)\n",
        "    print(\"Results written to\", filename)\n",
        "    # ... process the file ...\n",
        "    os.remove(filename)  # Delete the file when done\n",
        "```\n",
        "\n",
        "### file_name: Bulk/example_100.py\n",
        "\n",
        "**Vulnerability Name:** Weak Key Generation Algorithm\n",
        "\n",
        "**Vulnerability:** The `DSA.generate(1024)` function generates a DSA key with a length of 1024 bits, which is considered weak and vulnerable to modern cryptanalysis techniques.\n",
        "\n",
        "\n",
        "**Recommendations:**\n",
        "\n",
        "*Use a stronger key generation algorithm, such as RSA or ECC, with a key length of at least 2048 bits.\n",
        "*Consider using libraries that provide secure defaults for key generation.\n",
        "\n",
        "**Recommended code:**\n",
        "\n",
        "```python\n",
        "from Crypto.PublicKey import RSA\n",
        "\n",
        "\n",
        "def generate_private_key():\n",
        "    key = RSA.generate(2048)\n",
        "    return key.export_key('PEM')  # Export in a standard format\n",
        "```\n",
        "\n",
        "### file_name: Bulk/example_101.py\n",
        "\n",
        "**Vulnerability Name:** Insecure Encryption Mode and Static IV\n",
        "\n",
        "**Vulnerability:** The code uses AES in CBC mode with a static initialization vector (IV). Using a static IV weakens the encryption and makes it vulnerable to certain attacks, especially when encrypting multiple messages with the same key.\n",
        "\n",
        "**Recommendations:**\n",
        "\n",
        "*Use a random IV for each encryption operation.\n",
        "*Consider using more secure modes of operation, such as GCM or CTR, which provide authenticated encryption.\n",
        "\n",
        "**Recommended code:**\n",
        "\n",
        "```python\n",
        "from Crypto.Cipher import AES\n",
        "from Crypto.Random import get_random_bytes\n",
        "\n",
        "def getEncryptionKey(data, key):\n",
        "    iv\n",
        " = get_random_bytes(AES.block_size)\n",
        "    cipher = AES.new(key, AES.MODE_GCM, iv)\n",
        "    ciphertext, tag = cipher.encrypt_and_digest(data)\n",
        "    return iv, ciphertext, tag\n",
        "```\n",
        "\n",
        "### file_name: Bulk/example_102.py\n",
        "\n",
        "**Vulnerability Name:** Insecure FTP Usage and Hardcoded Credentials\n",
        "\n",
        "**Vulnerability:** The code uses FTP, which transmits data in plaintext, including usernames and passwords. Additionally, the credentials are hardcoded in the script, making them easily discoverable.\n",
        "\n",
        "**Recommendations:**\n",
        "\n",
        "\n",
        "*Use a secure file transfer protocol, such as SFTP or FTPS, which encrypts the communication.\n",
        "*Avoid hardcoding credentials and instead use environment variables or a secure credential storage mechanism.\n",
        "\n",
        "**Recommended code:**\n",
        "\n",
        "```python\n",
        "import pysftp  # Assuming you have the pysftp\n",
        " library installed\n",
        "\n",
        "def downloadFile(hostname, username, password, sensitive_file):\n",
        "    with pysftp.Connection(hostname, username=username, password=password) as sftp:\n",
        "        sftp.get(sensitive_file, preserve_mtime=True)\n",
        "```\n",
        "\n",
        "### file_name:Bulk/example_103.py\n",
        "\n",
        "**Vulnerability Name:**  Potential Issues with Password Hashing\n",
        "\n",
        "**Vulnerability:** While PBKDF2 is a good choice for password hashing, the code uses a static salt, which reduces its effectiveness against rainbow table attacks.\n",
        "\n",
        "**Recommendations:**\n",
        "\n",
        "*Use a unique salt for each password. This can be achieved by generating a random salt for each user and storing it securely alongside the hashed password.\n",
        "\n",
        "**Recommended code:**\n",
        "\n",
        "```python\n",
        "import os\n",
        "\n",
        "def getHash(password):\n",
        "    salt = os.urandom(16)  # Generate a random\n",
        " salt\n",
        "    hash = pbkdf2_hmac('sha256', password, salt, 100000)\n",
        "    return salt, hash  # Store the salt with the hash\n",
        "```\n",
        "\n",
        "### file_name: Bulk/example_104.py\n",
        "\n",
        "**Vulnerability Name:** Hardcoded and Weak Admin Password\n",
        "\n",
        "**Vulnerability:** The code uses a hardcoded and easily guessable password for the admin user. This makes the system extremely vulnerable to unauthorized access.\n",
        "\n",
        "**Recommendations:**\n",
        "\n",
        "*Never hardcode passwords, especially for privileged accounts.\n",
        "*Enforce strong password policies that require a minimum length, complexity, and regular password changes.\n",
        "*Consider using multi-factor authentication for additional security.\n",
        "\n",
        "**Recommended code:**\n",
        "\n",
        "```python\n",
        "# Implement a secure password storage and verification mechanism, such as bcrypt or Argon2\n",
        "# and avoid hardcoding passwords.\n",
        "```\n",
        "\n",
        "### file_name: Bulk/example_105.py\n",
        "\n",
        "**Vulnerability Name:** Open Redirect Vulnerability\n",
        "\n",
        "**Vulnerability:** The `flask_redirect` function redirects the user to any URL provided in the `next` parameter without validation. This can be exploited by attackers to redirect users to malicious websites.\n",
        "\n",
        "**Recommendations:**\n",
        "\n",
        "*Validate the `next` parameter to ensure it points to a trusted domain or a specific set of allowed URLs.\n",
        "\n",
        "**Recommended code:**\n",
        "\n",
        "```python\n",
        "from urllib.parse import urlparse\n",
        "\n",
        "@app.route('flask_redirect')\n",
        "def flask_redirect():\n",
        "    url = request\n",
        ".args.get(\"next\")\n",
        "    parsed_url = urlparse(url)\n",
        "    if parsed_url.netloc in allowed_domains:  # Replace with your allowed domains\n",
        "        return redirect(url)\n",
        "    else:\n",
        "        return \"Invalid redirect URL\"\n",
        "```\n",
        "\n",
        "### file_name: Bulk/example_106.py\n",
        "\n",
        "**Vulnerability Name:** Potential XXE (XML External Entity) Vulnerability\n",
        "\n",
        "**Vulnerability:** The code parses XML data from the request without disabling external entity processing. This could allow attackers to inject malicious entities that can lead to information disclosure, denial of service\n",
        ", or server-side request forgery (SSRF) attacks.\n",
        "\n",
        "**Recommendations:**\n",
        "\n",
        "*   Disable external entity processing when parsing XML data.\n",
        "*   Use a library that provides secure XML parsing options.\n",
        "\n",
        "**Recommended code:**\n",
        "\n",
        "```python\n",
        "from defusedxml import lxml\n",
        "\n",
        "@app.post(\"/\n",
        "upload\")\n",
        "def upload():\n",
        "    xml_src = request.get_data()\n",
        "    parser = lxml.XMLParser(resolve_entities=False)\n",
        "    doc = lxml.fromstring(xml_src, parser=parser)\n",
        "    return lxml.tostring(doc)\n",
        "\n",
        "```\n",
        "\n",
        "### file_name: Bulk/example_107.py\n",
        "\n",
        "**Vulnerability Name:** Potential XXE and Insecure Password Handling\n",
        "\n",
        "**Vulnerability:** Similar to example\\_106.py, this code is vulnerable to XXE attacks due to insecure XML parsing. Additionally, the `check\n",
        "Password` function is not implemented, and it's unclear how passwords are stored and verified.\n",
        "\n",
        "**Recommendations:**\n",
        "\n",
        "*Address the XXE vulnerability as described in example\\_106.py.\n",
        "*Implement a secure password storage and verification mechanism, such as bcrypt or Argon2.\n",
        "*Avoid storing passwords in plaintext or using weak hashing algorithms.\n",
        "\n",
        "**Recommended code:**\n",
        "\n",
        "```python\n",
        "# Implement secure XML parsing as shown in example_106.py\n",
        "# Implement a secure password storage and verification mechanism\n",
        "```\n",
        "\"\"\""
      ],
      "metadata": {
        "id": "M_gJqJWAhALS"
      },
      "id": "M_gJqJWAhALS",
      "execution_count": null,
      "outputs": []
    },
    {
      "cell_type": "markdown",
      "source": [
        "### Parse the response and export it into a csv for further analysis.\n",
        "\n",
        "To parse the response we have used regular expression pattern matching. This is easy to configure and maintain\n",
        "\n"
      ],
      "metadata": {
        "id": "1tK5AtEdIeep"
      },
      "id": "1tK5AtEdIeep"
    },
    {
      "cell_type": "code",
      "source": [
        "import re\n",
        "import pandas as pd\n",
        "\n",
        "def extract_vulnerability_data(text):\n",
        "    # Regular expressions for extracting data\n",
        "    file_pattern = r\"###\\s*file_name:\\s*(.*\\.py)\"  # Adjusted for \"file_name\"\n",
        "    vulnerability_name_pattern = r\"\\*\\*Vulnerability Name:\\*\\*\\s*(.*)\"\n",
        "    vulnerability_pattern = r\"\\*\\*Vulnerability:\\*\\*\\s*(.*?)(?=\\*\\*Recommendations)\"\n",
        "    recommendation_pattern = r\"\\*\\*Recommendations:\\*\\*\\s*((?:\\*.*\\n)+)\"\n",
        "    code_pattern = r\"```python(.*?)```\"  # Added pattern for recommended code\n",
        "\n",
        "    data = []\n",
        "\n",
        "    # Iterate through each vulnerability report\n",
        "    for match in re.finditer(r\"###.*?(?=###|$)\", text, re.DOTALL):\n",
        "        report = match.group(0)\n",
        "\n",
        "        file_name = re.search(file_pattern, report).group(1)\n",
        "        vulnerability_name = re.search(vulnerability_name_pattern, report).group(1)\n",
        "        vulnerability = re.search(vulnerability_pattern, report, re.DOTALL).group(1).strip()\n",
        "        recommendations = re.search(recommendation_pattern, report, re.DOTALL).group(1).strip()\n",
        "\n",
        "        # Extract recommended code, handling potential absence\n",
        "        code_match = re.search(code_pattern, report, re.DOTALL)\n",
        "        recommended_code = code_match.group(1).strip() if code_match else \"N/A\"\n",
        "\n",
        "        data.append({\n",
        "            \"File Number\": file_name.split('_')[-1].split('.')[0],\n",
        "            \"File Name\": file_name,\n",
        "            \"Vulnerability Name\": vulnerability_name,\n",
        "            \"Description\": vulnerability,\n",
        "            \"Recommendations\": recommendations,\n",
        "            \"Recommended Code\": recommended_code  # Include recommended code\n",
        "        })\n",
        "\n",
        "    return pd.DataFrame(data)\n",
        "\n",
        "# Extract data and create DataFrame\n",
        "df = extract_vulnerability_data(response_text)\n",
        "\n",
        "# Display DataFrame in Colab\n",
        "display(df)\n",
        "\n",
        "# Save DataFrame to CSV file\n",
        "df.to_csv(\"vulnerability_report_BULK.csv\", index=False)\n",
        "\n",
        "print(\"CSV file 'vulnerability_report_BULK.csv' created successfully.\")"
      ],
      "metadata": {
        "id": "yVethA0vhsiv"
      },
      "id": "yVethA0vhsiv",
      "execution_count": null,
      "outputs": []
    },
    {
      "cell_type": "code",
      "source": [
        "# Display the created CSV file (assuming you have the 'google.colab' library installed)\n",
        "from google.colab import files\n",
        "files.download(\"vulnerability_report_BULK.csv\")"
      ],
      "metadata": {
        "id": "ipY3TXNUieVo",
        "colab": {
          "base_uri": "https://localhost:8080/",
          "height": 17
        },
        "executionInfo": {
          "status": "ok",
          "timestamp": 1714505827791,
          "user_tz": 240,
          "elapsed": 186,
          "user": {
            "displayName": "",
            "userId": ""
          }
        },
        "outputId": "e8eca0ee-6104-4135-a47e-5348ddadc2c5"
      },
      "id": "ipY3TXNUieVo",
      "execution_count": null,
      "outputs": [
        {
          "output_type": "display_data",
          "data": {
            "text/plain": [
              "<IPython.core.display.Javascript object>"
            ],
            "application/javascript": [
              "\n",
              "    async function download(id, filename, size) {\n",
              "      if (!google.colab.kernel.accessAllowed) {\n",
              "        return;\n",
              "      }\n",
              "      const div = document.createElement('div');\n",
              "      const label = document.createElement('label');\n",
              "      label.textContent = `Downloading \"${filename}\": `;\n",
              "      div.appendChild(label);\n",
              "      const progress = document.createElement('progress');\n",
              "      progress.max = size;\n",
              "      div.appendChild(progress);\n",
              "      document.body.appendChild(div);\n",
              "\n",
              "      const buffers = [];\n",
              "      let downloaded = 0;\n",
              "\n",
              "      const channel = await google.colab.kernel.comms.open(id);\n",
              "      // Send a message to notify the kernel that we're ready.\n",
              "      channel.send({})\n",
              "\n",
              "      for await (const message of channel.messages) {\n",
              "        // Send a message to notify the kernel that we're ready.\n",
              "        channel.send({})\n",
              "        if (message.buffers) {\n",
              "          for (const buffer of message.buffers) {\n",
              "            buffers.push(buffer);\n",
              "            downloaded += buffer.byteLength;\n",
              "            progress.value = downloaded;\n",
              "          }\n",
              "        }\n",
              "      }\n",
              "      const blob = new Blob(buffers, {type: 'application/binary'});\n",
              "      const a = document.createElement('a');\n",
              "      a.href = window.URL.createObjectURL(blob);\n",
              "      a.download = filename;\n",
              "      div.appendChild(a);\n",
              "      a.click();\n",
              "      div.remove();\n",
              "    }\n",
              "  "
            ]
          },
          "metadata": {}
        },
        {
          "output_type": "display_data",
          "data": {
            "text/plain": [
              "<IPython.core.display.Javascript object>"
            ],
            "application/javascript": [
              "download(\"download_aab82d58-53a1-40c6-be64-e5bb8ff671f5\", \"vulnerability_report_BULK.csv\", 9660)"
            ]
          },
          "metadata": {}
        }
      ]
    },
    {
      "cell_type": "markdown",
      "source": [
        "### Now running similar operation but with json output"
      ],
      "metadata": {
        "id": "7-kVfA_VIVv8"
      },
      "id": "7-kVfA_VIVv8"
    },
    {
      "cell_type": "code",
      "source": [
        "import re\n",
        "import json\n",
        "def extract_vulnerability_data(text):\n",
        "    # Regular expressions for extracting data\n",
        "    file_pattern = r\"###\\s*file_name:\\s*(.*\\.py)\"  # Adjusted for \"file_name\"\n",
        "    vulnerability_name_pattern = r\"\\*\\*Vulnerability Name:\\*\\*\\s*(.*)\"\n",
        "    vulnerability_pattern = r\"\\*\\*Vulnerability:\\*\\*\\s*(.*?)(?=\\*\\*Recommendations)\"\n",
        "    recommendation_pattern = r\"\\*\\*Recommendations:\\*\\*\\s*((?:\\*.*\\n)+)\"\n",
        "    code_pattern = r\"```python(.*?)```\"  # Added pattern for recommended code\n",
        "\n",
        "    data = []\n",
        "\n",
        "    # Iterate through each vulnerability report\n",
        "    for match in re.finditer(r\"###.*?(?=###|$)\", text, re.DOTALL):\n",
        "        report = match.group(0)\n",
        "\n",
        "        file_name = re.search(file_pattern, report).group(1)\n",
        "        vulnerability_name = re.search(vulnerability_name_pattern, report).group(1)\n",
        "        vulnerability = re.search(vulnerability_pattern, report, re.DOTALL).group(1).strip()\n",
        "        recommendations = re.search(recommendation_pattern, report, re.DOTALL).group(1).strip()\n",
        "\n",
        "        # Extract recommended code, handling potential absence\n",
        "        code_match = re.search(code_pattern, report, re.DOTALL)\n",
        "        recommended_code = code_match.group(1).strip() if code_match else \"N/A\"\n",
        "\n",
        "        data.append({\n",
        "            \"File Number\": file_name.split('_')[-1].split('.')[0],\n",
        "            \"File Name\": file_name,\n",
        "            \"Vulnerability Name\": vulnerability_name,\n",
        "            \"Description\": vulnerability,\n",
        "            \"Recommendations\": recommendations,\n",
        "            \"Recommended Code\": recommended_code  # Include recommended code\n",
        "        })\n",
        "\n",
        "    return data\n",
        "# Extract data and write to JSON file (assuming you have 'response_text' defined)\n",
        "data = extract_vulnerability_data(response_text)\n",
        "\n",
        "with open(\"vulnerabilities.json\", \"w\") as f:\n",
        "    json.dump(data, f, indent=4)\n",
        "\n",
        "print(\"Vulnerability data extracted and saved to vulnerabilities.json\")"
      ],
      "metadata": {
        "id": "F3hgDQcbn5YO"
      },
      "id": "F3hgDQcbn5YO",
      "execution_count": null,
      "outputs": []
    },
    {
      "cell_type": "code",
      "source": [
        "from google.colab import files\n",
        "files.download(\"vulnerabilities.json\")"
      ],
      "metadata": {
        "colab": {
          "base_uri": "https://localhost:8080/",
          "height": 17
        },
        "id": "u-jhc3_Qpx9c",
        "executionInfo": {
          "status": "ok",
          "timestamp": 1714505866121,
          "user_tz": 240,
          "elapsed": 194,
          "user": {
            "displayName": "",
            "userId": ""
          }
        },
        "outputId": "c59e23be-4b9c-46b0-958c-a5ba967d0b6f"
      },
      "id": "u-jhc3_Qpx9c",
      "execution_count": null,
      "outputs": [
        {
          "output_type": "display_data",
          "data": {
            "text/plain": [
              "<IPython.core.display.Javascript object>"
            ],
            "application/javascript": [
              "\n",
              "    async function download(id, filename, size) {\n",
              "      if (!google.colab.kernel.accessAllowed) {\n",
              "        return;\n",
              "      }\n",
              "      const div = document.createElement('div');\n",
              "      const label = document.createElement('label');\n",
              "      label.textContent = `Downloading \"${filename}\": `;\n",
              "      div.appendChild(label);\n",
              "      const progress = document.createElement('progress');\n",
              "      progress.max = size;\n",
              "      div.appendChild(progress);\n",
              "      document.body.appendChild(div);\n",
              "\n",
              "      const buffers = [];\n",
              "      let downloaded = 0;\n",
              "\n",
              "      const channel = await google.colab.kernel.comms.open(id);\n",
              "      // Send a message to notify the kernel that we're ready.\n",
              "      channel.send({})\n",
              "\n",
              "      for await (const message of channel.messages) {\n",
              "        // Send a message to notify the kernel that we're ready.\n",
              "        channel.send({})\n",
              "        if (message.buffers) {\n",
              "          for (const buffer of message.buffers) {\n",
              "            buffers.push(buffer);\n",
              "            downloaded += buffer.byteLength;\n",
              "            progress.value = downloaded;\n",
              "          }\n",
              "        }\n",
              "      }\n",
              "      const blob = new Blob(buffers, {type: 'application/binary'});\n",
              "      const a = document.createElement('a');\n",
              "      a.href = window.URL.createObjectURL(blob);\n",
              "      a.download = filename;\n",
              "      div.appendChild(a);\n",
              "      a.click();\n",
              "      div.remove();\n",
              "    }\n",
              "  "
            ]
          },
          "metadata": {}
        },
        {
          "output_type": "display_data",
          "data": {
            "text/plain": [
              "<IPython.core.display.Javascript object>"
            ],
            "application/javascript": [
              "download(\"download_7ee96007-491b-4a8f-b52a-6b7d5e63e4b7\", \"vulnerabilities.json\", 11541)"
            ]
          },
          "metadata": {}
        }
      ]
    },
    {
      "cell_type": "markdown",
      "source": [
        "### **IMPORTANT NOTE**- This use case can have multiple variations as provided below. However, the overall approach to handle the use case can remain same as showcased in this notebook. Additionally, the approach demonstrated within this notebook is just a way to solve this use case. There could be other approaches as well when it comes to solve similar use cases.\n",
        "\n",
        "**Scenario 1**- Run a sample piece of code standalone against Gemini to understand vulnerability and remediation\n",
        "\n",
        "**Scenario 2**-  Run multiple python code files in a batch against gemini Pro 1.5 to understand vulnerability and remediation\n",
        "\n",
        "**Scenario 3**- Use Gemini 1.5 against publically available Git Repos to identify vulnerabilities and proposed remediation\n",
        "\n",
        "Although Gemini 1.5 showcased impressive performance for use case 1 and 2, , the 3rd use case could prove challenging to accomplish from within a notebook environment. Perhaps, Gemini Code Assist with its in built additional code scanning capabilities could be a more preferred way to handle the same.\n",
        "\n",
        "\n",
        "\n"
      ],
      "metadata": {
        "id": "OCxdtAtDXiFo"
      },
      "id": "OCxdtAtDXiFo"
    },
    {
      "cell_type": "markdown",
      "source": [
        "## Conclusions\n",
        "\n",
        "In this notebook we have successfully leveraged Gemini 1.5 multimodal capability to\n",
        "1. analyze multiple python files for potential vulnerabilities\n",
        "2. Used Gemini 1.5 to provide recommendations (both in wordings and in the form of code)\n",
        "3. export the details into csv and json for further analysis\n",
        "\n",
        "Although a potent approach, this technique doesn't automatically apply recommended fixes to established benchmarks. However, these insightful recommendations can be manually implemented and tested against industry-standard benchmarks for deeper analysis"
      ],
      "metadata": {
        "id": "qbk8xpGJUASo"
      },
      "id": "qbk8xpGJUASo"
    }
  ],
  "metadata": {
    "kernelspec": {
      "display_name": "Python 3",
      "language": "python",
      "name": "python3"
    },
    "language_info": {
      "codemirror_mode": {
        "name": "ipython",
        "version": 3
      },
      "file_extension": ".py",
      "mimetype": "text/x-python",
      "name": "python",
      "nbconvert_exporter": "python",
      "pygments_lexer": "ipython3",
      "version": "3.10.10"
    },
    "colab": {
      "provenance": [],
      "name": "code_scanning_and_vulnerability_detection_with_geminipro_1.5.ipynb"
    }
  },
  "nbformat": 4,
  "nbformat_minor": 5
}