{
  "cells": [
    {
      "cell_type": "code",
      "execution_count": null,
      "metadata": {
        "id": "ur8xi4C7S06n"
      },
      "outputs": [],
      "source": [
        "# Copyright 2024 Google LLC\n",
        "#\n",
        "# Licensed under the Apache License, Version 2.0 (the \"License\");\n",
        "# you may not use this file except in compliance with the License.\n",
        "# You may obtain a copy of the License at\n",
        "#\n",
        "#     https://www.apache.org/licenses/LICENSE-2.0\n",
        "#\n",
        "# Unless required by applicable law or agreed to in writing, software\n",
        "# distributed under the License is distributed on an \"AS IS\" BASIS,\n",
        "# WITHOUT WARRANTIES OR CONDITIONS OF ANY KIND, either express or implied.\n",
        "# See the License for the specific language governing permissions and\n",
        "# limitations under the License."
      ]
    },
    {
      "cell_type": "markdown",
      "metadata": {
        "id": "JAPoU8Sm5E6e"
      },
      "source": [
        "# Prompt Design - Best Practices\n",
        "\n",
        "<table align=\"left\">\n",
        "  <td style=\"text-align: center\">\n",
        "    <a href=\"https://colab.research.google.com/github/GoogleCloudPlatform/generative-ai/blob/main/gemini/language/prompts/intro_prompt_design.ipynb\">\n",
        "      <img src=\"https://cloud.google.com/ml-engine/images/colab-logo-32px.png\" alt=\"Google Colaboratory logo\"><br> Open in Colab\n",
        "    </a>\n",
        "  </td>\n",
        "  <td style=\"text-align: center\">\n",
        "    <a href=\"https://console.cloud.google.com/vertex-ai/colab/import/https:%2F%2Fraw.githubusercontent.com%2FGoogleCloudPlatform%2Fgenerative-ai%2Fmain%2Fgemini%2Flanguage%2Fprompts%2Fintro_prompt_design.ipynb\">\n",
        "      <img width=\"32px\" src=\"https://lh3.googleusercontent.com/JmcxdQi-qOpctIvWKgPtrzZdJJK-J3sWE1RsfjZNwshCFgE_9fULcNpuXYTilIR2hjwN\" alt=\"Google Cloud Colab Enterprise logo\"><br> Open in Colab Enterprise\n",
        "    </a>\n",
        "  </td>    \n",
        "  <td style=\"text-align: center\">\n",
        "    <a href=\"https://console.cloud.google.com/vertex-ai/workbench/deploy-notebook?download_url=https://raw.githubusercontent.com/GoogleCloudPlatform/generative-ai/main/gemini/language/prompts/intro_prompt_design.ipynb\">\n",
        "      <img src=\"https://lh3.googleusercontent.com/UiNooY4LUgW_oTvpsNhPpQzsstV5W8F7rYgxgGBD85cWJoLmrOzhVs_ksK_vgx40SHs7jCqkTkCk=e14-rj-sc0xffffff-h130-w32\" alt=\"Vertex AI logo\"><br> Open in Workbench\n",
        "    </a>\n",
        "  </td>\n",
        "  <td style=\"text-align: center\">\n",
        "    <a href=\"https://github.com/GoogleCloudPlatform/generative-ai/blob/main/gemini/language/prompts/intro_prompt_design.ipynb\">\n",
        "      <img src=\"https://cloud.google.com/ml-engine/images/github-logo-32px.png\" alt=\"GitHub logo\"><br> View on GitHub\n",
        "    </a>\n",
        "  </td>\n",
        "</table>"
      ]
    },
    {
      "cell_type": "markdown",
      "metadata": {
        "id": "84f0f73a0f76"
      },
      "source": [
        "| | | |\n",
        "|-|-|-|\n",
        "|Author(s) | [Polong Lin](https://github.com/polong-lin) | [Karl Weinmeister](https://github.com/kweinmeister)|"
      ]
    },
    {
      "cell_type": "markdown",
      "metadata": {
        "id": "tvgnzT1CKxrO"
      },
      "source": [
        "## Overview\n",
        "\n",
        "This notebook covers the essentials of prompt engineering, including some best practices.\n",
        "\n",
        "Learn more about prompt design in the [official documentation](https://cloud.google.com/vertex-ai/docs/generative-ai/text/text-overview).\n",
        "\n",
        "In this notebook, you learn best practices around prompt engineering -- how to design prompts to improve the quality of your responses.\n",
        "\n",
        "This notebook covers the following best practices for prompt engineering:\n",
        "\n",
        "- Be concise\n",
        "- Be specific and well-defined\n",
        "- Ask one task at a time\n",
        "- Turn generative tasks into classification tasks\n",
        "- Improve response quality by including examples"
      ]
    },
    {
      "cell_type": "markdown",
      "metadata": {
        "id": "61RBz8LLbxCR"
      },
      "source": [
        "## Getting Started"
      ]
    },
    {
      "cell_type": "markdown",
      "metadata": {
        "id": "No17Cw5hgx12"
      },
      "source": [
        "### Install Vertex AI SDK and other required packages\n"
      ]
    },
    {
      "cell_type": "code",
      "execution_count": null,
      "metadata": {
        "id": "tFy3H3aPgx12"
      },
      "outputs": [],
      "source": [
        "! pip3 install --upgrade --user --quiet google-cloud-aiplatform \"bigframes<1\""
      ]
    },
    {
      "cell_type": "markdown",
      "metadata": {
        "id": "R5Xep4W9lq-Z"
      },
      "source": [
        "### Restart runtime (Colab only)\n",
        "\n",
        "To use the newly installed packages, you must restart the runtime on Google Colab."
      ]
    },
    {
      "cell_type": "code",
      "execution_count": null,
      "metadata": {
        "id": "XRvKdaPDTznN"
      },
      "outputs": [],
      "source": [
        "import sys\n",
        "\n",
        "if \"google.colab\" in sys.modules:\n",
        "\n",
        "    import IPython\n",
        "\n",
        "    app = IPython.Application.instance()\n",
        "    app.kernel.do_shutdown(True)"
      ]
    },
    {
      "cell_type": "markdown",
      "metadata": {
        "id": "SbmM4z7FOBpM"
      },
      "source": [
        "<div class=\"alert alert-block alert-warning\">\n",
        "<b>⚠️ The kernel is going to restart. Please wait until it is finished before continuing to the next step. ⚠️</b>\n",
        "</div>\n"
      ]
    },
    {
      "cell_type": "markdown",
      "metadata": {
        "id": "dmWOrTJ3gx13"
      },
      "source": [
        "### Authenticate your notebook environment (Colab only)\n",
        "\n",
        "Authenticate your environment on Google Colab.\n"
      ]
    },
    {
      "cell_type": "code",
      "execution_count": null,
      "metadata": {
        "id": "NyKGtVQjgx13"
      },
      "outputs": [],
      "source": [
        "import sys\n",
        "\n",
        "if \"google.colab\" in sys.modules:\n",
        "\n",
        "    from google.colab import auth\n",
        "\n",
        "    auth.authenticate_user()"
      ]
    },
    {
      "cell_type": "markdown",
      "metadata": {
        "id": "DF4l8DTdWgPY"
      },
      "source": [
        "### Set Google Cloud project information and initialize Vertex AI SDK"
      ]
    },
    {
      "cell_type": "code",
      "execution_count": null,
      "metadata": {
        "id": "Nqwi-5ufWp_B"
      },
      "outputs": [],
      "source": [
        "PROJECT_ID = \"your-project-id\"  # @param {type:\"string\"}\n",
        "LOCATION = \"us-central1\"  # @param {type:\"string\"}\n",
        "\n",
        "\n",
        "import vertexai\n",
        "\n",
        "vertexai.init(project=PROJECT_ID, location=LOCATION)"
      ]
    },
    {
      "cell_type": "code",
      "source": [
        "from vertexai.generative_models import GenerationConfig, GenerativeModel, Image, Part"
      ],
      "metadata": {
        "id": "QqRWdPGmW3NJ"
      },
      "execution_count": null,
      "outputs": []
    },
    {
      "cell_type": "markdown",
      "source": [
        "### Load model"
      ],
      "metadata": {
        "id": "OnFPpCRtXRl4"
      }
    },
    {
      "cell_type": "code",
      "source": [
        "model = GenerativeModel(\"gemini-1.0-pro\")"
      ],
      "metadata": {
        "id": "IQYu_9SvXQah"
      },
      "execution_count": null,
      "outputs": []
    },
    {
      "cell_type": "markdown",
      "source": [
        "## Prompt engineering best practices"
      ],
      "metadata": {
        "id": "cVOtUNJ5X0PY"
      }
    },
    {
      "cell_type": "markdown",
      "source": [
        "Prompt engineering is all about how to design your prompts so that the response is what you were indeed hoping to see.\n",
        "\n",
        "The idea of using \"unfancy\" prompts is to minimize the noise in your prompt to reduce the possibility of the LLM misinterpreting the intent of the prompt. Below are a few guidelines on how to engineer \"unfancy\" prompts.\n",
        "\n",
        "In this section, you'll cover the following best practices when engineering prompts:\n",
        "\n",
        "* Be concise\n",
        "* Be specific, and well-defined\n",
        "* Ask one task at a time\n",
        "* Improve response quality by including examples\n",
        "* Turn generative tasks to classification tasks to improve safety"
      ],
      "metadata": {
        "id": "uv_e0fEPX60q"
      }
    },
    {
      "cell_type": "markdown",
      "source": [
        "### Be concise"
      ],
      "metadata": {
        "id": "0pY4XX0OX9_Y"
      }
    },
    {
      "cell_type": "markdown",
      "source": [
        "🛑 Not recommended. The prompt below is unnecessarily verbose."
      ],
      "metadata": {
        "id": "xlRpxyxGYA1K"
      }
    },
    {
      "cell_type": "code",
      "source": [
        "prompt = \"What do you think could be a good name for a flower shop that specializes in selling bouquets of dried flowers more than fresh flowers? Thank you!\"\n",
        "\n",
        "print(model.generate_content(prompt).text)"
      ],
      "metadata": {
        "id": "YKV4G-CfXdbi"
      },
      "execution_count": null,
      "outputs": []
    },
    {
      "cell_type": "markdown",
      "source": [
        "✅ Recommended. The prompt below is to the point and concise."
      ],
      "metadata": {
        "id": "YrJexRHJYnmC"
      }
    },
    {
      "cell_type": "code",
      "source": [
        "prompt = \"Suggest a name for a flower shop that sells bouquets of dried flowers\"\n",
        "\n",
        "print(model.generate_content(prompt).text)"
      ],
      "metadata": {
        "id": "VHetn9lCYrXB"
      },
      "execution_count": null,
      "outputs": []
    },
    {
      "cell_type": "markdown",
      "source": [
        "### Be specific, and well-defined"
      ],
      "metadata": {
        "id": "eXTAvdOHY0OC"
      }
    },
    {
      "cell_type": "markdown",
      "source": [
        "Suppose that you want to brainstorm creative ways to describe Earth."
      ],
      "metadata": {
        "id": "FTH4GEIgY1dp"
      }
    },
    {
      "cell_type": "markdown",
      "source": [
        "🛑 Not recommended. The prompt below is too generic."
      ],
      "metadata": {
        "id": "o5BmXBiGY4KC"
      }
    },
    {
      "cell_type": "code",
      "source": [
        "prompt = \"Tell me about Earth\"\n",
        "\n",
        "print(model.generate_content(prompt).text)"
      ],
      "metadata": {
        "id": "eHBaMvv7Y6mR"
      },
      "execution_count": null,
      "outputs": []
    },
    {
      "cell_type": "markdown",
      "source": [
        "✅ Recommended. The prompt below is specific and well-defined."
      ],
      "metadata": {
        "id": "4iyvEbteZnFL"
      }
    },
    {
      "cell_type": "code",
      "source": [
        "prompt = \"Generate a list of ways that makes Earth unique compared to other planets\"\n",
        "\n",
        "print(model.generate_content(prompt).text)"
      ],
      "metadata": {
        "id": "JQ80z8urZnne"
      },
      "execution_count": null,
      "outputs": []
    },
    {
      "cell_type": "markdown",
      "source": [
        "### Ask one task at a time"
      ],
      "metadata": {
        "id": "R5kmfZYHZsJ7"
      }
    },
    {
      "cell_type": "markdown",
      "source": [
        "🛑 Not recommended. The prompt below has two parts to the question that could be asked separately."
      ],
      "metadata": {
        "id": "rsAezxeYZuUN"
      }
    },
    {
      "cell_type": "code",
      "source": [
        "prompt = \"What's the best method of boiling water and why is the sky blue?\"\n",
        "\n",
        "print(model.generate_content(prompt).text)"
      ],
      "metadata": {
        "id": "ElywPXpuZtWf"
      },
      "execution_count": null,
      "outputs": []
    },
    {
      "cell_type": "markdown",
      "source": [
        "✅ Recommended. The prompts below asks one task a time."
      ],
      "metadata": {
        "id": "ejzahazBZ8vk"
      }
    },
    {
      "cell_type": "code",
      "source": [
        "prompt = \"What's the best method of boiling water?\"\n",
        "\n",
        "print(model.generate_content(prompt).text)"
      ],
      "metadata": {
        "id": "C5ckp2F0Z_Ba"
      },
      "execution_count": null,
      "outputs": []
    },
    {
      "cell_type": "code",
      "source": [
        "prompt = \"Why is the sky blue?\"\n",
        "\n",
        "print(model.generate_content(prompt).text)"
      ],
      "metadata": {
        "id": "KwUzhud4aA89"
      },
      "execution_count": null,
      "outputs": []
    },
    {
      "cell_type": "markdown",
      "source": [
        "### Watch out for hallucinations"
      ],
      "metadata": {
        "id": "PJIL2RTQaGcT"
      }
    },
    {
      "cell_type": "markdown",
      "source": [
        "Although LLMs have been trained on a large amount of data, they can generate text containing statements not grounded in truth or reality; these responses from the LLM are often referred to as \"hallucinations\" due to their limited memorization capabilities. Note that simply prompting the LLM to provide a citation isn’t a fix to this problem, as there are instances of LLMs providing false or inaccurate citations. Dealing with hallucinations is a fundamental challenge of LLMs and an ongoing research area, so it is important to be cognizant that LLMs may seem to give you confident, correct-sounding statements that are in fact incorrect.\n",
        "\n",
        "Note that if you intend to use LLMs for the creative use cases, hallucinating could actually be quite useful."
      ],
      "metadata": {
        "id": "8Y8kYxrSaHE9"
      }
    },
    {
      "cell_type": "markdown",
      "source": [
        "Try the prompt like the one below repeatedly. We set the temperature to 1.0 so that it takes more risks in its choices. It's possible that it may provide an inaccurate, but confident answer."
      ],
      "metadata": {
        "id": "8NY5nAGeaJYS"
      }
    },
    {
      "cell_type": "code",
      "source": [
        "generation_config = GenerationConfig(temperature=1.0)\n",
        "\n",
        "prompt = \"Who was the first elephant to visit the moon?\"\n",
        "\n",
        "print(model.generate_content(prompt, generation_config=generation_config).text)"
      ],
      "metadata": {
        "id": "QALPjEILaM62"
      },
      "execution_count": null,
      "outputs": []
    },
    {
      "cell_type": "markdown",
      "source": [
        "Clearly the chatbot is hallucinating since no elephant has ever flown to the moon. But how do we prevent these kinds of inappropriate questions and more specifically, reduce hallucinations?\n",
        "\n",
        "There is one possible method called the Determine Appropriate Response (DARE) prompt, which cleverly uses the LLM itself to decide whether it should answer a question based on what its mission is.\n",
        "\n",
        "Let's see how it works by creating a chatbot for a travel website with a slight twist."
      ],
      "metadata": {
        "id": "BRkwzbgRbhKt"
      }
    },
    {
      "cell_type": "code",
      "source": [
        "chat = model.start_chat()\n",
        "\n",
        "dare_prompt = \"\"\"Remember that before you answer a question, you must check to see if it complies with your mission.\n",
        "If not, you can say, Sorry I can't answer that question.\"\"\"\n",
        "\n",
        "print(chat.send_message(\n",
        "    f\"\"\"\n",
        "Hello! You are an AI chatbot for a travel web site.\n",
        "Your mission is to provide helpful queries for travelers.\n",
        "\n",
        "{dare_prompt}\n",
        "\"\"\").text)"
      ],
      "metadata": {
        "id": "rB6zJU76biFK"
      },
      "execution_count": null,
      "outputs": []
    },
    {
      "cell_type": "markdown",
      "source": [
        "Suppose we ask a simple question about one of Italy's most famous tourist spots."
      ],
      "metadata": {
        "id": "TpM7gciob-i5"
      }
    },
    {
      "cell_type": "code",
      "source": [
        "prompt = \"What is the best place for sightseeing in Milan, Italy?\"\n",
        "print(chat.send_message(prompt).text)"
      ],
      "metadata": {
        "id": "ZXPhpOMEb_M4"
      },
      "execution_count": null,
      "outputs": []
    },
    {
      "cell_type": "markdown",
      "source": [
        "Now let us pretend to be a not-so-nice user and ask the chatbot a question that is unrelated to travel."
      ],
      "metadata": {
        "id": "WZa-Qcf9cF4A"
      }
    },
    {
      "cell_type": "code",
      "source": [
        "prompt = \"Who was the first elephant to visit the moon?\"\n",
        "print(chat.send_message(prompt).text)"
      ],
      "metadata": {
        "id": "AZKBIDr2cGnu"
      },
      "execution_count": null,
      "outputs": []
    },
    {
      "cell_type": "markdown",
      "source": [
        "You can see that the DARE prompt added a layer of guard rails that prevented the chatbot from veering off course."
      ],
      "metadata": {
        "id": "JiUYIhwpctCy"
      }
    },
    {
      "cell_type": "markdown",
      "source": [
        "### Turn generative tasks into classification tasks to reduce output variability"
      ],
      "metadata": {
        "id": "ZuuDhA37cvmP"
      }
    },
    {
      "cell_type": "markdown",
      "source": [
        "#### Generative tasks lead to higher output variability"
      ],
      "metadata": {
        "id": "kUCUrsUzczmb"
      }
    },
    {
      "cell_type": "markdown",
      "source": [
        "The prompt below results in an open-ended response, useful for brainstorming, but response is highly variable."
      ],
      "metadata": {
        "id": "a1xASHAkc46n"
      }
    },
    {
      "cell_type": "code",
      "source": [
        "prompt = \"I'm a high school student. Recommend me a programming activity to improve my skills.\"\n",
        "\n",
        "print(model.generate_content(prompt).text)"
      ],
      "metadata": {
        "id": "nPfXQWIacwRf"
      },
      "execution_count": null,
      "outputs": []
    },
    {
      "cell_type": "markdown",
      "source": [
        "#### Classification tasks reduces output variability"
      ],
      "metadata": {
        "id": "iAmm9wPYc_1o"
      }
    },
    {
      "cell_type": "markdown",
      "source": [
        "The prompt below results in a choice and may be useful if you want the output to be easier to control."
      ],
      "metadata": {
        "id": "VvRpK_0GdCpf"
      }
    },
    {
      "cell_type": "code",
      "source": [
        "prompt = \"\"\"I'm a high school student. Which of these activities do you suggest and why:\n",
        "a) learn Python\n",
        "b) learn Javascript\n",
        "c) learn Fortran\n",
        "\"\"\"\n",
        "\n",
        "print(model.generate_content(prompt).text)"
      ],
      "metadata": {
        "id": "kYDKh0r2dAqo"
      },
      "execution_count": null,
      "outputs": []
    },
    {
      "cell_type": "markdown",
      "source": [
        "### Improve response quality by including examples"
      ],
      "metadata": {
        "id": "iTd60b1GdIsx"
      }
    },
    {
      "cell_type": "markdown",
      "source": [
        "Another way to improve response quality is to add examples in your prompt. The LLM learns in-context from the examples on how to respond. Typically, one to five examples (shots) are enough to improve the quality of responses. Including too many examples can cause the model to over-fit the data and reduce the quality of responses.\n",
        "\n",
        "Similar to classical model training, the quality and distribution of the examples is very important. Pick examples that are representative of the scenarios that you need the model to learn, and keep the distribution of the examples (e.g. number of examples per class in the case of classification) aligned with your actual distribution."
      ],
      "metadata": {
        "id": "yJi44NejdJYE"
      }
    },
    {
      "cell_type": "markdown",
      "source": [
        "#### Zero-shot prompt"
      ],
      "metadata": {
        "id": "sMbLginWdOKs"
      }
    },
    {
      "cell_type": "markdown",
      "source": [
        "Below is an example of zero-shot prompting, where you don't provide any examples to the LLM within the prompt itself."
      ],
      "metadata": {
        "id": "Crh2Loi2dQ0v"
      }
    },
    {
      "cell_type": "code",
      "source": [
        "prompt = \"\"\"Decide whether a Tweet's sentiment is positive, neutral, or negative.\n",
        "\n",
        "Tweet: I loved the new YouTube video you made!\n",
        "Sentiment:\n",
        "\"\"\"\n",
        "\n",
        "print(model.generate_content(prompt).text)"
      ],
      "metadata": {
        "id": "-7myRc-SdTQ4"
      },
      "execution_count": null,
      "outputs": []
    },
    {
      "cell_type": "markdown",
      "source": [
        "#### One-shot prompt"
      ],
      "metadata": {
        "id": "ucRtPn9SdL64"
      }
    },
    {
      "cell_type": "markdown",
      "source": [
        "Below is an example of one-shot prompting, where you provide one example to the LLM within the prompt to give some guidance on what type of response you want."
      ],
      "metadata": {
        "id": "rs0gQH2vdYBi"
      }
    },
    {
      "cell_type": "code",
      "source": [
        "prompt = \"\"\"Decide whether a Tweet's sentiment is positive, neutral, or negative.\n",
        "\n",
        "Tweet: I loved the new YouTube video you made!\n",
        "Sentiment: positive\n",
        "\n",
        "Tweet: That was awful. Super boring 😠\n",
        "Sentiment:\n",
        "\"\"\"\n",
        "\n",
        "print(model.generate_content(prompt).text)"
      ],
      "metadata": {
        "id": "iEq-KxGYdaT5"
      },
      "execution_count": null,
      "outputs": []
    },
    {
      "cell_type": "markdown",
      "source": [
        "#### Few-shot prompt"
      ],
      "metadata": {
        "id": "JnKLjJzmdfL_"
      }
    },
    {
      "cell_type": "markdown",
      "source": [
        "Below is an example of few-shot prompting, where you provide a few examples to the LLM within the prompt to give some guidance on what type of response you want."
      ],
      "metadata": {
        "id": "6Zv-9F5OdgI_"
      }
    },
    {
      "cell_type": "code",
      "source": [
        "prompt = \"\"\"Decide whether a Tweet's sentiment is positive, neutral, or negative.\n",
        "\n",
        "Tweet: I loved the new YouTube video you made!\n",
        "Sentiment: positive\n",
        "\n",
        "Tweet: That was awful. Super boring 😠\n",
        "Sentiment: negative\n",
        "\n",
        "Tweet: Something surprised me about this video - it was actually original. It was not the same old recycled stuff that I always see. Watch it - you will not regret it.\n",
        "Sentiment:\n",
        "\"\"\"\n",
        "\n",
        "print(model.generate_content(prompt).text)"
      ],
      "metadata": {
        "id": "u37P9tG4dk9S"
      },
      "execution_count": null,
      "outputs": []
    },
    {
      "cell_type": "markdown",
      "source": [
        "#### Choosing between zero-shot, one-shot, few-shot prompting methods"
      ],
      "metadata": {
        "id": "wDMD3xb2dvX6"
      }
    },
    {
      "cell_type": "markdown",
      "source": [
        "Which prompt technique to use will solely depends on your goal. The zero-shot prompts are more open-ended and can give you creative answers, while one-shot and few-shot prompts teach the model how to behave so you can get more predictable answers that are consistent with the examples provided."
      ],
      "metadata": {
        "id": "s92W0YpNdxJp"
      }
    }
  ],
  "metadata": {
    "colab": {
      "toc_visible": true,
      "provenance": []
    },
    "kernelspec": {
      "display_name": "Python 3",
      "name": "python3"
    }
  },
  "nbformat": 4,
  "nbformat_minor": 0
}