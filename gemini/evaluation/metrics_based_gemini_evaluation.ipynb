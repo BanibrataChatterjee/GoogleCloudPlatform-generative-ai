{
  "cells": [
    {
      "cell_type": "code",
      "execution_count": null,
      "metadata": {
        "id": "yWuMGQ-wFSeX"
      },
      "outputs": [],
      "source": [
        "# Copyright 2024 Google LLC\n",
        "#\n",
        "# Licensed under the Apache License, Version 2.0 (the \"License\");\n",
        "# you may not use this file except in compliance with the License.\n",
        "# You may obtain a copy of the License at\n",
        "#\n",
        "#     https://www.apache.org/licenses/LICENSE-2.0\n",
        "#\n",
        "# Unless required by applicable law or agreed to in writing, software\n",
        "# distributed under the License is distributed on an \"AS IS\" BASIS,\n",
        "# WITHOUT WARRANTIES OR CONDITIONS OF ANY KIND, either express or implied.\n",
        "# See the License for the specific language governing permissions and\n",
        "# limitations under the License."
      ]
    },
    {
      "cell_type": "markdown",
      "metadata": {
        "id": "Ha82FcsfmA-j"
      },
      "source": [
        "# Question Answering with Generative Models on Vertex AI\n",
        "\n",
        "\n",
        "<table align=\"left\">\n",
        "  <td style=\"text-align: center\">\n",
        "    <a href=\"https://colab.research.google.com/github/GoogleCloudPlatform/generative-ai/blob/main/gemini/evaluation/metrics_based_gemini_evaluation.ipynb\">\n",
        "      <img src=\"https://cloud.google.com/ml-engine/images/colab-logo-32px.png\" alt=\"Google Colaboratory logo\"><br> Open in Colab\n",
        "    </a>\n",
        "  </td>\n",
        "  <td style=\"text-align: center\">\n",
        "    <a href=\"https://console.cloud.google.com/vertex-ai/colab/import/https:%2F%2Fraw.githubusercontent.com%2FGoogleCloudPlatform%2Fgenerative-ai%2Fmain%2Fgemini%2evaluation%2Fmetrics_based_gemini_evaluation.ipynb\">\n",
        "      <img width=\"32px\" src=\"https://lh3.googleusercontent.com/JmcxdQi-qOpctIvWKgPtrzZdJJK-J3sWE1RsfjZNwshCFgE_9fULcNpuXYTilIR2hjwN\" alt=\"Google Cloud Colab Enterprise logo\"><br> Open in Colab Enterprise\n",
        "    </a>\n",
        "  </td>    \n",
        "  <td style=\"text-align: center\">\n",
        "    <a href=\"https://console.cloud.google.com/vertex-ai/workbench/deploy-notebook?download_url=https://raw.githubusercontent.com/GoogleCloudPlatform/generative-ai/main/gemini/evaluation/metrics_based_gemini_evaluation.ipynb\">\n",
        "      <img src=\"https://lh3.googleusercontent.com/UiNooY4LUgW_oTvpsNhPpQzsstV5W8F7rYgxgGBD85cWJoLmrOzhVs_ksK_vgx40SHs7jCqkTkCk=e14-rj-sc0xffffff-h130-w32\" alt=\"Vertex AI logo\"><br> Open in Workbench\n",
        "    </a>\n",
        "  </td>\n",
        "  <td style=\"text-align: center\">\n",
        "    <a href=\"https://github.com/GoogleCloudPlatform/generative-ai/blob/main/gemini/evaluation/metrics_based_gemini_evaluation.ipynb\">\n",
        "      <img src=\"https://cloud.google.com/ml-engine/images/github-logo-32px.png\" alt=\"GitHub logo\"><br> View on GitHub\n",
        "    </a>\n",
        "  </td>\n",
        "</table>"
      ]
    },
    {
      "cell_type": "markdown",
      "metadata": {
        "id": "wShT6Es7mgr-"
      },
      "source": [
        "| | |\n",
        "|-|-|\n",
        "|Author(s) | [Nishant Welpulwar](https://github.com/Nish2288)|"
      ]
    },
    {
      "cell_type": "markdown",
      "metadata": {
        "id": "IGg65Mx2Fecx"
      },
      "source": [
        "##Overview\n",
        "\n",
        "Generative models like Gemini are powerful language models used for various natural language processing (NLP) tasks like Text classification, Summarization, Question answering and Text Generation.\n",
        "Evaluating Large Language Models (LLMs) is crucial to assess their capabilities and limitations. You will learn how to evaluate Gemini model by using different metrics.\n",
        "\n",
        "The type of metrics used for evaluation depends on the task that you are evaluating. The following table shows the supported tasks and the metrics used to evaluate each task:\n",
        "![image.png](data:image/png;base64,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)\n",
        "\n",
        "## Getting Started\n"
      ]
    },
    {
      "cell_type": "markdown",
      "metadata": {
        "id": "J0LgrC9dFr7N"
      },
      "source": [
        "### Install Vertex AI SDK and other required packages"
      ]
    },
    {
      "cell_type": "code",
      "execution_count": null,
      "metadata": {
        "id": "1MZBfNQJFjCy"
      },
      "outputs": [],
      "source": [
        "!pip install google-cloud-aiplatform --upgrade --user -q \"bigframes<1.0.0\" rouge-score langchain"
      ]
    },
    {
      "cell_type": "markdown",
      "metadata": {
        "id": "e3KNhxq-F1Ec"
      },
      "source": [
        "### Restart runtime\n",
        "\n",
        "To use the newly installed packages in this Jupyter runtime, you must restart the runtime. You can do this by running the cell below, which restarts the current kernel.\n",
        "\n",
        "The restart might take a minute or longer. After its restarted, continue to the next step."
      ]
    },
    {
      "cell_type": "code",
      "execution_count": null,
      "metadata": {
        "id": "2Qkss53rFwph"
      },
      "outputs": [],
      "source": [
        "import IPython\n",
        "\n",
        "app = IPython.Application.instance()\n",
        "app.kernel.do_shutdown(True)"
      ]
    },
    {
      "cell_type": "markdown",
      "metadata": {
        "id": "SGQJFqcHF6tT"
      },
      "source": [
        "### Authenticate your notebook environment (Colab only)\n",
        "\n",
        "If you are running this notebook on Google Colab, run the cell below to authenticate your environment."
      ]
    },
    {
      "cell_type": "code",
      "execution_count": null,
      "metadata": {
        "id": "iTVMxH5ZlnOZ"
      },
      "outputs": [],
      "source": [
        "import sys\n",
        "\n",
        "if \"google.colab\" in sys.modules:\n",
        "    from google.colab import auth\n",
        "\n",
        "    auth.authenticate_user()"
      ]
    },
    {
      "cell_type": "markdown",
      "metadata": {
        "id": "hLK6FkZplyHn"
      },
      "source": [
        "### Set Google Cloud project information and initialize Vertex AI SDK\n",
        "\n",
        "To get started using Vertex AI, you must have an existing Google Cloud project and [enable the Vertex AI API](https://console.cloud.google.com/flows/enableapi?apiid=aiplatform.googleapis.com).\n",
        "\n",
        "Learn more about [setting up a project and a development environment](https://cloud.google.com/vertex-ai/docs/start/cloud-environment)."
      ]
    },
    {
      "cell_type": "code",
      "execution_count": null,
      "metadata": {
        "id": "nWa-vOxJn6D4"
      },
      "outputs": [],
      "source": [
        "PROJECT_ID = \"your-project-id\"  # @param {type:\"string\"}\n",
        "LOCATION = \"us-central1\"  # @param {type:\"string\"}\n",
        "\n",
        "\n",
        "import vertexai\n",
        "\n",
        "vertexai.init(project=PROJECT_ID, location=LOCATION)"
      ]
    },
    {
      "cell_type": "markdown",
      "metadata": {
        "id": "c1fABobhGRL7"
      },
      "source": [
        "### Import libraries"
      ]
    },
    {
      "cell_type": "code",
      "execution_count": null,
      "metadata": {
        "id": "axIzUB5yGY9O"
      },
      "outputs": [],
      "source": [
        "import pandas as pd\n",
        "from langchain.evaluation import ExactMatchStringEvaluator\n",
        "from rouge_score import rouge_scorer\n",
        "from sklearn.metrics import classification_report, f1_score\n",
        "from vertexai.generative_models import GenerativeModel"
      ]
    },
    {
      "cell_type": "markdown",
      "metadata": {
        "id": "XaCSAD2EGfTf"
      },
      "source": [
        "### Import model"
      ]
    },
    {
      "cell_type": "code",
      "execution_count": null,
      "metadata": {
        "id": "5Q1iWUbFGhhz"
      },
      "outputs": [],
      "source": [
        "generation_model = GenerativeModel(\"gemini-1.0-pro-001\")\n",
        "generation_config = {\"max_output_tokens\": 256, \"temperature\": 0.1}"
      ]
    },
    {
      "cell_type": "markdown",
      "metadata": {
        "id": "PaM2rT8iGmfH"
      },
      "source": [
        "## Evaluate Text Classification task\n",
        "\n",
        "In the section below, we will see how to evaluation LLM for classification task.\n",
        "\n",
        "Evaluation metrics: Micro-F1, Macro-F1, Per class F1\n",
        "\n",
        "\n",
        "\n",
        "\n",
        "Following is the sample evaluation data which contains text and ground truth values"
      ]
    },
    {
      "cell_type": "code",
      "execution_count": null,
      "metadata": {
        "id": "a2axHNNqGkXp"
      },
      "outputs": [],
      "source": [
        "eval_data = {\n",
        "    \"text\": [\n",
        "        \"i feel a little stunned but can t imagine what the folks who were working in the studio up until this morning are feeling\",\n",
        "        \"im updating my blog because i feel shitty\",\n",
        "        \"i never make her separate from me because i don t ever want her to feel like i m ashamed with her\",\n",
        "        \"i left with my bouquet of red and yellow tulips under my arm feeling slightly more optimistic than when i arrived\",\n",
        "        \"i was feeling a little vain when i did this one\",\n",
        "        \"i cant walk into a shop anywhere where i do not feel uncomfortable\",\n",
        "        \"i felt anger when at the end of a telephone call\",\n",
        "        \"i explain why i clung to a relationship with a boy who was in many ways immature and uncommitted despite the excitement i should have been feeling for getting accepted into the masters program at the university of virginia\",\n",
        "        \"i like to have the same breathless feeling as a reader eager to see what will happen next\",\n",
        "        \"i jest i feel grumpy tired and pre menstrual which i probably am but then again its only been a week and im about as fit as a walrus on vacation for the summer\",\n",
        "    ],\n",
        "    \"ground_truth\": [\n",
        "        \"surprise\",\n",
        "        \"sadness\",\n",
        "        \"sadness\",\n",
        "        \"joy\",\n",
        "        \"sadness\",\n",
        "        \"fear\",\n",
        "        \"anger\",\n",
        "        \"joy\",\n",
        "        \"joy\",\n",
        "        \"anger\",\n",
        "    ],\n",
        "}"
      ]
    },
    {
      "cell_type": "code",
      "execution_count": null,
      "metadata": {
        "id": "8e-UM-2sHKAY"
      },
      "outputs": [],
      "source": [
        "eval_data_df = pd.DataFrame(eval_data)\n",
        "eval_data_df"
      ]
    },
    {
      "cell_type": "markdown",
      "metadata": {
        "id": "nq-mndeXp91-"
      },
      "source": [
        "Write a function to get text from the evaluation dataset as an input and return output generated by the Gemini model."
      ]
    },
    {
      "cell_type": "code",
      "execution_count": null,
      "metadata": {
        "id": "wPEIeTuDHLwv"
      },
      "outputs": [],
      "source": [
        "def get_prediction(text):\n",
        "    prompt = f\"\"\"Classify the text into one of the classes bellow: \\n[sadness, joy, love, anger, fear, surprise]\\n\\n\n",
        "    text:{text} \\n\n",
        "    sentiment:\n",
        "    \"\"\"\n",
        "    response = generation_model.generate_content(contents=prompt).text\n",
        "\n",
        "    return response"
      ]
    },
    {
      "cell_type": "code",
      "execution_count": null,
      "metadata": {
        "id": "yZ52HXyMHOCf"
      },
      "outputs": [],
      "source": [
        "eval_data_df[\"prediction\"] = eval_data_df[\"text\"].apply(get_prediction)\n",
        "eval_data_df"
      ]
    },
    {
      "cell_type": "markdown",
      "metadata": {
        "id": "_c1TPw_uqXPr"
      },
      "source": [
        "Print classification report based on ground truth and model predictions."
      ]
    },
    {
      "cell_type": "code",
      "execution_count": null,
      "metadata": {
        "id": "mezkGMZDHPSo"
      },
      "outputs": [],
      "source": [
        "print(classification_report(eval_data_df[\"ground_truth\"], eval_data_df[\"prediction\"]))"
      ]
    },
    {
      "cell_type": "markdown",
      "metadata": {
        "id": "H9b4bW5PqVXH"
      },
      "source": [
        "Calculate and print per class F1 score."
      ]
    },
    {
      "cell_type": "code",
      "execution_count": null,
      "metadata": {
        "id": "WTB7KrxbHXew"
      },
      "outputs": [],
      "source": [
        "# per class F1\n",
        "print(f1_score(eval_data_df[\"ground_truth\"], eval_data_df[\"prediction\"], average=None))"
      ]
    },
    {
      "cell_type": "markdown",
      "metadata": {
        "id": "-kiC7Sn1qq2B"
      },
      "source": [
        "Calculate and print Macro-F1 score."
      ]
    },
    {
      "cell_type": "code",
      "execution_count": null,
      "metadata": {
        "id": "SGgru2WRHo5f"
      },
      "outputs": [],
      "source": [
        "# Macro-F1\n",
        "f1_score(eval_data_df[\"ground_truth\"], eval_data_df[\"prediction\"], average=\"macro\")"
      ]
    },
    {
      "cell_type": "markdown",
      "metadata": {
        "id": "iPfushqNq2ga"
      },
      "source": [
        "Calculate and print Micro-F1 score."
      ]
    },
    {
      "cell_type": "code",
      "execution_count": null,
      "metadata": {
        "id": "tRp12hc5Hybu"
      },
      "outputs": [],
      "source": [
        "# Micro-F1\n",
        "f1_score(eval_data_df[\"ground_truth\"], eval_data_df[\"prediction\"], average=\"micro\")"
      ]
    },
    {
      "cell_type": "markdown",
      "metadata": {
        "id": "E32EDpWRH7wb"
      },
      "source": [
        "# Evaluate Text Summarization task\n",
        "\n",
        "Write a prompt which contains text you want to summarize."
      ]
    },
    {
      "cell_type": "code",
      "execution_count": null,
      "metadata": {
        "id": "tA0_oUr2H9i-"
      },
      "outputs": [],
      "source": [
        "prompt = \"\"\"\n",
        "Provide a very short, maximum four sentences, summary for the following article:\n",
        "\n",
        "Our quantum computers work by manipulating qubits in an orchestrated fashion that we call quantum algorithms.\n",
        "The challenge is that qubits are so sensitive that even stray light can cause calculation errors — and the problem worsens as quantum computers grow.\n",
        "This has significant consequences, since the best quantum algorithms that we know for running useful applications require the error rates of our qubits to be far lower than we have today.\n",
        "To bridge this gap, we will need quantum error correction.\n",
        "Quantum error correction protects information by encoding it across multiple physical qubits to form a “logical qubit,” and is believed to be the only way to produce a large-scale quantum computer with error rates low enough for useful calculations.\n",
        "Instead of computing on the individual qubits themselves, we will then compute on logical qubits. By encoding larger numbers of physical qubits on our quantum processor into one logical qubit, we hope to reduce the error rates to enable useful quantum algorithms.\n",
        "\n",
        "Summary:\n",
        "\n",
        "\"\"\"\n",
        "\n",
        "generation_config = {\n",
        "    \"max_output_tokens\": 1024,\n",
        "    \"temperature\": 0.1,\n",
        "    \"top_k\": 40,\n",
        "    \"top_p\": 0.0,\n",
        "}\n",
        "\n",
        "candidate = generation_model.generate_content(\n",
        "    contents=prompt, generation_config=generation_config\n",
        ").text\n",
        "\n",
        "print(candidate)"
      ]
    },
    {
      "cell_type": "markdown",
      "metadata": {
        "id": "mitioVmcrTyW"
      },
      "source": [
        "Following is the \"reference summary\" which will be compaired against the \"model generated summary\"."
      ]
    },
    {
      "cell_type": "code",
      "execution_count": null,
      "metadata": {
        "id": "qqmLgVChIj3P"
      },
      "outputs": [],
      "source": [
        "reference = \"Quantum computers are sensitive to noise and errors. To bridge this gap, we will need quantum error correction. Quantum error correction protects information by encoding across multiple physical qubits to form a “logical qubit”.\""
      ]
    },
    {
      "cell_type": "markdown",
      "metadata": {
        "id": "TO1487vKruOg"
      },
      "source": [
        "Calculate Rouge-L score"
      ]
    },
    {
      "cell_type": "code",
      "execution_count": null,
      "metadata": {
        "id": "cm0c35w4Ilpk"
      },
      "outputs": [],
      "source": [
        "scorer = rouge_scorer.RougeScorer([\"rougeL\"], use_stemmer=False)"
      ]
    },
    {
      "cell_type": "code",
      "execution_count": null,
      "metadata": {
        "id": "S2-L3j7-In6P"
      },
      "outputs": [],
      "source": [
        "scorer.score(reference, candidate)"
      ]
    },
    {
      "cell_type": "markdown",
      "metadata": {
        "id": "3yrrh7pOIqpb"
      },
      "source": [
        "# Evaluate Question Answering task\n",
        "\n",
        "Following is a sample dataset which contains the questions and ground truth."
      ]
    },
    {
      "cell_type": "code",
      "execution_count": null,
      "metadata": {
        "id": "SyfxWLktIvkO"
      },
      "outputs": [],
      "source": [
        "qa_data = {\n",
        "    \"question\": [\n",
        "        \"In a website browser address bar, what does “www” stand for?\",\n",
        "        \"Who was the first woman to win a Nobel Prize\",\n",
        "        \"What is the name of the Earth’s largest ocean?\",\n",
        "    ],\n",
        "    \"answer_groundtruth\": [\"World Wide Web\", \"Marie Curie\", \"The Pacific Ocean\"],\n",
        "}\n",
        "qa_data_df = pd.DataFrame(qa_data)\n",
        "qa_data_df"
      ]
    },
    {
      "cell_type": "markdown",
      "metadata": {
        "id": "3Y502lVtsFJS"
      },
      "source": [
        "Write a function to generate answer for each question in the dataset."
      ]
    },
    {
      "cell_type": "code",
      "execution_count": null,
      "metadata": {
        "id": "9OAq1FkvI0WW"
      },
      "outputs": [],
      "source": [
        "def get_answer(row):\n",
        "    prompt = f\"\"\"Answer the following question as precise as possible.\\n\\n\n",
        "            question: {row}\n",
        "            answer:\n",
        "              \"\"\"\n",
        "    return generation_model.generate_content(\n",
        "        contents=prompt,\n",
        "    ).text\n",
        "\n",
        "\n",
        "qa_data_df[\"answer_prediction\"] = qa_data_df[\"question\"].apply(get_answer)\n",
        "qa_data_df"
      ]
    },
    {
      "cell_type": "code",
      "execution_count": null,
      "metadata": {
        "id": "cfTiQ8jDI2Zk"
      },
      "outputs": [],
      "source": [
        "evaluator = ExactMatchStringEvaluator()"
      ]
    },
    {
      "cell_type": "markdown",
      "metadata": {
        "id": "uFpXD5hxsR6U"
      },
      "source": [
        "Write a function to compare ground truth data and generated answer."
      ]
    },
    {
      "cell_type": "code",
      "execution_count": null,
      "metadata": {
        "id": "fMTNgPpSJpbA"
      },
      "outputs": [],
      "source": [
        "def get_exact_match(pred, ground_truth):\n",
        "    score = evaluator.evaluate_strings(prediction=pred, reference=ground_truth)\n",
        "    return score[\"score\"]"
      ]
    },
    {
      "cell_type": "code",
      "execution_count": null,
      "metadata": {
        "id": "A3pibIJPJsol"
      },
      "outputs": [],
      "source": [
        "qa_data_df[\"exact_match_score\"] = qa_data_df.apply(\n",
        "    lambda row: get_exact_match(row[\"answer_prediction\"], row[\"answer_groundtruth\"]),\n",
        "    axis=1,\n",
        ")\n",
        "\n",
        "print(qa_data_df)"
      ]
    }
  ],
  "metadata": {
    "colab": {
      "name": "metrics_based_gemini_evaluation.ipynb",
      "toc_visible": true
    },
    "kernelspec": {
      "display_name": "Python 3",
      "name": "python3"
    }
  },
  "nbformat": 4,
  "nbformat_minor": 0
}
