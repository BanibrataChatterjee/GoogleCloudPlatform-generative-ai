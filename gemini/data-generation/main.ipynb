{
 "cells": [
  {
   "cell_type": "code",
   "execution_count": null,
   "metadata": {},
   "outputs": [],
   "source": [
    "# Copyright 2024 Google LLC\n",
    "#\n",
    "# Licensed under the Apache License, Version 2.0 (the \"License\");\n",
    "# you may not use this file except in compliance with the License.\n",
    "# You may obtain a copy of the License at\n",
    "#\n",
    "#     https://www.apache.org/licenses/LICENSE-2.0\n",
    "#\n",
    "# Unless required by applicable law or agreed to in writing, software\n",
    "# distributed under the License is distributed on an \"AS IS\" BASIS,\n",
    "# WITHOUT WARRANTIES OR CONDITIONS OF ANY KIND, either express or implied.\n",
    "# See the License for the specific language governing permissions and\n",
    "# limitations under the License."
   ]
  },
  {
   "cell_type": "markdown",
   "metadata": {},
   "source": [
    "Author : [Madhup Sukoon](https://github.com/vagrantism)\n",
    "\n",
    "Reviewer : [Erwin Huizenga](https://github.com/erwinh85)"
   ]
  },
  {
   "cell_type": "markdown",
   "metadata": {},
   "source": [
    "### Context\n",
    "This notebook demonstrates how to leverage Gemini using [Snowfakery](https://snowfakery.readthedocs.io/en/docs/index.html) to generate synthetic data for a given schema at scale. Although this framework can be used for any synthetic-data gneration use-case and schema, the current examples shows the simple use case of generating long (blogs) and short (comments) format contents using a given Wikipedia page as the seed data."
   ]
  },
  {
   "cell_type": "markdown",
   "metadata": {},
   "source": [
    "### Setup\n",
    "The framework uses `pyproject.toml` to list dependencies, which can be installed using `pip` as follows:"
   ]
  },
  {
   "cell_type": "code",
   "execution_count": null,
   "metadata": {},
   "outputs": [],
   "source": [
    "! pip install ."
   ]
  },
  {
   "cell_type": "markdown",
   "metadata": {},
   "source": [
    "### Recipe\n",
    "In order to generate synthetic data, the schema of the synthetic data must be defined first. This is done by creating a `recipe` in a YAML format as demonstrated below, more details on writing recipes can be found [here](https://snowfakery.readthedocs.io/en/latest/#central-concepts) . This particular recipe first creates a random number (between 100 and 500) of `users`. Each `user` object has fields like `first_name`, `last_name` etc. Next, it uses the custom Wikipedia plugin to read a wikipedia page and parse it's contents. This is stored as a `seed` object with fields like `title`, `url` and `section_count`. Then, for each section in the seed wikipedia page, we create a `blog_ideas` object. To convert this wikipedia section content into a long-format blog post, we use the Gemini model along with a simple prompt defined in `synthetic_data_generation/prompts/blog_generator.jinja`. For every blog generated, we also generate a `blog_post_comments` object which uses Gemini to generate a comment using a random row from `users` as an author."
   ]
  },
  {
   "cell_type": "code",
   "execution_count": null,
   "metadata": {},
   "outputs": [],
   "source": [
    "recipe = \"\"\"\n",
    "- plugin: synthetic_data_generation.plugins.Wikipedia\n",
    "- plugin: synthetic_data_generation.plugins.Gemini\n",
    "- option: wiki_title\n",
    "\n",
    "- object : users\n",
    "  count : ${{random_number(min=100, max=500)}}\n",
    "  fields :\n",
    "    first_name : ${{fake.FirstName}}\n",
    "    last_name : ${{fake.FirstName}}\n",
    "    age:\n",
    "      random_number:\n",
    "        min: 18\n",
    "        max: 95\n",
    "    email : ${{fake.Email}}\n",
    "    phone : ${{fake.PhoneNumber}}\n",
    "    interests : ${{fake.Bs}}\n",
    "    postal_code : ${{fake.Postalcode}}\n",
    "    organization : ${{fake.Company}}\n",
    "    profession : ${{fake.Job}}\n",
    "\n",
    "- object : seeds\n",
    "  count : 1\n",
    "  fields :\n",
    "    __seed :\n",
    "      - Wikipedia.get_page :\n",
    "        title : ${{wiki_title}}\n",
    "    title : ${{__seed.title}}\n",
    "    url : ${{__seed.url}}\n",
    "    section_count : ${{__seed.sections | length}}\n",
    "\n",
    "  friends:\n",
    "    - object : blog_ideas\n",
    "      count : ${{seeds.section_count}}\n",
    "      fields :\n",
    "        seed_id : ${{seeds.id}}\n",
    "        section : ${{(seeds.__seed.sections.keys() | list)[child_index]}}\n",
    "        body : ${{seeds.__seed.sections[section]}}\n",
    "\n",
    "      friends:\n",
    "        - object : blog_posts\n",
    "          fields :\n",
    "            blog_idea_id : ${{blog_ideas.id}}\n",
    "            title : ${{seeds.title}} - ${{blog_ideas.section}}\n",
    "            body :\n",
    "              - Gemini.generate:\n",
    "                prompt_name : blog_generator.jinja\n",
    "                idea_title : ${{title}}\n",
    "                idea_body : ${{blog_ideas.body}}\n",
    "            author : Gemini\n",
    "          friends:\n",
    "            - object : blog_post_comments\n",
    "              fields :\n",
    "                blog_post_id : ${{blog_posts.id}}\n",
    "                author_id :\n",
    "                  random_reference : users\n",
    "                author_email : ${{author_id.email}}\n",
    "                comment :\n",
    "                  - Gemini.generate:\n",
    "                    prompt_name : comment_generator.jinja\n",
    "                    first_name : ${{author_id.first_name}}\n",
    "                    last_name : ${{author_id.last_name}}\n",
    "                    age : ${{author_id.age}}\n",
    "                    interests : ${{author_id.interests}}\n",
    "                    organization : ${{author_id.organization}}\n",
    "                    profession : ${{author_id.profession}}\n",
    "                    blog_title : ${{blog_posts.title}}\n",
    "                    blog_body : ${{blog_posts.body | truncate(1000)}}\n",
    "\"\"\""
   ]
  },
  {
   "cell_type": "markdown",
   "metadata": {},
   "source": [
    "### Running the recipe\n",
    "\n",
    "The follwoing cell uses the recipe defined above with the `Python_(programming_language)` Wikipedia page, and generates the data into CSV files."
   ]
  },
  {
   "cell_type": "code",
   "execution_count": null,
   "metadata": {},
   "outputs": [],
   "source": [
    "import vertexai\n",
    "from io import StringIO\n",
    "from snowfakery import generate_data\n",
    "\n",
    "vertexai.init(project=\"<YOUR-GCP-PROJECT>\", location=\"us-central1\")\n",
    "\n",
    "generate_data(\n",
    "    StringIO(recipe),\n",
    "    output_format=\"csv\",\n",
    "    output_folder=\"outputs\",\n",
    "    user_options={\"wiki_title\": \"Python_(programming_language)\"},\n",
    ")"
   ]
  }
 ],
 "metadata": {
  "kernelspec": {
   "display_name": ".venv",
   "language": "python",
   "name": "python3"
  },
  "language_info": {
   "codemirror_mode": {
    "name": "ipython",
    "version": 3
   },
   "file_extension": ".py",
   "mimetype": "text/x-python",
   "name": "python",
   "nbconvert_exporter": "python",
   "pygments_lexer": "ipython3",
   "version": "3.11.7"
  }
 },
 "nbformat": 4,
 "nbformat_minor": 2
}
