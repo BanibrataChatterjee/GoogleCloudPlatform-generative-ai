{
 "cells": [
  {
   "cell_type": "code",
   "execution_count": null,
   "metadata": {
    "id": "ijGzTHJJUCPY",
    "tags": []
   },
   "outputs": [],
   "source": [
    "# Copyright 2024 Google LLC\n",
    "#\n",
    "# Licensed under the Apache License, Version 2.0 (the \"License\");\n",
    "# you may not use this file except in compliance with the License.\n",
    "# You may obtain a copy of the License at\n",
    "#\n",
    "#     https://www.apache.org/licenses/LICENSE-2.0\n",
    "#\n",
    "# Unless required by applicable law or agreed to in writing, software\n",
    "# distributed under the License is distributed on an \"AS IS\" BASIS,\n",
    "# WITHOUT WARRANTIES OR CONDITIONS OF ANY KIND, either express or implied.\n",
    "# See the License for the specific language governing permissions and\n",
    "# limitations under the License."
   ]
  },
  {
   "cell_type": "markdown",
   "metadata": {
    "id": "VEqbX8OhE8y9"
   },
   "source": [
    "# Working with Parallel Function Calls and Mutiple Function Responses in Gemini\n",
    "\n",
    "<table align=\"left\">\n",
    "  <td style=\"text-align: center\">\n",
    "    <a href=\"https://colab.research.google.com/github/GoogleCloudPlatform/generative-ai/blob/main/gemini/function-calling/parallel_function_calling.ipynb\">\n",
    "      <img src=\"https://cloud.google.com/ml-engine/images/colab-logo-32px.png\" alt=\"Google Colaboratory logo\"><br> Open in Colab\n",
    "    </a>\n",
    "  </td>\n",
    "  <td style=\"text-align: center\">\n",
    "    <a href=\"https://console.cloud.google.com/vertex-ai/colab/import/https:%2F%2Fraw.githubusercontent.com%2FGoogleCloudPlatform%2Fgenerative-ai%2Fmain%2Fgemini%2Ffunction-calling%2Fparallel_function_calling.ipynb\">\n",
    "      <img width=\"32px\" src=\"https://lh3.googleusercontent.com/JmcxdQi-qOpctIvWKgPtrzZdJJK-J3sWE1RsfjZNwshCFgE_9fULcNpuXYTilIR2hjwN\" alt=\"Google Cloud Colab Enterprise logo\"><br> Open in Colab Enterprise\n",
    "    </a>\n",
    "  </td>    \n",
    "  <td style=\"text-align: center\">\n",
    "    <a href=\"https://console.cloud.google.com/vertex-ai/workbench/deploy-notebook?download_url=https://raw.githubusercontent.com/GoogleCloudPlatform/generative-ai/main/gemini/function-calling/parallel_function_calling.ipynb\">\n",
    "      <img src=\"https://lh3.googleusercontent.com/UiNooY4LUgW_oTvpsNhPpQzsstV5W8F7rYgxgGBD85cWJoLmrOzhVs_ksK_vgx40SHs7jCqkTkCk=e14-rj-sc0xffffff-h130-w32\" alt=\"Vertex AI logo\"><br> Open in Workbench\n",
    "    </a>\n",
    "  </td>\n",
    "  <td style=\"text-align: center\">\n",
    "    <a href=\"https://github.com/GoogleCloudPlatform/generative-ai/blob/main/gemini/function-calling/parallel_function_calling.ipynb\">\n",
    "      <img src=\"https://cloud.google.com/ml-engine/images/github-logo-32px.png\" alt=\"GitHub logo\"><br> View on GitHub\n",
    "    </a>\n",
    "  </td>\n",
    "</table>"
   ]
  },
  {
   "cell_type": "markdown",
   "metadata": {
    "id": "ZNJC1SkrsJY3"
   },
   "source": [
    "| | |\n",
    "|-|-|\n",
    "|Author(s) | [Kristopher Overholt](https://github.com/koverholt) |"
   ]
  },
  {
   "cell_type": "markdown",
   "metadata": {
    "id": "CkHPv2myT2cx"
   },
   "source": [
    "## Overview\n",
    "\n",
    "Gemini is a family of generative AI models developed by Google DeepMind that is designed for multimodal use cases. The Gemini API gives you access to the Gemini Pro and Gemini Pro Vision models.\n",
    "\n",
    "[Function Calling](https://cloud.google.com/vertex-ai/docs/generative-ai/multimodal/function-calling) in Gemini lets you create a description of a function in your code, then pass that description to a language model in a request. The response from the model includes the name of a function that matches the description and the arguments to call it with.\n",
    "\n",
    "In this tutorial, you'll learn how to work with parallel function calling within Gemini Function Calling, including:\n",
    "    \n",
    "- Handling parallel function calls for repeated functions\n",
    "- Working with parallel function calls across multiple functions\n",
    "- Extracting multiple function calls from a Gemini response\n",
    "- Calling multiple functions and returning them to Gemini\n",
    "\n",
    "### What is parallel function calling?\n",
    "\n",
    "In previous versions of the Gemini Pro models (prior to May 2024), Gemini would return two or more chained function calls if the model determined that more than one function call was needed before returning a natural language summary. Here, a chained function call means that you get the first function call response, return the API data to Gemini, get a second function call response, return the API data to Gemini, and so on.\n",
    "\n",
    "In recent versions of specific Gemini Pro models (from May 2024 and on), Gemini has the ability to return two or more function calls in parallel (i.e., two or more function call responses within the first function call response object). Parallel function calling allows you to fan out and parallelize your API calls or other actions that you perform in your application code, so you don't have to work through each function call response and return one-by-one! Refer to the [Gemini Function Calling documentation](https://cloud.google.com/vertex-ai/generative-ai/docs/multimodal/function-calling) for more information on which Gemini model versions support parallel function calling.\n",
    "\n",
    "\n",
    "<img src=\"https://storage.googleapis.com/github-repo/generative-ai/gemini/function-calling/parallel-function-calling-in-gemini.png\" width=\"80%\">"
   ]
  },
  {
   "cell_type": "markdown",
   "metadata": {
    "id": "r11Gu7qNgx1p"
   },
   "source": [
    "## Getting Started\n"
   ]
  },
  {
   "cell_type": "markdown",
   "metadata": {
    "id": "No17Cw5hgx12"
   },
   "source": [
    "### Install Vertex AI SDK and other required packages"
   ]
  },
  {
   "cell_type": "code",
   "execution_count": 1,
   "metadata": {
    "id": "tFy3H3aPgx12",
    "tags": []
   },
   "outputs": [],
   "source": [
    "!pip3 install --upgrade --user --quiet google-cloud-aiplatform google-play-scraper"
   ]
  },
  {
   "cell_type": "markdown",
   "metadata": {
    "id": "R5Xep4W9lq-Z"
   },
   "source": [
    "### Restart runtime\n",
    "\n",
    "To use the newly installed packages in this Jupyter runtime, you must restart the runtime. You can do this by running the cell below, which restarts the current kernel.\n",
    "\n",
    "The restart might take a minute or longer. After it's restarted, continue to the next step."
   ]
  },
  {
   "cell_type": "code",
   "execution_count": 2,
   "metadata": {
    "id": "XRvKdaPDTznN",
    "tags": []
   },
   "outputs": [],
   "source": [
    "import IPython\n",
    "\n",
    "app = IPython.Application.instance()\n",
    "app.kernel.do_shutdown(True)"
   ]
  },
  {
   "cell_type": "markdown",
   "metadata": {
    "id": "SbmM4z7FOBpM"
   },
   "source": [
    "<div class=\"alert alert-block alert-warning\">\n",
    "<b>⚠️ The kernel is going to restart. Please wait until it is finished before continuing to the next step. ⚠️</b>\n",
    "</div>\n",
    "\n"
   ]
  },
  {
   "cell_type": "markdown",
   "metadata": {
    "id": "dmWOrTJ3gx13"
   },
   "source": [
    "### Authenticate your notebook environment (Colab only)\n",
    "\n",
    "If you are running this notebook on Google Colab, run the cell below to authenticate your environment."
   ]
  },
  {
   "cell_type": "code",
   "execution_count": 3,
   "metadata": {
    "id": "NyKGtVQjgx13",
    "tags": []
   },
   "outputs": [],
   "source": [
    "import sys\n",
    "\n",
    "if \"google.colab\" in sys.modules:\n",
    "    from google.colab import auth\n",
    "\n",
    "    auth.authenticate_user()"
   ]
  },
  {
   "cell_type": "markdown",
   "metadata": {
    "id": "DF4l8DTdWgPY"
   },
   "source": [
    "### Set Google Cloud project information and initialize Vertex AI SDK\n",
    "\n",
    "To get started using Vertex AI, you must have an existing Google Cloud project and [enable the Vertex AI API](https://console.cloud.google.com/flows/enableapi?apiid=aiplatform.googleapis.com).\n",
    "\n",
    "Learn more about [setting up a project and a development environment](https://cloud.google.com/vertex-ai/docs/start/cloud-environment)."
   ]
  },
  {
   "cell_type": "code",
   "execution_count": 4,
   "metadata": {
    "id": "Nqwi-5ufWp_B",
    "tags": []
   },
   "outputs": [],
   "source": [
    "PROJECT_ID = \"[your-project-id]\"  # @param {type:\"string\"}\n",
    "LOCATION = \"us-central1\"  # @param {type:\"string\"}\n",
    "\n",
    "import vertexai\n",
    "\n",
    "vertexai.init(project=PROJECT_ID, location=LOCATION)"
   ]
  },
  {
   "cell_type": "markdown",
   "metadata": {
    "id": "jXHfaVS66_01"
   },
   "source": [
    "## Code Examples\n",
    "\n",
    "### Import libraries"
   ]
  },
  {
   "cell_type": "code",
   "execution_count": 5,
   "metadata": {
    "id": "lslYAvw37JGQ",
    "tags": []
   },
   "outputs": [],
   "source": [
    "import google_play_scraper\n",
    "from IPython.display import display, Markdown\n",
    "from vertexai.generative_models import (\n",
    "    FunctionDeclaration,\n",
    "    GenerativeModel,\n",
    "    GenerationConfig,\n",
    "    Part,\n",
    "    Tool,\n",
    ")"
   ]
  },
  {
   "cell_type": "markdown",
   "metadata": {},
   "source": [
    "### Define helper function"
   ]
  },
  {
   "cell_type": "code",
   "execution_count": 6,
   "metadata": {},
   "outputs": [],
   "source": [
    "# Helper function to extract one or more function calls from a Gemini Function Call response\n",
    "def extract_function_calls(response):\n",
    "    function_calls = []\n",
    "    for part in response.candidates[0].content.parts:\n",
    "        if part.function_call:\n",
    "            function_call_dict = {part.function_call.name: {}}\n",
    "            for key, value in part.function_call.args.items():\n",
    "                function_call_dict[part.function_call.name][key] = value\n",
    "            function_calls.append(function_call_dict)\n",
    "    return function_calls"
   ]
  },
  {
   "cell_type": "markdown",
   "metadata": {
    "id": "j3KHAr6BsJY6"
   },
   "source": [
    "## Example: Parallel function calls on the same function\n",
    "\n",
    "One great use case for parallel function calling is when you have a function that only accepts one parameter per API call.\n",
    "\n",
    "With Gemini Function Calling, rather than having to send N number of API requests to Gemini for N number of parameters and external API calls, you can send a single API request to Gemini, receive N number of Function Call Responses within a single response, make N number of external API calls, then return all of the API responses to Gemini in bulk. And you can do all of this without any extra configuration in your function declarations, tools, or requests to Gemini.\n",
    "\n",
    "In this example, you'll do exactly that and use Parallel Function Calling in Gemini to ask about multiple app categories in the [Google Play Store](https://play.google.com/store/apps). Let's get started!\n",
    "\n",
    "### Write function declarations and wrap them in a tool\n",
    "\n",
    "First, define your function declarations and tool using the Gemini SDK for Python:"
   ]
  },
  {
   "cell_type": "code",
   "execution_count": 7,
   "metadata": {},
   "outputs": [],
   "source": [
    "search_google_play_store = FunctionDeclaration(\n",
    "    name=\"search_google_play_store\",\n",
    "    description=\"Search for apps in the Google Play Store\",\n",
    "    parameters={\n",
    "        \"type\": \"object\",\n",
    "        \"properties\": {\n",
    "            \"query\": {\n",
    "                \"type\": \"string\",\n",
    "                \"description\": \"Query to search for in the Google Play Store\",\n",
    "            },\n",
    "        },\n",
    "    },\n",
    ")\n",
    "\n",
    "google_play_store_tool = Tool(\n",
    "    function_declarations=[\n",
    "        search_google_play_store,\n",
    "    ],\n",
    ")"
   ]
  },
  {
   "cell_type": "markdown",
   "metadata": {},
   "source": [
    "### Initialize the Gemini model\n",
    "\n",
    "Now you can initialize Gemini using a [model version that supports parallel function calling](https://cloud.google.com/vertex-ai/generative-ai/docs/multimodal/function-calling):"
   ]
  },
  {
   "cell_type": "code",
   "execution_count": 8,
   "metadata": {},
   "outputs": [],
   "source": [
    "model = GenerativeModel(\n",
    "    \"gemini-1.5-pro-preview-0514\",\n",
    "    generation_config=GenerationConfig(temperature=0),\n",
    "    tools=[google_play_store_tool],\n",
    ")\n",
    "chat = model.start_chat()"
   ]
  },
  {
   "cell_type": "markdown",
   "metadata": {},
   "source": [
    "### Send prompt to Gemini\n",
    "\n",
    "Send a prompt to Gemini that includes a phrase that you expect to invoke two or more function calls.\n",
    "\n",
    "In this case we'll ask about three different app categories to search for in the Google Play Store:"
   ]
  },
  {
   "cell_type": "code",
   "execution_count": 9,
   "metadata": {
    "id": "aD4UJ6BcsJY6",
    "outputId": "5db50fd0-8a27-4980-d79e-65c593411c4c",
    "scrolled": true
   },
   "outputs": [],
   "source": [
    "prompt = \"\"\"\n",
    "Search for apps related to calendars and scheduling, apps for learning new languages,\n",
    "and games related to word puzzles and provide a summary of your findings\n",
    "\"\"\"\n",
    "\n",
    "response = chat.send_message(prompt)"
   ]
  },
  {
   "cell_type": "markdown",
   "metadata": {},
   "source": [
    "### Extract function names and parameters\n",
    "\n",
    "Use the helper function that we created earlier to extract the function names and function parameters for each Function Call that Gemini responded with:"
   ]
  },
  {
   "cell_type": "code",
   "execution_count": 10,
   "metadata": {},
   "outputs": [
    {
     "data": {
      "text/plain": [
       "[{'search_google_play_store': {'query': 'calendar scheduling'}},\n",
       " {'search_google_play_store': {'query': 'learn new languages'}},\n",
       " {'search_google_play_store': {'query': 'word puzzle games'}}]"
      ]
     },
     "execution_count": 10,
     "metadata": {},
     "output_type": "execute_result"
    }
   ],
   "source": [
    "function_calls = extract_function_calls(response)\n",
    "function_calls"
   ]
  },
  {
   "cell_type": "markdown",
   "metadata": {},
   "source": [
    "Note that the helper function is just one way to extract fields from the structured Function Call response. You can modify the helper function or write your own custom code to extract and get the fields into your preferred format or data structure!\n",
    "\n",
    "### Make external API calls\n",
    "\n",
    "Next, you'll loop through the Function Calls and use the `google_play_scraper` to make an API call for each search query:"
   ]
  },
  {
   "cell_type": "code",
   "execution_count": 11,
   "metadata": {},
   "outputs": [
    {
     "name": "stdout",
     "output_type": "stream",
     "text": [
      "{'search_google_play_store': {'query': 'calendar scheduling'}}\n",
      "{'search_google_play_store': {'query': 'learn new languages'}}\n",
      "{'search_google_play_store': {'query': 'word puzzle games'}}\n"
     ]
    }
   ],
   "source": [
    "api_response = []\n",
    "\n",
    "# Loop through multiple function calls\n",
    "for function_call in function_calls:\n",
    "    print(function_call)\n",
    "\n",
    "    # Make external API call\n",
    "    result = google_play_scraper.search(\n",
    "        function_call[\"search_google_play_store\"][\"query\"],\n",
    "        n_hits=10,\n",
    "    )\n",
    "\n",
    "    # Collect all API calls\n",
    "    api_response.append(str(result))"
   ]
  },
  {
   "cell_type": "markdown",
   "metadata": {},
   "source": [
    "### Get a natural language summary\n",
    "\n",
    "Now you can return all of the API responses to Gemini so that it can generate a natural language summary:"
   ]
  },
  {
   "cell_type": "code",
   "execution_count": 12,
   "metadata": {
    "scrolled": true
   },
   "outputs": [
    {
     "data": {
      "text/markdown": [
       "<font style='color:blue'>I found several highly-rated apps in each category:\n",
       "\n",
       "**Calendars and Scheduling:**\n",
       "\n",
       "* **Google Calendar:** A popular choice with a variety of views, automatic event integration from Gmail, and task management features. \n",
       "* **Business Calendar 2:** Offers a comprehensive suite of tools for planning events and tasks, syncing with various calendar services, and customizable widgets.\n",
       "* **DigiCal Calendar Agenda:** Known for its clean design and customization options, including various agenda views, widgets, and global weather forecasts.\n",
       "* **TimeTree - Shared Calendar:** Focuses on shared calendars for families, couples, or work, with features like notifications, memos, and in-event chat.\n",
       "\n",
       "**Learning New Languages:**\n",
       "\n",
       "* **Duolingo:** A gamified approach to language learning with bite-sized lessons, progress tracking, and a vast user community.\n",
       "* **Babbel:** Offers tailored courses designed by language experts, focusing on real-life conversations and pronunciation improvement.\n",
       "* **Busuu:** Emphasizes community interaction with native speakers for language exchange and feedback, along with structured courses and revision tools.\n",
       "* **Rosetta Stone:** Utilizes its immersive Dynamic Immersion method, focusing on contextual learning and speaking confidence.\n",
       "* **Memrise:** Uses real-life scenarios, native speaker videos, and AI conversation practice to build vocabulary and fluency.\n",
       "\n",
       "**Word Puzzle Games:**\n",
       "\n",
       "* **Word Search - Word Puzzle Game:** A classic word search game with thousands of levels, various themes, and a relax mode for casual play.\n",
       "* **Wordscapes:** Combines word searching, anagrams, and crosswords with beautiful scenery backgrounds for a relaxing yet challenging experience.\n",
       "* **Word Search Explorer:** Offers a quest-based word search experience with hundreds of puzzles, vocabulary-building features, and offline play.\n",
       "* **Word Connect:** Features a vast dictionary, multiple game modes, daily bonuses, and a vintage style.\n",
       "* **Words of Wonders:**  A crossword game that takes you on a journey around the world, improving vocabulary and spelling skills. \n"
      ],
      "text/plain": [
       "<IPython.core.display.Markdown object>"
      ]
     },
     "metadata": {},
     "output_type": "display_data"
    }
   ],
   "source": [
    "# Return the API response to Gemini\n",
    "response = chat.send_message(\n",
    "    Part.from_function_response(\n",
    "        name=\"search_google_play_store\",\n",
    "        response={\n",
    "            \"content\": api_response,\n",
    "        },\n",
    "    ),\n",
    ")\n",
    "display(Markdown(\"<font style='color:blue'>\" + response.text))"
   ]
  },
  {
   "cell_type": "markdown",
   "metadata": {},
   "source": [
    "And you're done with no extra configuration necessary!\n",
    "\n",
    "Note that Gemini will use the information in your `FunctionDeclarations` to determine if and when it should return parallel Function Call responses, or it will determine which Function Calls need to be made before others to get information that a subsequent Function Call depends on. So be sure to prepare for this behavior in your logic and application code!"
   ]
  },
  {
   "cell_type": "markdown",
   "metadata": {
    "id": "j3KHAr6BsJY6"
   },
   "source": [
    "## Example: Parallel function calls across multiple functions\n",
    "\n",
    "Another good fit for parallel function calling is when you have multiple, independent functions that you want to be able to call in parallel, which reduces the number of consecutive Gemini API calls that you need to make and ideally reduces the overall response time for the end user who is waiting for a natural language response.\n",
    "\n",
    "In this example, you'll use Parallel Function Calling in Gemini to ask about multiple aspects of an app in the [Google Play Store](https://play.google.com/store/apps).\n",
    "\n",
    "### Write function declarations and wrap them in a tool\n",
    "\n",
    "First, define your function declarations and tool using the Gemini SDK for Python:"
   ]
  },
  {
   "cell_type": "code",
   "execution_count": 13,
   "metadata": {},
   "outputs": [],
   "source": [
    "get_app_info = FunctionDeclaration(\n",
    "    name=\"get_app_info\",\n",
    "    description=\"Get detailed information about an app in the Google Play Store\",\n",
    "    parameters={\n",
    "        \"type\": \"object\",\n",
    "        \"properties\": {\n",
    "            \"appId\": {\n",
    "                \"type\": \"string\",\n",
    "                \"description\": \"App ID to get detailed information about\",\n",
    "            },\n",
    "        },\n",
    "    },\n",
    ")\n",
    "\n",
    "get_app_reviews = FunctionDeclaration(\n",
    "    name=\"get_app_reviews\",\n",
    "    description=\"Get reviews for an app in the Google Play Store\",\n",
    "    parameters={\n",
    "        \"type\": \"object\",\n",
    "        \"properties\": {\n",
    "            \"appId\": {\n",
    "                \"type\": \"string\",\n",
    "                \"description\": \"App ID to get reviews for\",\n",
    "            },\n",
    "        },\n",
    "    },\n",
    ")\n",
    "\n",
    "get_app_permissions = FunctionDeclaration(\n",
    "    name=\"get_app_permissions\",\n",
    "    description=\"Get permissions for an app in the Google Play Store\",\n",
    "    parameters={\n",
    "        \"type\": \"object\",\n",
    "        \"properties\": {\n",
    "            \"appId\": {\n",
    "                \"type\": \"string\",\n",
    "                \"description\": \"App ID to get permissions for\",\n",
    "            },\n",
    "        },\n",
    "    },\n",
    ")\n",
    "\n",
    "google_play_store_tool = Tool(\n",
    "    function_declarations=[\n",
    "        get_app_info,\n",
    "        get_app_reviews,\n",
    "        get_app_permissions,\n",
    "    ],\n",
    ")"
   ]
  },
  {
   "cell_type": "markdown",
   "metadata": {},
   "source": [
    "### Initialize the Gemini model\n",
    "\n",
    "Now you can initialize Gemini using a [model version that supports parallel function calling](https://cloud.google.com/vertex-ai/generative-ai/docs/multimodal/function-calling):"
   ]
  },
  {
   "cell_type": "code",
   "execution_count": 14,
   "metadata": {},
   "outputs": [],
   "source": [
    "model = GenerativeModel(\n",
    "    \"gemini-1.5-pro-preview-0514\",\n",
    "    generation_config=GenerationConfig(temperature=0),\n",
    "    tools=[google_play_store_tool],\n",
    ")\n",
    "chat = model.start_chat()"
   ]
  },
  {
   "cell_type": "markdown",
   "metadata": {},
   "source": [
    "### Send prompt to Gemini\n",
    "\n",
    "Send a prompt to Gemini that includes a phrase that you expect to invoke two or more function calls.\n",
    "\n",
    "In this case we'll ask about three different types of detail to look up for a given app ID in the Google Play Store:"
   ]
  },
  {
   "cell_type": "code",
   "execution_count": 15,
   "metadata": {
    "id": "aD4UJ6BcsJY6",
    "outputId": "5db50fd0-8a27-4980-d79e-65c593411c4c",
    "scrolled": true
   },
   "outputs": [],
   "source": [
    "prompt = \"\"\"\n",
    "Show detailed app information, review sentiment, and permissions about the Google Chrome app with the app ID: com.android.chrome\n",
    "\"\"\"\n",
    "\n",
    "response = chat.send_message(prompt)"
   ]
  },
  {
   "cell_type": "markdown",
   "metadata": {},
   "source": [
    "### Extract function names and parameters\n",
    "\n",
    "Use the helper function that we created earlier to extract the function names and function parameters for each Function Call that Gemini responded with:"
   ]
  },
  {
   "cell_type": "code",
   "execution_count": 16,
   "metadata": {},
   "outputs": [
    {
     "data": {
      "text/plain": [
       "[{'get_app_info': {'appId': 'com.android.chrome'}},\n",
       " {'get_app_reviews': {'appId': 'com.android.chrome'}},\n",
       " {'get_app_permissions': {'appId': 'com.android.chrome'}}]"
      ]
     },
     "execution_count": 16,
     "metadata": {},
     "output_type": "execute_result"
    }
   ],
   "source": [
    "function_calls = extract_function_calls(response)\n",
    "function_calls"
   ]
  },
  {
   "cell_type": "markdown",
   "metadata": {},
   "source": [
    "### Make external API calls\n",
    "\n",
    "Next, you'll loop through the Function Calls and use the `google_play_scraper` to make an API call to retrieve different types of information for the app:"
   ]
  },
  {
   "cell_type": "code",
   "execution_count": 17,
   "metadata": {},
   "outputs": [
    {
     "name": "stdout",
     "output_type": "stream",
     "text": [
      "{'get_app_info': {'appId': 'com.android.chrome'}}\n",
      "{'get_app_reviews': {'appId': 'com.android.chrome'}}\n",
      "{'get_app_permissions': {'appId': 'com.android.chrome'}}\n"
     ]
    }
   ],
   "source": [
    "api_response = []\n",
    "# Loop through multiple function calls\n",
    "\n",
    "for function_call in function_calls:\n",
    "    print(function_call)\n",
    "\n",
    "    # Extract the function name\n",
    "    for key in function_call:\n",
    "        function_name = key\n",
    "\n",
    "    # Determine which external API call to make\n",
    "    if function_name == \"get_app_info\":\n",
    "        result = google_play_scraper.app(\n",
    "            function_call[\"get_app_info\"][\"appId\"],\n",
    "        )\n",
    "\n",
    "    if function_name == \"get_app_reviews\":\n",
    "        result, _ = google_play_scraper.reviews(\n",
    "            function_call[\"get_app_reviews\"][\"appId\"],\n",
    "            sort=google_play_scraper.Sort.RATING,\n",
    "            count=5,\n",
    "        )\n",
    "\n",
    "    if function_name == \"get_app_permissions\":\n",
    "        result = google_play_scraper.permissions(\n",
    "            function_call[\"get_app_permissions\"][\"appId\"],\n",
    "        )\n",
    "\n",
    "    # Collect all API calls\n",
    "    api_response.append(str(result))"
   ]
  },
  {
   "cell_type": "markdown",
   "metadata": {},
   "source": [
    "### Get a natural language summary\n",
    "\n",
    "Now you can return all of the API responses to Gemini so that it can generate a natural language summary:"
   ]
  },
  {
   "cell_type": "code",
   "execution_count": 18,
   "metadata": {
    "scrolled": true
   },
   "outputs": [
    {
     "data": {
      "text/markdown": [
       "<font style='color:blue'>Here is some information about the Google Chrome app:\n",
       "\n",
       "**Detailed App Information:**\n",
       "\n",
       "* Google Chrome is a fast, easy-to-use, and secure web browser. \n",
       "* It offers personalized news articles, quick links to favorite sites, downloads, and Google Search and Google Translate built-in.\n",
       "* Users can browse fast, use Incognito mode, access Chrome across devices, and protect their phone with Google Safe Browsing.\n",
       "\n",
       "**Review Sentiment:**\n",
       "\n",
       "* Recent reviews are generally positive, praising Chrome's speed, simplicity, and reliability. \n",
       "* Some users have reported issues with recent updates, such as problems with the password manager and page refreshing. \n",
       "\n",
       "**Permissions:**\n",
       "\n",
       "Chrome requests access to a wide range of permissions, including:\n",
       "\n",
       "* **Device & app history:** Read your web bookmarks and history\n",
       "* **Identity:** Add or remove accounts, find accounts on the device\n",
       "* **Contacts:** Find accounts on the device, read your contacts\n",
       "* **Location:** Approximate and precise location\n",
       "* **Phone:** Read phone status and identity\n",
       "* **Photos/Media/Files:** Modify or delete the contents of your USB storage, read the contents of your USB storage\n",
       "* **Camera:** Take pictures and videos\n",
       "* **Microphone:** Record audio\n",
       "* **Wi-Fi connection information:** View Wi-Fi connections\n",
       "* **Other:** Access Bluetooth settings, change network connectivity, change your audio settings, control Near Field Communication, control vibration, full network access, install shortcuts, pair with Bluetooth devices, prevent device from sleeping, read Google service configuration, read sync settings, reorder running apps, run at startup, toggle sync on and off, use accounts on the device, view network connections, write web bookmarks and history \n",
       "\n",
       "Let me know if you have any other questions about the Google Chrome app. \n"
      ],
      "text/plain": [
       "<IPython.core.display.Markdown object>"
      ]
     },
     "metadata": {},
     "output_type": "display_data"
    }
   ],
   "source": [
    "# Return the API response to Gemini\n",
    "response = chat.send_message(\n",
    "    Part.from_function_response(\n",
    "        name=\"get_app_info\",\n",
    "        response={\n",
    "            \"content\": api_response,\n",
    "        },\n",
    "    ),\n",
    ")\n",
    "\n",
    "display(Markdown(\"<font style='color:blue'>\" + response.text))"
   ]
  },
  {
   "cell_type": "markdown",
   "metadata": {
    "id": "GpDvGrmtsJY8"
   },
   "source": [
    "And you're done! You successfully made parallel function calls for a couple of different use cases. Feel free to adapt the code samples here for your own use cases and applications! Or try another notebook to continue exploring other functionality in the Gemini API!\n",
    "\n",
    "Happy parallel function calling!"
   ]
  }
 ],
 "metadata": {
  "colab": {
   "provenance": [],
   "toc_visible": true
  },
  "environment": {
   "kernel": "conda-root-py",
   "name": "workbench-notebooks.m115",
   "type": "gcloud",
   "uri": "gcr.io/deeplearning-platform-release/workbench-notebooks:m115"
  },
  "kernelspec": {
   "display_name": "Python 3 (ipykernel)",
   "language": "python",
   "name": "python3"
  },
  "language_info": {
   "codemirror_mode": {
    "name": "ipython",
    "version": 3
   },
   "file_extension": ".py",
   "mimetype": "text/x-python",
   "name": "python",
   "nbconvert_exporter": "python",
   "pygments_lexer": "ipython3",
   "version": "3.11.8"
  }
 },
 "nbformat": 4,
 "nbformat_minor": 4
}
