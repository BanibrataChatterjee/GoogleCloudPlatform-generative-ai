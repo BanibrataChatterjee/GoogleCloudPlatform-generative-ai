{
  "cells": [
    {
      "cell_type": "markdown",
      "id": "a4e65cc7",
      "metadata": {},
      "source": [
        "##### Create a Vertex Search App\n",
        "[Follow These Steps](https://cloud.google.com/generative-ai-app-builder/docs/try-enterprise-search#unstructured-data_1) to leverage Vertex Agent Builder to create a Search App with unstructured data store on Google Cloud Console. \n",
        "\n",
        "Once the Search App is created, you can leverage the [Vertex AI Agent Builder Python API reference documentation](https://cloud.google.com/python/docs/reference/discoveryengine/latest) to get the search results as shown below. "
      ]
    },
    {
      "cell_type": "code",
      "execution_count": null,
      "id": "3ccdfab7-856a-4a68-93b3-f31f845a3380",
      "metadata": {
        "id": "3ccdfab7-856a-4a68-93b3-f31f845a3380",
        "tags": []
      },
      "outputs": [],
      "source": [
        "!pip install google-cloud-discoveryengine"
      ]
    },
    {
      "cell_type": "code",
      "execution_count": null,
      "id": "4e72f64a",
      "metadata": {},
      "outputs": [],
      "source": [
        "from typing import List\n",
        "from google.api_core.client_options import ClientOptions"
      ]
    },
    {
      "cell_type": "code",
      "execution_count": null,
      "id": "cOQJaGx2Ik1_",
      "metadata": {
        "id": "cOQJaGx2Ik1_"
      },
      "outputs": [],
      "source": [
        "from google.cloud import discoveryengine_v1 as discoveryengine"
      ]
    },
    {
      "cell_type": "code",
      "execution_count": null,
      "id": "314d0c58-7528-4340-bb5a-d9592c05a022",
      "metadata": {
        "id": "314d0c58-7528-4340-bb5a-d9592c05a022",
        "tags": []
      },
      "outputs": [],
      "source": [
        "project_id = \"YOUR_PROJECT_ID\"\n",
        "location = \"global\"          # Values: \"global\", \"us\", \"eu\"\n",
        "engine_id = \"YOUR_VERTEX_SEARCH_APP_ID\"\n",
        "search_query = \"When does Alphabet plan to get to net zero?\""
      ]
    },
    {
      "cell_type": "code",
      "execution_count": null,
      "id": "032717d5-55f8-4ef2-ac45-719c77832b8d",
      "metadata": {
        "id": "032717d5-55f8-4ef2-ac45-719c77832b8d",
        "tags": []
      },
      "outputs": [],
      "source": [
        "CUSTOM_PROMPT = \"\"\"\n",
        "    <PERSONA_AND_GOAL>\n",
        "      You are a helpful assistant knowledgeable about Alphabet's quarterly earning reports.\n",
        "      Be mindful of the timeframe user inputs\n",
        "      Help user with their queries related with Alphabet\n",
        "      Only respond with relevant information available in Grounding Knowledge snippet.\n",
        "      If no relevant snippet is available, respond with you don't know\n",
        "      Do not make up information\n",
        "    </PERSONA_AND_GOAL>\n",
        "\"\"\""
      ]
    },
    {
      "cell_type": "code",
      "execution_count": null,
      "id": "6b5a4bcb-0c51-445c-8809-e451c3550a1f",
      "metadata": {
        "id": "6b5a4bcb-0c51-445c-8809-e451c3550a1f",
        "tags": []
      },
      "outputs": [],
      "source": [
        "def search_spec():\n",
        "    content_search_spec = discoveryengine.SearchRequest.ContentSearchSpec(\n",
        "        snippet_spec=discoveryengine.SearchRequest.ContentSearchSpec.SnippetSpec(\n",
        "            return_snippet=True),\n",
        "        summary_spec=discoveryengine.SearchRequest.ContentSearchSpec.SummarySpec(\n",
        "            summary_result_count=10,\n",
        "            include_citations=True,\n",
        "            ignore_adversarial_query=True,\n",
        "            ignore_non_summary_seeking_query=True,\n",
        "            model_prompt_spec=discoveryengine.SearchRequest.ContentSearchSpec.SummarySpec.ModelPromptSpec(\n",
        "                preamble=CUSTOM_PROMPT),\n",
        "            model_spec=discoveryengine.SearchRequest.ContentSearchSpec.SummarySpec.ModelSpec(\n",
        "                version=\"stable\",),\n",
        "        ),\n",
        "    )\n",
        "    return content_search_spec"
      ]
    },
    {
      "cell_type": "code",
      "execution_count": null,
      "id": "c9b57408-9b02-4356-bdab-04e4aa434f93",
      "metadata": {
        "id": "c9b57408-9b02-4356-bdab-04e4aa434f93",
        "tags": []
      },
      "outputs": [],
      "source": [
        "def search_sample( project_id: str, location: str, engine_id: str, search_query: str):\n",
        "\n",
        "    client_options = (ClientOptions(api_endpoint=f\"{location}-discoveryengine.googleapis.com\")\n",
        "        if location != \"global\"\n",
        "        else None\n",
        "    )\n",
        "\n",
        "    client = discoveryengine.SearchServiceClient(client_options=client_options)\n",
        "\n",
        "    serving_config = f\"projects/{project_id}/locations/{location}/collections/default_collection/engines/{engine_id}/servingConfigs/default_config\"\n",
        "\n",
        "    content_search_spec = search_spec()\n",
        "\n",
        "    request = discoveryengine.SearchRequest(\n",
        "        serving_config=serving_config,\n",
        "        query=search_query,\n",
        "        page_size=10,\n",
        "        content_search_spec=content_search_spec,\n",
        "        query_expansion_spec=discoveryengine.SearchRequest.QueryExpansionSpec(\n",
        "            condition=discoveryengine.SearchRequest.QueryExpansionSpec.Condition.AUTO,\n",
        "        ),\n",
        "        spell_correction_spec=discoveryengine.SearchRequest.SpellCorrectionSpec(\n",
        "            mode=discoveryengine.SearchRequest.SpellCorrectionSpec.Mode.AUTO\n",
        "        ),\n",
        "    )\n",
        "    response = client.search(request)\n",
        "\n",
        "    return response"
      ]
    },
    {
      "cell_type": "code",
      "execution_count": null,
      "id": "eaf1f63c-165d-4696-bb6f-8ac0cc577208",
      "metadata": {
        "id": "eaf1f63c-165d-4696-bb6f-8ac0cc577208",
        "tags": []
      },
      "outputs": [],
      "source": [
        "search_response = search_sample(project_id, location, engine_id, search_query)"
      ]
    },
    {
      "cell_type": "code",
      "execution_count": null,
      "id": "bc30b959-d756-43a2-ab56-a6d370bad738",
      "metadata": {
        "id": "bc30b959-d756-43a2-ab56-a6d370bad738",
        "outputId": "97075858-bcac-410d-8537-1d8bc1fb5d2d",
        "tags": []
      },
      "outputs": [
        {
          "data": {
            "text/plain": [
              "summary: \"Alphabet plans to achieve net-zero emissions across all of its operations and value chain by 2030.\"\n",
              "citation_metadata {\n",
              "  citations {\n",
              "    end_index: 98\n",
              "    sources {\n",
              "    }\n",
              "    sources {\n",
              "      reference_index: 1\n",
              "    }\n",
              "    sources {\n",
              "      reference_index: 2\n",
              "    }\n",
              "    sources {\n",
              "      reference_index: 3\n",
              "    }\n",
              "  }\n",
              "}\n",
              "references {\n",
              "  title: \" GOOG 10-K 2023\"\n",
              "  document: \"projects/801452371447/locations/global/collections/default_collection/dataStores/alphabet-contracts1-id/branches/0/documents/8fe77e14325ccbf8ea9dbb1043ae96d7\"\n",
              "}\n",
              "references {\n",
              "  title: \"2022_alphabet_annual_report\"\n",
              "  document: \"projects/801452371447/locations/global/collections/default_collection/dataStores/alphabet-contracts1-id/branches/0/documents/276cee4c4086600303bc561483691f9a\"\n",
              "}\n",
              "references {\n",
              "  title: \"GOOG 10-K Q4 2022\"\n",
              "  document: \"projects/801452371447/locations/global/collections/default_collection/dataStores/alphabet-contracts1-id/branches/0/documents/e528afa38b3a739bc98bfff0e840fe98\"\n",
              "}\n",
              "references {\n",
              "  title: \"GOOG 10-K Q4 2021\"\n",
              "  document: \"projects/801452371447/locations/global/collections/default_collection/dataStores/alphabet-contracts1-id/branches/0/documents/6b54401a15ed256af6c224a022afabde\"\n",
              "}\n",
              "references {\n",
              "  title: \"GOOG 10-K Q4 2020\"\n",
              "  document: \"projects/801452371447/locations/global/collections/default_collection/dataStores/alphabet-contracts1-id/branches/0/documents/772b0d0199005155b0155eacd898eae8\"\n",
              "}\n",
              "references {\n",
              "  title: \"GOOG 10-Q Q1 2022\"\n",
              "  document: \"projects/801452371447/locations/global/collections/default_collection/dataStores/alphabet-contracts1-id/branches/0/documents/a583b7c6aa8d02401393c8cac277d2d0\"\n",
              "}\n",
              "references {\n",
              "  title: \"2022_Q4_Earnings_Transcript\"\n",
              "  document: \"projects/801452371447/locations/global/collections/default_collection/dataStores/alphabet-contracts1-id/branches/0/documents/aa01e4e93efa1eb6a57dd711d8d6b151\"\n",
              "}\n",
              "references {\n",
              "  title: \"GOOG 10-Q Q2 2019 \"\n",
              "  document: \"projects/801452371447/locations/global/collections/default_collection/dataStores/alphabet-contracts1-id/branches/0/documents/797b2cadaf04d2f48c89430ab2dfc8e8\"\n",
              "}\n",
              "references {\n",
              "  title: \"GOOG 10-Q Q1 2019\"\n",
              "  document: \"projects/801452371447/locations/global/collections/default_collection/dataStores/alphabet-contracts1-id/branches/0/documents/0371b29bfa18ac43896b86a7b63d00b0\"\n",
              "}\n",
              "references {\n",
              "  title: \"2021_Q4_Earnings_Transcript\"\n",
              "  document: \"projects/801452371447/locations/global/collections/default_collection/dataStores/alphabet-contracts1-id/branches/0/documents/402b45d21795df17d081b1a191fc83c1\"\n",
              "}"
            ]
          },
          "execution_count": 27,
          "metadata": {},
          "output_type": "execute_result"
        }
      ],
      "source": [
        "search_response.summary.summary_with_metadata"
      ]
    },
    {
      "cell_type": "code",
      "execution_count": null,
      "id": "c91f8a6e-cd8f-4ca8-ac76-5be697976d57",
      "metadata": {
        "id": "c91f8a6e-cd8f-4ca8-ac76-5be697976d57"
      },
      "outputs": [],
      "source": []
    },
    {
      "cell_type": "code",
      "execution_count": null,
      "id": "ebf03321-75b1-46f0-8387-1cfd24c02799",
      "metadata": {
        "id": "ebf03321-75b1-46f0-8387-1cfd24c02799"
      },
      "outputs": [],
      "source": []
    },
    {
      "cell_type": "code",
      "execution_count": null,
      "id": "b4afb1a1-03c4-4ebf-8ef3-0373029b7535",
      "metadata": {
        "id": "b4afb1a1-03c4-4ebf-8ef3-0373029b7535"
      },
      "outputs": [],
      "source": []
    }
  ],
  "metadata": {
    "colab": {
      "provenance": []
    },
    "environment": {
      "kernel": "conda-root-py",
      "name": "workbench-notebooks.m117",
      "type": "gcloud",
      "uri": "us-docker.pkg.dev/deeplearning-platform-release/gcr.io/workbench-notebooks:m117"
    },
    "kernelspec": {
      "display_name": "Python 3 (ipykernel) (Local) (Local)",
      "language": "python",
      "name": "conda-root-py"
    },
    "language_info": {
      "codemirror_mode": {
        "name": "ipython",
        "version": 3
      },
      "file_extension": ".py",
      "mimetype": "text/x-python",
      "name": "python",
      "nbconvert_exporter": "python",
      "pygments_lexer": "ipython3",
      "version": "3.10.13"
    }
  },
  "nbformat": 4,
  "nbformat_minor": 5
}
