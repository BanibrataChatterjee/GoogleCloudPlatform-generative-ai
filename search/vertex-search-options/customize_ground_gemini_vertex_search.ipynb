{
  "cells": [
    {
      "cell_type": "markdown",
      "id": "20db9b97-46f6-487b-89b7-a58d97a79784",
      "metadata": {
        "id": "20db9b97-46f6-487b-89b7-a58d97a79784"
      },
      "source": [
        "#### Grounding with Gemini on Vertex Search Datastore\n",
        "\n",
        "[Follow These Steps](https://cloud.google.com/generative-ai-app-builder/docs/try-enterprise-search#unstructured-data_1) to leverage Vertex Agent Builder to create a Search App with unstructured data store on Google Cloud Console. \n",
        "\n",
        "Once the search app is created, you can leverage it's Vertex Search Datastore as a [Grounding Source](https://cloud.google.com/vertex-ai/generative-ai/docs/model-reference/grounding) with Gemini Models directly to ground responses in your data."
      ]
    },
    {
      "cell_type": "code",
      "execution_count": null,
      "id": "5b66cabe-9298-408b-bfca-d664544237de",
      "metadata": {
        "collapsed": true,
        "id": "5b66cabe-9298-408b-bfca-d664544237de",
        "jupyter": {
          "outputs_hidden": true
        },
        "outputId": "d42ec852-26e0-4599-8152-2ce1b335a1a0",
        "tags": []
      },
      "outputs": [],
      "source": [
        "!pip install --upgrade google-cloud-aiplatform\n",
        "# !gcloud auth application-default login"
      ]
    },
    {
      "cell_type": "code",
      "execution_count": null,
      "id": "36201361-8e2c-4f11-8df6-d2a631798a83",
      "metadata": {
        "id": "36201361-8e2c-4f11-8df6-d2a631798a83",
        "tags": []
      },
      "outputs": [],
      "source": [
        "import vertexai\n",
        "\n",
        "from vertexai.preview.generative_models import grounding\n",
        "from vertexai.generative_models import GenerativeModel, GenerationConfig, Tool"
      ]
    },
    {
      "cell_type": "code",
      "execution_count": null,
      "id": "3e9dd4be-4583-44e9-a27d-91768d8ba4d2",
      "metadata": {
        "id": "3e9dd4be-4583-44e9-a27d-91768d8ba4d2",
        "tags": []
      },
      "outputs": [],
      "source": [
        "PROJECT_ID = \"YOUR_PROJECT_ID\"\n",
        "VERTEX_SEARCH_DATASTORE= \"YOUR_DATASTORE_PATH\" # data_store_path = \"projects/{project_id}/locations/{location}/collections/default_collection/dataStores/{data_store_id}\"\n"
      ]
    },
    {
      "cell_type": "code",
      "execution_count": null,
      "id": "b4462bd6-4f37-41c8-a29c-e77125d2b75c",
      "metadata": {
        "id": "b4462bd6-4f37-41c8-a29c-e77125d2b75c",
        "tags": []
      },
      "outputs": [],
      "source": [
        "prompt_system_instruction = \"\"\"\n",
        "<PERSONA_AND_GOAL>\n",
        "  You are a helpful assistant knowledgeable about Alphabet's quarterly earning reports.\n",
        "  Help user with their queries related with Alphabet by following given <INSTRUCTIONS> and <CONTEXT>\n",
        "  only respond with information available in Grounding Knowledge store.\n",
        "</PERSONA_AND_GOAL>\n",
        "\n",
        "<INSTRUCTIONS>\n",
        "- Always refer to the tool and Ground your answers in it\n",
        "- Understand the retrieved snippet by the tool and only use that information to help users\n",
        "- For supporting references, you can provide the Grounding tool snippets verbatim, and any other info like page number\n",
        "- For Information not available in the tool, mention you dont have access to the information.\n",
        "- Output \"answer\" should be I dont know when the user question is irrelevant or outside the <CONTEXT>\n",
        "- Leave \"reference_snippet\" as null if you are not sure about the page and text snippet\n",
        "<INSTRUCTIONS>\n",
        "\n",
        "<CONTEXT>\n",
        "  Grounding tool finds most relevant snippets from the Alphabet earning reports data store.\n",
        "  Use the information provided by the tool as your knowledge base.\n",
        "</CONTEXT>\n",
        "\n",
        "<CONSTRAINTS>\n",
        "- ONLY use information available from the Grounding tool\n",
        "</CONSTRAINTS>\n",
        "\n",
        "<OUTPUT_FORMAT>\n",
        "- Response should ALWAYS be in following JSON Output with answer and reference_snippet as keys, e.g. {\"answer\": , \"reference_snippet\": }\n",
        "</OUTPUT_FORMAT>\n",
        "\"\"\""
      ]
    },
    {
      "cell_type": "code",
      "execution_count": null,
      "id": "b5fe992c-0a75-488c-9f23-a191061e3f1a",
      "metadata": {
        "id": "b5fe992c-0a75-488c-9f23-a191061e3f1a",
        "tags": []
      },
      "outputs": [],
      "source": [
        "tool = Tool.from_retrieval(\n",
        "    grounding.Retrieval(grounding.VertexAISearch(datastore=VERTEX_SEARCH_DATASTORE))\n",
        ")"
      ]
    },
    {
      "cell_type": "code",
      "execution_count": null,
      "id": "0fc99f65-58f6-4402-a480-8fb3a6560949",
      "metadata": {
        "id": "0fc99f65-58f6-4402-a480-8fb3a6560949",
        "tags": []
      },
      "outputs": [],
      "source": [
        "vertexai.init(project=PROJECT_ID, location=\"us-central1\")\n",
        "\n",
        "model = GenerativeModel(\n",
        "    model_name=\"gemini-1.5-pro-001\",\n",
        "    tools=[tool],\n",
        "    system_instruction=[prompt_system_instruction]\n",
        ")"
      ]
    },
    {
      "cell_type": "code",
      "execution_count": null,
      "id": "1426ce20-3eae-4987-816b-35145efdcdef",
      "metadata": {
        "id": "1426ce20-3eae-4987-816b-35145efdcdef",
        "tags": []
      },
      "outputs": [],
      "source": [
        "prompt = \"When does Alphabet plan to get to net zero?\"\n",
        "response = model.generate_content(\n",
        "    prompt,\n",
        "    generation_config=GenerationConfig(\n",
        "        temperature=0.0\n",
        "    ),\n",
        ")"
      ]
    },
    {
      "cell_type": "code",
      "execution_count": null,
      "id": "029325e0-fd9d-4f7f-a96e-4736fa56ff40",
      "metadata": {
        "id": "029325e0-fd9d-4f7f-a96e-4736fa56ff40",
        "outputId": "84275ac7-76f2-467f-baf8-12972e6f504c",
        "tags": []
      },
      "outputs": [
        {
          "data": {
            "text/plain": [
              "'```json\\n{\\n \"answer\": \"Alphabet has set a goal to achieve net zero emissions across its operations and value chain by 2030.\",\\n \"reference_snippet\": \"Our goal to operate our data\\\\ncenter and office campuses on 24/7 carbon\\\\nfree energy by 2030 remains one of our greatest\\\\nambitions, and we have made significant progress –\\\\nthis is part of our broader goal to achieve net zero\\\\nemissions across our operations and value chain,\\\\nincluding consumer hardware products, by 2030.\"\\n}\\n```'"
            ]
          },
          "execution_count": 35,
          "metadata": {},
          "output_type": "execute_result"
        }
      ],
      "source": [
        "response.candidates[0].content.parts[0].text"
      ]
    },
    {
      "cell_type": "code",
      "execution_count": null,
      "id": "6f419cf4-9951-4044-a08c-536d12e75092",
      "metadata": {
        "id": "6f419cf4-9951-4044-a08c-536d12e75092",
        "outputId": "b93dedf9-6b9f-4d82-b613-e88474e39834",
        "tags": []
      },
      "outputs": [
        {
          "data": {
            "text/plain": [
              "grounding_attributions {\n",
              "  segment {\n",
              "    end_index: 477\n",
              "  }\n",
              "  confidence_score: 0.9883381724357605\n",
              "  retrieved_context {\n",
              "    uri: \"gs://cloud-samples-data/gen-app-builder/search/alphabet-investor-pdfs/2022_alphabet_annual_report.pdf\"\n",
              "    title: \"2022_alphabet_annual_report\"\n",
              "  }\n",
              "}\n",
              "retrieval_queries: \"When does Alphabet plan to get to net zero?\""
            ]
          },
          "execution_count": 36,
          "metadata": {},
          "output_type": "execute_result"
        }
      ],
      "source": [
        "response.candidates[0].grounding_metadata"
      ]
    },
    {
      "cell_type": "code",
      "execution_count": null,
      "id": "660bf196-32a2-497d-be18-e3aa0c77592b",
      "metadata": {
        "id": "660bf196-32a2-497d-be18-e3aa0c77592b",
        "tags": []
      },
      "outputs": [],
      "source": []
    },
    {
      "cell_type": "code",
      "execution_count": null,
      "id": "9b00617a-b7f9-43bf-a262-ec011d40d369",
      "metadata": {
        "id": "9b00617a-b7f9-43bf-a262-ec011d40d369"
      },
      "outputs": [],
      "source": []
    }
  ],
  "metadata": {
    "colab": {
      "provenance": []
    },
    "environment": {
      "kernel": "7ee659dd4f3825dc7eb335bb-python3",
      "name": "workbench-notebooks.m117",
      "type": "gcloud",
      "uri": "us-docker.pkg.dev/deeplearning-platform-release/gcr.io/workbench-notebooks:m117"
    },
    "kernelspec": {
      "display_name": "Python 3 on cluster-9921-festus6 (Remote)",
      "language": "python",
      "name": "7ee659dd4f3825dc7eb335bb-python3"
    },
    "language_info": {
      "codemirror_mode": {
        "name": "ipython",
        "version": 3
      },
      "file_extension": ".py",
      "mimetype": "text/x-python",
      "name": "python",
      "nbconvert_exporter": "python",
      "pygments_lexer": "ipython3",
      "version": "3.11.9"
    }
  },
  "nbformat": 4,
  "nbformat_minor": 5
}
