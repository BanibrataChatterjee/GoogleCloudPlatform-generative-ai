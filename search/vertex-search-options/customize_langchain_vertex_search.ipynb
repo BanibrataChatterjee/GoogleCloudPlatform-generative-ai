{
  "cells": [
    {
      "cell_type": "markdown",
      "id": "47a19f06",
      "metadata": {},
      "source": [
        "#### Leverage Vertex Search as [Langchain Retriever](https://python.langchain.com/v0.2/docs/integrations/retrievers/google_vertex_ai_search/)\n",
        "\n",
        "[Follow These Steps](https://cloud.google.com/generative-ai-app-builder/docs/try-enterprise-search#unstructured-data_1) to leverage Vertex Agent Builder to create a Search App with unstructured data store on Google Cloud Console. \n",
        "\n",
        "You can then leverage the created Vertex DataStore as Langchain Retriever"
      ]
    },
    {
      "cell_type": "code",
      "execution_count": null,
      "id": "e0e718ed",
      "metadata": {},
      "outputs": [],
      "source": [
        "!pip install langchain_google_community\n",
        "!pip install langchain langchain-google-vertexai\n",
        "!pip install langchain-google-community[vertexaisearch]"
      ]
    },
    {
      "cell_type": "code",
      "execution_count": null,
      "id": "1b3adf90-a8ba-4809-8ea7-e05cac391fe5",
      "metadata": {
        "id": "1b3adf90-a8ba-4809-8ea7-e05cac391fe5",
        "tags": []
      },
      "outputs": [],
      "source": [
        "from langchain_google_vertexai import VertexAI\n",
        "from langchain_google_community import VertexAISearchRetriever\n",
        "from langchain_google_community import VertexAIMultiTurnSearchRetriever\n",
        "\n",
        "from langchain.chains import RetrievalQAWithSourcesChain\n"
      ]
    },
    {
      "cell_type": "code",
      "execution_count": null,
      "id": "7146c228-56ea-4a49-9482-469702797381",
      "metadata": {
        "id": "7146c228-56ea-4a49-9482-469702797381",
        "tags": []
      },
      "outputs": [],
      "source": [
        "PROJECT_ID = \"YOUR_PROJECT_ID\"  # Set to your Project ID\n",
        "LOCATION_ID = \"global\"  # Set to your data store location\n",
        "SEARCH_ENGINE_ID = \"YOUR_VERTEX_SEARCH_APP_ID\"  # Set to your search app ID\n",
        "DATA_STORE_ID = \"YOUR_VERTEX_SEARCH_DATASTORE_ID\"  # Set to your data store ID\n",
        "MODEL = \"gemini-1.5-pro-001\""
      ]
    },
    {
      "cell_type": "code",
      "execution_count": null,
      "id": "52b005c7-2f19-4d9c-9112-02260dc44db1",
      "metadata": {
        "id": "52b005c7-2f19-4d9c-9112-02260dc44db1",
        "tags": []
      },
      "outputs": [],
      "source": [
        "llm = VertexAI(model_name=MODEL)"
      ]
    },
    {
      "cell_type": "code",
      "execution_count": null,
      "id": "bd6c9585-aa05-4061-947e-c50bc2a1015b",
      "metadata": {
        "id": "bd6c9585-aa05-4061-947e-c50bc2a1015b",
        "tags": []
      },
      "outputs": [],
      "source": [
        "retriever = VertexAISearchRetriever(\n",
        "    project_id=PROJECT_ID,\n",
        "    location_id=LOCATION_ID,\n",
        "    data_store_id=DATA_STORE_ID,\n",
        "    get_extractive_answers=True,\n",
        "    max_documents=10,\n",
        "    max_extractive_segment_count=1,\n",
        "    max_extractive_answer_count=5,\n",
        ")"
      ]
    },
    {
      "cell_type": "code",
      "execution_count": null,
      "id": "9cc6b580-b14a-407e-aac6-653e323a57d3",
      "metadata": {
        "id": "9cc6b580-b14a-407e-aac6-653e323a57d3",
        "tags": []
      },
      "outputs": [],
      "source": [
        "search_query = \"When does Alphabet plan to get to net zero?\"  # @param {type:\"string\"}\n"
      ]
    },
    {
      "cell_type": "code",
      "execution_count": null,
      "id": "90546494-a8dd-44ce-ada2-c40b24647cb8",
      "metadata": {
        "id": "90546494-a8dd-44ce-ada2-c40b24647cb8",
        "outputId": "17ba2f92-2aea-4e8f-85f2-77f44ef6782e",
        "tags": []
      },
      "outputs": [
        {
          "data": {
            "text/plain": [
              "{'answer': 'FINAL ANSWER: Alphabet plans to get to net zero by 2030. \\n',\n",
              " 'sources': 'gs://cloud-samples-data/gen-app-builder/search/alphabet-investor-pdfs/goog-10-k-2023.pdf:5, gs://cloud-samples-data/gen-app-builder/search/alphabet-investor-pdfs/2022_alphabet_annual_report.pdf:38, gs://cloud-samples-data/gen-app-builder/search/alphabet-investor-pdfs/20230203_alphabet_10K.pdf:21, gs://cloud-samples-data/gen-app-builder/search/alphabet-investor-pdfs/20220202_alphabet_10K.pdf:92'}"
            ]
          },
          "execution_count": 30,
          "metadata": {},
          "output_type": "execute_result"
        }
      ],
      "source": [
        "retrieval_qa_with_sources = RetrievalQAWithSourcesChain.from_chain_type(\n",
        "    llm=llm, chain_type=\"stuff\", retriever=retriever\n",
        ")\n",
        "\n",
        "retrieval_qa_with_sources.invoke(search_query, return_only_outputs=True)"
      ]
    },
    {
      "cell_type": "code",
      "execution_count": null,
      "id": "6a3f255a-4d1f-4e32-a9ee-628cf0656a1b",
      "metadata": {
        "id": "6a3f255a-4d1f-4e32-a9ee-628cf0656a1b"
      },
      "outputs": [],
      "source": []
    },
    {
      "cell_type": "code",
      "execution_count": null,
      "id": "39051a4f-f3a5-4023-892b-cc88f941182e",
      "metadata": {
        "id": "39051a4f-f3a5-4023-892b-cc88f941182e"
      },
      "outputs": [],
      "source": []
    }
  ],
  "metadata": {
    "colab": {
      "provenance": []
    },
    "environment": {
      "kernel": "7ee659dd4f3825dc7eb335bb-python3",
      "name": "workbench-notebooks.m117",
      "type": "gcloud",
      "uri": "us-docker.pkg.dev/deeplearning-platform-release/gcr.io/workbench-notebooks:m117"
    },
    "kernelspec": {
      "display_name": "Python 3 on cluster-9921-festus6 (Remote)",
      "language": "python",
      "name": "7ee659dd4f3825dc7eb335bb-python3"
    },
    "language_info": {
      "codemirror_mode": {
        "name": "ipython",
        "version": 3
      },
      "file_extension": ".py",
      "mimetype": "text/x-python",
      "name": "python",
      "nbconvert_exporter": "python",
      "pygments_lexer": "ipython3",
      "version": "3.11.9"
    }
  },
  "nbformat": 4,
  "nbformat_minor": 5
}
