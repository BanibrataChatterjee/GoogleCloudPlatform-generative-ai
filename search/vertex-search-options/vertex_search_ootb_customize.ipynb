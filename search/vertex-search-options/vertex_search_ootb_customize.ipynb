{
  "cells": [
    {
      "cell_type": "code",
      "execution_count": null,
      "metadata": {
        "id": "ur8xi4C7S06n"
      },
      "outputs": [],
      "source": [
        "# Copyright 2024 Google LLC\n",
        "#\n",
        "# Licensed under the Apache License, Version 2.0 (the \"License\");\n",
        "# you may not use this file except in compliance with the License.\n",
        "# You may obtain a copy of the License at\n",
        "#\n",
        "#     https://www.apache.org/licenses/LICENSE-2.0\n",
        "#\n",
        "# Unless required by applicable law or agreed to in writing, software\n",
        "# distributed under the License is distributed on an \"AS IS\" BASIS,\n",
        "# WITHOUT WARRANTIES OR CONDITIONS OF ANY KIND, either express or implied.\n",
        "# See the License for the specific language governing permissions and\n",
        "# limitations under the License."
      ]
    },
    {
      "cell_type": "markdown",
      "metadata": {
        "id": "JAPoU8Sm5E6e"
      },
      "source": [
        "# Building Search Applications with Vertex AI Search\n",
        "\n",
        "<table align=\"left\">\n",
        "  <td style=\"text-align: center\">\n",
        "    <a href=\"https://colab.research.google.com/github/GoogleCloudPlatform/generative-ai/blob/main/vertex_search_ootb_customize.ipynb\">\n",
        "      <img width=\"32px\" src=\"https://www.gstatic.com/pantheon/images/bigquery/welcome_page/colab-logo.svg\" alt=\"Google Colaboratory logo\"><br> Open in Colab\n",
        "    </a>\n",
        "  </td>\n",
        "  <td style=\"text-align: center\">\n",
        "    <a href=\"https://console.cloud.google.com/vertex-ai/colab/import/https:%2F%2Fraw.githubusercontent.com%2FGoogleCloudPlatform%2Fgenerative-ai%2Fmain%2Fvertex_search_ootb_customize.ipynb\">\n",
        "      <img width=\"32px\" src=\"https://lh3.googleusercontent.com/JmcxdQi-qOpctIvWKgPtrzZdJJK-J3sWE1RsfjZNwshCFgE_9fULcNpuXYTilIR2hjwN\" alt=\"Google Cloud Colab Enterprise logo\"><br> Open in Colab Enterprise\n",
        "    </a>\n",
        "  </td>\n",
        "  <td style=\"text-align: center\">\n",
        "    <a href=\"https://console.cloud.google.com/vertex-ai/workbench/deploy-notebook?download_url=https://raw.githubusercontent.com/GoogleCloudPlatform/generative-ai/main/vertex_search_ootb_customize.ipynb\">\n",
        "      <img src=\"https://www.gstatic.com/images/branding/gcpiconscolors/vertexai/v1/32px.svg\" alt=\"Vertex AI logo\"><br> Open in Vertex AI Workbench\n",
        "    </a>\n",
        "  </td>\n",
        "  <td style=\"text-align: center\">\n",
        "    <a href=\"https://github.com/GoogleCloudPlatform/generative-ai/blob/main/vertex_search_ootb_customize.ipynb\">\n",
        "      <img width=\"32px\" src=\"https://upload.wikimedia.org/wikipedia/commons/9/91/Octicons-mark-github.svg\" alt=\"GitHub logo\"><br> View on GitHub\n",
        "    </a>\n",
        "  </td>\n",
        "</table>"
      ]
    },
    {
      "cell_type": "markdown",
      "metadata": {
        "id": "84f0f73a0f76"
      },
      "source": [
        "| | |\n",
        "|-|-|\n",
        "| Author(s) | [Megha Agarwal](https://github.com/agarwal22megha/) |"
      ]
    },
    {
      "cell_type": "markdown",
      "metadata": {
        "id": "tvgnzT1CKxrO"
      },
      "source": [
        "## Overview\n",
        "\n",
        "Vertex AI Search leverages decades of Google's expertise in information retrieval and brings together the power of deep information retrieval, state-of-the-art natural language processing, and the latest in large language model (LLM) processing to understand user intent and return the most relevant results for the user.\n",
        "\n",
        "Based on where Developers are in their journey, their orchestration framework of choice,  they can select Vertex AI Search OOTB capabilities or customize their search solutions with Vertex Retrievers or use the Vertex AI DIY APIs to build the end to end RAG application.\n",
        "\n",
        "This notebook explores how you can leverage Vertex AI Search OOTB capabilities/ customize your search application with Vertex AI Search Retriever via Langchain or Grounding Service.\n",
        "\n",
        "\n",
        "We create a Vertex Agent Builder Search App with unstructured data store on Google Cloud Console.\n",
        "\n",
        "Once the Search App is created, this notebook walks you through how you can leverage:\n",
        "\n",
        "1. Vertex AI Search OOTB capabilities by leveraging the [Vertex AI Agent Builder Python API reference documentation](https://cloud.google.com/python/docs/reference/discoveryengine/latest)\n",
        "\n",
        "2. Leverage Vertex AI Search Datastore as a [Grounding Source](https://cloud.google.com/vertex-ai/generative-ai/docs/model-reference/grounding) with Gemini Models directly to ground responses in your data\n",
        "\n",
        "3. Leverage Vertex DataStore as [Langchain Retriever](https://python.langchain.com/v0.2/docs/integrations/retrievers/google_vertex_ai_search/)\n",
        "\n",
        "\n"
      ]
    },
    {
      "cell_type": "markdown",
      "metadata": {
        "id": "61RBz8LLbxCR"
      },
      "source": [
        "## Get started"
      ]
    },
    {
      "cell_type": "markdown",
      "metadata": {
        "id": "No17Cw5hgx12"
      },
      "source": [
        "### Install Vertex AI SDK and other required packages\n"
      ]
    },
    {
      "cell_type": "code",
      "execution_count": null,
      "metadata": {
        "id": "tFy3H3aPgx12"
      },
      "outputs": [],
      "source": [
        "%pip install --upgrade --user --quiet google-cloud-aiplatform\n",
        "%pip install google-cloud-discoveryengine\n",
        "%pip install langchain_google_community\n",
        "%pip install langchain langchain-google-vertexai\n",
        "%pip install langchain-google-community[vertexaisearch]"
      ]
    },
    {
      "cell_type": "markdown",
      "metadata": {
        "id": "R5Xep4W9lq-Z"
      },
      "source": [
        "### Restart runtime\n",
        "\n",
        "To use the newly installed packages in this Jupyter runtime, you must restart the runtime. You can do this by running the cell below, which restarts the current kernel.\n",
        "\n",
        "The restart might take a minute or longer. After it's restarted, continue to the next step."
      ]
    },
    {
      "cell_type": "code",
      "execution_count": 4,
      "metadata": {
        "colab": {
          "base_uri": "https://localhost:8080/"
        },
        "executionInfo": {
          "elapsed": 4,
          "status": "ok",
          "timestamp": 1723659353924,
          "user": {
            "displayName": "",
            "userId": ""
          },
          "user_tz": -60
        },
        "id": "XRvKdaPDTznN",
        "outputId": "aed51473-81cb-482b-e92f-af7b72242cea"
      },
      "outputs": [
        {
          "data": {
            "text/plain": [
              "{'status': 'ok', 'restart': True}"
            ]
          },
          "execution_count": 4,
          "metadata": {},
          "output_type": "execute_result"
        }
      ],
      "source": [
        "import IPython\n",
        "\n",
        "app = IPython.Application.instance()\n",
        "app.kernel.do_shutdown(True)"
      ]
    },
    {
      "cell_type": "markdown",
      "metadata": {
        "id": "SbmM4z7FOBpM"
      },
      "source": [
        "<div class=\"alert alert-block alert-warning\">\n",
        "<b>⚠️ The kernel is going to restart. Wait until it's finished before continuing to the next step. ⚠️</b>\n",
        "</div>\n"
      ]
    },
    {
      "cell_type": "markdown",
      "metadata": {
        "id": "dmWOrTJ3gx13"
      },
      "source": [
        "### Authenticate your notebook environment (Colab only)\n",
        "\n",
        "If you're running this notebook on Google Colab, run the cell below to authenticate your environment."
      ]
    },
    {
      "cell_type": "code",
      "execution_count": 1,
      "metadata": {
        "executionInfo": {
          "elapsed": 548,
          "status": "ok",
          "timestamp": 1723659362570,
          "user": {
            "displayName": "",
            "userId": ""
          },
          "user_tz": -60
        },
        "id": "NyKGtVQjgx13"
      },
      "outputs": [],
      "source": [
        "import sys\n",
        "\n",
        "if \"google.colab\" in sys.modules:\n",
        "    from google.colab import auth\n",
        "\n",
        "    auth.authenticate_user()"
      ]
    },
    {
      "cell_type": "markdown",
      "metadata": {
        "id": "DF4l8DTdWgPY"
      },
      "source": [
        "### Set Google Cloud project information and initialize Vertex AI SDK\n",
        "\n",
        "To get started using Vertex AI, you must have an existing Google Cloud project and [enable the Vertex AI API](https://console.cloud.google.com/flows/enableapi?apiid=aiplatform.googleapis.com).\n",
        "\n",
        "Learn more about [setting up a project and a development environment](https://cloud.google.com/vertex-ai/docs/start/cloud-environment)."
      ]
    },
    {
      "cell_type": "code",
      "execution_count": 5,
      "metadata": {
        "executionInfo": {
          "elapsed": 251,
          "status": "ok",
          "timestamp": 1723659561098,
          "user": {
            "displayName": "",
            "userId": ""
          },
          "user_tz": -60
        },
        "id": "Nqwi-5ufWp_B"
      },
      "outputs": [],
      "source": [
        "PROJECT_ID = \"your_project_id\"  # @param {type:\"string\"}\n",
        "LOCATION = \"us-central1\"  # @param {type:\"string\"}\n",
        "\n",
        "\n",
        "import vertexai\n",
        "\n",
        "vertexai.init(project=PROJECT_ID, location=LOCATION)"
      ]
    },
    {
      "cell_type": "markdown",
      "metadata": {
        "id": "EdvJRUWRNGHE"
      },
      "source": [
        "\n",
        "### Create a Vertex AI Search App On Google Cloud\n",
        "[Follow These Steps](https://cloud.google.com/generative-ai-app-builder/docs/try-enterprise-search#unstructured-data_1) to leverage Vertex Agent Builder to create a Search App with unstructured data store on Google Cloud Console.\n",
        "\n",
        "Once the search app is created sucessfully, make a Note of the Search App Id, Datastore ID, Datastore Path from Vertex Agent Builder console."
      ]
    },
    {
      "cell_type": "markdown",
      "metadata": {
        "id": "5303c05f7aa6"
      },
      "source": [
        "### Import libraries"
      ]
    },
    {
      "cell_type": "code",
      "execution_count": 17,
      "metadata": {
        "executionInfo": {
          "elapsed": 3,
          "status": "ok",
          "timestamp": 1723660513829,
          "user": {
            "displayName": "",
            "userId": ""
          },
          "user_tz": -60
        },
        "id": "6fc324893334"
      },
      "outputs": [],
      "source": [
        "from google.api_core.client_options import ClientOptions\n",
        "from google.cloud import discoveryengine_v1 as discoveryengine\n",
        "\n",
        "from vertexai.generative_models import GenerativeModel, Part, SafetySetting, FinishReason, Tool\n",
        "import vertexai.preview.generative_models as generative_models\n",
        "\n",
        "from langchain_google_vertexai import VertexAI\n",
        "from langchain_google_community import VertexAISearchRetriever\n",
        "from langchain_google_community import VertexAIMultiTurnSearchRetriever\n",
        "\n",
        "from langchain.chains import RetrievalQAWithSourcesChain"
      ]
    },
    {
      "cell_type": "markdown",
      "metadata": {
        "id": "QhOI5q1LIzmU"
      },
      "source": [
        "## Part 1: Vertex AI Search OOTB capabilities\n",
        "Leverage the [Vertex AI Agent Builder Python API reference documentation](https://cloud.google.com/python/docs/reference/discoveryengine/latest) to get the search results"
      ]
    },
    {
      "cell_type": "code",
      "execution_count": null,
      "metadata": {
        "executionInfo": {
          "elapsed": 256,
          "status": "ok",
          "timestamp": 1723659763641,
          "user": {
            "displayName": "",
            "userId": ""
          },
          "user_tz": -60
        },
        "id": "UIrcfZ2lF9LJ"
      },
      "outputs": [],
      "source": [
        "VERTEX_SEARCH_APP_ID = \"your_search_app_id\"  # @param {type:\"string\"}\n",
        "VERTEX_SEARCH_LOCATION = \"global\"  # @param {type:\"string\"}"
      ]
    },
    {
      "cell_type": "code",
      "execution_count": null,
      "metadata": {
        "executionInfo": {
          "elapsed": 260,
          "status": "ok",
          "timestamp": 1723661381081,
          "user": {
            "displayName": "",
            "userId": ""
          },
          "user_tz": -60
        },
        "id": "Wn2eWH5bG5Xm"
      },
      "outputs": [],
      "source": [
        "SEARCH_QUERY = \"When does Alphabet plan to get to net zero?\""
      ]
    },
    {
      "cell_type": "code",
      "execution_count": null,
      "metadata": {
        "executionInfo": {
          "elapsed": 2,
          "status": "ok",
          "timestamp": 1723659817568,
          "user": {
            "displayName": "",
            "userId": ""
          },
          "user_tz": -60
        },
        "id": "Chkv32AgF9Sx"
      },
      "outputs": [],
      "source": [
        "CUSTOM_PROMPT = \"\"\"\n",
        "    <PERSONA_AND_GOAL>\n",
        "      You are a helpful assistant knowledgeable about Alphabet's quarterly earning reports.\n",
        "      Be mindful of the timeframe user inputs\n",
        "      Help user with their queries related with Alphabet\n",
        "      Only respond with relevant information available in Grounding Knowledge snippet.\n",
        "      If no relevant snippet is available, respond with you don't know\n",
        "      Do not make up information\n",
        "    </PERSONA_AND_GOAL>\n",
        "\"\"\""
      ]
    },
    {
      "cell_type": "code",
      "execution_count": null,
      "metadata": {
        "executionInfo": {
          "elapsed": 277,
          "status": "ok",
          "timestamp": 1723659966481,
          "user": {
            "displayName": "",
            "userId": ""
          },
          "user_tz": -60
        },
        "id": "0eOlSO08IK2Z"
      },
      "outputs": [],
      "source": [
        "def search_spec():\n",
        "    content_search_spec = discoveryengine.SearchRequest.ContentSearchSpec(\n",
        "        snippet_spec=discoveryengine.SearchRequest.ContentSearchSpec.SnippetSpec(\n",
        "            return_snippet=True),\n",
        "        summary_spec=discoveryengine.SearchRequest.ContentSearchSpec.SummarySpec(\n",
        "            summary_result_count=10,\n",
        "            include_citations=True,\n",
        "            ignore_adversarial_query=True,\n",
        "            ignore_non_summary_seeking_query=True,\n",
        "            model_prompt_spec=discoveryengine.SearchRequest.ContentSearchSpec.SummarySpec.ModelPromptSpec(\n",
        "                preamble=CUSTOM_PROMPT),\n",
        "            model_spec=discoveryengine.SearchRequest.ContentSearchSpec.SummarySpec.ModelSpec(\n",
        "                version=\"stable\",),\n",
        "        ),\n",
        "    )\n",
        "    return content_search_spec\n",
        "\n",
        "def search_sample( project_id: str, location: str, engine_id: str, search_query: str):\n",
        "\n",
        "    client_options = (ClientOptions(api_endpoint=f\"{location}-discoveryengine.googleapis.com\")\n",
        "        if location != \"global\"\n",
        "        else None\n",
        "    )\n",
        "\n",
        "    client = discoveryengine.SearchServiceClient(client_options=client_options)\n",
        "\n",
        "    serving_config = f\"projects/{project_id}/locations/{location}/collections/default_collection/engines/{engine_id}/servingConfigs/default_config\"\n",
        "\n",
        "    content_search_spec = search_spec()\n",
        "\n",
        "    request = discoveryengine.SearchRequest(\n",
        "        serving_config=serving_config,\n",
        "        query=search_query,\n",
        "        page_size=10,\n",
        "        content_search_spec=content_search_spec,\n",
        "        query_expansion_spec=discoveryengine.SearchRequest.QueryExpansionSpec(\n",
        "            condition=discoveryengine.SearchRequest.QueryExpansionSpec.Condition.AUTO,\n",
        "        ),\n",
        "        spell_correction_spec=discoveryengine.SearchRequest.SpellCorrectionSpec(\n",
        "            mode=discoveryengine.SearchRequest.SpellCorrectionSpec.Mode.AUTO\n",
        "        ),\n",
        "    )\n",
        "    response = client.search(request)\n",
        "\n",
        "    return response"
      ]
    },
    {
      "cell_type": "code",
      "execution_count": null,
      "metadata": {
        "executionInfo": {
          "elapsed": 1968,
          "status": "ok",
          "timestamp": 1723659970843,
          "user": {
            "displayName": "",
            "userId": ""
          },
          "user_tz": -60
        },
        "id": "IV52oaTJIK-i"
      },
      "outputs": [],
      "source": [
        "search_response = search_sample(PROJECT_ID, VERTEX_SEARCH_LOCATION, VERTEX_SEARCH_APP_ID, search_query)"
      ]
    },
    {
      "cell_type": "code",
      "execution_count": null,
      "metadata": {
        "colab": {
          "base_uri": "https://localhost:8080/"
        },
        "collapsed": true,
        "executionInfo": {
          "elapsed": 265,
          "status": "ok",
          "timestamp": 1723659973268,
          "user": {
            "displayName": "",
            "userId": ""
          },
          "user_tz": -60
        },
        "id": "JsbqEIgyILBJ",
        "outputId": "4bcc653e-548c-4ab1-e50d-bd41c98d443d"
      },
      "outputs": [
        {
          "data": {
            "text/plain": [
              "summary: \"Alphabet plans to achieve net-zero emissions across all of its operations and value chain by 2030. This includes its consumer hardware products. Alphabet also aims to become the first major company to run on carbon-free energy 24 hours a day, seven days a week, 365 days a year by 2030. They plan to enable 5 gigawatts of new carbon-free energy through investments in their key manufacturing regions. Alphabet also aims to help more than 500 cities and local governments reduce an aggregate of 1 gigaton of carbon emissions annually. \\n\"\n",
              "citation_metadata {\n",
              "  citations {\n",
              "    end_index: 98\n",
              "    sources {\n",
              "    }\n",
              "    sources {\n",
              "      reference_index: 1\n",
              "    }\n",
              "    sources {\n",
              "      reference_index: 2\n",
              "    }\n",
              "    sources {\n",
              "      reference_index: 3\n",
              "    }\n",
              "  }\n",
              "  citations {\n",
              "    start_index: 99\n",
              "    end_index: 144\n",
              "    sources {\n",
              "      reference_index: 1\n",
              "    }\n",
              "    sources {\n",
              "      reference_index: 2\n",
              "    }\n",
              "  }\n",
              "  citations {\n",
              "    start_index: 145\n",
              "    end_index: 286\n",
              "    sources {\n",
              "      reference_index: 1\n",
              "    }\n",
              "    sources {\n",
              "      reference_index: 2\n",
              "    }\n",
              "    sources {\n",
              "      reference_index: 3\n",
              "    }\n",
              "  }\n",
              "  citations {\n",
              "    start_index: 287\n",
              "    end_index: 400\n",
              "    sources {\n",
              "      reference_index: 1\n",
              "    }\n",
              "    sources {\n",
              "      reference_index: 2\n",
              "    }\n",
              "    sources {\n",
              "      reference_index: 3\n",
              "    }\n",
              "  }\n",
              "  citations {\n",
              "    start_index: 401\n",
              "    end_index: 533\n",
              "    sources {\n",
              "      reference_index: 1\n",
              "    }\n",
              "    sources {\n",
              "      reference_index: 2\n",
              "    }\n",
              "    sources {\n",
              "      reference_index: 3\n",
              "    }\n",
              "  }\n",
              "}\n",
              "references {\n",
              "  title: \" GOOG 10-K 2023\"\n",
              "  document: \"projects/801452371447/locations/global/collections/default_collection/dataStores/alphabet-contracts1-id/branches/0/documents/8fe77e14325ccbf8ea9dbb1043ae96d7\"\n",
              "}\n",
              "references {\n",
              "  title: \"2022_alphabet_annual_report\"\n",
              "  document: \"projects/801452371447/locations/global/collections/default_collection/dataStores/alphabet-contracts1-id/branches/0/documents/276cee4c4086600303bc561483691f9a\"\n",
              "}\n",
              "references {\n",
              "  title: \"GOOG 10-K Q4 2022\"\n",
              "  document: \"projects/801452371447/locations/global/collections/default_collection/dataStores/alphabet-contracts1-id/branches/0/documents/e528afa38b3a739bc98bfff0e840fe98\"\n",
              "}\n",
              "references {\n",
              "  title: \"GOOG 10-K Q4 2021\"\n",
              "  document: \"projects/801452371447/locations/global/collections/default_collection/dataStores/alphabet-contracts1-id/branches/0/documents/6b54401a15ed256af6c224a022afabde\"\n",
              "}\n",
              "references {\n",
              "  title: \"GOOG 10-K Q4 2020\"\n",
              "  document: \"projects/801452371447/locations/global/collections/default_collection/dataStores/alphabet-contracts1-id/branches/0/documents/772b0d0199005155b0155eacd898eae8\"\n",
              "}\n",
              "references {\n",
              "  title: \"GOOG 10-Q Q1 2022\"\n",
              "  document: \"projects/801452371447/locations/global/collections/default_collection/dataStores/alphabet-contracts1-id/branches/0/documents/a583b7c6aa8d02401393c8cac277d2d0\"\n",
              "}\n",
              "references {\n",
              "  title: \"2022_Q4_Earnings_Transcript\"\n",
              "  document: \"projects/801452371447/locations/global/collections/default_collection/dataStores/alphabet-contracts1-id/branches/0/documents/aa01e4e93efa1eb6a57dd711d8d6b151\"\n",
              "}\n",
              "references {\n",
              "  title: \"GOOG 10-Q Q2 2019 \"\n",
              "  document: \"projects/801452371447/locations/global/collections/default_collection/dataStores/alphabet-contracts1-id/branches/0/documents/797b2cadaf04d2f48c89430ab2dfc8e8\"\n",
              "}\n",
              "references {\n",
              "  title: \"GOOG 10-Q Q1 2019\"\n",
              "  document: \"projects/801452371447/locations/global/collections/default_collection/dataStores/alphabet-contracts1-id/branches/0/documents/0371b29bfa18ac43896b86a7b63d00b0\"\n",
              "}\n",
              "references {\n",
              "  title: \"2021_Q4_Earnings_Transcript\"\n",
              "  document: \"projects/801452371447/locations/global/collections/default_collection/dataStores/alphabet-contracts1-id/branches/0/documents/402b45d21795df17d081b1a191fc83c1\"\n",
              "}"
            ]
          },
          "execution_count": 12,
          "metadata": {},
          "output_type": "execute_result"
        }
      ],
      "source": [
        "search_response.summary.summary_with_metadata"
      ]
    },
    {
      "cell_type": "markdown",
      "metadata": {
        "id": "S_OnZDEfJCzi"
      },
      "source": [
        "## Part 2: Grounding with Gemini on Vertex AI Search Datastore\n",
        "\n",
        "Leverage Vertex AI Search Datastore as a [Grounding Source](https://cloud.google.com/vertex-ai/generative-ai/docs/model-reference/grounding) with Gemini Models directly to ground responses in your data."
      ]
    },
    {
      "cell_type": "code",
      "execution_count": 57,
      "metadata": {
        "executionInfo": {
          "elapsed": 258,
          "status": "ok",
          "timestamp": 1723661398093,
          "user": {
            "displayName": "",
            "userId": ""
          },
          "user_tz": -60
        },
        "id": "9LagIv6FF9WJ"
      },
      "outputs": [],
      "source": [
        "VERTEX_SEARCH_DATASTORE_PATH = \"your_datastore_path\"  # @param {type:\"string\"}\n",
        "# data_store_path = \"projects/{project_id}/locations/{location}/collections/default_collection/dataStores/{data_store_id}\"\n",
        "\n",
        "SEARCH_QUERY = \"When does Alphabet plan to get to net zero?\"\n"
      ]
    },
    {
      "cell_type": "code",
      "execution_count": 59,
      "metadata": {
        "executionInfo": {
          "elapsed": 3,
          "status": "ok",
          "timestamp": 1723661407396,
          "user": {
            "displayName": "",
            "userId": ""
          },
          "user_tz": -60
        },
        "id": "uGV_iw5YJMNK"
      },
      "outputs": [],
      "source": [
        "system_instructions = \"\"\"\n",
        "<PERSONA_AND_GOAL>\n",
        "  You are a helpful assistant knowledgeable about Alphabet's quarterly earning reports.\n",
        "  Help user with their queries related with Alphabet by following given <INSTRUCTIONS> and <CONTEXT>\n",
        "  only respond with information available in Grounding Knowledge store.\n",
        "</PERSONA_AND_GOAL>\n",
        "\n",
        "<INSTRUCTIONS>\n",
        "- Always refer to the tool and Ground your answers in it\n",
        "- Understand the retrieved snippet by the tool and only use that information to help users\n",
        "- For supporting references, you can provide the Grounding tool snippets verbatim, and any other info like page number\n",
        "- For Information not available in the tool, mention you dont have access to the information.\n",
        "- Output \"answer\" should be I dont know when the user question is irrelevant or outside the <CONTEXT>\n",
        "- Leave \"reference_snippet\" as null if you are not sure about the page and text snippet\n",
        "<INSTRUCTIONS>\n",
        "\n",
        "<CONTEXT>\n",
        "  Grounding tool finds most relevant snippets from the Alphabet earning reports data store.\n",
        "  Use the information provided by the tool as your knowledge base.\n",
        "</CONTEXT>\n",
        "\n",
        "<CONSTRAINTS>\n",
        "- ONLY use information available from the Grounding tool\n",
        "</CONSTRAINTS>\n",
        "\n",
        "<OUTPUT_FORMAT>\n",
        "- Response should ALWAYS be in following JSON Output with answer and reference_snippet as keys, e.g. {\"answer\": , \"reference_snippet\": }\n",
        "</OUTPUT_FORMAT>\n",
        "\"\"\""
      ]
    },
    {
      "cell_type": "code",
      "execution_count": 62,
      "metadata": {
        "executionInfo": {
          "elapsed": 3,
          "status": "ok",
          "timestamp": 1723661476797,
          "user": {
            "displayName": "",
            "userId": ""
          },
          "user_tz": -60
        },
        "id": "wSo25gr9MBSd"
      },
      "outputs": [],
      "source": [
        "tools = [\n",
        "    Tool.from_retrieval(\n",
        "        retrieval=generative_models.grounding.Retrieval(\n",
        "            source=generative_models.grounding.VertexAISearch(datastore=\"projects/801452371447/locations/global/collections/default_collection/dataStores/alphabet-contracts1-id\"),\n",
        "            disable_attribution=False,\n",
        "        )\n",
        "    ),\n",
        "]\n",
        "\n",
        "generation_config = {\n",
        "    \"max_output_tokens\": 8192,\n",
        "    \"temperature\": 1,\n",
        "    \"top_p\": 0.95,\n",
        "}\n",
        "\n",
        "safety_settings = [\n",
        "    SafetySetting(\n",
        "        category=SafetySetting.HarmCategory.HARM_CATEGORY_HATE_SPEECH,\n",
        "        threshold=SafetySetting.HarmBlockThreshold.BLOCK_ONLY_HIGH\n",
        "    ),\n",
        "    SafetySetting(\n",
        "        category=SafetySetting.HarmCategory.HARM_CATEGORY_DANGEROUS_CONTENT,\n",
        "        threshold=SafetySetting.HarmBlockThreshold.BLOCK_ONLY_HIGH\n",
        "    ),\n",
        "    SafetySetting(\n",
        "        category=SafetySetting.HarmCategory.HARM_CATEGORY_SEXUALLY_EXPLICIT,\n",
        "        threshold=SafetySetting.HarmBlockThreshold.BLOCK_ONLY_HIGH\n",
        "    ),\n",
        "    SafetySetting(\n",
        "        category=SafetySetting.HarmCategory.HARM_CATEGORY_HARASSMENT,\n",
        "        threshold=SafetySetting.HarmBlockThreshold.BLOCK_ONLY_HIGH\n",
        "    ),\n",
        "]"
      ]
    },
    {
      "cell_type": "code",
      "execution_count": 82,
      "metadata": {
        "executionInfo": {
          "elapsed": 243,
          "status": "ok",
          "timestamp": 1723662230407,
          "user": {
            "displayName": "",
            "userId": ""
          },
          "user_tz": -60
        },
        "id": "jCJAOvHdLrGI"
      },
      "outputs": [],
      "source": [
        "def generate():\n",
        "  model = GenerativeModel(\n",
        "    \"gemini-1.5-pro-001\",\n",
        "    tools=tools,\n",
        "    system_instruction=[system_instructions]\n",
        "  )\n",
        "\n",
        "  response = model.generate_content(\n",
        "      [SEARCH_QUERY],\n",
        "      generation_config=generation_config,\n",
        "      safety_settings=safety_settings,\n",
        "      stream=True,\n",
        "  )\n",
        "\n",
        "  return response\n"
      ]
    },
    {
      "cell_type": "code",
      "execution_count": 83,
      "metadata": {
        "executionInfo": {
          "elapsed": 2,
          "status": "ok",
          "timestamp": 1723662235079,
          "user": {
            "displayName": "",
            "userId": ""
          },
          "user_tz": -60
        },
        "id": "jLN2tz5dM4jp"
      },
      "outputs": [],
      "source": [
        "response = generate()"
      ]
    },
    {
      "cell_type": "code",
      "execution_count": 87,
      "metadata": {
        "colab": {
          "base_uri": "https://localhost:8080/"
        },
        "executionInfo": {
          "elapsed": 4000,
          "status": "ok",
          "timestamp": 1723662276979,
          "user": {
            "displayName": "",
            "userId": ""
          },
          "user_tz": -60
        },
        "id": "BNrZ-w3gRoLx",
        "outputId": "7ed9f9d3-677e-4dba-cc41-88a223b1f66c"
      },
      "outputs": [
        {
          "name": "stdout",
          "output_type": "stream",
          "text": [
            "candidates {\n",
            "  content {\n",
            "    role: \"model\"\n",
            "    parts {\n",
            "      text: \"```\"\n",
            "    }\n",
            "  }\n",
            "}\n",
            "usage_metadata {\n",
            "}\n",
            "\n",
            "candidates {\n",
            "  content {\n",
            "    role: \"model\"\n",
            "    parts {\n",
            "      text: \"json\\n{\\n \\\"answer\\\": \\\"Alphabet has set a goal to achieve net\"\n",
            "    }\n",
            "  }\n",
            "  safety_ratings {\n",
            "    category: HARM_CATEGORY_HATE_SPEECH\n",
            "    probability: NEGLIGIBLE\n",
            "    probability_score: 0.248046875\n",
            "    severity: HARM_SEVERITY_LOW\n",
            "    severity_score: 0.2021484375\n",
            "  }\n",
            "  safety_ratings {\n",
            "    category: HARM_CATEGORY_DANGEROUS_CONTENT\n",
            "    probability: NEGLIGIBLE\n",
            "    probability_score: 0.310546875\n",
            "    severity: HARM_SEVERITY_LOW\n",
            "    severity_score: 0.2119140625\n",
            "  }\n",
            "  safety_ratings {\n",
            "    category: HARM_CATEGORY_HARASSMENT\n",
            "    probability: NEGLIGIBLE\n",
            "    probability_score: 0.34765625\n",
            "    severity: HARM_SEVERITY_LOW\n",
            "    severity_score: 0.248046875\n",
            "  }\n",
            "  safety_ratings {\n",
            "    category: HARM_CATEGORY_SEXUALLY_EXPLICIT\n",
            "    probability: NEGLIGIBLE\n",
            "    probability_score: 0.2451171875\n",
            "    severity: HARM_SEVERITY_NEGLIGIBLE\n",
            "    severity_score: 0.1767578125\n",
            "  }\n",
            "}\n",
            "\n",
            "candidates {\n",
            "  content {\n",
            "    role: \"model\"\n",
            "    parts {\n",
            "      text: \" zero emissions across its operations and value chain by 2030.\\\",\\n\"\n",
            "    }\n",
            "  }\n",
            "  safety_ratings {\n",
            "    category: HARM_CATEGORY_HATE_SPEECH\n",
            "    probability: NEGLIGIBLE\n",
            "    probability_score: 0.283203125\n",
            "    severity: HARM_SEVERITY_LOW\n",
            "    severity_score: 0.232421875\n",
            "  }\n",
            "  safety_ratings {\n",
            "    category: HARM_CATEGORY_DANGEROUS_CONTENT\n",
            "    probability: NEGLIGIBLE\n",
            "    probability_score: 0.2431640625\n",
            "    severity: HARM_SEVERITY_LOW\n",
            "    severity_score: 0.27734375\n",
            "  }\n",
            "  safety_ratings {\n",
            "    category: HARM_CATEGORY_HARASSMENT\n",
            "    probability: NEGLIGIBLE\n",
            "    probability_score: 0.390625\n",
            "    severity: HARM_SEVERITY_LOW\n",
            "    severity_score: 0.294921875\n",
            "  }\n",
            "  safety_ratings {\n",
            "    category: HARM_CATEGORY_SEXUALLY_EXPLICIT\n",
            "    probability: NEGLIGIBLE\n",
            "    probability_score: 0.18359375\n",
            "    severity: HARM_SEVERITY_LOW\n",
            "    severity_score: 0.26171875\n",
            "  }\n",
            "}\n",
            "\n",
            "candidates {\n",
            "  content {\n",
            "    role: \"model\"\n",
            "    parts {\n",
            "      text: \" \\\"reference_snippet\\\": \\\"Our goal to operate our data\\\\ncenter and office campuses on 24/7 carbon\\\\nfree energy by 2\"\n",
            "    }\n",
            "  }\n",
            "  safety_ratings {\n",
            "    category: HARM_CATEGORY_HATE_SPEECH\n",
            "    probability: NEGLIGIBLE\n",
            "    probability_score: 0.1923828125\n",
            "    severity: HARM_SEVERITY_LOW\n",
            "    severity_score: 0.322265625\n",
            "  }\n",
            "  safety_ratings {\n",
            "    category: HARM_CATEGORY_DANGEROUS_CONTENT\n",
            "    probability: NEGLIGIBLE\n",
            "    probability_score: 0.2001953125\n",
            "    severity: HARM_SEVERITY_LOW\n",
            "    severity_score: 0.337890625\n",
            "  }\n",
            "  safety_ratings {\n",
            "    category: HARM_CATEGORY_HARASSMENT\n",
            "    probability: NEGLIGIBLE\n",
            "    probability_score: 0.359375\n",
            "    severity: HARM_SEVERITY_LOW\n",
            "    severity_score: 0.3203125\n",
            "  }\n",
            "  safety_ratings {\n",
            "    category: HARM_CATEGORY_SEXUALLY_EXPLICIT\n",
            "    probability: NEGLIGIBLE\n",
            "    probability_score: 0.099609375\n",
            "    severity: HARM_SEVERITY_LOW\n",
            "    severity_score: 0.318359375\n",
            "  }\n",
            "}\n",
            "\n",
            "candidates {\n",
            "  content {\n",
            "    role: \"model\"\n",
            "    parts {\n",
            "      text: \"030 remains one of our greatest\\\\nambitions, and we have made significant progress \\342\\200\\223\\\\nthis is part of our broader goal to achieve net zero\"\n",
            "    }\n",
            "  }\n",
            "  safety_ratings {\n",
            "    category: HARM_CATEGORY_HATE_SPEECH\n",
            "    probability: NEGLIGIBLE\n",
            "    probability_score: 0.1025390625\n",
            "    severity: HARM_SEVERITY_LOW\n",
            "    severity_score: 0.341796875\n",
            "  }\n",
            "  safety_ratings {\n",
            "    category: HARM_CATEGORY_DANGEROUS_CONTENT\n",
            "    probability: NEGLIGIBLE\n",
            "    probability_score: 0.1884765625\n",
            "    severity: HARM_SEVERITY_MEDIUM\n",
            "    severity_score: 0.423828125\n",
            "  }\n",
            "  safety_ratings {\n",
            "    category: HARM_CATEGORY_HARASSMENT\n",
            "    probability: NEGLIGIBLE\n",
            "    probability_score: 0.24609375\n",
            "    severity: HARM_SEVERITY_LOW\n",
            "    severity_score: 0.37890625\n",
            "  }\n",
            "  safety_ratings {\n",
            "    category: HARM_CATEGORY_SEXUALLY_EXPLICIT\n",
            "    probability: NEGLIGIBLE\n",
            "    probability_score: 0.078125\n",
            "    severity: HARM_SEVERITY_MEDIUM\n",
            "    severity_score: 0.453125\n",
            "  }\n",
            "}\n",
            "\n",
            "candidates {\n",
            "  content {\n",
            "    role: \"model\"\n",
            "    parts {\n",
            "      text: \"\\\\nemissions across our operations and value chain,\\\\nincluding consumer hardware products, by 2030.\\\"\\n}\\n```\"\n",
            "    }\n",
            "  }\n",
            "  safety_ratings {\n",
            "    category: HARM_CATEGORY_HATE_SPEECH\n",
            "    probability: NEGLIGIBLE\n",
            "    probability_score: 0.04736328125\n",
            "    severity: HARM_SEVERITY_LOW\n",
            "    severity_score: 0.353515625\n",
            "  }\n",
            "  safety_ratings {\n",
            "    category: HARM_CATEGORY_DANGEROUS_CONTENT\n",
            "    probability: NEGLIGIBLE\n",
            "    probability_score: 0.11572265625\n",
            "    severity: HARM_SEVERITY_LOW\n",
            "    severity_score: 0.384765625\n",
            "  }\n",
            "  safety_ratings {\n",
            "    category: HARM_CATEGORY_HARASSMENT\n",
            "    probability: NEGLIGIBLE\n",
            "    probability_score: 0.1591796875\n",
            "    severity: HARM_SEVERITY_LOW\n",
            "    severity_score: 0.30859375\n",
            "  }\n",
            "  safety_ratings {\n",
            "    category: HARM_CATEGORY_SEXUALLY_EXPLICIT\n",
            "    probability: NEGLIGIBLE\n",
            "    probability_score: 0.03955078125\n",
            "    severity: HARM_SEVERITY_MEDIUM\n",
            "    severity_score: 0.4765625\n",
            "  }\n",
            "}\n",
            "\n",
            "candidates {\n",
            "  grounding_metadata {\n",
            "    grounding_attributions {\n",
            "      segment {\n",
            "        end_index: 477\n",
            "      }\n",
            "      confidence_score: 0.9883381724357605\n",
            "      retrieved_context {\n",
            "        uri: \"gs://cloud-samples-data/gen-app-builder/search/alphabet-investor-pdfs/2022_alphabet_annual_report.pdf\"\n",
            "        title: \"2022_alphabet_annual_report\"\n",
            "      }\n",
            "    }\n",
            "    retrieval_queries: \"When does Alphabet plan to get to net zero?\"\n",
            "    grounding_chunks {\n",
            "      retrieved_context {\n",
            "        uri: \"gs://cloud-samples-data/gen-app-builder/search/alphabet-investor-pdfs/goog-10-k-2023.pdf\"\n",
            "        title: \" GOOG 10-K 2023\"\n",
            "      }\n",
            "    }\n",
            "    grounding_chunks {\n",
            "      retrieved_context {\n",
            "        uri: \"gs://cloud-samples-data/gen-app-builder/search/alphabet-investor-pdfs/2022_alphabet_annual_report.pdf\"\n",
            "        title: \"2022_alphabet_annual_report\"\n",
            "      }\n",
            "    }\n",
            "    grounding_chunks {\n",
            "      retrieved_context {\n",
            "        uri: \"gs://cloud-samples-data/gen-app-builder/search/alphabet-investor-pdfs/20230203_alphabet_10K.pdf\"\n",
            "        title: \"GOOG 10-K Q4 2022\"\n",
            "      }\n",
            "    }\n",
            "    grounding_chunks {\n",
            "      retrieved_context {\n",
            "        uri: \"gs://cloud-samples-data/gen-app-builder/search/alphabet-investor-pdfs/20220202_alphabet_10K.pdf\"\n",
            "        title: \"GOOG 10-K Q4 2021\"\n",
            "      }\n",
            "    }\n",
            "    grounding_chunks {\n",
            "      retrieved_context {\n",
            "        uri: \"gs://cloud-samples-data/gen-app-builder/search/alphabet-investor-pdfs/20210203_alphabet_10K.pdf\"\n",
            "        title: \"GOOG 10-K Q4 2020\"\n",
            "      }\n",
            "    }\n",
            "    grounding_supports {\n",
            "      segment {\n",
            "        end_index: 477\n",
            "        text: \"```json\\n{\\n \\\"answer\\\": \\\"Alphabet has set a goal to achieve net zero emissions across its operations and value chain by 2030.\\\",\\n \\\"reference_snippet\\\": \\\"Our goal to operate our data\\\\ncenter and office campuses on 24/7 carbon\\\\nfree energy by 2030 remains one of our greatest\\\\nambitions, and we have made significant progress \\342\\200\\223\\\\nthis is part of our broader goal to achieve net zero\\\\nemissions across our operations and value chain,\\\\nincluding consumer hardware products, by 2030.\\\"\\n}\"\n",
            "      }\n",
            "      grounding_chunk_indices: 1\n",
            "      confidence_scores: 0.9883381724357605\n",
            "    }\n",
            "  }\n",
            "}\n",
            "\n",
            "usage_metadata {\n",
            "  prompt_token_count: 309\n",
            "  candidates_token_count: 124\n",
            "  total_token_count: 433\n",
            "}\n",
            "\n"
          ]
        }
      ],
      "source": [
        "for candidate in response:\n",
        "  print(candidate)"
      ]
    },
    {
      "cell_type": "markdown",
      "metadata": {
        "id": "lQv61qA5Q71g"
      },
      "source": [
        "##### [Here](https://github.com/GoogleCloudPlatform/generative-ai/blob/main/gemini/grounding/intro-grounding-gemini.ipynb) is another Grounding Gemini with Vertex AI Search Example which you might find useful"
      ]
    },
    {
      "cell_type": "markdown",
      "metadata": {
        "id": "V2X81IQUOImp"
      },
      "source": [
        "## Part 3: Vertex AI Search with Langchain\n",
        "\n",
        "Leverage Vertex AI Search as [Langchain Retriever](https://python.langchain.com/v0.2/docs/integrations/retrievers/google_vertex_ai_search/)\n"
      ]
    },
    {
      "cell_type": "code",
      "execution_count": 69,
      "metadata": {
        "executionInfo": {
          "elapsed": 252,
          "status": "ok",
          "timestamp": 1723661711577,
          "user": {
            "displayName": "",
            "userId": ""
          },
          "user_tz": -60
        },
        "id": "ckS6bOlUOR5J"
      },
      "outputs": [],
      "source": [
        "# Set to your data store location\n",
        "VERTEX_SEARCH_LOCATION = \"global\"    # @param {type:\"string\"}\n",
        "# Set to your data store ID\n",
        "VERTEX_SEARCH_DATASTORE_ID = \"your_datastore_id\"    # @param {type:\"string\"}\n",
        "MODEL = \"gemini-1.5-pro-001\""
      ]
    },
    {
      "cell_type": "code",
      "execution_count": 70,
      "metadata": {
        "executionInfo": {
          "elapsed": 263,
          "status": "ok",
          "timestamp": 1723661716425,
          "user": {
            "displayName": "",
            "userId": ""
          },
          "user_tz": -60
        },
        "id": "Kt09YTDmJMYW"
      },
      "outputs": [],
      "source": [
        "llm = VertexAI(model_name=MODEL)\n",
        "\n",
        "retriever = VertexAISearchRetriever(\n",
        "    project_id=PROJECT_ID,\n",
        "    location_id=VERTEX_SEARCH_LOCATION,\n",
        "    data_store_id=VERTEX_SEARCH_DATASTORE_ID,\n",
        "    get_extractive_answers=True,\n",
        "    max_documents=10,\n",
        "    max_extractive_segment_count=1,\n",
        "    max_extractive_answer_count=5,\n",
        ")\n"
      ]
    },
    {
      "cell_type": "code",
      "execution_count": 71,
      "metadata": {
        "colab": {
          "base_uri": "https://localhost:8080/"
        },
        "executionInfo": {
          "elapsed": 2380,
          "status": "ok",
          "timestamp": 1723661720219,
          "user": {
            "displayName": "",
            "userId": ""
          },
          "user_tz": -60
        },
        "id": "Dkt_l9tmPeYH",
        "outputId": "b853af8b-0115-430e-ca7a-42b9e09f16ae"
      },
      "outputs": [
        {
          "data": {
            "text/plain": [
              "{'answer': 'FINAL ANSWER: Alphabet plans to get to net zero by 2030.\\n',\n",
              " 'sources': 'gs://cloud-samples-data/gen-app-builder/search/alphabet-investor-pdfs/goog-10-k-2023.pdf:10'}"
            ]
          },
          "execution_count": 71,
          "metadata": {},
          "output_type": "execute_result"
        }
      ],
      "source": [
        "retrieval_qa_with_sources = RetrievalQAWithSourcesChain.from_chain_type(\n",
        "    llm=llm, chain_type=\"stuff\", retriever=retriever\n",
        ")\n",
        "\n",
        "retrieval_qa_with_sources.invoke(SEARCH_QUERY, return_only_outputs=True)"
      ]
    },
    {
      "cell_type": "markdown",
      "metadata": {
        "id": "2a4e033321ad"
      },
      "source": [
        "## Cleaning up\n",
        "\n",
        "[Delete the Vertex AI Search App](https://cloud.google.com/generative-ai-app-builder/docs/delete-engine) and\n",
        "\n",
        "[Delete the datastore](https://cloud.google.com/generative-ai-app-builder/docs/delete-a-data-store) your created"
      ]
    },
    {
      "cell_type": "code",
      "execution_count": null,
      "metadata": {
        "id": "eYCCOjCRQQBh"
      },
      "outputs": [],
      "source": []
    }
  ],
  "metadata": {
    "colab": {
      "name": "notebook_template.ipynb",
      "provenance": []
    },
    "kernelspec": {
      "display_name": "Python 3",
      "name": "python3"
    }
  },
  "nbformat": 4,
  "nbformat_minor": 0
}
