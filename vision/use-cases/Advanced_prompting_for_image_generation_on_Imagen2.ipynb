{
 "cells": [
  {
   "cell_type": "code",
   "execution_count": 61,
   "id": "5f0c3c2e-b9d1-408c-9128-12de9141571b",
   "metadata": {},
   "outputs": [],
   "source": [
    "# Copyright 2024 Google LLC\n",
    "#\n",
    "# Licensed under the Apache License, Version 2.0 (the \"License\");\n",
    "# you may not use this file except in compliance with the License.\n",
    "# You may obtain a copy of the License at\n",
    "#\n",
    "#     https://www.apache.org/licenses/LICENSE-2.0\n",
    "#\n",
    "# Unless required by applicable law or agreed to in writing, software\n",
    "# distributed under the License is distributed on an \"AS IS\" BASIS,\n",
    "# WITHOUT WARRANTIES OR CONDITIONS OF ANY KIND, either express or implied.\n",
    "# See the License for the specific language governing permissions and\n",
    "# limitations under the License."
   ]
  },
  {
   "cell_type": "markdown",
   "id": "dc60316d-cb8c-4fa7-8db1-53432d0c64be",
   "metadata": {
    "tags": []
   },
   "source": [
    "# Advance Prompting for ImageGeneration Using Imagen2\n",
    "\n",
    "<table align=\"left\">\n",
    "  <td style=\"text-align: center\">\n",
    "    <a href=\"https://colab.research.google.com/github/GoogleCloudPlatform/generative-ai/blob/main/vision/use-cases/generative-ai/vision/use-cases/Advanced_prompting_for_image_generation_on_Imagen2.ipynb\">\n",
    "      <img src=\"https://cloud.google.com/ml-engine/images/colab-logo-32px.png\" alt=\"Google Colaboratory logo\"><br> Open in Colab\n",
    "    </a>\n",
    "  </td>\n",
    "  <td style=\"text-align: center\">\n",
    "    <a href=\"https://console.cloud.google.com/vertex-ai/colab/import/https:%2F%2Fraw.githubusercontent.com%2FGoogleCloudPlatform%2Fgenerative-ai%2Fblob%2Fmain%2Fvision%2Fuse-cases%2Fgenerative-ai%2Fvision%2Fuse-cases%2FAdvanced_prompting_for_image_generation_on_Imagen2.ipynb\">\n",
    "      <img width=\"32px\" src=\"https://lh3.googleusercontent.com/JmcxdQi-qOpctIvWKgPtrzZdJJK-J3sWE1RsfjZNwshCFgE_9fULcNpuXYTilIR2hjwN\" alt=\"Google Cloud Colab Enterprise logo\"><br> Open in Colab Enterprise\n",
    "    </a>\n",
    "  </td>    \n",
    "  <td style=\"text-align: center\">\n",
    "    <a href=\"https://console.cloud.google.com/vertex-ai/workbench/deploy-notebook?download_url=https://raw.githubusercontent.com/GoogleCloudPlatform/generative-ai/blob/main/vision/use-cases/generative-ai/vision/use-cases/Advanced_prompting_for_image_generation_on_Imagen2.ipynb\">\n",
    "      <img src=\"https://lh3.googleusercontent.com/UiNooY4LUgW_oTvpsNhPpQzsstV5W8F7rYgxgGBD85cWJoLmrOzhVs_ksK_vgx40SHs7jCqkTkCk=e14-rj-sc0xffffff-h130-w32\" alt=\"Vertex AI logo\"><br> Open in Workbench\n",
    "    </a>\n",
    "  </td>\n",
    "  <td style=\"text-align: center\">\n",
    "    <a href=\"https://github.com/GoogleCloudPlatform/generative-ai/blob/main/vision/use-cases/generative-ai/vision/use-cases/Advanced_prompting_for_image_generation_on_Imagen2.ipynb\">\n",
    "      <img src=\"https://cloud.google.com/ml-engine/images/github-logo-32px.png\" alt=\"GitHub logo\"><br> View on GitHub\n",
    "    </a>\n",
    "  </td>\n",
    "</table>\n"
   ]
  },
  {
   "cell_type": "markdown",
   "id": "4ac6d8bf-07e4-4b62-9843-6aafc133eafb",
   "metadata": {},
   "source": [
    "| | |\n",
    "|-|-|\n",
    "| Author(s):\n",
    "[Abhijat Gupta](https://github.com/abhijat-gupta) |\n",
    "[Harish Verma](https://github.com/harishverma8)"
   ]
  },
  {
   "cell_type": "markdown",
   "id": "9c8e8d58-5d16-4793-8728-be3210cfc198",
   "metadata": {
    "tags": []
   },
   "source": [
    "## Overview"
   ]
  },
  {
   "cell_type": "markdown",
   "id": "29d9f327-5ad1-45db-92d2-949a24d41123",
   "metadata": {},
   "source": [
    "### Gemini\n",
    "Gemini is a family of generative AI models developed by Google DeepMind that is designed for multimodal use cases. The Gemini API gives you access to the Gemini Pro and Gemini Pro Vision models."
   ]
  },
  {
   "cell_type": "markdown",
   "id": "defa551f-48d0-4bce-aa72-44cd9ab49a64",
   "metadata": {},
   "source": [
    "### Vertex AI Gemini API\n",
    "The Vertex AI Gemini API provides a unified interface for interacting with Gemini models. There are two Gemini 1.0 Pro models available in the Gemini API:\n",
    "\n",
    "**Gemini 1.0 Pro model** (gemini-1.0-pro): Designed to handle natural language tasks, multi-turn text and code chat, and code generation.\n",
    "**Gemini 1.0 Pro Vision model** (gemini-1.0-pro-vision): Supports multimodal prompts. You can include text, images, and video in your prompt requests and get text or code responses.\n",
    "You can interact with the Gemini API using the following methods:\n",
    "\n",
    "- Use [Vertex AI Studio](https://cloud.google.com/generative-ai-studio?hl=en) for quick testing and command generation\n",
    "- Use cURL commands\n",
    "- Use the Vertex AI SDK\n",
    "\n",
    "This notebook focuses on using the Vertex AI SDK for Python to call the Vertex AI Gemini API.\n",
    "\n",
    "For more information, see the [Generative AI on Vertex AI](https://cloud.google.com/vertex-ai/generative-ai/docs/learn/overview) documentation."
   ]
  },
  {
   "cell_type": "markdown",
   "id": "1bdf5d71-787f-45dd-b340-6c0bdf81867f",
   "metadata": {
    "tags": []
   },
   "source": [
    "## Objective\n",
    "\n",
    "AI image generation opens a world of visual possibilities, but unleashing its true power requires a touch of finesse. If you're ready to move beyond simple prompts and take creative control, this notebook is for you. We'll explore advanced prompting techniques that will transform the way you generate images with AI.\n",
    "\n",
    "The notebook demonstrates the usage of gemini-pro LLMs to enhance the prompt, which will then be consumed by imagen LLMs. This enhancement will add supporting props and details to the user single liner prompts. We also sometimes want to generate images with a custom set of colors, this notebook helps you to achieve that through prompting. We also, at times, need to include styling to the generated images, like ligh conditions, lens positioning, people dressing styles, skin-tones, backgrounds, etc., this notebook also enables you provide such custom styles through pure test promopting.\n",
    "\n",
    "##### Prompt Enhancement: Enhance your basic one liner prompts using LLMs to more detailed and complete prompts\n",
    "\n",
    "##### Using Hex color codes in Prompts: We can pass the hex values of the colors that we wish to see in the generated images\n",
    "- Use 'custom_color_palette' flag, set it to True if you wish to provide your color palatte\n",
    "##### Styling your image with text prompts\n",
    "- We can pass styles and append it to the original prompt with a **\",\"** (comma)\n",
    "- Styles can contain of type of people, their dressing, their skin tone, etc.\n",
    "- Styles can also contain details of the background and environment.\n",
    "- Example: \n",
    "'your_style_1':  {\n",
    "        'persona': 'people dressed in business casuals with warm toned skin, showing positive charisma and healthy lifestyle',\n",
    "        'environment': 'saturated, pleasant, true to life, focused'\n",
    "    }"
   ]
  },
  {
   "cell_type": "markdown",
   "id": "8590704f-bcfa-4ad7-8e80-0f89ed64091d",
   "metadata": {},
   "source": [
    "## Costs\n",
    "\n",
    "This tutorial uses the following billable components of Google Cloud:\n",
    "- Vertex AI (Gemini-pro, Imagen)\n",
    "\n",
    "Learn about [Vertex AI Generative AI pricing](https://cloud.google.com/vertex-ai/generative-ai/pricing) and use the [Pricing Calculator](https://cloud.google.com/products/calculator/) to generate a cost estimate based on your projected usage."
   ]
  },
  {
   "cell_type": "markdown",
   "id": "eeedbf4c-a85c-4aa8-8695-85a64a84149d",
   "metadata": {
    "tags": []
   },
   "source": [
    "## Getting Started"
   ]
  },
  {
   "cell_type": "markdown",
   "id": "ead3385a-3e17-4058-b53e-8a5f3a6a5af5",
   "metadata": {
    "tags": []
   },
   "source": [
    "### Install Vertex AI SDK for Python"
   ]
  },
  {
   "cell_type": "code",
   "execution_count": 122,
   "id": "76551024-5c93-4bb6-84b9-a2165539abfc",
   "metadata": {
    "tags": []
   },
   "outputs": [],
   "source": [
    "! pip install -q --upgrade google-cloud-aiplatform"
   ]
  },
  {
   "cell_type": "markdown",
   "id": "b239d1ad-9850-4378-8d8f-2ead000dfe23",
   "metadata": {
    "tags": []
   },
   "source": [
    "## Restart current runtime\n",
    "To use the newly installed packages in this Jupyter runtime, you must restart the runtime. You can do this by running the cell below, which will restart the current kernel."
   ]
  },
  {
   "cell_type": "code",
   "execution_count": 64,
   "id": "dc72bb19-3bdb-40dc-9e0e-ac45bc709539",
   "metadata": {},
   "outputs": [],
   "source": [
    "import sys\n",
    "\n",
    "if \"google.colab\" in sys.modules:\n",
    "    import IPython\n",
    "\n",
    "    app = IPython.Application.instance()\n",
    "    app.kernel.do_shutdown(True)"
   ]
  },
  {
   "cell_type": "markdown",
   "id": "c20e508d-3287-4d31-843f-841b5f28b820",
   "metadata": {},
   "source": [
    "### Authenticate your notebook environment (Colab only)\n",
    "\n",
    "If you are running this notebook on Google Colab, run the following cell to authenticate your environment. This step is not required if you are using [Vertex AI Workbench](https://cloud.google.com/vertex-ai-notebooks?hl=en).\n"
   ]
  },
  {
   "cell_type": "code",
   "execution_count": null,
   "id": "8b9c3747-023d-417e-9bd9-60a31ff8de4b",
   "metadata": {},
   "outputs": [],
   "source": [
    "import sys\n",
    "\n",
    "if \"google.colab\" in sys.modules:\n",
    "    from google.colab import auth\n",
    "\n",
    "    auth.authenticate_user()"
   ]
  },
  {
   "cell_type": "markdown",
   "id": "86206afb-4cb9-4a75-8834-5013a0bda245",
   "metadata": {},
   "source": [
    "### Set Google Cloud project information and initialize Vertex AI SDK\n",
    "To get started using Vertex AI, you must have an existing Google Cloud project and [enable the Vertex AI API](https://pantheon.corp.google.com/apis/enableflow?apiid=aiplatform.googleapis.com&e=13802955&mods=dm_deploy_from_gcs).\n",
    "\n",
    "Learn more about [setting up a project and a development environment](https://cloud.google.com/vertex-ai/docs/start/cloud-environment)."
   ]
  },
  {
   "cell_type": "code",
   "execution_count": 123,
   "id": "e16eea9a-e28c-424d-b5cf-65292641fe12",
   "metadata": {
    "tags": []
   },
   "outputs": [],
   "source": [
    "PROJECT_ID= \"your-project-id\"  # @param {type:\"string\"}\n",
    "LOCATION= \"us-central1\"  # @param {type:\"string\"}\n",
    "\n",
    "# Initialize Vertex AI\n",
    "import vertexai\n",
    "vertexai.init(project=PROJECT_ID, location=LOCATION)"
   ]
  },
  {
   "cell_type": "markdown",
   "id": "bf769188-888c-4174-834c-25dfbaa39eb0",
   "metadata": {},
   "source": [
    "### Default parameters"
   ]
  },
  {
   "cell_type": "code",
   "execution_count": 124,
   "id": "0e1f6ca6-ae06-4e9a-b8fa-6c3cc9c61a58",
   "metadata": {
    "tags": []
   },
   "outputs": [],
   "source": [
    "DEFAULT_STYLE = \"no_style\"\n",
    "DEFAULT_PROMPT = \"a dog wearing sunglasses on a surfboard\"\n",
    "DEFAULT_ASPECT_RATIO = \"1:1\"\n",
    "DEFAULT_RESOLUTION = \"1536\"\n",
    "DEFAULT_FORMAT = \"jpeg\""
   ]
  },
  {
   "cell_type": "markdown",
   "id": "f59bca64-76cb-4d48-bc9d-bab3fd75d272",
   "metadata": {
    "tags": []
   },
   "source": [
    "### Model config\n",
    "\n",
    "- Providing the current versions for gemini and imagen models.\n",
    "- Please update this config as per your requirements"
   ]
  },
  {
   "cell_type": "code",
   "execution_count": 137,
   "id": "21955c0b-d7f1-4d34-b085-41ed8fe974d3",
   "metadata": {
    "tags": []
   },
   "outputs": [],
   "source": [
    "GEMINI_MODEL_PRO = \"gemini-1.0-pro\"\n",
    "VISION_MODEL = \"imagegeneration@005\"\n",
    "\n",
    "## Imagen2 configs\n",
    "ASPECT_RATIOS = ['1:1','9:16']\n",
    "IMAGE_FORMATS = ['jpg', 'jpeg', 'png']\n",
    "NUMBER_OF_IMAGES = 4\n",
    "GUIDANCE_SCALE = 90\n",
    "SEED = 915"
   ]
  },
  {
   "cell_type": "markdown",
   "id": "7fec03b2-b2cb-476e-ba03-5e4c9512d77c",
   "metadata": {},
   "source": [
    "### Color palatte\n",
    "Try your own colors. We can pass any hex color code to this palatte and see the difference in results.\n",
    "- Keep *custom_color_palette* flag as False if you want gemini to enhance the user input."
   ]
  },
  {
   "cell_type": "code",
   "execution_count": 138,
   "id": "39f64dfa-314a-4ba3-a2a4-c770daafa0e2",
   "metadata": {
    "tags": []
   },
   "outputs": [],
   "source": [
    "COLOR_PALATTE = \"[#000000, #FFFFFF, #71767C, #ED0007, #9E2896, #007BC0, #18837E, #00884A, #C535BC, #007BC0, #18837E, #00884A]\"\n",
    "custom_color_palette = False"
   ]
  },
  {
   "cell_type": "markdown",
   "id": "e664acec-c7e2-4f74-b184-9f08772f7248",
   "metadata": {},
   "source": [
    "### Example styles"
   ]
  },
  {
   "cell_type": "code",
   "execution_count": 139,
   "id": "3c93730f-6556-492f-b27d-131c8a5cd36d",
   "metadata": {
    "tags": []
   },
   "outputs": [],
   "source": [
    "STYLES = {\n",
    "    'no_style':  {\n",
    "        'persona': 'people dressed as per the requirement, showing positive charisma and healthy lifestyle',\n",
    "        'environment': 'saturated, true to life, realistic, extremely detailed'\n",
    "    },\n",
    "    'corporate':  {\n",
    "        'persona': 'people dressed in business casuals with warm toned skin, showing positive charisma and healthy lifestyle',\n",
    "        'environment': 'saturated, pleasant, true to life, focused'\n",
    "    },\n",
    "    'healthcare_solutions':  {\n",
    "        'persona': 'warm toned people',\n",
    "        'environment': 'more white backgrounds, clean surroundings, realistic, focused, depth of field, blue and turqoise colors'\n",
    "    },\n",
    "    'home_appliances':  {\n",
    "        'persona': 'warm toned people dressed casually, showing positive charisma and healthy lifestyle',\n",
    "        'environment': 'pastel color backgrounds, realistic, focused, depth of field'\n",
    "    }\n",
    "}"
   ]
  },
  {
   "cell_type": "markdown",
   "id": "f3243976-1b21-4e78-b15d-dae8e709bd3d",
   "metadata": {
    "tags": []
   },
   "source": [
    "### Importing libraries"
   ]
  },
  {
   "cell_type": "code",
   "execution_count": 140,
   "id": "ba19d9cb-186a-4342-96f6-8736e0a8a2f4",
   "metadata": {
    "tags": []
   },
   "outputs": [],
   "source": [
    "import json\n",
    "from typing import Dict\n",
    "from vertexai.preview.vision_models import Image, ImageGenerationModel\n",
    "from vertexai.preview.language_models import TextGenerationModel\n",
    "from vertexai.generative_models import GenerativeModel"
   ]
  },
  {
   "cell_type": "markdown",
   "id": "929d048e-4db4-4456-81a4-32fa0d008f3f",
   "metadata": {},
   "source": [
    "### Prompt prefix"
   ]
  },
  {
   "cell_type": "code",
   "execution_count": 141,
   "id": "ecd9cc92-6cfa-4d00-ad59-2896d33e3dba",
   "metadata": {
    "tags": []
   },
   "outputs": [],
   "source": [
    "prompt_prefix = \"\"\"You are an expert in writing prompts for image generation model and have immense knowledge of photography, based on user_prompt and settings, generate a 150 words prompt adding supporting props to the image subject, but do NOT add too much information, keep it on the simpler side. Add \"a photo of\" prefix to every prompt.\n",
    "                Use below settings for generating the image:\n",
    "                - Brightness: [90]\n",
    "                - Persona: {style[\"persona\"]}\n",
    "                - Environment: {style[\"environment\"]}\n",
    "                Scenario: {user_prompt}\n",
    "                \"\"\""
   ]
  },
  {
   "cell_type": "markdown",
   "id": "5fdadcac-b3dd-4c90-9c96-ac27d15b4fae",
   "metadata": {},
   "source": [
    "### Flag for enhanced prompting.\n",
    "- Change it to True to stop Gemini enhancement and use the user's input as the prompt for Imagen"
   ]
  },
  {
   "cell_type": "code",
   "execution_count": 142,
   "id": "8de86b73-c27f-4d1a-867e-c07e60d50092",
   "metadata": {
    "tags": []
   },
   "outputs": [],
   "source": [
    "disable_enhanced_prompting = False"
   ]
  },
  {
   "cell_type": "markdown",
   "id": "c1ad1ebb-6e35-4e5a-9cb7-9b379d590a64",
   "metadata": {},
   "source": [
    "### Request\n",
    " JSON request with all the required parameters which can come from a user"
   ]
  },
  {
   "cell_type": "code",
   "execution_count": 143,
   "id": "9b233921-033e-4b64-bfee-cda224d8b26f",
   "metadata": {
    "tags": []
   },
   "outputs": [],
   "source": [
    "request_json={\n",
    "    \"style\": \"home_appliances\",\n",
    "    \"prompt\": \"A happy woman in the kitchen working with a mixer\",\n",
    "    \"aspect_ratio\": \"9:16\",\n",
    "    \"image_format\": \"jpeg\"\n",
    "}"
   ]
  },
  {
   "cell_type": "code",
   "execution_count": 152,
   "id": "d11ee1ae-899d-4a0f-9a0e-2b1cef3310ba",
   "metadata": {
    "tags": []
   },
   "outputs": [
    {
     "name": "stdout",
     "output_type": "stream",
     "text": [
      "user provided request: ({'persona': 'warm toned people dressed casually, showing positive charisma and healthy lifestyle', 'environment': 'pastel color backgrounds, realistic, focused, depth of field'}, 'A happy woman in the kitchen working with a mixer', '9:16', '1536', 'jpeg')\n",
      "\n",
      "\n",
      "Prompt provided to enhance: You are an expert in writing prompts for image generation model and have immense knowledge of photography, based on user_prompt and settings, generate a 150 words prompt adding supporting props to the image subject, but do NOT add too much information, keep it on the simpler side. Add \"a photo of\" prefix to every prompt.\n",
      "                Use below settings for generating the image:\n",
      "                - Brightness: [90]\n",
      "                - Persona: {style[\"persona\"]}\n",
      "                - Environment: {style[\"environment\"]}\n",
      "                Scenario: {user_prompt}\n",
      "                \n",
      "            Prompt:\n",
      "            \n",
      "prompt generated by Gemini: a photo of a man looking at a woman while holding coffee near a window on a sunny morning\n"
     ]
    }
   ],
   "source": [
    "def parse_json(request_json:Dict[str, str]):\n",
    "    \"\"\"Parses JSON request from user.\"\"\"\n",
    "    # style type\n",
    "    if request_json and 'style' in request_json:\n",
    "        provided_style = request_json['style']\n",
    "    else:\n",
    "        provided_style = DEFAULT_STYLE\n",
    "\n",
    "    style = STYLES[provided_style]\n",
    "\n",
    "    # prompt\n",
    "    if request_json and 'prompt' in request_json:\n",
    "        user_prompt = request_json['prompt']\n",
    "    else:\n",
    "        user_prompt = DEFAULT_PROMPT\n",
    "\n",
    "    # aspect ratio\n",
    "    if request_json and 'aspect_ratio' in request_json:\n",
    "        aspect_ratio_provided = request_json['aspect_ratio']\n",
    "    else:\n",
    "        aspect_ratio_provided = DEFAULT_ASPECT_RATIO\n",
    "\n",
    "    # resolution\n",
    "    if request_json and 'resolution' in request_json:\n",
    "        resolution = request_json['resolution']\n",
    "    else:\n",
    "        resolution = DEFAULT_RESOLUTION\n",
    "\n",
    "    # image_format\n",
    "    if request_json and 'image_format' in request_json:\n",
    "        image_format = request_json['image_format']\n",
    "    else:\n",
    "        image_format = DEFAULT_FORMAT\n",
    "\n",
    "    return style, user_prompt, aspect_ratio_provided, resolution, image_format\n",
    "\n",
    "def generate_enhanced_prompt(user_prompt:str):\n",
    "    \"\"\"Generates enhanced prompt using text LLMs.\"\"\"\n",
    "    if disable_enhanced_prompting is False:\n",
    "        if custom_color_palette:\n",
    "            prompt_for_imagen = f\"\"\"{prompt_prefix}\n",
    "            - Color palette : {color_palatte}\n",
    "            Prompt:\n",
    "            \"\"\"\n",
    "        else:\n",
    "            prompt_for_imagen = f\"\"\"{prompt_prefix}\n",
    "            Prompt:\n",
    "            \"\"\"\n",
    "    else:\n",
    "        prompt_for_imagen = user_prompt\n",
    "\n",
    "    print(f\"Prompt provided to enhance: {prompt_for_imagen}\")\n",
    "\n",
    "    # Generate Imagen prompt using gemini-pro model\n",
    "    gemini = GenerativeModel(GEMINI_MODEL_PRO)\n",
    "\n",
    "    img_gen_prompt_gemini = gemini.generate_content(\n",
    "        prompt_for_imagen,\n",
    "    )\n",
    "    return img_gen_prompt_gemini.text\n",
    "\n",
    "def generate_images(gemini_prompt:str):\n",
    "    \"\"\"Generates images using imagen@005.\"\"\"\n",
    "    image_model = ImageGenerationModel.from_pretrained(VISION_MODEL)\n",
    "\n",
    "    prompt = gemini_prompt\n",
    "\n",
    "    images = image_model.generate_images(\n",
    "        prompt = prompt,\n",
    "        number_of_images=NUMBER_OF_IMAGES,\n",
    "        seed=SEED,\n",
    "        guidance_scale = GUIDANCE_SCALE,\n",
    "        add_watermark=False\n",
    "    )\n",
    "    return images\n",
    "\n",
    "style, user_prompt, aspect_ratio_provided, resolution, image_format = parse_json(request_json)\n",
    "\n",
    "print(f\"user provided request: {(style, user_prompt, aspect_ratio_provided, resolution, image_format)}\")\n",
    "print(\"\\n\")\n",
    "\n",
    "gemini_prompt = generate_enhanced_prompt(user_prompt)\n",
    "\n",
    "print(f\"prompt generated by Gemini: {gemini_prompt}\")\n",
    "\n",
    "results = generate_images(gemini_prompt)"
   ]
  },
  {
   "cell_type": "code",
   "execution_count": 154,
   "id": "ac78ee0f-5e06-4ef2-9ab3-57d7be1aae7d",
   "metadata": {
    "tags": []
   },
   "outputs": [],
   "source": [
    "# view generated images\n",
    "# for result in results:\n",
    "#     result.show()\n",
    "#     break"
   ]
  },
  {
   "cell_type": "code",
   "execution_count": null,
   "id": "4e3883f3-6655-4724-852c-6ab009ebbdf1",
   "metadata": {},
   "outputs": [],
   "source": []
  }
 ],
 "metadata": {
  "environment": {
   "kernel": "python3",
   "name": "tf2-cpu.2-11.m118",
   "type": "gcloud",
   "uri": "us-docker.pkg.dev/deeplearning-platform-release/gcr.io/tf2-cpu.2-11:m118"
  },
  "kernelspec": {
   "display_name": "Python 3 (Local)",
   "language": "python",
   "name": "python3"
  },
  "language_info": {
   "codemirror_mode": {
    "name": "ipython",
    "version": 3
   },
   "file_extension": ".py",
   "mimetype": "text/x-python",
   "name": "python",
   "nbconvert_exporter": "python",
   "pygments_lexer": "ipython3",
   "version": "3.10.13"
  }
 },
 "nbformat": 4,
 "nbformat_minor": 5
}
